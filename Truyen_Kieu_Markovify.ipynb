{
  "nbformat": 4,
  "nbformat_minor": 0,
  "metadata": {
    "colab": {
      "name": "Truyen_Kieu_Markovify.ipynb",
      "version": "0.3.2",
      "provenance": [],
      "toc_visible": true,
      "include_colab_link": true
    },
    "kernelspec": {
      "name": "python3",
      "display_name": "Python 3"
    }
  },
  "cells": [
    {
      "cell_type": "markdown",
      "metadata": {
        "id": "view-in-github",
        "colab_type": "text"
      },
      "source": [
        "<a href=\"https://colab.research.google.com/github/tranvohuy/Markovify_sentence_Truyen_Kieu/blob/master/Truyen_Kieu_Markovify.ipynb\" target=\"_parent\"><img src=\"https://colab.research.google.com/assets/colab-badge.svg\" alt=\"Open In Colab\"/></a>"
      ]
    },
    {
      "metadata": {
        "id": "ZOD0yIYih6xc",
        "colab_type": "text"
      },
      "cell_type": "markdown",
      "source": [
        "In this notebook, we learn how to make poems. The poem style we choose is from Truyện Kiều. The strategy is from [Markovify](https://github.com/jsvine/markovify) module. The point is to understand a data science problem (pipeline?) from data processing, to modelling, testing, and implementation.\n"
      ]
    },
    {
      "metadata": {
        "id": "Y0rbGiW0o-dC",
        "colab_type": "text"
      },
      "cell_type": "markdown",
      "source": [
        "# Truyện Kiều\n",
        "\n",
        "[Truyện Kiều](https://en.wikipedia.org/wiki/The_Tale_of_Kieu) is a famous epic poem written by Nguyen Du. This poem is learnt by every student in Vietnam.\n",
        " \n",
        " The poem has the 6-8 style. That means a 6-word sentence is followed by a 8-word sentence. These two sentences are correlated by rhymes.\n",
        " \n",
        " We will use [Markovify](https://github.com/jsvine/markovify). This module will import a whole text as one string (of many sentences). Then it will make individual sentence. The next sentence is totally independent of the current sentence.\n",
        " \n",
        " Therefore, we will pre-process Truyen Kieu by combining consecutive 6-word and 8-word sentences into one sentence.\n",
        "\n",
        "References:\n",
        "- [Word2vec on Nguyen Du](https://blog.duyet.net/2017/04/nlp-truyen-kieu-word2vec.html#.XJOZAChKiqY)\n",
        "- [Other blog](https://github.com/kavgan/nlp-in-practice/blob/master/word2vec/Word2Vec.ipynb)\n",
        "- https://www.kaggle.com/paultimothymooney/poetry-generator-rnn-markov/notebook\n",
        "- [Markovify](https://github.com/jsvine/markovify)\n",
        "- [Thơ máy](http://www.thomay.vn/thomay/)\n",
        "\n",
        "- [Poetry RNN](https://www.kaggle.com/paultimothymooney/poetry-generator-rnn-markov/notebook)"
      ]
    },
    {
      "metadata": {
        "id": "FUBc30xcfA6W",
        "colab_type": "text"
      },
      "cell_type": "markdown",
      "source": [
        "# Data preprocessing"
      ]
    },
    {
      "metadata": {
        "id": "v9sIxWfO6NE2",
        "colab_type": "text"
      },
      "cell_type": "markdown",
      "source": [
        "If you already have a 'clean' data like this [one](https://github.com/tranvohuy/sentiment_sentence/blob/master/data/Truyen_Kieu.txt), you can skip this part.\n",
        "\n",
        "- First, we copy the content [here](https://sites.google.com/site/khonggianketnoidqt/truyen-kieu-tron-bo), and save it in a text file 'Truyen_Kieu_internet.txt'\n",
        "  \n",
        "  - The text there is not well-punctuated.\n",
        "  - A mistake at line 120, and another above line 130\n",
        "  - To have a 'cleaner' version, we have to check carefully the poem, or find a better source. But we can ignore it, simplify troubles as much as possible, just to get a basic model. Then we can construct a more complicated model (including cleaner data, better model structure, etc).\n",
        "- Then upload it to colab.\n",
        "- Import it into a dataframe.\n",
        "- Use regex to delete redundant details.\n",
        " - As mentioned above, for a basic model, it is better to delele all puntuation marks and to lower all characters\n",
        "- Save the poem to a txt file.\n",
        "\n",
        "- Some codes are learnt from [here](https://blog.duyet.net/2017/04/nlp-truyen-kieu-word2vec.html#.XJU7BShKiqY)."
      ]
    },
    {
      "metadata": {
        "id": "xV4OEjbyf6f5",
        "colab_type": "code",
        "outputId": "31948e8c-a389-4386-9f60-07154c3387ba",
        "colab": {
          "resources": {
            "http://localhost:8080/nbextensions/google.colab/files.js": {
              "data": "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",
              "ok": true,
              "headers": [
                [
                  "content-type",
                  "application/javascript"
                ]
              ],
              "status": 200,
              "status_text": ""
            }
          },
          "base_uri": "https://localhost:8080/",
          "height": 74
        }
      },
      "cell_type": "code",
      "source": [
        "from google.colab import files\n",
        "files.upload()\n",
        "import pandas as pd\n",
        "file_name = 'Truyen_Kieu_from_web.txt'\n",
        "df = pd.read_csv(file_name, sep=\"/\", names=[\"row\"]).dropna()\n",
        "\n",
        "#to see what df is about\n",
        "#df.sample(4)\n",
        "#df.head(10)\n",
        "#etc\n",
        "\n",
        "import re\n",
        "\n",
        "def transform_row(row):\n",
        "    # Delete numbers, dots, commas at the beginning of sentences\n",
        "    row = re.sub(r\"^[0-9\\.,]+\", \"\", row)\n",
        "    \n",
        "    # Delete dots, commas, question marks at the end\n",
        "    row = re.sub(r\"[\\.,\\?!]+$\", \"\", row)\n",
        "    \n",
        "    #remove white spaces at the beginning and end of sentences\n",
        "    row = row.strip()\n",
        "    return row \n",
        "\n",
        "df[\"row\"] = df.row.apply(transform_row)\n",
        "\n",
        "#save df to txt file\n",
        "\n",
        "with  open('Truyen_Kieu_simple_version.txt','w')  as f:\n",
        "  for index, row in df.iterrows():\n",
        "    f.write(row['row']+' ')\n",
        "    if index%2 !=0:\n",
        "      f.write('\\n')"
      ],
      "execution_count": 0,
      "outputs": [
        {
          "output_type": "display_data",
          "data": {
            "text/html": [
              "\n",
              "     <input type=\"file\" id=\"files-4f1bce98-5236-402f-bbfc-1239a28b0851\" name=\"files[]\" multiple disabled />\n",
              "     <output id=\"result-4f1bce98-5236-402f-bbfc-1239a28b0851\">\n",
              "      Upload widget is only available when the cell has been executed in the\n",
              "      current browser session. Please rerun this cell to enable.\n",
              "      </output>\n",
              "      <script src=\"/nbextensions/google.colab/files.js\"></script> "
            ],
            "text/plain": [
              "<IPython.core.display.HTML object>"
            ]
          },
          "metadata": {
            "tags": []
          }
        },
        {
          "output_type": "stream",
          "text": [
            "Saving Truyen_Kieu_from_web.txt to Truyen_Kieu_from_web.txt\n"
          ],
          "name": "stdout"
        }
      ]
    },
    {
      "metadata": {
        "id": "YxGN1DzCfwAc",
        "colab_type": "text"
      },
      "cell_type": "markdown",
      "source": [
        "# Import Truyen Kieu\n",
        "- Now suppose we have a clean version. \n",
        "- Import it now."
      ]
    },
    {
      "metadata": {
        "id": "WomZamMxf_r0",
        "colab_type": "code",
        "outputId": "c413af7a-85dd-4497-8c12-c860da0679e9",
        "colab": {
          "resources": {
            "http://localhost:8080/nbextensions/google.colab/files.js": {
              "data": "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",
              "ok": true,
              "headers": [
                [
                  "content-type",
                  "application/javascript"
                ]
              ],
              "status": 200,
              "status_text": ""
            }
          },
          "base_uri": "https://localhost:8080/",
          "height": 74
        }
      },
      "cell_type": "code",
      "source": [
        "from google.colab import files\n",
        "files.upload()\n",
        "import pandas as pd"
      ],
      "execution_count": 0,
      "outputs": [
        {
          "output_type": "display_data",
          "data": {
            "text/html": [
              "\n",
              "     <input type=\"file\" id=\"files-195514bc-d592-43bb-b532-85fa5f21ed8b\" name=\"files[]\" multiple disabled />\n",
              "     <output id=\"result-195514bc-d592-43bb-b532-85fa5f21ed8b\">\n",
              "      Upload widget is only available when the cell has been executed in the\n",
              "      current browser session. Please rerun this cell to enable.\n",
              "      </output>\n",
              "      <script src=\"/nbextensions/google.colab/files.js\"></script> "
            ],
            "text/plain": [
              "<IPython.core.display.HTML object>"
            ]
          },
          "metadata": {
            "tags": []
          }
        },
        {
          "output_type": "stream",
          "text": [
            "Saving Truyen_Kieu_simple_v1.txt to Truyen_Kieu_simple_v1.txt\n"
          ],
          "name": "stdout"
        }
      ]
    },
    {
      "metadata": {
        "id": "tOndMPcFE73i",
        "colab_type": "code",
        "outputId": "df8bb3a8-3e37-4b51-b005-5f05ea7b2d7c",
        "colab": {
          "base_uri": "https://localhost:8080/",
          "height": 224
        }
      },
      "cell_type": "code",
      "source": [
        "!pip install markovify"
      ],
      "execution_count": 0,
      "outputs": [
        {
          "output_type": "stream",
          "text": [
            "Collecting markovify\n",
            "  Downloading https://files.pythonhosted.org/packages/94/b2/b4ce1e461bb3482b1fd63328a2097aed5917cdfa0dbfe9492a84ea46e2ab/markovify-0.7.1.tar.gz\n",
            "Collecting unidecode (from markovify)\n",
            "\u001b[?25l  Downloading https://files.pythonhosted.org/packages/31/39/53096f9217b057cb049fe872b7fc7ce799a1a89b76cf917d9639e7a558b5/Unidecode-1.0.23-py2.py3-none-any.whl (237kB)\n",
            "\u001b[K    100% |████████████████████████████████| 245kB 7.1MB/s \n",
            "\u001b[?25hBuilding wheels for collected packages: markovify\n",
            "  Building wheel for markovify (setup.py) ... \u001b[?25ldone\n",
            "\u001b[?25h  Stored in directory: /root/.cache/pip/wheels/66/fe/5b/07257dd2401d9835447a0f0223f967c998c153404d32612253\n",
            "Successfully built markovify\n",
            "Installing collected packages: unidecode, markovify\n",
            "Successfully installed markovify-0.7.1 unidecode-1.0.23\n"
          ],
          "name": "stdout"
        }
      ]
    },
    {
      "metadata": {
        "id": "tIASNNE_hg9J",
        "colab_type": "code",
        "outputId": "6414b386-598f-47ec-ebcb-6b4a3b0e95e3",
        "colab": {
          "base_uri": "https://localhost:8080/",
          "height": 102
        }
      },
      "cell_type": "code",
      "source": [
        "import markovify\n",
        "with open(\"Truyen_Kieu_simple_version.txt\") as f:\n",
        "    text = f.read()\n",
        "\n",
        "# Build the model.\n",
        "text_model = markovify.NewlineText(text, state_size = 2)\n",
        "\n",
        "# Print five randomly-generated sentences\n",
        "for i in range(5):\n",
        "    print(text_model.make_sentence())"
      ],
      "execution_count": 0,
      "outputs": [
        {
          "output_type": "stream",
          "text": [
            "Chữ trinh đáng giá nghìn vàng chẳng ngoa\n",
            "Cùng nhau trông mặt càng ngẩn ngơ Ruột tằm ngày một vắng tin Mặn tình cát lũy lạt tình tào khang\n",
            "Họ Chung có kẻ lại người qua Xót nàng còn chút xa xôi Mà ta bất động nữa người sinh nghi\n",
            "Đường xa nghĩ nỗi sau này đã bỏ những ngày\n",
            "Vì ta khăng khít, cho người thác oan thế này\n"
          ],
          "name": "stdout"
        }
      ]
    },
    {
      "metadata": {
        "id": "nQfACkUsfRPa",
        "colab_type": "text"
      },
      "cell_type": "markdown",
      "source": [
        "## Observation:\n",
        "\n",
        "- The length of each sentence is mostly not 6+8 = 14 word long. \n",
        "- Recall that 6-8 style is a 6-word sentence followed by an 8-word one.\n",
        "- Most of the times, there is no rhyme between the 6-th word and 12-word."
      ]
    },
    {
      "metadata": {
        "id": "UH4OO27YZBeu",
        "colab_type": "text"
      },
      "cell_type": "markdown",
      "source": [
        "# Understand the module Markovify\n",
        "\n"
      ]
    },
    {
      "metadata": {
        "id": "xbD1PBoiZKB7",
        "colab_type": "text"
      },
      "cell_type": "markdown",
      "source": [
        "What happens when we run `text_model = markovify.NewlineText(text, state_size = 2)` or `text_model = markovify.Text(text, state_size = 2)`\n"
      ]
    },
    {
      "metadata": {
        "id": "xxDIjLIxZfCR",
        "colab_type": "text"
      },
      "cell_type": "markdown",
      "source": [
        "# Class Text\n",
        "- [init](https://github.com/jsvine/markovify/blob/master/markovify/text.py#L17) (self, input_text, state_size=2, chain=None, parsed_sentences=None, retain_original=True)\n",
        "\n",
        "Basically,\n",
        "- `input_text` is a string of sentences. Each sentence ends by a dot `.`, not by a new line `\\n`. \n",
        "- If sentences in our `input_text` end by new line `\\n`. We should use `markovify.NewlineText(input_text)` instead of `markovify.Text(input_text)`.\n",
        "\n",
        "- In the following example, sentences end with `\\n`.\n"
      ]
    },
    {
      "metadata": {
        "id": "xn9mLZJ_dUw_",
        "colab_type": "code",
        "colab": {}
      },
      "cell_type": "code",
      "source": [
        "import markovify\n",
        "with open(\"Truyen_Kieu_clean_v1.txt\") as f:\n",
        "    text = f.read()"
      ],
      "execution_count": 0,
      "outputs": []
    },
    {
      "metadata": {
        "id": "puEcZhLBdWR2",
        "colab_type": "code",
        "outputId": "5c8f2086-5360-467b-fd6b-29e43cef34f2",
        "colab": {
          "base_uri": "https://localhost:8080/",
          "height": 54
        }
      },
      "cell_type": "code",
      "source": [
        "text[0:1000]"
      ],
      "execution_count": 0,
      "outputs": [
        {
          "output_type": "execute_result",
          "data": {
            "text/plain": [
              "'Trăm năm trong cõi người ta Chữ tài chữ mệnh khéo là ghét nhau \\nTrải qua một cuộc bể dâu Những điều trông thấy mà đau đớn lòng \\nLạ gì bỉ sắc tư phong Trời xanh quen thói má hồng đánh ghen \\nCảo thơm lần giở trước đèn Phong tình có lục còn truyền sử xanh \\nRằng năm Gia Tĩnh triều Minh Bốn phương phẳng lặng, hai kinh vững vàng \\nCó nhà viên ngoại họ Vương Gia tư nghĩ cũng thường thường bực trung \\nMột trai con thứ rốt lòng Vương Quan là chữ, nối dòng nho gia \\nĐầu lòng hai ả tố nga Thúy Kiều là chị, em là Thúy Vân \\nMai cốt cách, tuyết tinh thần Một người một vẻ, mười phân vẹn mười \\nVân xem trang trọng khác vời Khuôn trăng đầy đặn, nét ngài nở nang \\nHoa cười ngọc thốt đoan trang Mây thua nước tóc, tuyết nhường màu da \\nKiều càng sắc sảo, mặn mà So bề tài, sắc, lại là phần hơn \\nLàn thu thủy, nét xuân sơn Hoa ghen thua thắm, liễu hờn kém xanh \\nMột, hai nghiêng nước nghiêng thành Sắc đành đòi một, tài đành họa hai \\nThông minh vốn sẵn tư trời Pha nghề thi họa, đủ mùi ca ngâm \\nCung thương làu bậc ng'"
            ]
          },
          "metadata": {
            "tags": []
          },
          "execution_count": 6
        }
      ]
    },
    {
      "metadata": {
        "id": "ZDYhAD22eGGR",
        "colab_type": "text"
      },
      "cell_type": "markdown",
      "source": [
        "- `input_text` will be break into a list of sentences through [`self.generate_corpus(input_text)`](https://github.com/jsvine/markovify/blob/master/markovify/text.py#L33).\n",
        "- And each sentence is splitted by words.\n",
        "\n",
        "-So there is `text_model.parsed_senteces` which is a list. Each element of the list is a word from sentences."
      ]
    },
    {
      "metadata": {
        "id": "h0UfX0SYe1mr",
        "colab_type": "code",
        "colab": {}
      },
      "cell_type": "code",
      "source": [
        "text_model = markovify.NewlineText(text)"
      ],
      "execution_count": 0,
      "outputs": []
    },
    {
      "metadata": {
        "id": "OrdsiPFUe_tG",
        "colab_type": "code",
        "outputId": "fc69dfaa-7d54-4642-ca0d-55c7c04dd640",
        "colab": {
          "base_uri": "https://localhost:8080/",
          "height": 54
        }
      },
      "cell_type": "code",
      "source": [
        "print(text_model.parsed_sentences[0:3])"
      ],
      "execution_count": 0,
      "outputs": [
        {
          "output_type": "stream",
          "text": [
            "[['Trăm', 'năm', 'trong', 'cõi', 'người', 'ta', 'Chữ', 'tài', 'chữ', 'mệnh', 'khéo', 'là', 'ghét', 'nhau'], ['Trải', 'qua', 'một', 'cuộc', 'bể', 'dâu', 'Những', 'điều', 'trông', 'thấy', 'mà', 'đau', 'đớn', 'lòng'], ['Lạ', 'gì', 'bỉ', 'sắc', 'tư', 'phong', 'Trời', 'xanh', 'quen', 'thói', 'má', 'hồng', 'đánh', 'ghen']]\n"
          ],
          "name": "stdout"
        }
      ]
    },
    {
      "metadata": {
        "id": "kIxR-lt3fjLy",
        "colab_type": "text"
      },
      "cell_type": "markdown",
      "source": [
        "- This list `text_model.parsed_sentences` is [put ](https://github.com/jsvine/markovify/blob/master/markovify/text.py#L37)into a Markov chain to analyze.\n",
        "\n",
        "We now go to the [`Chain`](https://github.com/jsvine/markovify/blob/master/markovify/chain.py) class. \n",
        "- [init](https://github.com/jsvine/markovify/blob/master/markovify/chain.py#L32) (self, corpus, state_size, model=None)\n",
        "- The `init` will run [`build(self, corpus, state_size)`](https://github.com/jsvine/markovify/blob/master/markovify/chain.py#L47) \n",
        "  -  Count the number of times $w_3$ appears immediately after the words $w_1w_2$.\n",
        "- And run [precompute_begin_state](https://github.com/jsvine/markovify/blob/master/markovify/chain.py#L45)\n",
        "\n",
        "So\n",
        "`text_model.chain = Chain(text_model.parsed_sentences, state_size)`"
      ]
    },
    {
      "metadata": {
        "id": "7jsiRvyjhEFA",
        "colab_type": "text"
      },
      "cell_type": "markdown",
      "source": [
        "We now analyze line [58](https://github.com/jsvine/markovify/blob/master/markovify/chain.py#L58) to 72.\n",
        "\n",
        " \n",
        "\n",
        "```\n",
        "\n",
        "       model = {}\n",
        "\n",
        "        for run in corpus:\n",
        "            items = ([ BEGIN ] * state_size) + run + [ END ]\n",
        "            for i in range(len(run) + 1):\n",
        "                state = tuple(items[i:i+state_size])\n",
        "                follow = items[i+state_size]\n",
        "                if state not in model:\n",
        "                    model[state] = {}\n",
        "\n",
        "                if follow not in model[state]:\n",
        "                    model[state][follow] = 0\n",
        "\n",
        "                model[state][follow] += 1\n",
        "        return model\n",
        "\n",
        "```\n",
        "\n",
        "where corpus = $[ [w_{11}, w_{12}, w_{13}, w_{14}],   \n",
        "[w_{21}, w_{22}, w_{23},w_{24},w_{25}],    \\cdots]$ \n",
        "\n",
        "- First `run` = $[w_{11}, w_{12}, w_{13}, w_{14}]$.\n",
        "- items = [ BEGIN, BEGIN, $w_{11}, w_{12}, w_{13}, w_{14}$, END]. Note that `state_size=2` by default.\n",
        "- `i` in `(0,1,2,3,4)`\n",
        "  - `i=0` gives `state=(BEGIN, BEGIN)`, `follow =` $w_{11}$\n",
        "    - model[(BEGIN, BEGIN)][$w_{11}$] =1\n",
        "  - `i=1` gives `state= (BEGIN, w_{11})`, and `follow` = $w_{12}$\n",
        "    - model[(BEGIN, w_{11})][$w_{12}$] =1\n",
        "  -  `i=4` gives `state` = $(w_{13},w_{14}$), `follow = END`\n",
        "    \n",
        " -So model[($w_1,w_2$)][$w_3$] counts the number of times the word $w_3$ comes immediately after $w_1w_2$\n",
        " \n",
        " - `model` is a `dict` class."
      ]
    },
    {
      "metadata": {
        "id": "0mXzUeshlnbV",
        "colab_type": "code",
        "outputId": "036c6e65-65cf-4772-a926-d59f4980413e",
        "colab": {
          "base_uri": "https://localhost:8080/",
          "height": 71
        }
      },
      "cell_type": "code",
      "source": [
        "print(type(text_model.chain.model))\n",
        "print(text_model.chain.model[(\"___BEGIN__\", \"___BEGIN__\")])\n",
        "#there are a lot of ways to begin a sentence."
      ],
      "execution_count": 0,
      "outputs": [
        {
          "output_type": "stream",
          "text": [
            "<class 'dict'>\n",
            "{'Trăm': 4, 'Trải': 2, 'Lạ': 5, 'Cảo': 1, 'Rằng': 1, 'Có': 14, 'Một': 38, 'Đầu': 2, 'Mai': 4, 'Vân': 2, 'Hoa': 8, 'Kiều': 7, 'Làn': 1, 'Một,': 1, 'Thông': 1, 'Cung': 3, 'Khúc': 5, 'Phong': 8, 'Êm': 1, 'Ngày': 4, 'Cỏ': 1, 'Thanh': 1, 'Gần': 3, 'Dập': 2, 'Ngổn': 2, 'Tà': 1, 'Bước': 3, 'Nao': 1, 'Sè': 1, 'Rằng:': 28, 'Vương': 2, 'Nổi': 1, 'Kiếp': 5, 'Thuyền': 3, 'Buồng': 5, 'Khóc': 4, 'Đã': 18, 'Sắm': 3, 'Lòng': 7, 'Đau': 4, 'Phũ': 1, 'Sống': 1, 'Nào': 4, 'đã': 3, 'Gọi': 2, 'Lầm': 1, 'Rút': 1, 'Lại': 9, 'Nỗi': 13, 'Quan': 3, 'ở': 6, 'Dễ': 3, 'Thoắt': 6, 'Dấu': 1, 'Nàng': 57, 'Chớ': 1, 'Dùng': 3, 'Trông': 10, 'đề': 1, 'Tuyết': 1, 'Nẻo': 1, 'Hài': 1, 'Chàng': 9, 'Nguyên': 1, 'Nền': 1, 'Chung': 4, 'Vẫn': 1, 'Nước': 3, 'May': 1, 'Bóng': 5, 'Người': 15, 'Chập': 1, 'Dưới': 6, 'Gương': 2, 'Hải': 2, 'Chênh': 1, 'Sương': 1, 'Chào': 1, 'Thưa': 8, 'Hàn': 2, 'Mấy': 8, 'Vâng': 3, 'Âu': 1, 'Này': 6, 'Xem': 4, 'Ví': 5, 'Thềm': 1, 'Gió': 4, 'Giọng': 1, 'Cớ': 3, 'Buổi': 1, 'đoạn': 1, 'Cứ': 1, 'Dạy': 5, 'Ngoài': 3, 'Hiên': 2, 'Cho': 5, 'Sầu': 1, 'Mây': 2, 'Tuần': 2, 'Mành': 1, 'Vì': 4, 'Bâng': 2, 'Nghề': 2, 'Thâm': 1, 'Lơ': 1, 'Tần': 2, 'Là': 1, 'Lấy': 3, 'Mừng': 2, 'Song': 3, 'Tấc': 2, 'Nhẫn': 1, 'Cách': 3, 'Buông': 1, 'Lần': 6, 'Giơ': 1, 'Ngẫm': 4, 'Liền': 2, 'Tan': 2, 'Sinh': 23, 'Thoa': 1, 'Tiếng': 4, 'Chiếc': 2, 'Rày': 2, 'Bấy': 8, 'Vội': 11, 'Thang': 1, 'Sượng': 2, 'Xương': 1, 'Vuông': 1, 'Tiện': 1, 'Ngần': 1, 'Dù': 7, 'Nặng': 2, 'Chút': 4, 'Khuôn': 1, 'Lượng': 2, 'Lặng': 3, 'Được': 6, 'Sẵn': 5, 'Từ': 14, 'Sông': 2, 'Tưng': 1, 'Nhà': 4, 'Thời': 1, '“Trách': 1, 'Những': 17, 'Vắng': 2, 'Xắn': 1, 'Mặt': 6, 'Sánh': 1, 'Trên': 5, 'Tay': 1, 'Khen:': 1, 'Nghĩ': 19, 'Nhớ': 7, 'Anh': 3, 'đủ': 1, 'đến': 1, 'Cửa': 10, 'Nhặt': 1, 'Bây': 11, 'Tiên': 2, 'Vầng': 2, 'Tóc': 3, 'Chén': 2, 'Chày': 1, 'đừng': 1, 'So': 1, 'Kê': 1, 'Qua': 2, 'Trong': 13, 'Ngọn': 4, 'Khi': 16, 'Lựa': 2, 'Lời': 6, 'Sóng': 1, 'Vẻ': 3, 'Ra': 3, 'Phải': 8, 'Mái': 2, 'Gieo': 2, 'Thấy': 11, 'đem': 1, 'Liêu': 1, 'Mảng': 2, 'Gót': 2, 'Sự': 5, 'Trăng': 2, 'Gìn': 1, 'Tai': 1, 'ông': 3, 'Cùng': 13, 'Quản': 3, 'Còn': 11, 'Ngại': 2, 'Buộc': 1, 'Buồn': 6, 'Não': 1, 'Già': 1, 'Đầy': 3, 'Đồ': 1, 'Điều': 5, 'Hỏi': 5, 'Hạ': 2, 'Rường': 1, 'Sao': 6, 'Duyên': 5, 'Để': 1, 'Quyết': 3, 'Họ': 3, 'Tính': 4, 'Hãy': 2, 'Thương': 11, 'Hạt': 1, 'Quá': 3, 'Trước': 9, 'Ghế': 1, 'Mối': 3, 'Đắn': 1, 'Mặn': 1, 'Cò': 1, 'Định': 1, 'Nuôi': 1, 'Trời': 6, 'Búa': 1, 'Theo': 1, 'Dâng': 1, 'Cỗi': 1, 'Thà': 1, 'Phận': 8, 'Cũng': 8, 'Việc': 3, 'Công': 4, 'Thề': 2, 'Biết': 6, 'Tái': 1, 'Nợ': 1, 'Thúy': 3, 'Cơ': 2, 'Hở': 1, 'Cậy': 1, 'Giữa': 3, 'Kể': 2, 'Chị': 2, 'Mất': 1, 'Hồn': 1, 'Dạ': 1, 'ôi': 1, 'Cạn': 3, 'Xuân': 2, 'Kẻ': 1, 'Hỏi:': 1, 'Lậy': 1, 'Sá': 2, 'Xiết': 1, 'Kiệu': 4, 'Rước': 1, 'Ngập': 1, 'Phẩm': 1, 'Trùng': 2, 'Phòng': 2, 'Đêm': 7, 'Chẳng': 3, 'Lầu': 4, 'Tình': 10, 'Dạo': 1, 'Rủi': 1, 'Xót': 10, 'Mẹo': 1, 'Về': 1, 'Hẳn': 1, 'Miếng': 1, 'đào': 1, 'Mập': 1, 'Mụ': 9, 'Vả': 3, 'Tiếc': 6, 'Giọt': 4, 'Tuồng': 3, 'Thôi': 7, 'Giận': 2, 'Đoạn': 2, 'Bề': 2, 'Nhìn': 1, 'Hổ': 1, 'Lỡ': 4, 'Khác': 1, 'Vài': 1, 'Nghìn': 3, 'Đùng': 1, 'Vi': 1, 'Dặm': 3, 'Rừng': 1, 'Xe': 1, 'Bên': 3, 'Hương': 2, 'Cởi': 1, 'Đổi': 1, 'Muôn': 1, 'Tin': 5, 'Lễ': 2, 'Đủ': 1, 'Giờ': 1, 'Bảo': 2, 'Màu': 1, 'Con': 2, 'Lão': 1, 'Sợ': 4, 'Vực': 4, 'Rỉ': 2, 'Số': 1, 'Thuốc': 2, 'Tú': 4, 'Làm': 7, 'Kề': 1, 'được': 1, 'Bốn': 4, 'Bẽ': 1, 'Tưởng': 2, 'Sân': 3, 'Ngậm': 1, 'Than': 1, 'Giá': 1, 'Tức': 1, 'Đánh': 3, 'Mảnh': 2, 'Mở': 1, 'Chim': 1, 'Tường': 1, 'Dám': 1, 'Thừa': 4, 'Nghe': 14, 'Lối': 1, 'Hóa': 1, 'Hung': 1, 'Thịt': 1, 'Hết': 3, 'Nhưng': 1, 'Thân': 5, 'Bày': 2, 'Bạc': 2, 'Đà': 1, 'Rồi': 3, 'Sở': 2, 'Phao': 1, 'Đem': 2, 'Phụ': 1, 'Tẻ': 2, 'Vừa': 1, 'Chơi': 1, 'Khéo': 4, 'Đôi': 2, 'Cảnh': 1, 'Đòi': 2, 'Vui': 1, 'Thờ': 1, 'Ôm': 1, 'Khách': 1, 'Vốn': 2, 'Trướng': 3, 'Nguyệt': 1, 'Sớm': 5, 'Dịp': 1, 'Miệt': 1, 'Thúc': 5, 'Rõ': 4, 'Hay': 1, 'Thiếp': 5, 'Chúa': 1, 'Bình': 3, 'Như': 2, 'Thế': 3, 'Cúi': 2, 'Đường': 2, 'Nỉ': 1, 'Mượn': 2, 'Chiến': 1, 'Bắn': 1, 'Nửa': 2, 'Giậu': 1, 'Trót': 3, 'Đất': 1, 'Gã': 1, 'Suy': 1, 'Phép': 1, 'Đục': 1, 'Phủ': 1, 'Sụt': 2, 'Tại': 1, 'Cười': 3, 'Khen': 6, 'Thật': 2, 'Dâu': 1, 'Kíp': 3, 'Huệ': 1, 'Trộm': 2, 'E': 2, 'Mà': 1, 'Xin': 2, 'Rạng': 1, 'Tiễn': 1, 'Cầm': 2, 'Hơn': 1, 'Lửa': 1, 'Dại': 1, 'Lo': 1, 'Tiểu': 11, 'Chồng': 1, 'Tẩy': 1, 'Thú': 1, 'Chạnh': 2, 'Long': 1, 'Roi': 1, 'Vậy': 2, 'Lâm': 3, 'Dọn': 1, 'Phu': 1, 'Sửa': 1, 'Dặn': 1, 'Sắn': 1, 'Nén': 1, 'Tôi': 1, 'Tớ': 1, 'Hớt': 1, 'Chạy': 1, 'Di': 1, 'Sang': 1, 'Hỡi': 1, 'Chắc': 1, 'Đạo': 2, 'Trở': 1, 'Mệnh': 1, 'Hai': 7, 'Khuyển': 1, 'Buồm': 1, 'Dỡ': 1, 'Hoàng': 1, 'Bàng': 1, 'A': 2, 'Ngước': 1, 'Ban': 1, 'Gạn': 2, 'Bất': 1, 'Trúc': 1, 'Kẻo': 1, 'Mẹ': 1, 'Lãnh': 1, 'Lĩnh': 1, 'Mày': 1, 'Sen': 1, 'Tìm': 1, 'Chước': 2, 'Càng': 1, 'Nhân': 3, 'Vợ': 2, 'Bắt': 3, 'Ngảnh': 1, 'Nhẹ': 1, 'Diện': 1, 'Bể': 1, 'Tàng': 2, 'Đưa': 2, 'áo': 2, 'Phật': 2, 'Nâu': 1, 'Gác': 1, 'Thấp': 1, 'Tông': 1, 'Thẹn': 1, 'Liệu': 2, 'Nữa': 2, 'Bâu': 1, 'Dẫu': 2, 'Nhận': 1, 'Dối': 1, 'Thiền': 1, 'Rành': 1, 'Bao': 3, 'Ngăn': 1, 'ấy': 2, 'Thực': 1, 'Chỉn': 1, 'Cất': 1, 'Mịt': 1, 'Canh': 2, 'Chùa': 1, 'Xăm': 1, 'Bản': 1, 'Chỉ': 1, 'Gửi': 1, 'Kệ': 1, 'Giở': 1, 'Giác': 9, 'Lánh': 1, 'Nhắn': 1, 'Hư': 1, 'Nơi': 1, 'Chứng': 1, 'Thành': 1, 'Chém': 1, 'Hồng': 1, 'Râu': 1, 'Đội': 1, 'Giang': 1, 'Rộng': 2, 'Ngỏ': 1, 'Trai': 1, 'Bằng': 2, 'Đành': 2, 'Đoái': 1, 'Chốc': 1, 'Cánh': 1, 'Ngất': 1, 'Giáp': 1, 'Dựng': 1, 'Hoả': 1, 'Kéo': 2, 'Rỡ': 1, 'Đến': 2, 'Tiệc': 1, 'Vinh': 1, 'Tấm': 1, 'Nghiêm': 1, 'Ba': 3, 'Thệ': 1, 'Quân': 1, 'Báo': 1, 'Sâm': 1, 'Gấm': 1, 'Kiến': 1, 'Dắt': 2, 'Thoạt': 1, 'Đàn': 2, 'Hoạn': 1, 'Tha': 1, 'Tạ': 2, 'Lệnh': 2, 'Máu': 1, 'Sư': 5, 'Mới': 1, 'Họa': 1, 'Chạm': 1, 'Huống': 1, 'Triều': 2, 'Nghênh': 1, 'Đẩy': 1, 'Đóng': 1, 'Bó': 1, 'Chọc': 1, 'Chỉnh': 1, 'Hồ': 3, 'Đương': 1, 'Tử': 1, 'Khí': 1, 'Trơ': 1, 'Dòng': 1, 'Ngỡ': 1, 'Năm': 2, 'Xét': 2, 'Ve': 1, 'Ông': 2, 'Chân': 1, 'Đạm': 1, 'Giết': 1, 'Thổ': 1, 'Mười': 1, 'Đời': 1, 'Gặp': 4, 'Ma': 1, 'Oan': 1, 'Hại': 1, 'Thửa': 1, 'Thuê': 1, 'Ngư': 1, 'Mơ': 1, 'Tâm': 1, 'Giật': 1, 'Nạn': 1, 'Xập': 1, 'Cuối': 1, 'Láng': 1, 'Đều': 1, 'Vật': 1, 'Dỗ': 1, 'Chưa': 2, 'Thần': 1, 'Đinh': 1, 'Ruột': 1, 'Thẩn': 1, 'Tuy': 1, 'Bẻ': 2, 'Dường': 1, 'Bởi': 1, 'Chế': 1, 'Kim': 2, 'Tỉnh': 1, 'Thăng': 1, 'Kiên': 1, 'Rứt': 1, 'Bỗng': 1, 'Đại': 2, 'Vẫy': 1, 'Rắp': 1, 'Dấn': 1, 'Xảy': 1, 'Hàng': 1, 'Chiêu': 1, 'Với': 1, 'Minh': 1, 'Quanh': 1, 'Huyên': 1, 'Quây': 1, 'Mùi': 1, 'Dở': 1, 'Độ': 1, 'Quả': 1, 'Dứt': 1, 'Nói': 2, 'Chữ': 2, 'Xưa': 1, 'Động': 1, 'Riêng': 1, 'Chừng': 1, 'Ai': 1, 'Chở': 1, 'Thêm': 1, 'ăn': 1, 'Phím': 1, 'Lọt': 1, 'Chuyện': 1, 'Thiện': 1}\n"
          ],
          "name": "stdout"
        }
      ]
    },
    {
      "metadata": {
        "id": "lI-LZYx8mjMn",
        "colab_type": "code",
        "outputId": "5270c2bd-c4ce-44e6-a257-826f036333c3",
        "colab": {
          "base_uri": "https://localhost:8080/",
          "height": 85
        }
      },
      "cell_type": "code",
      "source": [
        "print(text_model.chain.model[(\"Trăm\", \"năm\")])\n",
        "print(text_model.chain.model[(\"___BEGIN__\", \"Trăm\")])\n",
        "print(text_model.chain.model[\"Thúy\", \"Kiều\"])\n",
        "print(text_model.chain.model[\"Thúy\", \"Vân\"])\n",
        "#There are not many ways to continue the sentence given \"Thúy Vân\""
      ],
      "execution_count": 0,
      "outputs": [
        {
          "output_type": "stream",
          "text": [
            "{'trong': 1, 'biết': 1, 'tạc': 1, 'thề': 1, 'để': 1, 'tính': 1, 'danh': 1}\n",
            "{'năm': 2, 'nghìn': 1, 'điều': 1}\n",
            "{'là': 1, 'sắc': 1, 'Mắc': 1, 'tài': 1}\n",
            "{'___END__': 2, 'chợt': 1, 'thay': 1}\n"
          ],
          "name": "stdout"
        }
      ]
    },
    {
      "metadata": {
        "id": "mtr35tDqkxHT",
        "colab_type": "text"
      },
      "cell_type": "markdown",
      "source": [
        "We now analyze [`precompute_begin_state()`](https://github.com/jsvine/markovify/blob/master/markovify/chain.py#L45)\n",
        "\n",
        "\n",
        "\n",
        "```\n",
        "        begin_state = tuple([ BEGIN ] * self.state_size)\n",
        "        choices, weights = zip(*self.model[begin_state].items())\n",
        "        cumdist = list(accumulate(weights))\n",
        "        self.begin_cumdist = cumdist\n",
        "        self.begin_choices = choices\n",
        "```\n",
        "\n",
        "- `self.begin_choices` is the list of words appearing at the beginning of sentences in `input_text`. There is also weight for each of these \"beginning\" words (in `cumdist`)."
      ]
    },
    {
      "metadata": {
        "id": "ugjHo_gmmqxQ",
        "colab_type": "code",
        "outputId": "9a6abe5c-6bd0-479c-c2ca-0fefcf2037b6",
        "colab": {
          "base_uri": "https://localhost:8080/",
          "height": 88
        }
      },
      "cell_type": "code",
      "source": [
        "print(type(text_model.chain.begin_choices))\n",
        "print(text_model.chain.begin_choices)\n",
        "print(text_model.chain.begin_cumdist)"
      ],
      "execution_count": 0,
      "outputs": [
        {
          "output_type": "stream",
          "text": [
            "<class 'tuple'>\n",
            "('Trăm', 'Trải', 'Lạ', 'Cảo', 'Rằng', 'Có', 'Một', 'Đầu', 'Mai', 'Vân', 'Hoa', 'Kiều', 'Làn', 'Một,', 'Thông', 'Cung', 'Khúc', 'Phong', 'Êm', 'Ngày', 'Cỏ', 'Thanh', 'Gần', 'Dập', 'Ngổn', 'Tà', 'Bước', 'Nao', 'Sè', 'Rằng:', 'Vương', 'Nổi', 'Kiếp', 'Thuyền', 'Buồng', 'Khóc', 'Đã', 'Sắm', 'Lòng', 'Đau', 'Phũ', 'Sống', 'Nào', 'đã', 'Gọi', 'Lầm', 'Rút', 'Lại', 'Nỗi', 'Quan', 'ở', 'Dễ', 'Thoắt', 'Dấu', 'Nàng', 'Chớ', 'Dùng', 'Trông', 'đề', 'Tuyết', 'Nẻo', 'Hài', 'Chàng', 'Nguyên', 'Nền', 'Chung', 'Vẫn', 'Nước', 'May', 'Bóng', 'Người', 'Chập', 'Dưới', 'Gương', 'Hải', 'Chênh', 'Sương', 'Chào', 'Thưa', 'Hàn', 'Mấy', 'Vâng', 'Âu', 'Này', 'Xem', 'Ví', 'Thềm', 'Gió', 'Giọng', 'Cớ', 'Buổi', 'đoạn', 'Cứ', 'Dạy', 'Ngoài', 'Hiên', 'Cho', 'Sầu', 'Mây', 'Tuần', 'Mành', 'Vì', 'Bâng', 'Nghề', 'Thâm', 'Lơ', 'Tần', 'Là', 'Lấy', 'Mừng', 'Song', 'Tấc', 'Nhẫn', 'Cách', 'Buông', 'Lần', 'Giơ', 'Ngẫm', 'Liền', 'Tan', 'Sinh', 'Thoa', 'Tiếng', 'Chiếc', 'Rày', 'Bấy', 'Vội', 'Thang', 'Sượng', 'Xương', 'Vuông', 'Tiện', 'Ngần', 'Dù', 'Nặng', 'Chút', 'Khuôn', 'Lượng', 'Lặng', 'Được', 'Sẵn', 'Từ', 'Sông', 'Tưng', 'Nhà', 'Thời', '“Trách', 'Những', 'Vắng', 'Xắn', 'Mặt', 'Sánh', 'Trên', 'Tay', 'Khen:', 'Nghĩ', 'Nhớ', 'Anh', 'đủ', 'đến', 'Cửa', 'Nhặt', 'Bây', 'Tiên', 'Vầng', 'Tóc', 'Chén', 'Chày', 'đừng', 'So', 'Kê', 'Qua', 'Trong', 'Ngọn', 'Khi', 'Lựa', 'Lời', 'Sóng', 'Vẻ', 'Ra', 'Phải', 'Mái', 'Gieo', 'Thấy', 'đem', 'Liêu', 'Mảng', 'Gót', 'Sự', 'Trăng', 'Gìn', 'Tai', 'ông', 'Cùng', 'Quản', 'Còn', 'Ngại', 'Buộc', 'Buồn', 'Não', 'Già', 'Đầy', 'Đồ', 'Điều', 'Hỏi', 'Hạ', 'Rường', 'Sao', 'Duyên', 'Để', 'Quyết', 'Họ', 'Tính', 'Hãy', 'Thương', 'Hạt', 'Quá', 'Trước', 'Ghế', 'Mối', 'Đắn', 'Mặn', 'Cò', 'Định', 'Nuôi', 'Trời', 'Búa', 'Theo', 'Dâng', 'Cỗi', 'Thà', 'Phận', 'Cũng', 'Việc', 'Công', 'Thề', 'Biết', 'Tái', 'Nợ', 'Thúy', 'Cơ', 'Hở', 'Cậy', 'Giữa', 'Kể', 'Chị', 'Mất', 'Hồn', 'Dạ', 'ôi', 'Cạn', 'Xuân', 'Kẻ', 'Hỏi:', 'Lậy', 'Sá', 'Xiết', 'Kiệu', 'Rước', 'Ngập', 'Phẩm', 'Trùng', 'Phòng', 'Đêm', 'Chẳng', 'Lầu', 'Tình', 'Dạo', 'Rủi', 'Xót', 'Mẹo', 'Về', 'Hẳn', 'Miếng', 'đào', 'Mập', 'Mụ', 'Vả', 'Tiếc', 'Giọt', 'Tuồng', 'Thôi', 'Giận', 'Đoạn', 'Bề', 'Nhìn', 'Hổ', 'Lỡ', 'Khác', 'Vài', 'Nghìn', 'Đùng', 'Vi', 'Dặm', 'Rừng', 'Xe', 'Bên', 'Hương', 'Cởi', 'Đổi', 'Muôn', 'Tin', 'Lễ', 'Đủ', 'Giờ', 'Bảo', 'Màu', 'Con', 'Lão', 'Sợ', 'Vực', 'Rỉ', 'Số', 'Thuốc', 'Tú', 'Làm', 'Kề', 'được', 'Bốn', 'Bẽ', 'Tưởng', 'Sân', 'Ngậm', 'Than', 'Giá', 'Tức', 'Đánh', 'Mảnh', 'Mở', 'Chim', 'Tường', 'Dám', 'Thừa', 'Nghe', 'Lối', 'Hóa', 'Hung', 'Thịt', 'Hết', 'Nhưng', 'Thân', 'Bày', 'Bạc', 'Đà', 'Rồi', 'Sở', 'Phao', 'Đem', 'Phụ', 'Tẻ', 'Vừa', 'Chơi', 'Khéo', 'Đôi', 'Cảnh', 'Đòi', 'Vui', 'Thờ', 'Ôm', 'Khách', 'Vốn', 'Trướng', 'Nguyệt', 'Sớm', 'Dịp', 'Miệt', 'Thúc', 'Rõ', 'Hay', 'Thiếp', 'Chúa', 'Bình', 'Như', 'Thế', 'Cúi', 'Đường', 'Nỉ', 'Mượn', 'Chiến', 'Bắn', 'Nửa', 'Giậu', 'Trót', 'Đất', 'Gã', 'Suy', 'Phép', 'Đục', 'Phủ', 'Sụt', 'Tại', 'Cười', 'Khen', 'Thật', 'Dâu', 'Kíp', 'Huệ', 'Trộm', 'E', 'Mà', 'Xin', 'Rạng', 'Tiễn', 'Cầm', 'Hơn', 'Lửa', 'Dại', 'Lo', 'Tiểu', 'Chồng', 'Tẩy', 'Thú', 'Chạnh', 'Long', 'Roi', 'Vậy', 'Lâm', 'Dọn', 'Phu', 'Sửa', 'Dặn', 'Sắn', 'Nén', 'Tôi', 'Tớ', 'Hớt', 'Chạy', 'Di', 'Sang', 'Hỡi', 'Chắc', 'Đạo', 'Trở', 'Mệnh', 'Hai', 'Khuyển', 'Buồm', 'Dỡ', 'Hoàng', 'Bàng', 'A', 'Ngước', 'Ban', 'Gạn', 'Bất', 'Trúc', 'Kẻo', 'Mẹ', 'Lãnh', 'Lĩnh', 'Mày', 'Sen', 'Tìm', 'Chước', 'Càng', 'Nhân', 'Vợ', 'Bắt', 'Ngảnh', 'Nhẹ', 'Diện', 'Bể', 'Tàng', 'Đưa', 'áo', 'Phật', 'Nâu', 'Gác', 'Thấp', 'Tông', 'Thẹn', 'Liệu', 'Nữa', 'Bâu', 'Dẫu', 'Nhận', 'Dối', 'Thiền', 'Rành', 'Bao', 'Ngăn', 'ấy', 'Thực', 'Chỉn', 'Cất', 'Mịt', 'Canh', 'Chùa', 'Xăm', 'Bản', 'Chỉ', 'Gửi', 'Kệ', 'Giở', 'Giác', 'Lánh', 'Nhắn', 'Hư', 'Nơi', 'Chứng', 'Thành', 'Chém', 'Hồng', 'Râu', 'Đội', 'Giang', 'Rộng', 'Ngỏ', 'Trai', 'Bằng', 'Đành', 'Đoái', 'Chốc', 'Cánh', 'Ngất', 'Giáp', 'Dựng', 'Hoả', 'Kéo', 'Rỡ', 'Đến', 'Tiệc', 'Vinh', 'Tấm', 'Nghiêm', 'Ba', 'Thệ', 'Quân', 'Báo', 'Sâm', 'Gấm', 'Kiến', 'Dắt', 'Thoạt', 'Đàn', 'Hoạn', 'Tha', 'Tạ', 'Lệnh', 'Máu', 'Sư', 'Mới', 'Họa', 'Chạm', 'Huống', 'Triều', 'Nghênh', 'Đẩy', 'Đóng', 'Bó', 'Chọc', 'Chỉnh', 'Hồ', 'Đương', 'Tử', 'Khí', 'Trơ', 'Dòng', 'Ngỡ', 'Năm', 'Xét', 'Ve', 'Ông', 'Chân', 'Đạm', 'Giết', 'Thổ', 'Mười', 'Đời', 'Gặp', 'Ma', 'Oan', 'Hại', 'Thửa', 'Thuê', 'Ngư', 'Mơ', 'Tâm', 'Giật', 'Nạn', 'Xập', 'Cuối', 'Láng', 'Đều', 'Vật', 'Dỗ', 'Chưa', 'Thần', 'Đinh', 'Ruột', 'Thẩn', 'Tuy', 'Bẻ', 'Dường', 'Bởi', 'Chế', 'Kim', 'Tỉnh', 'Thăng', 'Kiên', 'Rứt', 'Bỗng', 'Đại', 'Vẫy', 'Rắp', 'Dấn', 'Xảy', 'Hàng', 'Chiêu', 'Với', 'Minh', 'Quanh', 'Huyên', 'Quây', 'Mùi', 'Dở', 'Độ', 'Quả', 'Dứt', 'Nói', 'Chữ', 'Xưa', 'Động', 'Riêng', 'Chừng', 'Ai', 'Chở', 'Thêm', 'ăn', 'Phím', 'Lọt', 'Chuyện', 'Thiện')\n",
            "[4, 6, 11, 12, 13, 27, 65, 67, 71, 73, 81, 88, 89, 90, 91, 94, 99, 107, 108, 112, 113, 114, 117, 119, 121, 122, 125, 126, 127, 155, 157, 158, 163, 166, 171, 175, 193, 196, 203, 207, 208, 209, 213, 216, 218, 219, 220, 229, 242, 245, 251, 254, 260, 261, 318, 319, 322, 332, 333, 334, 335, 336, 345, 346, 347, 351, 352, 355, 356, 361, 376, 377, 383, 385, 387, 388, 389, 390, 398, 400, 408, 411, 412, 418, 422, 427, 428, 432, 433, 436, 437, 438, 439, 444, 447, 449, 454, 455, 457, 459, 460, 464, 466, 468, 469, 470, 472, 473, 476, 478, 481, 483, 484, 487, 488, 494, 495, 499, 501, 503, 526, 527, 531, 533, 535, 543, 554, 555, 557, 558, 559, 560, 561, 568, 570, 574, 575, 577, 580, 586, 591, 605, 607, 608, 612, 613, 614, 631, 633, 634, 640, 641, 646, 647, 648, 667, 674, 677, 678, 679, 689, 690, 701, 703, 705, 708, 710, 711, 712, 713, 714, 716, 729, 733, 749, 751, 757, 758, 761, 764, 772, 774, 776, 787, 788, 789, 791, 793, 798, 800, 801, 802, 805, 818, 821, 832, 834, 835, 841, 842, 843, 846, 847, 852, 857, 859, 860, 866, 871, 872, 875, 878, 882, 884, 895, 896, 899, 908, 909, 912, 913, 914, 915, 916, 917, 923, 924, 925, 926, 927, 928, 936, 944, 947, 951, 953, 959, 960, 961, 964, 966, 967, 968, 971, 973, 975, 976, 977, 978, 979, 982, 984, 985, 986, 987, 989, 990, 994, 995, 996, 997, 999, 1001, 1008, 1011, 1015, 1025, 1026, 1027, 1037, 1038, 1039, 1040, 1041, 1042, 1043, 1052, 1055, 1061, 1065, 1068, 1075, 1077, 1079, 1081, 1082, 1083, 1087, 1088, 1089, 1092, 1093, 1094, 1097, 1098, 1099, 1102, 1104, 1105, 1106, 1107, 1112, 1114, 1115, 1116, 1118, 1119, 1121, 1122, 1126, 1130, 1132, 1133, 1135, 1139, 1146, 1147, 1148, 1152, 1153, 1155, 1158, 1159, 1160, 1161, 1162, 1165, 1167, 1168, 1169, 1170, 1171, 1175, 1189, 1190, 1191, 1192, 1193, 1196, 1197, 1202, 1204, 1206, 1207, 1210, 1212, 1213, 1215, 1216, 1218, 1219, 1220, 1224, 1226, 1227, 1229, 1230, 1231, 1232, 1233, 1235, 1238, 1239, 1244, 1245, 1246, 1251, 1255, 1256, 1261, 1262, 1265, 1267, 1270, 1272, 1274, 1275, 1277, 1278, 1279, 1281, 1282, 1285, 1286, 1287, 1288, 1289, 1290, 1291, 1293, 1294, 1297, 1303, 1305, 1306, 1309, 1310, 1312, 1314, 1315, 1317, 1318, 1319, 1321, 1322, 1323, 1324, 1325, 1336, 1337, 1338, 1339, 1341, 1342, 1343, 1345, 1348, 1349, 1350, 1351, 1352, 1353, 1354, 1355, 1356, 1357, 1358, 1359, 1360, 1361, 1362, 1364, 1365, 1366, 1373, 1374, 1375, 1376, 1377, 1378, 1380, 1381, 1382, 1384, 1385, 1386, 1387, 1388, 1389, 1390, 1391, 1392, 1393, 1395, 1396, 1399, 1401, 1404, 1405, 1406, 1407, 1408, 1410, 1412, 1414, 1416, 1417, 1418, 1419, 1420, 1421, 1423, 1425, 1426, 1428, 1429, 1430, 1431, 1432, 1435, 1436, 1438, 1439, 1440, 1441, 1442, 1444, 1445, 1446, 1447, 1448, 1449, 1450, 1451, 1460, 1461, 1462, 1463, 1464, 1465, 1466, 1467, 1468, 1469, 1470, 1471, 1473, 1474, 1475, 1477, 1479, 1480, 1481, 1482, 1483, 1484, 1485, 1486, 1488, 1489, 1491, 1492, 1493, 1494, 1495, 1498, 1499, 1500, 1501, 1502, 1503, 1504, 1506, 1507, 1509, 1510, 1511, 1513, 1515, 1516, 1521, 1522, 1523, 1524, 1525, 1527, 1528, 1529, 1530, 1531, 1532, 1533, 1536, 1537, 1538, 1539, 1540, 1541, 1542, 1544, 1546, 1547, 1549, 1550, 1551, 1552, 1553, 1554, 1555, 1559, 1560, 1561, 1562, 1563, 1564, 1565, 1566, 1567, 1568, 1569, 1570, 1571, 1572, 1573, 1574, 1575, 1577, 1578, 1579, 1580, 1581, 1582, 1584, 1585, 1586, 1587, 1589, 1590, 1591, 1592, 1593, 1594, 1596, 1597, 1598, 1599, 1600, 1601, 1602, 1603, 1604, 1605, 1606, 1607, 1608, 1609, 1610, 1611, 1612, 1614, 1616, 1617, 1618, 1619, 1620, 1621, 1622, 1623, 1624, 1625, 1626, 1627, 1628]\n"
          ],
          "name": "stdout"
        }
      ]
    },
    {
      "metadata": {
        "id": "0i559i3MffGx",
        "colab_type": "code",
        "outputId": "7c5bd52c-1747-4bb2-b530-740c743bd59f",
        "colab": {
          "base_uri": "https://localhost:8080/",
          "height": 54
        }
      },
      "cell_type": "code",
      "source": [
        "#Generate a new sentence\n",
        "\n",
        "print(text_model.chain.walk())"
      ],
      "execution_count": 0,
      "outputs": [
        {
          "output_type": "stream",
          "text": [
            "['Già', 'giang', 'một', 'lão', 'một', 'trai', 'Một', 'dây', 'một', 'buộc', 'ai', 'làm', '?', 'Này', 'ai', 'đan', 'dậm,', 'giật', 'giàm', 'bỗng', 'dưng']\n"
          ],
          "name": "stdout"
        }
      ]
    },
    {
      "metadata": {
        "id": "TXS5M-6zso8b",
        "colab_type": "code",
        "outputId": "e9931f5e-32fb-4404-a923-b2e70097f366",
        "colab": {
          "base_uri": "https://localhost:8080/",
          "height": 51
        }
      },
      "cell_type": "code",
      "source": [
        "print(text_model.chain.walk(init_state = (\"Trăm\", \"năm\")))\n",
        "print(text_model.chain.walk(init_state = (\"Thúy\", \"Kiều\")))"
      ],
      "execution_count": 0,
      "outputs": [
        {
          "output_type": "stream",
          "text": [
            "['danh', 'tiết', 'cũng', 'vì', 'đêm', 'nay']\n",
            "['Mắc', 'điều', 'tình', 'ái', 'khỏi', 'điều', 'tà', 'dâm']\n"
          ],
          "name": "stdout"
        }
      ]
    },
    {
      "metadata": {
        "id": "BAQ9UNd6ThoC",
        "colab_type": "text"
      },
      "cell_type": "markdown",
      "source": [
        "# Conclusion:\n",
        "\n",
        "- Markovify is  a very basic model.\n",
        "\n",
        "- It is a Markov chain with `state_size = 2` that means it will produce words $w_1w_2w_3w_4\\cdots$ in  a way that the conditional law of $(w_4w_5\\cdots| w_1w_2w_3)$ is the same as that of $(w_4|w_2w_3)$. \n",
        "\n",
        "- It chooses the word $w_4$ given $w_1w_2w_3$ by learning statiscally from the original text what would appears after $w_2w_3$.\n",
        "\n",
        "- Or in other words $(w_4w_5\\cdots|w_2w_3)$ is independent of $(w_1|w_2w_3)$.\n",
        "\n",
        "- The chain will stop when the new word is [\"END\"](https://github.com/jsvine/markovify/blob/master/markovify/chain.py#L108).\n",
        "  - Will it ever hit \"END\"?  interesting..;-)\n",
        "  - The the whole sentence will be [compared](https://github.com/jsvine/markovify/blob/master/markovify/text.py#L189) to the original text to see whether or not it overlaps (\"copies\") too much with the original text.\n",
        "  - If there is too much overlap, it re-generates the sentence again.\n",
        "  - After `tries = 10` times, a `None` sentence is given.\n",
        "\n",
        "- The Markov chain does not have \"new\" creativity in the sense that if the current state is \"Trăm năm\", the next word will 100% be in `['trong', 'cõi', 'người', 'ta', 'Khéo', 'thay', 'gặp', 'gỡ', 'cũng', 'trong', 'chuyển', 'vần']`.\n",
        "\n",
        "- The model/Markov chain with `state_size=2` does not obey 6-8 rule of the poem. In a 2-sentence $w_{11}\\cdots w_{16}, w_{21}\\cdots w_{28}$, the words $w_{16}$ and $w_{26}$ have to be rhyme.\n",
        "\n",
        "- Therefore, this model is good on \"text\" styles rather than poem styles since the latter's structure is rigid/strict.\n"
      ]
    },
    {
      "metadata": {
        "id": "9c8y4ISHV0oR",
        "colab_type": "text"
      },
      "cell_type": "markdown",
      "source": [
        "## How can we improve the performance?\n",
        "- We can increase `state_size`, says up to ~~`12`~~ `6` such that the model learns 6-8 rule. But then, the model has very limited resource/dictionary (it is rigid) to produce new sentences. \n",
        "  - It is likely to produce a sentence in the original text. Because of the [`max_overlap`](https://github.com/jsvine/markovify/blob/master/markovify/text.py#L8) rules, it is likely to produce `None` sentence.\n",
        "    - For example, if `state_size = 3` and we are looking for a new word from `Trăm năm trong`, the next word has to be `cõi`. There is not much flexibility with `state_size=3`, unless the original text is huge or something else happens.\n",
        "  \n",
        "  - We could let the program choose a new word \"out of the history\" based on a different text.\n",
        "\n",
        "- Experiment with different way to compute Markov chain: for example, try word2vec, or RNN.\n",
        "- Add rule: each sentence, we check if it satisfies the \"rhyme\" rule or not. If it doesn't, re-generate a new sentence.\n",
        "  - One suggestion is to use [nltk.pos_tag](https://medium.com/@gianpaul.r/tokenization-and-parts-of-speech-pos-tagging-in-pythons-nltk-library-2d30f70af13b). This module will analyze words in each sentence and assign each word with its  role (noun, verb, pronoun,  adjective, etc)\n",
        "  - Or use [spacy](https://github.com/jsvine/markovify). \n",
        "  - We have to use [Vietnamese](https://spacy.io/usage/models#languages) [version](https://github.com/undertheseanlp/underthesea).\n",
        "  \n",
        "- We could take a large dataset of 6-8 rule poems, let the `general_68_rule` model analyze rhyme rule from the dataset. \n",
        "  - Then combine with the model from `Truyen_Kieu`. Set a small weight (i.e. transition probability) for `general_68_rule`, and big for `Truyen_Kieu`."
      ]
    }
  ]
}