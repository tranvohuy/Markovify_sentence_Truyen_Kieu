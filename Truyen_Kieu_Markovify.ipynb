{
  "nbformat": 4,
  "nbformat_minor": 0,
  "metadata": {
    "colab": {
      "name": "Truyen_Kieu_Markovify.ipynb",
      "version": "0.3.2",
      "provenance": [],
      "toc_visible": true,
      "include_colab_link": true
    },
    "kernelspec": {
      "name": "python3",
      "display_name": "Python 3"
    },
    "accelerator": "GPU"
  },
  "cells": [
    {
      "cell_type": "markdown",
      "metadata": {
        "id": "view-in-github",
        "colab_type": "text"
      },
      "source": [
        "<a href=\"https://colab.research.google.com/github/tranvohuy/Markovify_sentence_Truyen_Kieu/blob/master/Truyen_Kieu_Markovify.ipynb\" target=\"_parent\"><img src=\"https://colab.research.google.com/assets/colab-badge.svg\" alt=\"Open In Colab\"/></a>"
      ]
    },
    {
      "metadata": {
        "id": "ZOD0yIYih6xc",
        "colab_type": "text"
      },
      "cell_type": "markdown",
      "source": [
        "In this notebook, we learn how to make poems. The poem style we choose is from Truyện Kiều. The strategy is from [Markovify](https://github.com/jsvine/markovify) module. The main point is to understand a data science problem (pipeline?) from data processing, to modelling, testing, and implementation. The other point is to understand Markovify module. What is the main idea? How is it related to mathematics? etc\n"
      ]
    },
    {
      "metadata": {
        "id": "Y0rbGiW0o-dC",
        "colab_type": "text"
      },
      "cell_type": "markdown",
      "source": [
        "# Truyện Kiều\n",
        "\n",
        "[Truyện Kiều](https://en.wikipedia.org/wiki/The_Tale_of_Kieu) is a famous epic poem written by Nguyen Du. This poem is learnt by every student in Vietnam.\n",
        " \n",
        " The poem has the 6-8 style. That means a 6-word sentence is followed by a 8-word sentence. These two sentences are correlated by rhymes.\n",
        " \n",
        " We will use [Markovify](https://github.com/jsvine/markovify). This module will import a whole text as one string (of many sentences). Then it will make individual sentence. The next sentence is totally independent of the current sentence.\n",
        " \n",
        " Therefore, we will pre-process Truyen Kieu by combining consecutive 6-word and 8-word sentences into one sentence.\n",
        "\n",
        "References:\n",
        "- [Word2vec on Nguyen Du](https://blog.duyet.net/2017/04/nlp-truyen-kieu-word2vec.html#.XJOZAChKiqY)\n",
        "- [Other blog](https://github.com/kavgan/nlp-in-practice/blob/master/word2vec/Word2Vec.ipynb)\n",
        "- https://www.kaggle.com/paultimothymooney/poetry-generator-rnn-markov/notebook\n",
        "- [Markovify](https://github.com/jsvine/markovify)\n",
        "- [Thơ máy](http://www.thomay.vn/thomay/)\n",
        "\n",
        "- [Poetry RNN](https://www.kaggle.com/paultimothymooney/poetry-generator-rnn-markov/notebook)"
      ]
    },
    {
      "metadata": {
        "id": "FUBc30xcfA6W",
        "colab_type": "text"
      },
      "cell_type": "markdown",
      "source": [
        "# Data preprocessing"
      ]
    },
    {
      "metadata": {
        "id": "v9sIxWfO6NE2",
        "colab_type": "text"
      },
      "cell_type": "markdown",
      "source": [
        "If you already have a 'clean' data like this [one](https://github.com/tranvohuy/sentiment_sentence/blob/master/data/Truyen_Kieu.txt), you can skip this part.\n",
        "\n",
        "- First, we copy the content [here](https://sites.google.com/site/khonggianketnoidqt/truyen-kieu-tron-bo), and save it in a text file 'Truyen_Kieu_internet.txt'\n",
        "  - You can either copy from the web or use BeautifulSoup.\n",
        "  \n",
        "  - The text there is not well-punctuated.\n",
        "  - A mistake at line 120, and another above line 130\n",
        "  - To have a 'cleaner' version, we have to check carefully the poem, or find a better source. But we can ignore it, simplify troubles as much as possible, just to get a basic model. Then we can construct a more complicated model (including cleaner data, better model structure, etc).\n",
        "- Then upload it to colab.\n",
        "- Import it into a dataframe.\n",
        "- Use regex to delete redundant details.\n",
        " - As mentioned above, for a basic model, it is better to delele all punctuation marks and to lower all characters\n",
        "- Save the poem to a txt file.\n",
        "\n",
        "- Some codes are learnt from [here](https://blog.duyet.net/2017/04/nlp-truyen-kieu-word2vec.html#.XJU7BShKiqY)."
      ]
    },
    {
      "metadata": {
        "id": "xV4OEjbyf6f5",
        "colab_type": "code",
        "outputId": "68ac583c-94fa-467d-febe-d584e48fb584",
        "colab": {
          "resources": {
            "http://localhost:8080/nbextensions/google.colab/files.js": {
              "data": "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",
              "ok": true,
              "headers": [
                [
                  "content-type",
                  "application/javascript"
                ]
              ],
              "status": 200,
              "status_text": ""
            }
          },
          "base_uri": "https://localhost:8080/",
          "height": 41
        }
      },
      "cell_type": "code",
      "source": [
        "from google.colab import files\n",
        "files.upload()\n",
        "import pandas as pd\n",
        "file_name = 'Truyen_Kieu_from_web.txt'\n",
        "df = pd.read_csv(file_name, sep=\"/\", names=[\"row\"]).dropna()\n",
        "\n",
        "#to see what df is about\n",
        "#df.sample(4)\n",
        "#df.head(10)\n",
        "#etc\n",
        "\n",
        "import re\n",
        "\n",
        "def transform_row(row):\n",
        "    # Delete numbers, dots, commas at the beginning of sentences\n",
        "    row = re.sub(r\"^[0-9\\.,]+\", \"\", row)\n",
        "    \n",
        "    # Delete dots, commas, question marks at the end\n",
        "    row = re.sub(r\"[\\.,\\?!]+$\", \"\", row)\n",
        "    \n",
        "    #remove white spaces at the beginning and end of sentences\n",
        "    row = row.strip()\n",
        "    return row \n",
        "\n",
        "df[\"row\"] = df.row.apply(transform_row)\n",
        "\n",
        "#save df to txt file\n",
        "\n",
        "with  open('Truyen_Kieu_simple_version.txt','w')  as f:\n",
        "  for index, row in df.iterrows():\n",
        "    f.write(row['row']+' ')\n",
        "    if index%2 !=0:\n",
        "      f.write('\\n')"
      ],
      "execution_count": 0,
      "outputs": [
        {
          "output_type": "display_data",
          "data": {
            "text/html": [
              "\n",
              "     <input type=\"file\" id=\"files-2b49778b-0300-429c-a204-ea5961188f94\" name=\"files[]\" multiple disabled />\n",
              "     <output id=\"result-2b49778b-0300-429c-a204-ea5961188f94\">\n",
              "      Upload widget is only available when the cell has been executed in the\n",
              "      current browser session. Please rerun this cell to enable.\n",
              "      </output>\n",
              "      <script src=\"/nbextensions/google.colab/files.js\"></script> "
            ],
            "text/plain": [
              "<IPython.core.display.HTML object>"
            ]
          },
          "metadata": {
            "tags": []
          }
        }
      ]
    },
    {
      "metadata": {
        "id": "Vic7Lis7heNl",
        "colab_type": "text"
      },
      "cell_type": "markdown",
      "source": [
        "## Create a no-punctuation-mark version\n",
        "\n",
        "In this version, there is no punctuation mark. Each pair of 6-8 is combined as one line."
      ]
    },
    {
      "metadata": {
        "id": "Go4WeXtthwrB",
        "colab_type": "code",
        "outputId": "a155eb4a-2d34-4a0c-8623-4b3aa9a71105",
        "colab": {
          "resources": {
            "http://localhost:8080/nbextensions/google.colab/files.js": {
              "data": "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",
              "ok": true,
              "headers": [
                [
                  "content-type",
                  "application/javascript"
                ]
              ],
              "status": 200,
              "status_text": ""
            }
          },
          "base_uri": "https://localhost:8080/",
          "height": 75
        }
      },
      "cell_type": "code",
      "source": [
        "from google.colab import files\n",
        "files.upload()\n",
        "import pandas as pd\n",
        "import re\n",
        "file_name = 'Truyen_Kieu_from_web.txt'\n",
        "\n",
        "df = pd.read_csv(file_name, sep=\"/\", names=[\"row\"]).dropna()\n",
        "def transform_row(row):\n",
        "    # Delete numbers, dots, commas at the beginning of sentences\n",
        "    row = re.sub(r\"^[0-9\\.,]+\", \"\", row)\n",
        "    \n",
        "    # Delete dots, commas, question marks\n",
        "    row = re.sub(r\"[\\.,\\?!]\", \"\", row)\n",
        "    \n",
        "    #remove white spaces at the beginning and end of sentences\n",
        "    row = row.strip()\n",
        "    return row \n",
        "\n",
        "df[\"row\"] = df.row.apply(transform_row)\n",
        "\n",
        "#save df to txt file\n",
        "\n",
        "with  open('Truyen_Kieu_no_punctuation_newline.txt','w')  as f:\n",
        "  for index, row in df.iterrows():\n",
        "    f.write(row['row'] + ' ')\n",
        "    if index%2 !=0:\n",
        "      f.write('\\n')"
      ],
      "execution_count": 1,
      "outputs": [
        {
          "output_type": "display_data",
          "data": {
            "text/html": [
              "\n",
              "     <input type=\"file\" id=\"files-d0721071-89ef-43de-9b4b-a2f73294f30d\" name=\"files[]\" multiple disabled />\n",
              "     <output id=\"result-d0721071-89ef-43de-9b4b-a2f73294f30d\">\n",
              "      Upload widget is only available when the cell has been executed in the\n",
              "      current browser session. Please rerun this cell to enable.\n",
              "      </output>\n",
              "      <script src=\"/nbextensions/google.colab/files.js\"></script> "
            ],
            "text/plain": [
              "<IPython.core.display.HTML object>"
            ]
          },
          "metadata": {
            "tags": []
          }
        },
        {
          "output_type": "stream",
          "text": [
            "Saving Truyen_Kieu_from_web.txt to Truyen_Kieu_from_web.txt\n"
          ],
          "name": "stdout"
        }
      ]
    },
    {
      "metadata": {
        "id": "YxGN1DzCfwAc",
        "colab_type": "text"
      },
      "cell_type": "markdown",
      "source": [
        "# Import Truyen Kieu\n",
        "- Now suppose we have a clean version. \n",
        "- Import it now."
      ]
    },
    {
      "metadata": {
        "id": "WomZamMxf_r0",
        "colab_type": "code",
        "outputId": "392845be-719a-405e-e777-b6ee9666b1e1",
        "colab": {
          "resources": {
            "http://localhost:8080/nbextensions/google.colab/files.js": {
              "data": "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",
              "ok": true,
              "headers": [
                [
                  "content-type",
                  "application/javascript"
                ]
              ],
              "status": 200,
              "status_text": ""
            }
          },
          "base_uri": "https://localhost:8080/",
          "height": 74
        }
      },
      "cell_type": "code",
      "source": [
        "from google.colab import files\n",
        "files.upload()\n",
        "import pandas as pd"
      ],
      "execution_count": 0,
      "outputs": [
        {
          "output_type": "display_data",
          "data": {
            "text/html": [
              "\n",
              "     <input type=\"file\" id=\"files-36ce353f-c83c-4b41-a5ba-0868385417ca\" name=\"files[]\" multiple disabled />\n",
              "     <output id=\"result-36ce353f-c83c-4b41-a5ba-0868385417ca\">\n",
              "      Upload widget is only available when the cell has been executed in the\n",
              "      current browser session. Please rerun this cell to enable.\n",
              "      </output>\n",
              "      <script src=\"/nbextensions/google.colab/files.js\"></script> "
            ],
            "text/plain": [
              "<IPython.core.display.HTML object>"
            ]
          },
          "metadata": {
            "tags": []
          }
        },
        {
          "output_type": "stream",
          "text": [
            "Saving Truyen_Kieu_simple_v1.txt to Truyen_Kieu_simple_v1.txt\n"
          ],
          "name": "stdout"
        }
      ]
    },
    {
      "metadata": {
        "id": "tOndMPcFE73i",
        "colab_type": "code",
        "outputId": "5d6334a4-b15e-4df0-c04f-54b9f6d6a669",
        "colab": {
          "base_uri": "https://localhost:8080/",
          "height": 204
        }
      },
      "cell_type": "code",
      "source": [
        "!pip install markovify"
      ],
      "execution_count": 0,
      "outputs": [
        {
          "output_type": "stream",
          "text": [
            "Collecting markovify\n",
            "  Downloading https://files.pythonhosted.org/packages/94/b2/b4ce1e461bb3482b1fd63328a2097aed5917cdfa0dbfe9492a84ea46e2ab/markovify-0.7.1.tar.gz\n",
            "Collecting unidecode (from markovify)\n",
            "\u001b[?25l  Downloading https://files.pythonhosted.org/packages/31/39/53096f9217b057cb049fe872b7fc7ce799a1a89b76cf917d9639e7a558b5/Unidecode-1.0.23-py2.py3-none-any.whl (237kB)\n",
            "\u001b[K    100% |████████████████████████████████| 245kB 10.3MB/s \n",
            "\u001b[?25hBuilding wheels for collected packages: markovify\n",
            "  Building wheel for markovify (setup.py) ... \u001b[?25ldone\n",
            "\u001b[?25h  Stored in directory: /root/.cache/pip/wheels/66/fe/5b/07257dd2401d9835447a0f0223f967c998c153404d32612253\n",
            "Successfully built markovify\n",
            "Installing collected packages: unidecode, markovify\n",
            "Successfully installed markovify-0.7.1 unidecode-1.0.23\n"
          ],
          "name": "stdout"
        }
      ]
    },
    {
      "metadata": {
        "id": "1ZeFqN4r7I8L",
        "colab_type": "text"
      },
      "cell_type": "markdown",
      "source": [
        "## analyze the text"
      ]
    },
    {
      "metadata": {
        "id": "eGvGUSSiWqMo",
        "colab_type": "code",
        "outputId": "821a68c3-3437-401f-9f66-945588272380",
        "colab": {
          "base_uri": "https://localhost:8080/",
          "height": 170
        }
      },
      "cell_type": "code",
      "source": [
        "import re\n",
        "with open(\"Truyen_Kieu_no_punctuation_newline.txt\") as f:\n",
        "    text = f.read()\n",
        "words = text.split()\n",
        "\n",
        "text_no_newline = re.sub(r' \\n+', '. ', text) # many lines are combined as one line (no '\\n' character)\n",
        "\n",
        "print('The number of different/total characters in the text:{}/{}'.format(len(set(text_no_newline)), len(text_no_newline)))\n",
        "\n",
        "\n",
        "\n",
        "print('The number of different/total words in the text:{}/{}'.format(len(set(words)), len(words)))\n",
        "data = sorted([(w, words.count(w)) for w in set(words)], key = lambda x:x[1], reverse=True)[:40] \n",
        "most_words = [x[0] for x in data]\n",
        "times_used = [int(x[1]) for x in data]\n",
        "print('Most frequent words')\n",
        "for i in range(6):\n",
        "  print('{}: {} times'.format(data[i][0], data[i][1]))"
      ],
      "execution_count": 2,
      "outputs": [
        {
          "output_type": "stream",
          "text": [
            "The number of different/total characters in the text:125/102524\n",
            "The number of different/total words in the text:3381/22807\n",
            "Most frequent words\n",
            "một: 241 times\n",
            "đã: 231 times\n",
            "người: 201 times\n",
            "là: 165 times\n",
            "lời: 156 times\n",
            "cho: 155 times\n"
          ],
          "name": "stdout"
        }
      ]
    },
    {
      "metadata": {
        "id": "V8H9CdTD7ERf",
        "colab_type": "text"
      },
      "cell_type": "markdown",
      "source": [
        "# run Markovify"
      ]
    },
    {
      "metadata": {
        "id": "tIASNNE_hg9J",
        "colab_type": "code",
        "outputId": "c5e620d9-12fb-410e-d8b4-527b5024ab92",
        "colab": {
          "base_uri": "https://localhost:8080/",
          "height": 102
        }
      },
      "cell_type": "code",
      "source": [
        "import markovify\n",
        "with open(\"Truyen_Kieu_no_punctuation_newline.txt\") as f:\n",
        "    text = f.read()\n",
        "#text is ONE string.\n",
        "\n",
        "# Build the model.\n",
        "text_model = markovify.NewlineText(text, state_size = 2)\n",
        "\n",
        "# Print five randomly-generated sentences\n",
        "for i in range(5):\n",
        "    print(text_model.make_sentence())"
      ],
      "execution_count": 0,
      "outputs": [
        {
          "output_type": "stream",
          "text": [
            "Biết thân đến thế này\n",
            "Chung quanh vẫn đất nước nhà Với Vương Quan là chữ nối dòng nho gia\n",
            "Mẹo lừa đã mắc tay ai cầm\n",
            "Sớm khuya khăn mắt lược đầu Phận con thôi có ra gì mai sau\n",
            "Giác Duyên nghe nói thủy chung Bất bình nổi trận bời bời Ngập ngừng thẹn lục e hồng Nghĩ lòng lại gạn đến lời riêng tây Sạch sành sanh vét cho đầy đọa trẻ càng oan khốc già\n"
          ],
          "name": "stdout"
        }
      ]
    },
    {
      "metadata": {
        "id": "nQfACkUsfRPa",
        "colab_type": "text"
      },
      "cell_type": "markdown",
      "source": [
        "## Observation:\n",
        "\n",
        "- The length of each sentence is mostly not 6+8 = 14 word long. \n",
        "- Recall that 6-8 style is a 6-word sentence followed by an 8-word one.\n",
        "- Most of the times, there is no rhyme between the 6-th word and 12-word."
      ]
    },
    {
      "metadata": {
        "id": "UH4OO27YZBeu",
        "colab_type": "text"
      },
      "cell_type": "markdown",
      "source": [
        "# Understand the module Markovify\n",
        "\n"
      ]
    },
    {
      "metadata": {
        "id": "xbD1PBoiZKB7",
        "colab_type": "text"
      },
      "cell_type": "markdown",
      "source": [
        "What happens when we run `text_model = markovify.NewlineText(text, state_size = 2)` or `text_model = markovify.Text(text, state_size = 2)`\n"
      ]
    },
    {
      "metadata": {
        "id": "xxDIjLIxZfCR",
        "colab_type": "text"
      },
      "cell_type": "markdown",
      "source": [
        "# Class Text\n",
        "- [init](https://github.com/jsvine/markovify/blob/master/markovify/text.py#L17) (self, input_text, state_size=2, chain=None, parsed_sentences=None, retain_original=True)\n",
        "\n",
        "Basically,\n",
        "- `input_text` is a string of sentences. Each sentence ends by a dot `.`, not by a new line `\\n`. \n",
        "- If sentences in our `input_text` end by new line `\\n`. We should use `markovify.NewlineText(input_text)` instead of `markovify.Text(input_text)`.\n",
        "\n",
        "- In the following example, sentences end with `\\n`.\n"
      ]
    },
    {
      "metadata": {
        "id": "xn9mLZJ_dUw_",
        "colab_type": "code",
        "colab": {}
      },
      "cell_type": "code",
      "source": [
        "import markovify\n",
        "with open(\"Truyen_Kieu_clean_v1.txt\") as f:\n",
        "    text = f.read()"
      ],
      "execution_count": 0,
      "outputs": []
    },
    {
      "metadata": {
        "id": "puEcZhLBdWR2",
        "colab_type": "code",
        "outputId": "5c8f2086-5360-467b-fd6b-29e43cef34f2",
        "colab": {
          "base_uri": "https://localhost:8080/",
          "height": 54
        }
      },
      "cell_type": "code",
      "source": [
        "text[0:1000]"
      ],
      "execution_count": 0,
      "outputs": [
        {
          "output_type": "execute_result",
          "data": {
            "text/plain": [
              "'Trăm năm trong cõi người ta Chữ tài chữ mệnh khéo là ghét nhau \\nTrải qua một cuộc bể dâu Những điều trông thấy mà đau đớn lòng \\nLạ gì bỉ sắc tư phong Trời xanh quen thói má hồng đánh ghen \\nCảo thơm lần giở trước đèn Phong tình có lục còn truyền sử xanh \\nRằng năm Gia Tĩnh triều Minh Bốn phương phẳng lặng, hai kinh vững vàng \\nCó nhà viên ngoại họ Vương Gia tư nghĩ cũng thường thường bực trung \\nMột trai con thứ rốt lòng Vương Quan là chữ, nối dòng nho gia \\nĐầu lòng hai ả tố nga Thúy Kiều là chị, em là Thúy Vân \\nMai cốt cách, tuyết tinh thần Một người một vẻ, mười phân vẹn mười \\nVân xem trang trọng khác vời Khuôn trăng đầy đặn, nét ngài nở nang \\nHoa cười ngọc thốt đoan trang Mây thua nước tóc, tuyết nhường màu da \\nKiều càng sắc sảo, mặn mà So bề tài, sắc, lại là phần hơn \\nLàn thu thủy, nét xuân sơn Hoa ghen thua thắm, liễu hờn kém xanh \\nMột, hai nghiêng nước nghiêng thành Sắc đành đòi một, tài đành họa hai \\nThông minh vốn sẵn tư trời Pha nghề thi họa, đủ mùi ca ngâm \\nCung thương làu bậc ng'"
            ]
          },
          "metadata": {
            "tags": []
          },
          "execution_count": 6
        }
      ]
    },
    {
      "metadata": {
        "id": "ZDYhAD22eGGR",
        "colab_type": "text"
      },
      "cell_type": "markdown",
      "source": [
        "- `input_text` will be break into a list of sentences through [`self.generate_corpus(input_text)`](https://github.com/jsvine/markovify/blob/master/markovify/text.py#L33).\n",
        "- And each sentence is splitted by words.\n",
        "\n",
        "-So there is `text_model.parsed_senteces` which is a list. Each element of the list is a word from sentences."
      ]
    },
    {
      "metadata": {
        "id": "h0UfX0SYe1mr",
        "colab_type": "code",
        "colab": {}
      },
      "cell_type": "code",
      "source": [
        "text_model = markovify.NewlineText(text)"
      ],
      "execution_count": 0,
      "outputs": []
    },
    {
      "metadata": {
        "id": "OrdsiPFUe_tG",
        "colab_type": "code",
        "outputId": "fc69dfaa-7d54-4642-ca0d-55c7c04dd640",
        "colab": {
          "base_uri": "https://localhost:8080/",
          "height": 54
        }
      },
      "cell_type": "code",
      "source": [
        "print(text_model.parsed_sentences[0:3])"
      ],
      "execution_count": 0,
      "outputs": [
        {
          "output_type": "stream",
          "text": [
            "[['Trăm', 'năm', 'trong', 'cõi', 'người', 'ta', 'Chữ', 'tài', 'chữ', 'mệnh', 'khéo', 'là', 'ghét', 'nhau'], ['Trải', 'qua', 'một', 'cuộc', 'bể', 'dâu', 'Những', 'điều', 'trông', 'thấy', 'mà', 'đau', 'đớn', 'lòng'], ['Lạ', 'gì', 'bỉ', 'sắc', 'tư', 'phong', 'Trời', 'xanh', 'quen', 'thói', 'má', 'hồng', 'đánh', 'ghen']]\n"
          ],
          "name": "stdout"
        }
      ]
    },
    {
      "metadata": {
        "id": "kIxR-lt3fjLy",
        "colab_type": "text"
      },
      "cell_type": "markdown",
      "source": [
        "- This list `text_model.parsed_sentences` is [put ](https://github.com/jsvine/markovify/blob/master/markovify/text.py#L37)into a Markov chain to analyze.\n",
        "\n",
        "We now go to the [`Chain`](https://github.com/jsvine/markovify/blob/master/markovify/chain.py) class. \n",
        "- [init](https://github.com/jsvine/markovify/blob/master/markovify/chain.py#L32) (self, corpus, state_size, model=None)\n",
        "- The `init` will run [`build(self, corpus, state_size)`](https://github.com/jsvine/markovify/blob/master/markovify/chain.py#L47) \n",
        "  -  Count the number of times $w_3$ appears immediately after the words $w_1w_2$.\n",
        "- And run [precompute_begin_state](https://github.com/jsvine/markovify/blob/master/markovify/chain.py#L45)\n",
        "\n",
        "So\n",
        "`text_model.chain = Chain(text_model.parsed_sentences, state_size)`"
      ]
    },
    {
      "metadata": {
        "id": "7jsiRvyjhEFA",
        "colab_type": "text"
      },
      "cell_type": "markdown",
      "source": [
        "We now analyze line [58](https://github.com/jsvine/markovify/blob/master/markovify/chain.py#L58) to 72.\n",
        "\n",
        " \n",
        "\n",
        "```\n",
        "\n",
        "       model = {}\n",
        "\n",
        "        for run in corpus:\n",
        "            items = ([ BEGIN ] * state_size) + run + [ END ]\n",
        "            for i in range(len(run) + 1):\n",
        "                state = tuple(items[i:i+state_size])\n",
        "                follow = items[i+state_size]\n",
        "                if state not in model:\n",
        "                    model[state] = {}\n",
        "\n",
        "                if follow not in model[state]:\n",
        "                    model[state][follow] = 0\n",
        "\n",
        "                model[state][follow] += 1\n",
        "        return model\n",
        "\n",
        "```\n",
        "\n",
        "where corpus = $[ [w_{11}, w_{12}, w_{13}, w_{14}],   \n",
        "[w_{21}, w_{22}, w_{23},w_{24},w_{25}],    \\cdots]$ \n",
        "\n",
        "- First `run` = $[w_{11}, w_{12}, w_{13}, w_{14}]$.\n",
        "- items = [ BEGIN, BEGIN, $w_{11}, w_{12}, w_{13}, w_{14}$, END]. Note that `state_size=2` by default.\n",
        "- `i` in `(0,1,2,3,4)`\n",
        "  - `i=0` gives `state=(BEGIN, BEGIN)`, `follow =` $w_{11}$\n",
        "    - model[(BEGIN, BEGIN)][$w_{11}$] =1\n",
        "  - `i=1` gives `state= (BEGIN, w_{11})`, and `follow` = $w_{12}$\n",
        "    - model[(BEGIN, w_{11})][$w_{12}$] =1\n",
        "  -  `i=4` gives `state` = $(w_{13},w_{14}$), `follow = END`\n",
        "    \n",
        " -So model[($w_1,w_2$)][$w_3$] counts the number of times the word $w_3$ comes immediately after $w_1w_2$\n",
        " \n",
        " - `model` is a `dict` class."
      ]
    },
    {
      "metadata": {
        "id": "0mXzUeshlnbV",
        "colab_type": "code",
        "outputId": "036c6e65-65cf-4772-a926-d59f4980413e",
        "colab": {
          "base_uri": "https://localhost:8080/",
          "height": 71
        }
      },
      "cell_type": "code",
      "source": [
        "print(type(text_model.chain.model))\n",
        "print(text_model.chain.model[(\"___BEGIN__\", \"___BEGIN__\")])\n",
        "#there are a lot of ways to begin a sentence."
      ],
      "execution_count": 0,
      "outputs": [
        {
          "output_type": "stream",
          "text": [
            "<class 'dict'>\n",
            "{'Trăm': 4, 'Trải': 2, 'Lạ': 5, 'Cảo': 1, 'Rằng': 1, 'Có': 14, 'Một': 38, 'Đầu': 2, 'Mai': 4, 'Vân': 2, 'Hoa': 8, 'Kiều': 7, 'Làn': 1, 'Một,': 1, 'Thông': 1, 'Cung': 3, 'Khúc': 5, 'Phong': 8, 'Êm': 1, 'Ngày': 4, 'Cỏ': 1, 'Thanh': 1, 'Gần': 3, 'Dập': 2, 'Ngổn': 2, 'Tà': 1, 'Bước': 3, 'Nao': 1, 'Sè': 1, 'Rằng:': 28, 'Vương': 2, 'Nổi': 1, 'Kiếp': 5, 'Thuyền': 3, 'Buồng': 5, 'Khóc': 4, 'Đã': 18, 'Sắm': 3, 'Lòng': 7, 'Đau': 4, 'Phũ': 1, 'Sống': 1, 'Nào': 4, 'đã': 3, 'Gọi': 2, 'Lầm': 1, 'Rút': 1, 'Lại': 9, 'Nỗi': 13, 'Quan': 3, 'ở': 6, 'Dễ': 3, 'Thoắt': 6, 'Dấu': 1, 'Nàng': 57, 'Chớ': 1, 'Dùng': 3, 'Trông': 10, 'đề': 1, 'Tuyết': 1, 'Nẻo': 1, 'Hài': 1, 'Chàng': 9, 'Nguyên': 1, 'Nền': 1, 'Chung': 4, 'Vẫn': 1, 'Nước': 3, 'May': 1, 'Bóng': 5, 'Người': 15, 'Chập': 1, 'Dưới': 6, 'Gương': 2, 'Hải': 2, 'Chênh': 1, 'Sương': 1, 'Chào': 1, 'Thưa': 8, 'Hàn': 2, 'Mấy': 8, 'Vâng': 3, 'Âu': 1, 'Này': 6, 'Xem': 4, 'Ví': 5, 'Thềm': 1, 'Gió': 4, 'Giọng': 1, 'Cớ': 3, 'Buổi': 1, 'đoạn': 1, 'Cứ': 1, 'Dạy': 5, 'Ngoài': 3, 'Hiên': 2, 'Cho': 5, 'Sầu': 1, 'Mây': 2, 'Tuần': 2, 'Mành': 1, 'Vì': 4, 'Bâng': 2, 'Nghề': 2, 'Thâm': 1, 'Lơ': 1, 'Tần': 2, 'Là': 1, 'Lấy': 3, 'Mừng': 2, 'Song': 3, 'Tấc': 2, 'Nhẫn': 1, 'Cách': 3, 'Buông': 1, 'Lần': 6, 'Giơ': 1, 'Ngẫm': 4, 'Liền': 2, 'Tan': 2, 'Sinh': 23, 'Thoa': 1, 'Tiếng': 4, 'Chiếc': 2, 'Rày': 2, 'Bấy': 8, 'Vội': 11, 'Thang': 1, 'Sượng': 2, 'Xương': 1, 'Vuông': 1, 'Tiện': 1, 'Ngần': 1, 'Dù': 7, 'Nặng': 2, 'Chút': 4, 'Khuôn': 1, 'Lượng': 2, 'Lặng': 3, 'Được': 6, 'Sẵn': 5, 'Từ': 14, 'Sông': 2, 'Tưng': 1, 'Nhà': 4, 'Thời': 1, '“Trách': 1, 'Những': 17, 'Vắng': 2, 'Xắn': 1, 'Mặt': 6, 'Sánh': 1, 'Trên': 5, 'Tay': 1, 'Khen:': 1, 'Nghĩ': 19, 'Nhớ': 7, 'Anh': 3, 'đủ': 1, 'đến': 1, 'Cửa': 10, 'Nhặt': 1, 'Bây': 11, 'Tiên': 2, 'Vầng': 2, 'Tóc': 3, 'Chén': 2, 'Chày': 1, 'đừng': 1, 'So': 1, 'Kê': 1, 'Qua': 2, 'Trong': 13, 'Ngọn': 4, 'Khi': 16, 'Lựa': 2, 'Lời': 6, 'Sóng': 1, 'Vẻ': 3, 'Ra': 3, 'Phải': 8, 'Mái': 2, 'Gieo': 2, 'Thấy': 11, 'đem': 1, 'Liêu': 1, 'Mảng': 2, 'Gót': 2, 'Sự': 5, 'Trăng': 2, 'Gìn': 1, 'Tai': 1, 'ông': 3, 'Cùng': 13, 'Quản': 3, 'Còn': 11, 'Ngại': 2, 'Buộc': 1, 'Buồn': 6, 'Não': 1, 'Già': 1, 'Đầy': 3, 'Đồ': 1, 'Điều': 5, 'Hỏi': 5, 'Hạ': 2, 'Rường': 1, 'Sao': 6, 'Duyên': 5, 'Để': 1, 'Quyết': 3, 'Họ': 3, 'Tính': 4, 'Hãy': 2, 'Thương': 11, 'Hạt': 1, 'Quá': 3, 'Trước': 9, 'Ghế': 1, 'Mối': 3, 'Đắn': 1, 'Mặn': 1, 'Cò': 1, 'Định': 1, 'Nuôi': 1, 'Trời': 6, 'Búa': 1, 'Theo': 1, 'Dâng': 1, 'Cỗi': 1, 'Thà': 1, 'Phận': 8, 'Cũng': 8, 'Việc': 3, 'Công': 4, 'Thề': 2, 'Biết': 6, 'Tái': 1, 'Nợ': 1, 'Thúy': 3, 'Cơ': 2, 'Hở': 1, 'Cậy': 1, 'Giữa': 3, 'Kể': 2, 'Chị': 2, 'Mất': 1, 'Hồn': 1, 'Dạ': 1, 'ôi': 1, 'Cạn': 3, 'Xuân': 2, 'Kẻ': 1, 'Hỏi:': 1, 'Lậy': 1, 'Sá': 2, 'Xiết': 1, 'Kiệu': 4, 'Rước': 1, 'Ngập': 1, 'Phẩm': 1, 'Trùng': 2, 'Phòng': 2, 'Đêm': 7, 'Chẳng': 3, 'Lầu': 4, 'Tình': 10, 'Dạo': 1, 'Rủi': 1, 'Xót': 10, 'Mẹo': 1, 'Về': 1, 'Hẳn': 1, 'Miếng': 1, 'đào': 1, 'Mập': 1, 'Mụ': 9, 'Vả': 3, 'Tiếc': 6, 'Giọt': 4, 'Tuồng': 3, 'Thôi': 7, 'Giận': 2, 'Đoạn': 2, 'Bề': 2, 'Nhìn': 1, 'Hổ': 1, 'Lỡ': 4, 'Khác': 1, 'Vài': 1, 'Nghìn': 3, 'Đùng': 1, 'Vi': 1, 'Dặm': 3, 'Rừng': 1, 'Xe': 1, 'Bên': 3, 'Hương': 2, 'Cởi': 1, 'Đổi': 1, 'Muôn': 1, 'Tin': 5, 'Lễ': 2, 'Đủ': 1, 'Giờ': 1, 'Bảo': 2, 'Màu': 1, 'Con': 2, 'Lão': 1, 'Sợ': 4, 'Vực': 4, 'Rỉ': 2, 'Số': 1, 'Thuốc': 2, 'Tú': 4, 'Làm': 7, 'Kề': 1, 'được': 1, 'Bốn': 4, 'Bẽ': 1, 'Tưởng': 2, 'Sân': 3, 'Ngậm': 1, 'Than': 1, 'Giá': 1, 'Tức': 1, 'Đánh': 3, 'Mảnh': 2, 'Mở': 1, 'Chim': 1, 'Tường': 1, 'Dám': 1, 'Thừa': 4, 'Nghe': 14, 'Lối': 1, 'Hóa': 1, 'Hung': 1, 'Thịt': 1, 'Hết': 3, 'Nhưng': 1, 'Thân': 5, 'Bày': 2, 'Bạc': 2, 'Đà': 1, 'Rồi': 3, 'Sở': 2, 'Phao': 1, 'Đem': 2, 'Phụ': 1, 'Tẻ': 2, 'Vừa': 1, 'Chơi': 1, 'Khéo': 4, 'Đôi': 2, 'Cảnh': 1, 'Đòi': 2, 'Vui': 1, 'Thờ': 1, 'Ôm': 1, 'Khách': 1, 'Vốn': 2, 'Trướng': 3, 'Nguyệt': 1, 'Sớm': 5, 'Dịp': 1, 'Miệt': 1, 'Thúc': 5, 'Rõ': 4, 'Hay': 1, 'Thiếp': 5, 'Chúa': 1, 'Bình': 3, 'Như': 2, 'Thế': 3, 'Cúi': 2, 'Đường': 2, 'Nỉ': 1, 'Mượn': 2, 'Chiến': 1, 'Bắn': 1, 'Nửa': 2, 'Giậu': 1, 'Trót': 3, 'Đất': 1, 'Gã': 1, 'Suy': 1, 'Phép': 1, 'Đục': 1, 'Phủ': 1, 'Sụt': 2, 'Tại': 1, 'Cười': 3, 'Khen': 6, 'Thật': 2, 'Dâu': 1, 'Kíp': 3, 'Huệ': 1, 'Trộm': 2, 'E': 2, 'Mà': 1, 'Xin': 2, 'Rạng': 1, 'Tiễn': 1, 'Cầm': 2, 'Hơn': 1, 'Lửa': 1, 'Dại': 1, 'Lo': 1, 'Tiểu': 11, 'Chồng': 1, 'Tẩy': 1, 'Thú': 1, 'Chạnh': 2, 'Long': 1, 'Roi': 1, 'Vậy': 2, 'Lâm': 3, 'Dọn': 1, 'Phu': 1, 'Sửa': 1, 'Dặn': 1, 'Sắn': 1, 'Nén': 1, 'Tôi': 1, 'Tớ': 1, 'Hớt': 1, 'Chạy': 1, 'Di': 1, 'Sang': 1, 'Hỡi': 1, 'Chắc': 1, 'Đạo': 2, 'Trở': 1, 'Mệnh': 1, 'Hai': 7, 'Khuyển': 1, 'Buồm': 1, 'Dỡ': 1, 'Hoàng': 1, 'Bàng': 1, 'A': 2, 'Ngước': 1, 'Ban': 1, 'Gạn': 2, 'Bất': 1, 'Trúc': 1, 'Kẻo': 1, 'Mẹ': 1, 'Lãnh': 1, 'Lĩnh': 1, 'Mày': 1, 'Sen': 1, 'Tìm': 1, 'Chước': 2, 'Càng': 1, 'Nhân': 3, 'Vợ': 2, 'Bắt': 3, 'Ngảnh': 1, 'Nhẹ': 1, 'Diện': 1, 'Bể': 1, 'Tàng': 2, 'Đưa': 2, 'áo': 2, 'Phật': 2, 'Nâu': 1, 'Gác': 1, 'Thấp': 1, 'Tông': 1, 'Thẹn': 1, 'Liệu': 2, 'Nữa': 2, 'Bâu': 1, 'Dẫu': 2, 'Nhận': 1, 'Dối': 1, 'Thiền': 1, 'Rành': 1, 'Bao': 3, 'Ngăn': 1, 'ấy': 2, 'Thực': 1, 'Chỉn': 1, 'Cất': 1, 'Mịt': 1, 'Canh': 2, 'Chùa': 1, 'Xăm': 1, 'Bản': 1, 'Chỉ': 1, 'Gửi': 1, 'Kệ': 1, 'Giở': 1, 'Giác': 9, 'Lánh': 1, 'Nhắn': 1, 'Hư': 1, 'Nơi': 1, 'Chứng': 1, 'Thành': 1, 'Chém': 1, 'Hồng': 1, 'Râu': 1, 'Đội': 1, 'Giang': 1, 'Rộng': 2, 'Ngỏ': 1, 'Trai': 1, 'Bằng': 2, 'Đành': 2, 'Đoái': 1, 'Chốc': 1, 'Cánh': 1, 'Ngất': 1, 'Giáp': 1, 'Dựng': 1, 'Hoả': 1, 'Kéo': 2, 'Rỡ': 1, 'Đến': 2, 'Tiệc': 1, 'Vinh': 1, 'Tấm': 1, 'Nghiêm': 1, 'Ba': 3, 'Thệ': 1, 'Quân': 1, 'Báo': 1, 'Sâm': 1, 'Gấm': 1, 'Kiến': 1, 'Dắt': 2, 'Thoạt': 1, 'Đàn': 2, 'Hoạn': 1, 'Tha': 1, 'Tạ': 2, 'Lệnh': 2, 'Máu': 1, 'Sư': 5, 'Mới': 1, 'Họa': 1, 'Chạm': 1, 'Huống': 1, 'Triều': 2, 'Nghênh': 1, 'Đẩy': 1, 'Đóng': 1, 'Bó': 1, 'Chọc': 1, 'Chỉnh': 1, 'Hồ': 3, 'Đương': 1, 'Tử': 1, 'Khí': 1, 'Trơ': 1, 'Dòng': 1, 'Ngỡ': 1, 'Năm': 2, 'Xét': 2, 'Ve': 1, 'Ông': 2, 'Chân': 1, 'Đạm': 1, 'Giết': 1, 'Thổ': 1, 'Mười': 1, 'Đời': 1, 'Gặp': 4, 'Ma': 1, 'Oan': 1, 'Hại': 1, 'Thửa': 1, 'Thuê': 1, 'Ngư': 1, 'Mơ': 1, 'Tâm': 1, 'Giật': 1, 'Nạn': 1, 'Xập': 1, 'Cuối': 1, 'Láng': 1, 'Đều': 1, 'Vật': 1, 'Dỗ': 1, 'Chưa': 2, 'Thần': 1, 'Đinh': 1, 'Ruột': 1, 'Thẩn': 1, 'Tuy': 1, 'Bẻ': 2, 'Dường': 1, 'Bởi': 1, 'Chế': 1, 'Kim': 2, 'Tỉnh': 1, 'Thăng': 1, 'Kiên': 1, 'Rứt': 1, 'Bỗng': 1, 'Đại': 2, 'Vẫy': 1, 'Rắp': 1, 'Dấn': 1, 'Xảy': 1, 'Hàng': 1, 'Chiêu': 1, 'Với': 1, 'Minh': 1, 'Quanh': 1, 'Huyên': 1, 'Quây': 1, 'Mùi': 1, 'Dở': 1, 'Độ': 1, 'Quả': 1, 'Dứt': 1, 'Nói': 2, 'Chữ': 2, 'Xưa': 1, 'Động': 1, 'Riêng': 1, 'Chừng': 1, 'Ai': 1, 'Chở': 1, 'Thêm': 1, 'ăn': 1, 'Phím': 1, 'Lọt': 1, 'Chuyện': 1, 'Thiện': 1}\n"
          ],
          "name": "stdout"
        }
      ]
    },
    {
      "metadata": {
        "id": "lI-LZYx8mjMn",
        "colab_type": "code",
        "outputId": "5270c2bd-c4ce-44e6-a257-826f036333c3",
        "colab": {
          "base_uri": "https://localhost:8080/",
          "height": 85
        }
      },
      "cell_type": "code",
      "source": [
        "# list all words that appear after word1 = \"Trăm\" and word2 = \"năm\" in the original text\n",
        "\n",
        "print(text_model.chain.model[(\"Trăm\", \"năm\")])\n",
        "print(text_model.chain.model[(\"___BEGIN__\", \"Trăm\")])\n",
        "print(text_model.chain.model[\"Thúy\", \"Kiều\"])\n",
        "print(text_model.chain.model[\"Thúy\", \"Vân\"])\n",
        "#There are not many ways to continue the sentence given \"Thúy Vân\""
      ],
      "execution_count": 0,
      "outputs": [
        {
          "output_type": "stream",
          "text": [
            "{'trong': 1, 'biết': 1, 'tạc': 1, 'thề': 1, 'để': 1, 'tính': 1, 'danh': 1}\n",
            "{'năm': 2, 'nghìn': 1, 'điều': 1}\n",
            "{'là': 1, 'sắc': 1, 'Mắc': 1, 'tài': 1}\n",
            "{'___END__': 2, 'chợt': 1, 'thay': 1}\n"
          ],
          "name": "stdout"
        }
      ]
    },
    {
      "metadata": {
        "id": "mtr35tDqkxHT",
        "colab_type": "text"
      },
      "cell_type": "markdown",
      "source": [
        "We now analyze [`precompute_begin_state()`](https://github.com/jsvine/markovify/blob/master/markovify/chain.py#L45)\n",
        "\n",
        "\n",
        "\n",
        "```\n",
        "        begin_state = tuple([ BEGIN ] * self.state_size)\n",
        "        choices, weights = zip(*self.model[begin_state].items())\n",
        "        cumdist = list(accumulate(weights))\n",
        "        self.begin_cumdist = cumdist\n",
        "        self.begin_choices = choices\n",
        "```\n",
        "\n",
        "- `self.begin_choices` is the list of words appearing at the beginning of sentences in `input_text`. There is also weight for each of these \"beginning\" words (in `cumdist`)."
      ]
    },
    {
      "metadata": {
        "id": "ugjHo_gmmqxQ",
        "colab_type": "code",
        "outputId": "9a6abe5c-6bd0-479c-c2ca-0fefcf2037b6",
        "colab": {
          "base_uri": "https://localhost:8080/",
          "height": 88
        }
      },
      "cell_type": "code",
      "source": [
        "print(type(text_model.chain.begin_choices))\n",
        "print(text_model.chain.begin_choices)\n",
        "print(text_model.chain.begin_cumdist)"
      ],
      "execution_count": 0,
      "outputs": [
        {
          "output_type": "stream",
          "text": [
            "<class 'tuple'>\n",
            "('Trăm', 'Trải', 'Lạ', 'Cảo', 'Rằng', 'Có', 'Một', 'Đầu', 'Mai', 'Vân', 'Hoa', 'Kiều', 'Làn', 'Một,', 'Thông', 'Cung', 'Khúc', 'Phong', 'Êm', 'Ngày', 'Cỏ', 'Thanh', 'Gần', 'Dập', 'Ngổn', 'Tà', 'Bước', 'Nao', 'Sè', 'Rằng:', 'Vương', 'Nổi', 'Kiếp', 'Thuyền', 'Buồng', 'Khóc', 'Đã', 'Sắm', 'Lòng', 'Đau', 'Phũ', 'Sống', 'Nào', 'đã', 'Gọi', 'Lầm', 'Rút', 'Lại', 'Nỗi', 'Quan', 'ở', 'Dễ', 'Thoắt', 'Dấu', 'Nàng', 'Chớ', 'Dùng', 'Trông', 'đề', 'Tuyết', 'Nẻo', 'Hài', 'Chàng', 'Nguyên', 'Nền', 'Chung', 'Vẫn', 'Nước', 'May', 'Bóng', 'Người', 'Chập', 'Dưới', 'Gương', 'Hải', 'Chênh', 'Sương', 'Chào', 'Thưa', 'Hàn', 'Mấy', 'Vâng', 'Âu', 'Này', 'Xem', 'Ví', 'Thềm', 'Gió', 'Giọng', 'Cớ', 'Buổi', 'đoạn', 'Cứ', 'Dạy', 'Ngoài', 'Hiên', 'Cho', 'Sầu', 'Mây', 'Tuần', 'Mành', 'Vì', 'Bâng', 'Nghề', 'Thâm', 'Lơ', 'Tần', 'Là', 'Lấy', 'Mừng', 'Song', 'Tấc', 'Nhẫn', 'Cách', 'Buông', 'Lần', 'Giơ', 'Ngẫm', 'Liền', 'Tan', 'Sinh', 'Thoa', 'Tiếng', 'Chiếc', 'Rày', 'Bấy', 'Vội', 'Thang', 'Sượng', 'Xương', 'Vuông', 'Tiện', 'Ngần', 'Dù', 'Nặng', 'Chút', 'Khuôn', 'Lượng', 'Lặng', 'Được', 'Sẵn', 'Từ', 'Sông', 'Tưng', 'Nhà', 'Thời', '“Trách', 'Những', 'Vắng', 'Xắn', 'Mặt', 'Sánh', 'Trên', 'Tay', 'Khen:', 'Nghĩ', 'Nhớ', 'Anh', 'đủ', 'đến', 'Cửa', 'Nhặt', 'Bây', 'Tiên', 'Vầng', 'Tóc', 'Chén', 'Chày', 'đừng', 'So', 'Kê', 'Qua', 'Trong', 'Ngọn', 'Khi', 'Lựa', 'Lời', 'Sóng', 'Vẻ', 'Ra', 'Phải', 'Mái', 'Gieo', 'Thấy', 'đem', 'Liêu', 'Mảng', 'Gót', 'Sự', 'Trăng', 'Gìn', 'Tai', 'ông', 'Cùng', 'Quản', 'Còn', 'Ngại', 'Buộc', 'Buồn', 'Não', 'Già', 'Đầy', 'Đồ', 'Điều', 'Hỏi', 'Hạ', 'Rường', 'Sao', 'Duyên', 'Để', 'Quyết', 'Họ', 'Tính', 'Hãy', 'Thương', 'Hạt', 'Quá', 'Trước', 'Ghế', 'Mối', 'Đắn', 'Mặn', 'Cò', 'Định', 'Nuôi', 'Trời', 'Búa', 'Theo', 'Dâng', 'Cỗi', 'Thà', 'Phận', 'Cũng', 'Việc', 'Công', 'Thề', 'Biết', 'Tái', 'Nợ', 'Thúy', 'Cơ', 'Hở', 'Cậy', 'Giữa', 'Kể', 'Chị', 'Mất', 'Hồn', 'Dạ', 'ôi', 'Cạn', 'Xuân', 'Kẻ', 'Hỏi:', 'Lậy', 'Sá', 'Xiết', 'Kiệu', 'Rước', 'Ngập', 'Phẩm', 'Trùng', 'Phòng', 'Đêm', 'Chẳng', 'Lầu', 'Tình', 'Dạo', 'Rủi', 'Xót', 'Mẹo', 'Về', 'Hẳn', 'Miếng', 'đào', 'Mập', 'Mụ', 'Vả', 'Tiếc', 'Giọt', 'Tuồng', 'Thôi', 'Giận', 'Đoạn', 'Bề', 'Nhìn', 'Hổ', 'Lỡ', 'Khác', 'Vài', 'Nghìn', 'Đùng', 'Vi', 'Dặm', 'Rừng', 'Xe', 'Bên', 'Hương', 'Cởi', 'Đổi', 'Muôn', 'Tin', 'Lễ', 'Đủ', 'Giờ', 'Bảo', 'Màu', 'Con', 'Lão', 'Sợ', 'Vực', 'Rỉ', 'Số', 'Thuốc', 'Tú', 'Làm', 'Kề', 'được', 'Bốn', 'Bẽ', 'Tưởng', 'Sân', 'Ngậm', 'Than', 'Giá', 'Tức', 'Đánh', 'Mảnh', 'Mở', 'Chim', 'Tường', 'Dám', 'Thừa', 'Nghe', 'Lối', 'Hóa', 'Hung', 'Thịt', 'Hết', 'Nhưng', 'Thân', 'Bày', 'Bạc', 'Đà', 'Rồi', 'Sở', 'Phao', 'Đem', 'Phụ', 'Tẻ', 'Vừa', 'Chơi', 'Khéo', 'Đôi', 'Cảnh', 'Đòi', 'Vui', 'Thờ', 'Ôm', 'Khách', 'Vốn', 'Trướng', 'Nguyệt', 'Sớm', 'Dịp', 'Miệt', 'Thúc', 'Rõ', 'Hay', 'Thiếp', 'Chúa', 'Bình', 'Như', 'Thế', 'Cúi', 'Đường', 'Nỉ', 'Mượn', 'Chiến', 'Bắn', 'Nửa', 'Giậu', 'Trót', 'Đất', 'Gã', 'Suy', 'Phép', 'Đục', 'Phủ', 'Sụt', 'Tại', 'Cười', 'Khen', 'Thật', 'Dâu', 'Kíp', 'Huệ', 'Trộm', 'E', 'Mà', 'Xin', 'Rạng', 'Tiễn', 'Cầm', 'Hơn', 'Lửa', 'Dại', 'Lo', 'Tiểu', 'Chồng', 'Tẩy', 'Thú', 'Chạnh', 'Long', 'Roi', 'Vậy', 'Lâm', 'Dọn', 'Phu', 'Sửa', 'Dặn', 'Sắn', 'Nén', 'Tôi', 'Tớ', 'Hớt', 'Chạy', 'Di', 'Sang', 'Hỡi', 'Chắc', 'Đạo', 'Trở', 'Mệnh', 'Hai', 'Khuyển', 'Buồm', 'Dỡ', 'Hoàng', 'Bàng', 'A', 'Ngước', 'Ban', 'Gạn', 'Bất', 'Trúc', 'Kẻo', 'Mẹ', 'Lãnh', 'Lĩnh', 'Mày', 'Sen', 'Tìm', 'Chước', 'Càng', 'Nhân', 'Vợ', 'Bắt', 'Ngảnh', 'Nhẹ', 'Diện', 'Bể', 'Tàng', 'Đưa', 'áo', 'Phật', 'Nâu', 'Gác', 'Thấp', 'Tông', 'Thẹn', 'Liệu', 'Nữa', 'Bâu', 'Dẫu', 'Nhận', 'Dối', 'Thiền', 'Rành', 'Bao', 'Ngăn', 'ấy', 'Thực', 'Chỉn', 'Cất', 'Mịt', 'Canh', 'Chùa', 'Xăm', 'Bản', 'Chỉ', 'Gửi', 'Kệ', 'Giở', 'Giác', 'Lánh', 'Nhắn', 'Hư', 'Nơi', 'Chứng', 'Thành', 'Chém', 'Hồng', 'Râu', 'Đội', 'Giang', 'Rộng', 'Ngỏ', 'Trai', 'Bằng', 'Đành', 'Đoái', 'Chốc', 'Cánh', 'Ngất', 'Giáp', 'Dựng', 'Hoả', 'Kéo', 'Rỡ', 'Đến', 'Tiệc', 'Vinh', 'Tấm', 'Nghiêm', 'Ba', 'Thệ', 'Quân', 'Báo', 'Sâm', 'Gấm', 'Kiến', 'Dắt', 'Thoạt', 'Đàn', 'Hoạn', 'Tha', 'Tạ', 'Lệnh', 'Máu', 'Sư', 'Mới', 'Họa', 'Chạm', 'Huống', 'Triều', 'Nghênh', 'Đẩy', 'Đóng', 'Bó', 'Chọc', 'Chỉnh', 'Hồ', 'Đương', 'Tử', 'Khí', 'Trơ', 'Dòng', 'Ngỡ', 'Năm', 'Xét', 'Ve', 'Ông', 'Chân', 'Đạm', 'Giết', 'Thổ', 'Mười', 'Đời', 'Gặp', 'Ma', 'Oan', 'Hại', 'Thửa', 'Thuê', 'Ngư', 'Mơ', 'Tâm', 'Giật', 'Nạn', 'Xập', 'Cuối', 'Láng', 'Đều', 'Vật', 'Dỗ', 'Chưa', 'Thần', 'Đinh', 'Ruột', 'Thẩn', 'Tuy', 'Bẻ', 'Dường', 'Bởi', 'Chế', 'Kim', 'Tỉnh', 'Thăng', 'Kiên', 'Rứt', 'Bỗng', 'Đại', 'Vẫy', 'Rắp', 'Dấn', 'Xảy', 'Hàng', 'Chiêu', 'Với', 'Minh', 'Quanh', 'Huyên', 'Quây', 'Mùi', 'Dở', 'Độ', 'Quả', 'Dứt', 'Nói', 'Chữ', 'Xưa', 'Động', 'Riêng', 'Chừng', 'Ai', 'Chở', 'Thêm', 'ăn', 'Phím', 'Lọt', 'Chuyện', 'Thiện')\n",
            "[4, 6, 11, 12, 13, 27, 65, 67, 71, 73, 81, 88, 89, 90, 91, 94, 99, 107, 108, 112, 113, 114, 117, 119, 121, 122, 125, 126, 127, 155, 157, 158, 163, 166, 171, 175, 193, 196, 203, 207, 208, 209, 213, 216, 218, 219, 220, 229, 242, 245, 251, 254, 260, 261, 318, 319, 322, 332, 333, 334, 335, 336, 345, 346, 347, 351, 352, 355, 356, 361, 376, 377, 383, 385, 387, 388, 389, 390, 398, 400, 408, 411, 412, 418, 422, 427, 428, 432, 433, 436, 437, 438, 439, 444, 447, 449, 454, 455, 457, 459, 460, 464, 466, 468, 469, 470, 472, 473, 476, 478, 481, 483, 484, 487, 488, 494, 495, 499, 501, 503, 526, 527, 531, 533, 535, 543, 554, 555, 557, 558, 559, 560, 561, 568, 570, 574, 575, 577, 580, 586, 591, 605, 607, 608, 612, 613, 614, 631, 633, 634, 640, 641, 646, 647, 648, 667, 674, 677, 678, 679, 689, 690, 701, 703, 705, 708, 710, 711, 712, 713, 714, 716, 729, 733, 749, 751, 757, 758, 761, 764, 772, 774, 776, 787, 788, 789, 791, 793, 798, 800, 801, 802, 805, 818, 821, 832, 834, 835, 841, 842, 843, 846, 847, 852, 857, 859, 860, 866, 871, 872, 875, 878, 882, 884, 895, 896, 899, 908, 909, 912, 913, 914, 915, 916, 917, 923, 924, 925, 926, 927, 928, 936, 944, 947, 951, 953, 959, 960, 961, 964, 966, 967, 968, 971, 973, 975, 976, 977, 978, 979, 982, 984, 985, 986, 987, 989, 990, 994, 995, 996, 997, 999, 1001, 1008, 1011, 1015, 1025, 1026, 1027, 1037, 1038, 1039, 1040, 1041, 1042, 1043, 1052, 1055, 1061, 1065, 1068, 1075, 1077, 1079, 1081, 1082, 1083, 1087, 1088, 1089, 1092, 1093, 1094, 1097, 1098, 1099, 1102, 1104, 1105, 1106, 1107, 1112, 1114, 1115, 1116, 1118, 1119, 1121, 1122, 1126, 1130, 1132, 1133, 1135, 1139, 1146, 1147, 1148, 1152, 1153, 1155, 1158, 1159, 1160, 1161, 1162, 1165, 1167, 1168, 1169, 1170, 1171, 1175, 1189, 1190, 1191, 1192, 1193, 1196, 1197, 1202, 1204, 1206, 1207, 1210, 1212, 1213, 1215, 1216, 1218, 1219, 1220, 1224, 1226, 1227, 1229, 1230, 1231, 1232, 1233, 1235, 1238, 1239, 1244, 1245, 1246, 1251, 1255, 1256, 1261, 1262, 1265, 1267, 1270, 1272, 1274, 1275, 1277, 1278, 1279, 1281, 1282, 1285, 1286, 1287, 1288, 1289, 1290, 1291, 1293, 1294, 1297, 1303, 1305, 1306, 1309, 1310, 1312, 1314, 1315, 1317, 1318, 1319, 1321, 1322, 1323, 1324, 1325, 1336, 1337, 1338, 1339, 1341, 1342, 1343, 1345, 1348, 1349, 1350, 1351, 1352, 1353, 1354, 1355, 1356, 1357, 1358, 1359, 1360, 1361, 1362, 1364, 1365, 1366, 1373, 1374, 1375, 1376, 1377, 1378, 1380, 1381, 1382, 1384, 1385, 1386, 1387, 1388, 1389, 1390, 1391, 1392, 1393, 1395, 1396, 1399, 1401, 1404, 1405, 1406, 1407, 1408, 1410, 1412, 1414, 1416, 1417, 1418, 1419, 1420, 1421, 1423, 1425, 1426, 1428, 1429, 1430, 1431, 1432, 1435, 1436, 1438, 1439, 1440, 1441, 1442, 1444, 1445, 1446, 1447, 1448, 1449, 1450, 1451, 1460, 1461, 1462, 1463, 1464, 1465, 1466, 1467, 1468, 1469, 1470, 1471, 1473, 1474, 1475, 1477, 1479, 1480, 1481, 1482, 1483, 1484, 1485, 1486, 1488, 1489, 1491, 1492, 1493, 1494, 1495, 1498, 1499, 1500, 1501, 1502, 1503, 1504, 1506, 1507, 1509, 1510, 1511, 1513, 1515, 1516, 1521, 1522, 1523, 1524, 1525, 1527, 1528, 1529, 1530, 1531, 1532, 1533, 1536, 1537, 1538, 1539, 1540, 1541, 1542, 1544, 1546, 1547, 1549, 1550, 1551, 1552, 1553, 1554, 1555, 1559, 1560, 1561, 1562, 1563, 1564, 1565, 1566, 1567, 1568, 1569, 1570, 1571, 1572, 1573, 1574, 1575, 1577, 1578, 1579, 1580, 1581, 1582, 1584, 1585, 1586, 1587, 1589, 1590, 1591, 1592, 1593, 1594, 1596, 1597, 1598, 1599, 1600, 1601, 1602, 1603, 1604, 1605, 1606, 1607, 1608, 1609, 1610, 1611, 1612, 1614, 1616, 1617, 1618, 1619, 1620, 1621, 1622, 1623, 1624, 1625, 1626, 1627, 1628]\n"
          ],
          "name": "stdout"
        }
      ]
    },
    {
      "metadata": {
        "id": "0i559i3MffGx",
        "colab_type": "code",
        "outputId": "7c5bd52c-1747-4bb2-b530-740c743bd59f",
        "colab": {
          "base_uri": "https://localhost:8080/",
          "height": 54
        }
      },
      "cell_type": "code",
      "source": [
        "#Generate a new sentence\n",
        "\n",
        "print(text_model.chain.walk())"
      ],
      "execution_count": 0,
      "outputs": [
        {
          "output_type": "stream",
          "text": [
            "['Già', 'giang', 'một', 'lão', 'một', 'trai', 'Một', 'dây', 'một', 'buộc', 'ai', 'làm', '?', 'Này', 'ai', 'đan', 'dậm,', 'giật', 'giàm', 'bỗng', 'dưng']\n"
          ],
          "name": "stdout"
        }
      ]
    },
    {
      "metadata": {
        "id": "TXS5M-6zso8b",
        "colab_type": "code",
        "outputId": "e9931f5e-32fb-4404-a923-b2e70097f366",
        "colab": {
          "base_uri": "https://localhost:8080/",
          "height": 51
        }
      },
      "cell_type": "code",
      "source": [
        "#Generate a new sentence that starting with word1 = \"Trăm\" and word2 = \"năm\"\n",
        "print(text_model.chain.walk(init_state = (\"Trăm\", \"năm\")))\n",
        "print(text_model.chain.walk(init_state = (\"Thúy\", \"Kiều\")))"
      ],
      "execution_count": 0,
      "outputs": [
        {
          "output_type": "stream",
          "text": [
            "['danh', 'tiết', 'cũng', 'vì', 'đêm', 'nay']\n",
            "['Mắc', 'điều', 'tình', 'ái', 'khỏi', 'điều', 'tà', 'dâm']\n"
          ],
          "name": "stdout"
        }
      ]
    },
    {
      "metadata": {
        "id": "BAQ9UNd6ThoC",
        "colab_type": "text"
      },
      "cell_type": "markdown",
      "source": [
        "# Conclusion:\n",
        "\n",
        "- Markovify is  a very basic model. This can be transformed to a great lesson if you are teaching Probility.\n",
        "  - In details, the code also handles \"cleaning\", for example removing ?,. , :, states names, etc.\n",
        "\n",
        "- It is a Markov chain with `state_size = 2` that means it will produce words $w_1w_2w_3w_4\\cdots$ in  a way that the conditional law of $(w_4w_5\\cdots| w_1w_2w_3)$ is the same as that of $(w_4|w_2w_3)$. \n",
        "\n",
        "- It chooses the word $w_4$ given $w_1w_2w_3$ by learning statiscally from the original text what would appears after $w_2w_3$.\n",
        "\n",
        "- Or in other words $(w_4w_5\\cdots|w_2w_3)$ is independent of $(w_1|w_2w_3)$.\n",
        "\n",
        "- The chain will stop when the new word is [\"END\"](https://github.com/jsvine/markovify/blob/master/markovify/chain.py#L108).\n",
        "  - Will it ever hit \"END\"?  interesting..;-)\n",
        "  - The the whole sentence will be [compared](https://github.com/jsvine/markovify/blob/master/markovify/text.py#L189) to the original text to see whether or not it overlaps (\"copies\") too much with the original text.\n",
        "  - If there is too much overlap, it re-generates the sentence again.\n",
        "  - After `tries = 10` times, a `None` sentence is given.\n",
        "\n",
        "- The Markov chain does not have \"new\" creativity in the sense that if the current state is \"Trăm năm\", the next word will 100% be in `['trong', 'cõi', 'người', 'ta', 'Khéo', 'thay', 'gặp', 'gỡ', 'cũng', 'trong', 'chuyển', 'vần']`.\n",
        "  - For every three consecutive words in its generated sentence, they  appear somewhere in the original text.\n",
        "\n",
        "- The model/Markov chain with `state_size=2` does not obey 6-8 rule of the poem. In a 2-sentence $w_{11}\\cdots w_{16}, w_{21}\\cdots w_{28}$, the words $w_{16}$ and $w_{26}$ have to be rhyme.\n",
        "\n",
        "- Therefore, this model is good on \"text\" styles rather than poem styles since the latter's structure is rigid/strict.\n"
      ]
    },
    {
      "metadata": {
        "id": "9c8y4ISHV0oR",
        "colab_type": "text"
      },
      "cell_type": "markdown",
      "source": [
        "## How can we improve the performance?\n",
        "- We can increase `state_size`, says up to ~~`12`~~ `6` such that the model learns 6-8 rule. But then, the model has very limited resource/dictionary (it is rigid) to produce new sentences. \n",
        "  - It is likely to produce a sentence in the original text. Because of the [`max_overlap`](https://github.com/jsvine/markovify/blob/master/markovify/text.py#L8) rules, it is likely to produce `None` sentence.\n",
        "    - For example, if `state_size = 3` and we are looking for a new word from `Trăm năm trong`, the next word has to be `cõi`. There is not much flexibility with `state_size=3`, unless the original text is huge or something else happens.\n",
        "  \n",
        "  - We could let the program choose a new word \"out of the history\" based on a different text.\n",
        "\n",
        "- Experiment with different way to compute Markov chain: for example, try word2vec, or RNN.\n",
        "- Add rule: each sentence, we check if it satisfies the \"rhyme\" rule or not. If it doesn't, re-generate a new sentence.\n",
        "  - One suggestion is to use [nltk.pos_tag](https://medium.com/@gianpaul.r/tokenization-and-parts-of-speech-pos-tagging-in-pythons-nltk-library-2d30f70af13b). This module will analyze words in each sentence and assign each word with its  role (noun, verb, pronoun,  adjective, etc)\n",
        "  - Or use [spacy](https://github.com/jsvine/markovify). \n",
        "  - We have to use [Vietnamese](https://spacy.io/usage/models#languages) [version](https://github.com/undertheseanlp/underthesea).\n",
        "  \n",
        "- We could take a large dataset of 6-8 rule poems, let the `general_68_rule` model analyze rhyme rule from the dataset. \n",
        "  - Then combine with the model from `Truyen_Kieu`. Set a small weight (i.e. transition probability) for `general_68_rule`, and big for `Truyen_Kieu`."
      ]
    },
    {
      "metadata": {
        "id": "sXjURYCy5_Ef",
        "colab_type": "text"
      },
      "cell_type": "markdown",
      "source": [
        "# Others\n",
        "\n",
        "\n",
        "\n",
        "---\n",
        "\n"
      ]
    },
    {
      "metadata": {
        "id": "7tEVhGvt6FHv",
        "colab_type": "code",
        "colab": {}
      },
      "cell_type": "code",
      "source": [
        "import numpy as np\n",
        "from matplotlib import pyplot as plt\n",
        "%matplotlib inline\n",
        "\n",
        "def plotWordFrequency(text):\n",
        "    words = text.split()\n",
        "    data = sorted([(w, words.count(w)) for w in set(words)], key = lambda x:x[1], reverse=True)[:40] \n",
        "    most_words = [x[0] for x in data]\n",
        "    times_used = [int(x[1]) for x in data]\n",
        "    plt.figure(figsize=(20,10))\n",
        "    plt.bar(x=sorted(most_words), height=times_used, color = 'grey', edgecolor = 'black',  width=.5)\n",
        "    plt.xticks(rotation=45, fontsize=18)\n",
        "    plt.yticks(rotation=0, fontsize=18)\n",
        "    plt.xlabel('Most Common Words:', fontsize=18)\n",
        "    plt.ylabel('Number of Occurences:', fontsize=18)\n",
        "    plt.title('Most Commonly Used Words ', fontsize=24)\n",
        "    plt.show()"
      ],
      "execution_count": 0,
      "outputs": []
    },
    {
      "metadata": {
        "id": "QMfbheaz6Iuh",
        "colab_type": "code",
        "outputId": "582fbee7-996e-45d3-ee47-df31ca7cce57",
        "colab": {
          "base_uri": "https://localhost:8080/",
          "height": 670
        }
      },
      "cell_type": "code",
      "source": [
        "\n",
        "with open(\"Truyen_Kieu_no_punctuation_newline.txt\") as f:\n",
        "    text = f.read()\n",
        "plotWordFrequency(text)"
      ],
      "execution_count": 0,
      "outputs": [
        {
          "output_type": "display_data",
          "data": {
            "image/png": "[encoded data removed]",
            "text/plain": [
              "<Figure size 1440x720 with 1 Axes>"
            ]
          },
          "metadata": {
            "tags": []
          }
        }
      ]
    },
    {
      "metadata": {
        "id": "C3qbKLGp7KhV",
        "colab_type": "code",
        "colab": {}
      },
      "cell_type": "code",
      "source": [
        ""
      ],
      "execution_count": 0,
      "outputs": []
    },
    {
      "metadata": {
        "id": "WX-kreNc-AhX",
        "colab_type": "text"
      },
      "cell_type": "markdown",
      "source": [
        "## LSTM char\n",
        "\n",
        "We use a LSTM network to generate new character.\n",
        "\n",
        "Some observations:\n",
        "- (after 50 epochs) Many times it generates 6-8-word rule sentences. It is really interesting!\n",
        "- small diversity/temperature (i.e. pick argmax) will give more coherent words\n",
        "- rhyme?\n",
        "- why?"
      ]
    },
    {
      "metadata": {
        "id": "piXmo8dT_Re4",
        "colab_type": "code",
        "outputId": "e55bcb32-5453-420d-b0c8-12b98f95f13b",
        "colab": {
          "base_uri": "https://localhost:8080/",
          "height": 11013
        }
      },
      "cell_type": "code",
      "source": [
        "#https://github.com/keras-team/keras/blob/master/examples/lstm_text_generation.py\n",
        "from __future__ import print_function\n",
        "import keras\n",
        "from keras.callbacks import LambdaCallback\n",
        "from keras.models import Sequential\n",
        "from keras.layers import Dense\n",
        "from keras.layers import LSTM\n",
        "from keras.optimizers import RMSprop\n",
        "from keras.utils.data_utils import get_file\n",
        "import numpy as np\n",
        "import random\n",
        "import sys\n",
        "import io\n",
        "\n",
        "text = text_no_newline\n",
        "#we want text is in the form\n",
        "# 'Today is Monday. Tomorrow is Tuesday. The day after tomorrow is Wednesday....'\n",
        "\n",
        "# not of the form \n",
        "# 'Today is Monday.\\n Tomorrow is Tuesday\\n.....'\n",
        "# That is, there is no '\\n'\n",
        "\n",
        "print('The number of character in the originial text:', len(text))\n",
        "\n",
        "chars = sorted(list(set(text))) \n",
        "print('The number of different characters in the original text:', len(chars)) \n",
        "char_indices = dict((c, i) for i, c in enumerate(chars))\n",
        "\n",
        "indices_char = dict((i, c) for i, c in enumerate(chars))\n",
        "\n",
        "# cut the text in semi-redundant sequences of maxlen characters\n",
        "maxlen = 40 # this is the number of consecutive characters put in the input (each tranining )\n",
        "step = 3\n",
        "sentences = []\n",
        "next_chars = []\n",
        "for i in range(0, len(text) - maxlen, step):\n",
        "    sentences.append(text[i: i + maxlen])\n",
        "    next_chars.append(text[i + maxlen])\n",
        "print('Number of sequences/trainings:', len(sentences)) \n",
        "\n",
        "\n",
        "print('One hot encoding...')\n",
        "x = np.zeros((len(sentences), maxlen, len(chars)), dtype=np.bool)\n",
        "y = np.zeros((len(sentences), len(chars)), dtype=np.bool)\n",
        "\n",
        "for i, sentence in enumerate(sentences):\n",
        "    for t, char in enumerate(sentence):\n",
        "        x[i, t, char_indices[char]] = 1\n",
        "    y[i, char_indices[next_chars[i]]] = 1\n",
        "\n",
        "\n",
        "# build the model: a single LSTM\n",
        "print('Build model...')\n",
        "model = Sequential()\n",
        "\n",
        "\n",
        "model.add(LSTM(128, input_shape=(maxlen, len(chars))))\n",
        "#so input_dim = len(chars), input_length = maxlen\n",
        "#the output of this layer is a vector of dim 128. This is the last vector\n",
        "#output of the LSTM. All other vectors, (maxlen-1) of them, are discarded.\n",
        "\n",
        "# 'last vector output' because return_sequences = False by default in LSTM\n",
        "# \n",
        "\n",
        "model.add(Dense(len(chars), activation='softmax'))\n",
        "# add another Dense layer with softmax activation\n",
        "# output is a vector of length len(chars)\n",
        "# sum of its element is one.\n",
        "\n",
        "optimizer = RMSprop(lr=0.01)\n",
        "#optimizer: a strategy to do gradient descend/ finding minimum of loss\n",
        "model.compile(loss='categorical_crossentropy', optimizer=optimizer)\n",
        "#we can write \n",
        "#model.compile(loss='categorical_crossentropy', optimizer = 'RMSprop')\n",
        "#but then it won't give the option to choose learning rate of RMSprop. \n",
        "#the default lr of RMSprop is lr=0.001\n",
        "\n",
        "#However we can write\n",
        "#model.compile(loss='categorical_crossentropy', optimizer = RMSprop(lr=0.01))\n",
        "#we use categorical_crossentropy since this is a categorical/classification problem\n",
        "# guessing the next character\n",
        "\n",
        "def sample(preds, temperature=1.0):\n",
        "    # helper function to sample an index from a probability array\n",
        "    preds = np.asarray(preds).astype('float64')\n",
        "    preds = np.log(preds) / temperature\n",
        "    exp_preds = np.exp(preds)\n",
        "    preds = exp_preds / np.sum(exp_preds)\n",
        "    #So preds = softmax(log(original preds)/temperature)\n",
        "    # that means\n",
        "    # preds = (original preds)^(1/temperature) / (sum)\n",
        "    # really funny\n",
        "    \n",
        "    \n",
        "    # if temperature is small, then it's very cold, everything is frozen\n",
        "    # hence if old_preds[i] is big, then preds[i] is very close to 1\n",
        "    # we can predict what will appear\n",
        "    # if temperature is extremely small, \n",
        "    # then the return is almost argmax(old_preds)\n",
        "    # which is what we dream of.\n",
        "    \n",
        "    # if temperature is big, then it's hot, everything is chaos\n",
        "    # we can not predict what will appear\n",
        "    # all preds[i]'s tend to be the same,\n",
        "    # that is, preds converges to discrete uniform measure\n",
        "    # hence the probability to choose each character is 1/total diff_character\n",
        "    \n",
        "    probas = np.random.multinomial(1, preds, 1)\n",
        "    # first argument 1-> n, last argument->k\n",
        "    #An experiment is throwing a dice n times (i.e once in this case). \n",
        "    #This dice has len(preds) values. \n",
        "    #each value has probability preds[value]\n",
        "    #Do the experement k times\n",
        "    #The output of each experiment is a vector of len(preds)\n",
        "    # the output of multinomial is a vector of m x len(preds)\n",
        "    # the sum of all element of this vector is n\n",
        "    \n",
        "    return np.argmax(probas)\n",
        "    #return index with highest values\n",
        "\n",
        "def on_epoch_end(epoch, _):\n",
        "    # Function invoked at end of each epoch. Prints generated text.\n",
        "    # it is a method/property of keras.callback\n",
        "    # An example. We can set up to do something after every 5 epochs,\n",
        "    # instead of every epoch\n",
        "    \n",
        "    \n",
        "    print()\n",
        "    print('----- Generating text after Epoch: %d' % epoch)\n",
        "\n",
        "    #start_index = random.randint(0, len(text) - maxlen - 1)\n",
        "    start_index=0 # choose a fixed seed sentence, or we can randomize start_index\n",
        "    for diversity in [0.01, 0.2, 1.0]:\n",
        "        print('----- diversity:', diversity)\n",
        "\n",
        "        generated = ''\n",
        "        #choose a sentence in sentences\n",
        "        # we can randomize start_index\n",
        "        # sentence = text[start_index: start_index + maxlen]\n",
        "        # or you can choose your own sentence with maxlen characters\n",
        "        sentence = 'Trăm năm trong cõi người ta chữ tình chữ'\n",
        "        #sentence = 'I do not understand that you are saying '\n",
        "        #sentence = 'Trăm tiền trong cõi nbl ti ta, tình kông'\n",
        "        \n",
        "        \n",
        "        generated += sentence\n",
        "        print('----- Generating with seed: \"' + sentence + '\"')\n",
        "        #print is just a wrapper of sys.stdout.write\n",
        "        sys.stdout.write(generated)\n",
        "        \n",
        "                \n",
        "        #produce 400  new characters\n",
        "        for i in range(400):\n",
        "            #one hot encoding of sentence\n",
        "            x_pred = np.zeros((1, maxlen, len(chars)))\n",
        "            \n",
        "            for t, char in enumerate(sentence):\n",
        "                x_pred[0, t, char_indices[char]] = 1.\n",
        "            \n",
        "            #then put x_pred into model.predict\n",
        "            preds = model.predict(x_pred, verbose=0)[0]\n",
        "            \n",
        "            # presumably sum(preds) = 1\n",
        "            next_index = sample(preds, diversity)\n",
        "            #a new index is chosen. Transform it to a corresonding character\n",
        "            \n",
        "            next_char = indices_char[next_index]\n",
        "\n",
        "            generated += next_char # this code is currently redundant\n",
        "            \n",
        "            \n",
        "            #update sentence to predict the next character\n",
        "            # we remove the first character and append the new character\n",
        "            sentence = sentence[1:] + next_char\n",
        "            \n",
        "            sys.stdout.write(next_char)\n",
        "            sys.stdout.flush()\n",
        "        print() #new line\n",
        "\n",
        "print_callback = LambdaCallback(on_epoch_end = on_epoch_end)\n",
        "# https://keras.io/callbacks/#lambdacallback\n",
        "checkpoint_path = \"training_1/kerascp.ckpt\"\n",
        "\n",
        "# Create checkpoint callback\n",
        "cp_callback = keras.callbacks.ModelCheckpoint(checkpoint_path, \n",
        "                                                 save_weights_only=True,\n",
        "                                                 verbose=1)\n",
        "\n",
        "\n",
        "\n",
        "model.fit(x, y,\n",
        "          batch_size=128,\n",
        "          epochs=60,\n",
        "          callbacks=[print_callback, cp_callback])"
      ],
      "execution_count": 3,
      "outputs": [
        {
          "output_type": "stream",
          "text": [
            "Using TensorFlow backend.\n"
          ],
          "name": "stderr"
        },
        {
          "output_type": "stream",
          "text": [
            "The number of character in the originial text: 102524\n",
            "The number of different characters in the original text: 125\n",
            "Number of sequences/trainings: 34162\n",
            "One hot encoding...\n",
            "Build model...\n",
            "WARNING:tensorflow:From /usr/local/lib/python3.6/dist-packages/tensorflow/python/framework/op_def_library.py:263: colocate_with (from tensorflow.python.framework.ops) is deprecated and will be removed in a future version.\n",
            "Instructions for updating:\n",
            "Colocations handled automatically by placer.\n",
            "WARNING:tensorflow:From /usr/local/lib/python3.6/dist-packages/tensorflow/python/ops/math_ops.py:3066: to_int32 (from tensorflow.python.ops.math_ops) is deprecated and will be removed in a future version.\n",
            "Instructions for updating:\n",
            "Use tf.cast instead.\n",
            "Epoch 1/60\n",
            "34162/34162 [==============================] - 25s 726us/step - loss: 2.4206\n",
            "\n",
            "----- Generating text after Epoch: 0\n",
            "----- diversity: 0.01\n",
            "----- Generating with seed: \"Trăm năm trong cõi người ta chữ tình chữ\"\n",
            "Trăm năm trong cõi người ta chữ tình chững chi trang chi tra thiền trước thì thì thì thì thì thì thì thì thì thì thì thì thì thì thì thì thì thì thì thì thì thì thì thì thì thì thì thì thì thì thì thì thì thì thì thì thì thì thì thì thì thì thì thì thì thì thì thì thì thì thì thì thì thì thì thì thì thì thì thì thì thì thì thì thì thì thì thì thì thì thì thì thì thì thì thì thì thì thì thì thì thì thì thì thì thì thì thì thì thì thì thì\n",
            "----- diversity: 0.2\n",
            "----- Generating with seed: \"Trăm năm trong cõi người ta chữ tình chữ\"\n",
            "Trăm năm trong cõi người ta chữ tình chững thây chi trong chiền trăng chiền trang chi trên thây thây thì trước chi trong chi thây chiền trước chiền trang trước chiều tring trăng chi chi trước thướng chi thì thiền thiền thân trước trước trước trong chi trước chi trước chi chi trang thì thì khiền thây chi trước trăng thì thiều tring chi trong chi tring trước nhi chi thây thì chi trong chi trang chi tra chi tra chiền thông trước trước chiề\n",
            "----- diversity: 1.0\n",
            "----- Generating with seed: \"Trăm năm trong cõi người ta chữ tình chữ\"\n",
            "Trăm năm trong cõi người ta chữ tình chững nhữa  bơ Chỏng nào dơi rượt viều. Vio đờiữ một diều lành kho nghei tiếng hai xăm đới nút thâm trong thì tr. Thên v bơ kư bo sâ ớ sửa tọn nhàng Nàm diền say ta tiếp tiêm tòn dây. ắhiei lây với. Cn t: bầy. Chương hì đường cút ren sất iần ciền thiúthộng người cừng cho lình x lột gưa xanh Quân còn khấy thá Chút chư chột tiêm băng là tiêi giề lầi ki nhười chận bưa Khất dư thếp ci rằng: Đàn ta Tiềng \n",
            "\n",
            "Epoch 00001: saving model to training_1/kerascp.ckpt\n",
            "Epoch 2/60\n",
            "34162/34162 [==============================] - 24s 692us/step - loss: 1.9337\n",
            "\n",
            "----- Generating text after Epoch: 1\n",
            "----- diversity: 0.01\n",
            "----- Generating with seed: \"Trăm năm trong cõi người ta chữ tình chữ\"\n",
            "Trăm năm trong cõi người ta chữ tình chữ thương chi thương chi thương chi thương chi thương chi thương chi thương chi thương chi thương nhi nhi nhi nhi nhi nhi nhi nhi nhi nhi nhi nhi nhi nhi nhi nhi nhi nhi nhi nhi nhi nhi nhi nhi nhi nhi nhi nhi nhi nhi nhi nhi nhi nhi nhi nhi nhi nhi nhi nhi nhi nhi nhi nhi nhi nhi nhi nhi nhi nhi nhi nhi nhi nhi nhi nhi nhi nhi nhi nhi nhi nhi nhi nhi nhi nhi nhi nhi nhi nhi nhi nhi nhi nhi nhi nhi \n",
            "----- diversity: 0.2\n",
            "----- Generating with seed: \"Trăm năm trong cõi người ta chữ tình chữ\"\n",
            "Trăm năm trong cõi người ta chữ tình chữ thương đi chi nghi thương gien thương chi thương đi thương lại cho thương lạ đi đi làn thương nhi thương điều nhi thất nha thương cho thương nhi nhi nhi nhi chi chi thường cho thương cho thương đường nhi như chi thương đường cho thường chi thương nhi nha chu thương chi lại chi thương chi chi như chi thương nhi nghi đi ra đường chưa đinh thương đi cho thương nhi nha thương lại chi thương chi thươn\n",
            "----- diversity: 1.0\n",
            "----- Generating with seed: \"Trăm năm trong cõi người ta chữ tình chữ\"\n",
            "Trăm năm trong cõi người ta chữ tình chững ngọn đành Thường vào lại bình Vân. Nghi mừng ghi. vàt voa hong lạn nhen Hường Tiếng huạn lòng thếê giàng dày giờ giủa thế Một xiến nhàa công chy trụ giờ chước chi mải ai nhiều nhân Tohi có hồ gưông nhớ Hổi hoư bên ại rổ xăng tương hây khôn dây nặn xuỳ sinh hoa ay  Nhân sa châp buyển bón rước sầu biết  tình chôi Tr khan ay hữa gọH choa. Nnà chẳng gep e bgóng đó khư. Sa nàng chu: Thông thiều. Ltr\n",
            "\n",
            "Epoch 00002: saving model to training_1/kerascp.ckpt\n",
            "Epoch 3/60\n",
            "34162/34162 [==============================] - 24s 692us/step - loss: 1.8138\n",
            "\n",
            "----- Generating text after Epoch: 2\n",
            "----- diversity: 0.01\n",
            "----- Generating with seed: \"Trăm năm trong cõi người ta chữ tình chữ\"\n",
            "Trăm năm trong cõi người ta chữ tình chữ thương thương thương thương thương thương thương thương thương thương thương thương thương thương thương thương thương thương thương thương thương thương thương thương thương thương thương thương thương thương thương thương thương thương thương thương thương thương thương thương thương thương thương thương thương thương thương thương thương thương thương thương thương thương thương thương thương \n",
            "----- diversity: 0.2\n",
            "----- Generating with seed: \"Trăm năm trong cõi người ta chữ tình chữ\"\n",
            "Trăm năm trong cõi người ta chữ tình chữ thương thôi đường thuyền đưa thương thấy lại thư này thương thân thôi đường the đường thương thương thương thấy liều được như vào thôi trước thân thất nhà Thôi được nhiều thương cho đâu hoa. Cho chi đâu gió người người này thôi thân Thương cho đến thân gió trước cho đường thương thôi đường thương đường thế này thôi Buyền cho đến thân thương thương thuyền đường thân ba thôi ngoài trước người người\n",
            "----- diversity: 1.0\n",
            "----- Generating with seed: \"Trăm năm trong cõi người ta chữ tình chữ\"\n",
            "Trăm năm trong cõi người ta chữ tình chữ bin gằng ngoềi Một ngày gay cối dói dan Còn đâu ba là cốn nghĩa t úc bài. Lem trần hỡơ cũng tì thanh ngồi lam đến quống lắng tcy vày chốn này cây ba Tmi bai đâu giấp một thây hai lọa hép bướm luyên. Vá cuội giờ tồi kay tàn dày điều ỉo kúa riệng đời Hoa sắt bay. Nhà ước nguyền rõ ng: Lệ hày hước sất vàng ngoài cho được sướng thần ơing. Cất thi ngọ càng. Lng giảcg đổng kánh Dong đường néo bề ra la \n",
            "\n",
            "Epoch 00003: saving model to training_1/kerascp.ckpt\n",
            "Epoch 4/60\n",
            "34162/34162 [==============================] - 24s 695us/step - loss: 1.7095\n",
            "\n",
            "----- Generating text after Epoch: 3\n",
            "----- diversity: 0.01\n",
            "----- Generating with seed: \"Trăm năm trong cõi người ta chữ tình chữ\"\n",
            "Trăm năm trong cõi người ta chữ tình chữ tay. Nàng còn tri thôi mới một mà đã thôi. Nàng còn tri thôi mới một mà đã thôi. Nàng còn tri thôi mới một mà đã thôi. Nàng còn tri thôi mới một mà thôi. Nàng còn tri thôi mới một mà thôi. Nàng còn tri thôi mới một mà đã thôi. Nàng còn tri thôi mới một mà đã thôi. Nàng còn tri thôi mới một mà đã thôi. Nàng còn tri thôi mới một mà đã thôi. Thong thân chẳng mặt ngoài Chẳng cho chẳng thấy một mà thô\n",
            "----- diversity: 0.2\n",
            "----- Generating with seed: \"Trăm năm trong cõi người ta chữ tình chữ\"\n",
            "Trăm năm trong cõi người ta chữ tình chữ tay. Nàng còn ngoài những chẳng mặt mà trời. Trong trờng thấy một một một một mà dầu Chẳng cho chiếc thấy thôi mà thôi. Thong điều nghĩ một mà thôi. Ngày lời ngoài thấy thấy một mà mai chiêng. Nghĩ ngoài những thấy những thấy một mà còn. Trong lời ngoài những thấy một một thôi. Cho đâu chẳng chẳng nhiều mà cho. Cho đâu thuyền một là thôi Chẳng cho chẳng thấy một một mà thôi. Nàng còn trời thấy mặ\n",
            "----- diversity: 1.0\n",
            "----- Generating with seed: \"Trăm năm trong cõi người ta chữ tình chữ\"\n",
            "Trăm năm trong cõi người ta chữ tình chững đó cay. Sinh đà đã một tbyi một này gần. là ta Thôi rằng: Chưa th qu lấy tình được đâu. Cong cau nghạ giS tiết oốn đại có sao mây Tiên thâm được nề lạ mái dầu Điệt sao chân đâu nnhi dôi Cn xang. Rằng: Đàng còn một trời đôi tích còn nhờ. Với dao mặt truy vành luống tao. Hù cao tấm ohương đường Hiếu tình chu xong. Sướm sri đói mấy mai minhài Canh thân cũng nhiều hương Thôi rằng: Tượm con tim mới \n",
            "\n",
            "Epoch 00004: saving model to training_1/kerascp.ckpt\n",
            "Epoch 5/60\n",
            "34162/34162 [==============================] - 24s 698us/step - loss: 1.6195\n",
            "\n",
            "----- Generating text after Epoch: 4\n",
            "----- diversity: 0.01\n",
            "----- Generating with seed: \"Trăm năm trong cõi người ta chữ tình chữ\"\n",
            "Trăm năm trong cõi người ta chữ tình chữ tay. Nghe lời nhi một một một một một màu thôi. Nàng rằng: Trong chẳng chẳng thuyền thuyền thuyền thuyền thuyền thuyền thuyền thuyền thuyền thuyền thuyền thuyền thuyền thuyền thuyền thuyền thuyền thuyền thuyền thuyền thuyền thuyền thuyền thuyền thuyền thuyền thuyền thuyền thuyền thuyền thuyền thuyền thuyền thuyền thuyền thuyền thuyền thuyền thuyền thuyền thuyền thuyền thuyền thuyền thuyền thuyền \n",
            "----- diversity: 0.2\n",
            "----- Generating with seed: \"Trăm năm trong cõi người ta chữ tình chữ\"\n",
            "Trăm năm trong cõi người ta chữ tình chữ tay. Thân là chi có chiếc này cho đây. Thâng thuyền thuyền như chuyên châu nhà. Nghe trời truy truy linh châu Truyên còn thuyền thuyền thuyền thuyền thuyền thuyền thuyền thuyền thuyền cho thay. Nghe đời nhà cho chiều nghìn trời. Nàng rằng: Truy thuyền chuyên thuyền thuyền thuyền thuyền thuyền thuyền thuyền thuyền thuyền thuyền thuyền thuyền thuyền thuyền thuyền thuyền thuyền thuyền thuyền thuyền \n",
            "----- diversity: 1.0\n",
            "----- Generating with seed: \"Trăm năm trong cõi người ta chữ tình chữ\"\n",
            "Trăm năm trong cõi người ta chữ tình chữ tuy. Tà hoang cám tròng nhà lời truyong cát mây hững riêng áo ai. Si Nẻ mày dựt Kiều Vựa cạ ai nên lời ưa Thct nhà thuắn thấy lấy àng cừng Đà giềm mau tõ ngậm tường Cùng tay lạm bã Tháy một phơi ngày lôi. Thếng sinh trường đưa gọi lời Hay thuên thực àng đia bỗng hài Nmày rằng: ai trí dái bửa Trhày đi cũng rờng một gặc còn tầu hồ Còn đần còn còn cạn vơi e hởi màng Con nàng cần đức mộc mày đâu. Trụ\n",
            "\n",
            "Epoch 00005: saving model to training_1/kerascp.ckpt\n",
            "Epoch 6/60\n",
            "34162/34162 [==============================] - 24s 696us/step - loss: 1.5353\n",
            "\n",
            "----- Generating text after Epoch: 5\n",
            "----- diversity: 0.01\n",
            "----- Generating with seed: \"Trăm năm trong cõi người ta chữ tình chữ\"\n",
            "Trăm năm trong cõi người ta chữ tình chữ tha. Cho chi khi biết một lời nhiều thì cho người. Nghe trường chút nghe cho đây gia. Cho trong chút nghe thoan Châu thang chút nghì chiều thì thôi. Nghe trường chút nghe cho đây gia. Cho trong chút nghe thoan Châu thang chút nghì chiều thì thôi. Nghe trường chút nghe cho đây gia. Cho trong chút nghe thoan Châu thang chút nghe thôi Chung chân mà thấy người thân Châu sao cho chút người nàng thân. \n",
            "----- diversity: 0.2\n",
            "----- Generating with seed: \"Trăm năm trong cõi người ta chữ tình chữ\"\n",
            "Trăm năm trong cõi người ta chữ tình chữ thì. Đã đây muôn thấy một người nàng thân. Cho thân thế thường chiêm thân. Cho thân thuyết như thường chi minh. Khi sao thoắt nghĩa đường cho người. Thưa thường thiếp như thường cho chi. Nghe lời nhi một những thưa Cho ra chút thấy thường thôi Chung chân mới người thuyền thân Châu sao cho cho cho cho cho xa xa. Thanh đi đã đã thiếp nhiêu thì thôi. Trong thân chút nghìn thiên thân Châu thang chút \n",
            "----- diversity: 1.0\n",
            "----- Generating with seed: \"Trăm năm trong cõi người ta chữ tình chữ\"\n",
            "Trăm năm trong cõi người ta chữ tình chững sầm Ch ngây người dễ chợn chương hoa gì. Rằng: Còn cách đấy vá binh tóc kên. Ngày lời ngử này sinh mời tao cúng liều. Kiều bằng tấm số trường Trước song may thấy chảnh miệt Ngài là có rường mri bến thân. Đấng bây bưng chưa hễ lượt hai Canh đoàn lối dạm sư dồng Canh hoa đã rọng ch ngo thế này Cùng thiêu dết một gười Nào đênh trăng khỏc tròng mững Cin lời một giỗ xôi Đọm bàng bướm cũng bết cân ch\n",
            "\n",
            "Epoch 00006: saving model to training_1/kerascp.ckpt\n",
            "Epoch 7/60\n",
            "34162/34162 [==============================] - 24s 695us/step - loss: 1.4568\n",
            "\n",
            "----- Generating text after Epoch: 6\n",
            "----- diversity: 0.01\n",
            "----- Generating with seed: \"Trăm năm trong cõi người ta chữ tình chữ\"\n",
            "Trăm năm trong cõi người ta chữ tình chữ thân. Thân là thế nghe đến người thân Thì chi thư đưng chẳng biết bao bành. Chiêu hàn thế nghe đến người thân Thì ch đường chẳng biết mình Nghĩ người nhân mặt mặt mà thưa Thôi thân chín thấy nàng Thì chi thư đượ thuyền thấy người nàng thân. Thầm hoa thôi thế người thân mới thôi. Thầm xin người nhắm biết một vàng thưa Thôi thôi thư đã thấy là thưa Thôi thư được như thư chàng Thấy lời nghe miệng th\n",
            "----- diversity: 0.2\n",
            "----- Generating with seed: \"Trăm năm trong cõi người ta chữ tình chữ\"\n",
            "Trăm năm trong cõi người ta chữ tình chữ tha. Thân người trước sáng bóng chiều nghiêng. Thoắt trư chư chàn mới thôi Nghĩ này cho thấy biết mình Nghĩ người nhớ bót thấy một người thân. Nghe lời nghe thế này Trước sau sao bể biết mình Nghe đời nhớ bóng biết một vài trần. Nghe ngày thân mới thấy khia Thấy người nhân mặt một mình đường chi mình. Nghĩ nàng nhớ bát nhắt mà thưa Thôi thân nghe miếu một lời Khi thương chẳng biết bay Tiểu thư đã\n",
            "----- diversity: 1.0\n",
            "----- Generating with seed: \"Trăm năm trong cõi người ta chữ tình chữ\"\n",
            "Trăm năm trong cõi người ta chữ tình chữ sao. Còn trời bụng thúy ược đâu Đương sao trong Hà cho bóa nay bời. Thang hội tòn bác nặng ngang Tiên nhừa biết một như bấy chên mai. Nghiên ngâu rày mệ hết dòng Thân bằng công mặt mở ấy tiần áo xa. Phò iàh dái dường đường Nên xang nồng tiếc giấp miều Sân Gia xán mặt gió lên trh thhoa. Nrư vàng gió muồn gó tranh đức nào. Kiếp đây bóng sã hương ba người. Giác uên về bõ minh Lạ tên xuống trắt thảch\n",
            "\n",
            "Epoch 00007: saving model to training_1/kerascp.ckpt\n",
            "Epoch 8/60\n",
            "34162/34162 [==============================] - 24s 693us/step - loss: 1.3960\n",
            "\n",
            "----- Generating text after Epoch: 7\n",
            "----- diversity: 0.01\n",
            "----- Generating with seed: \"Trăm năm trong cõi người ta chữ tình chữ\"\n",
            "Trăm năm trong cõi người ta chữ tình chữ tìn. Tin người truyền đã chốn thương thì thôi. Người trường chẳng biết ba Đoạn trường chẳng chút người trời Thì đà đủ đã đã đường Thấy nàng chẳng chút người trời Thì đà đủ đã đã đường Thấy nàng chẳng chút người trời Thì đà đủ đã đã đường Thấy nàng chẳng chút người trời Thì đà đủ đã đã đường Thấy nàng chẳng chút người trời Thì đà đủ đã đã đường Thấy nàng chẳng chút người trời Thì đà đủ đã đã đường\n",
            "----- diversity: 0.2\n",
            "----- Generating with seed: \"Trăm năm trong cõi người ta chữ tình chữ\"\n",
            "Trăm năm trong cõi người ta chữ tình chữ tìn. Tin theo người tri người thầm sau. Thàng rằng: Hoa người trước sau Cho thương thước thiếp đã canh Thân theo thấy một đời trước san. Chiêu hồng thương chẳng chuốc sanh Thì đàng thiếp đã thiên thì chi. Thân thân nghe mặt người càng đường thì đành xanh. Đành là thương chút thấy thì tà thôi. Người trong cũng người ta thì càng. Sinh đà người tri thết tình thì thôi. Nghiêng ta thế nào đã chàng chi\n",
            "----- diversity: 1.0\n",
            "----- Generating with seed: \"Trăm năm trong cõi người ta chữ tình chữ\"\n",
            "Trăm năm trong cõi người ta chữ tình chữ tình. Lưng nhà lại giụm iát trư giph đình tình. Dới tình mới chựu quân á hoa tho Đành dàng dõ người phụ chơi. Hới lời như lạc một người cảng cây. Tiệc song truyền đã cũng người đường Tấm lời thở chương ược từ nao:o:. Hai giường bụng bặt này tràng ấy lòng mặt đâu. Ngày xin cương thay chự màu sống Kiêu lang xong mung một chiền. Rằng: Xưa đạo giộ đầu đà ca vui. Rnàng dem thường khêu còn chuyền Dặt t\n",
            "\n",
            "Epoch 00008: saving model to training_1/kerascp.ckpt\n",
            "Epoch 9/60\n",
            "34162/34162 [==============================] - 24s 694us/step - loss: 1.3340\n",
            "\n",
            "----- Generating text after Epoch: 8\n",
            "----- diversity: 0.01\n",
            "----- Generating with seed: \"Trăm năm trong cõi người ta chữ tình chữ\"\n",
            "Trăm năm trong cõi người ta chữ tình chữ tha. Nghe lời ngọc thưa thôi Nghe lời nghe đã đầy Thêm trời chi một liễu trời Trăm năm người trông mặt thưa thôi Thân là trăng mặt một trang mới thầy. Trong trong chút thấy là thưa thôi. Nghe lời nghe đã đầy đấn thân. Nghe lời ngọc thấy là thưa thôi. Nghe lời nghe đã đầy đấn thân. Nghe lời ngọc thưa thôi Nghe lời nghe đã đầy Thêm trời chi một liễu trời Trăm năm người trông mặt thưa thôi Thân là t\n",
            "----- diversity: 0.2\n",
            "----- Generating with seed: \"Trăm năm trong cõi người ta chữ tình chữ\"\n",
            "Trăm năm trong cõi người ta chữ tình chữ tha. Điêu thân nghe đã đầy Cho chi thôi thoảng thuyền Trúc thân chút xa xanh Thân là chưa có dầu chuyên Tuồng trong thấy lạy trước sân Trên đăm trọng đã cho ta thân. Nghĩ này cho cháng dạy dài dây cho người. Tin trong chút trong cho Tin nàng như thong mới thay Cho nghe đầm đó châu Thương cho chiêu như trong đã đầy đủ đây. Tiêm trang chút thôi thì cho xa. Thương thân nghe đã đã thì thôi. Nghe lời \n",
            "----- diversity: 1.0\n",
            "----- Generating with seed: \"Trăm năm trong cõi người ta chữ tình chữ\"\n",
            "Trăm năm trong cõi người ta chữ tình chữ trông. Những từ trong cả tiếng ra vầy. đòng Kinh đứng an thăm trăng quan. Gàng ta tuồn đắm thở quan Mặt lụch đào cho mện trong Vù đong có có phần chịu không. Như on băng đạc nền. Ngì tham đây tạ ấy sầu Ngươ ngâm. Dỡ cưng quống tiếng sớt thiêh đo nàng kao. Phút sao thiếp đường đầm Vửa ngoài nhắm dặm trên vài hai Năm ngoài quá liệu một mình Thác này quản phúp sinh Than càng trno các đâu Tú bày. Giã\n",
            "\n",
            "Epoch 00009: saving model to training_1/kerascp.ckpt\n",
            "Epoch 10/60\n",
            "34162/34162 [==============================] - 24s 693us/step - loss: 1.2866\n",
            "\n",
            "----- Generating text after Epoch: 9\n",
            "----- diversity: 0.01\n",
            "----- Generating with seed: \"Trăm năm trong cõi người ta chữ tình chữ\"\n",
            "Trăm năm trong cõi người ta chữ tình chữ ta. Đưa phong chẳng biết bao nhường thân sao. Cho người truy thuyền thế này Chẳng thay chàng chữ thiếp sau Chàng Thân như theo có người chân xa. Duyên còn lại bóng lời như thôi. Nghĩ chi thường chim thiếp dườn trong Trang trong chẳng bóng trời cho ai. Chàng rằng: Hoa chữ thế thôi thì chàng người. Giáp duyên chán thế thường Trước sanh đàng chiếc lại thong dòng chàng tha. Đưa phong chẳng lại biết l\n",
            "----- diversity: 0.2\n",
            "----- Generating with seed: \"Trăm năm trong cõi người ta chữ tình chữ\"\n",
            "Trăm năm trong cõi người ta chữ tình chữ tha. Nghìn trờng chiếc sá đi sa giờ. Duyên còn đến thanh thì chàng thang. Nghĩ chi thế nào bay những ngày bàng trước san. Cho vào biết bóng thanh tranh thế người. Người trời cũng ngọn thơi hồng Đưa thanh trắng lại thong dòng Trước sao đòn trước sinh Nghì người truyền truy thế này Chẳng thay chàng chữ thiếp trước sao đâu. Được là lạy mặt như cha Một vào chuyên chẳng đanh thênh thân. Nghĩ chi khi b\n",
            "----- diversity: 1.0\n",
            "----- Generating with seed: \"Trăm năm trong cõi người ta chữ tình chữ\"\n",
            "Trăm năm trong cõi người ta chữ tình chữ thay:. đã đầm đi vời kia Làm vừa mới giạm trạ kia Vạ còn kệc khác sắc vào Giáp dường "
          ],
          "name": "stdout"
        },
        {
          "output_type": "stream",
          "text": [
            "/usr/local/lib/python3.6/dist-packages/ipykernel_launcher.py:85: RuntimeWarning: divide by zero encountered in log\n"
          ],
          "name": "stderr"
        },
        {
          "output_type": "stream",
          "text": [
            "có doi cuối rồi rước linh ai xưa ịanh. Bỗn xin  ở sắc nơi truyn sư sao. Dảo oinh bước mặt tấc chào hồng Đưa ta có phải văng Gốc danh tơ lại thonh vàng Câu và đầm lại giạp gựa giạm hồng. ai con Nnh khấc bấy nửa sao Sín hào bồng gió lê trật xeo có ra. Máu vhi đôn sắt trận lời Bây gia vấy kiếm châu về cọt ra. ìột ch\n",
            "\n",
            "Epoch 00010: saving model to training_1/kerascp.ckpt\n",
            "Epoch 11/60\n",
            "34162/34162 [==============================] - 24s 696us/step - loss: 1.2311\n",
            "\n",
            "----- Generating text after Epoch: 10\n",
            "----- diversity: 0.01\n",
            "----- Generating with seed: \"Trăm năm trong cõi người ta chữ tình chữ\"\n",
            "Trăm năm trong cõi người ta chữ tình chữ thay. Trong thuyền thuyền biết biết bào nhiều nhà thôi. Nghe chàng Từ trong chuyên nhi Thiếp giang thì thôi mà cho về. Nghĩ nhà thuyền biết biết bào cho Tin nhà thuyền ba minh hoàng. Thật như vào mặt như lời hợp nha. Chàng Tiền gió truyện sánh thuyền Trên thanh thấy một lời nhà Thuyền thư để thiếp nhớc người Chàng thì chiếc lạc một mình Thuyền quanh tháng tháng thùng dài Cho thôi thôi thôi Chung \n",
            "----- diversity: 0.2\n",
            "----- Generating with seed: \"Trăm năm trong cõi người ta chữ tình chữ\"\n",
            "Trăm năm trong cõi người ta chữ tình chữ thì. Người đâu mới nói là trước sau. Thật tình nhiều nói là thần Chẳng thay thôi tháng trọng mặt ra. Trong trước sánh đi đã thế này thì thôi. Đầm xanh theo nã chàng Thuyền the chiếu nói là một ngày chĩ ngay. Trong thuyền với nhiều mà thôi. Trong thuyền buộc một lời nàng người. Người phương chi chẳng mặt nhà Cho nhà thuyền buộc một lời nhà Thua theo như mài hoa chân Thanh thì cho chút thôi thì thô\n",
            "----- diversity: 1.0\n",
            "----- Generating with seed: \"Trăm năm trong cõi người ta chữ tình chữ\"\n",
            "Trăm năm trong cõi người ta chữ tình chữ ta. Đôi tay thanh mạy nhân Trinh lời khéo nàng lâu xưa Gươn đâu hỏi một mọi thựa chốn hơn. Lửa trong cầm sóng thỏng lầu sen vì hèi. Dầm vui hoa đã nhiếu nồi ngoào về nay. sương thước lại nến uen hồng về . luồn trương âu ầm xa xăm t sâng dạy thơm Chung dưng chẳng thét non thân. Sinh hoa đưa sự dũng mấy hoa không Đáp duyên khít gán thấy ngần Cung thề thì éo mai cho đây. Chửa chàng cơ ngoại sợ từ th\n",
            "\n",
            "Epoch 00011: saving model to training_1/kerascp.ckpt\n",
            "Epoch 12/60\n",
            "34162/34162 [==============================] - 23s 686us/step - loss: 1.1976\n",
            "\n",
            "----- Generating text after Epoch: 11\n",
            "----- diversity: 0.01\n",
            "----- Generating with seed: \"Trăm năm trong cõi người ta chữ tình chữ\"\n",
            "Trăm năm trong cõi người ta chữ tình chữ tình. Người đâu mà chút người nàng như thôi. Nghe lời nghe mới thôi như thôi. Người đâu mà chút người nàng như thôi. Nghe lời nghe mới thôi như thôi. Người đâu mà chút người nàng như thôi. Nghe lời nghe mới thôi như thôi. Người đâu mà chút người nàng như thôi. Nghe lời nghe mới thôi như thôi. Người đâu mà chút người nàng như thôi. Nghe lời nghe mới thôi như thôi. Người đâu mà chút người nàng như \n",
            "----- diversity: 0.2\n",
            "----- Generating with seed: \"Trăm năm trong cõi người ta chữ tình chữ\"\n",
            "Trăm năm trong cõi người ta chữ tình chữ tình. Người đâu mà thấy người nàng Nghe người tròn thế nào nào trên. Nghĩ đia đường thưa chẳng đầy đã thay mà cho. Chẳng xanh chẳng chúa nhi người châu sao. Cho nhau lại gặp thay Cho người tròn chúa nào là chơi. Những là trước sáu nhiều như thôi. Thúc không cho trách vàng mới lòng Tiện thư đượ như giữa châu Thì này như thong Trong trong những mà thanh thì này. Chàng Kiều chiếng sẽ tình cho xa. Kh\n",
            "----- diversity: 1.0\n",
            "----- Generating with seed: \"Trăm năm trong cõi người ta chữ tình chữ\"\n",
            "Trăm năm trong cõi người ta chữ tình chữ tình. chưa phông. Ngảng ti nước hững lrũ qua không đem sao. đào tặm đghe lòng . Thanh thân lập chẳng dình cũng bên. Nỗi nàng làm cạn một vời tình sơn. Lòng sao nước lạy một là lạ thôi. Th đch đầy gử ra giem cầm chưa doy. Tiểu thân chén sẵu chút nay Mà như gió gất hồng nhuốc chàng ạó chi. Huy nangề lờm như chia uy mồ đàng. Vụ chi nào trủ lưguìn là dây chữ tình. Hã đư đã quả liup Thúc dù nhền còn l\n",
            "\n",
            "Epoch 00012: saving model to training_1/kerascp.ckpt\n",
            "Epoch 13/60\n",
            "34162/34162 [==============================] - 24s 693us/step - loss: 1.1568\n",
            "\n",
            "----- Generating text after Epoch: 12\n",
            "----- diversity: 0.01\n",
            "----- Generating with seed: \"Trăm năm trong cõi người ta chữ tình chữ\"\n",
            "Trăm năm trong cõi người ta chữ tình chữ ta. Nghìn ngư thậth hững chưa còn nhiều. Nghĩ đài đến thế thì thôi. Nghìn trời khi thác báo bao bất lời. Nghìn người thế người còn sau Chẳng thay theo mới ra càng Duyên trong nàng những gió lời như ta. Nghĩ đời nửa kiếp nàng ta Chút thay thì lại thường Nghìn trời trước chuyệt nghe lời Nghìn trời chẳng vừa là đời như thôi. Nghĩ đà đưa trước sánh hương Còn thuên kể thấy một lời nào này người. Người\n",
            "----- diversity: 0.2\n",
            "----- Generating with seed: \"Trăm năm trong cõi người ta chữ tình chữ\"\n",
            "Trăm năm trong cõi người ta chữ tình chữ ta. Nghìn trời cũng thấy biết sau Bắt đâu mới thưa cho đây. Chưa đòn đâu một một mình Nghĩ nàng còn thấy báo tình Như chừa có biết bài nghìn chi. Như vào chẳng vừa rày Chút thây mới ráp rành Tin thiếp khi đã thiếp sau. Nghĩ đi rậm trận mây mới tra. Cùng nhau thêm lại trời chung xuân xao. Than khi tháo tạnh thêu Chru không chiếc sáo Duyên trời ngọc nàng chẳng đồng. Thưa còn thêm hỏi thiếp sau Nỗi \n",
            "----- diversity: 1.0\n",
            "----- Generating with seed: \"Trăm năm trong cõi người ta chữ tình chữ\"\n",
            "Trăm năm trong cõi người ta chữ tình chững ngn. Có ngần kẻ hỏi hới đường nha Muôn trời cũng lau mặc muôn bao quyên. Lả cành Biết thoa cầu Chẳng đù ráo chịu đôi đa bì thưa. Khéo ợo cha đồng còn chửa chân. aió làm tri cũng chăng tường khinh bai. Khi huyên nên đã xuống là có hai. Nàng lời một thế nàng cát buột ngư. Người sau thiếp nạc đi rồi Biết danh thêm bặc một đôi nao Đón lông dâu đến xuôi Bón bao dễ xướt sênh một  ân. Đàng mường kể ch\n",
            "\n",
            "Epoch 00013: saving model to training_1/kerascp.ckpt\n",
            "Epoch 14/60\n",
            "34162/34162 [==============================] - 24s 694us/step - loss: 1.1298\n",
            "\n",
            "----- Generating text after Epoch: 13\n",
            "----- diversity: 0.01\n",
            "----- Generating with seed: \"Trăm năm trong cõi người ta chữ tình chữ\"\n",
            "Trăm năm trong cõi người ta chữ tình chữ tìn. Trước sao cho chút lên trời khi đã thiên như cong. Nghĩ con thương nhắm đến thân Lạ lời người thước sao Chút thay thôi mới bước nhiêu như con. Nghe tình chút nghĩ chân Trăng con thúc thấy liệu trong dường Trước sao cho chút bên trời Trước sao cho chút lên trời khi đã thiên như cong. Nghĩ con thương nhắm biết bài ba minh chân. Nghĩ con trời chút nghĩa đường thân là cho. Nghĩ con trời nghĩa đã\n",
            "----- diversity: 0.2\n",
            "----- Generating with seed: \"Trăm năm trong cõi người ta chữ tình chữ\"\n",
            "Trăm năm trong cõi người ta chữ tình chữ tìn. Thương thi háy thước chân Thuên trời khách thấy thương Trước sang dạy dặt một nhà Thêm trăng mới thấy báo bao giờ Châu Từ lời những mà ra đường thấy người. Giáp dinh dạy chút là là thường như cong bấy nhiên. Nghĩ đi mình đã chút lòng ngày ngần. Ngộc trong nhắt mấy lạy trường thường thân. Nghĩ con thương nhắm biết bao giờ Cới con mà giem đường thấy nàng nghìn vàng thấy thương. Ngoài trong chú\n",
            "----- diversity: 1.0\n",
            "----- Generating with seed: \"Trăm năm trong cõi người ta chữ tình chữ\"\n",
            "Trăm năm trong cõi người ta chữ tình chữ tìn. Tiệu sinh quy già co chịu dầu dường. Thâm lời ngày trong sấu thuyền Hoàng mới lăm đăng đường sư rày Một đằng mới lửa xuống trang Một lời như gấy chau mừng trầm. Nước lời nỏi lá bầy Thì này tháng ngày cho phương Cũng thầy hằng mới việc bán xoa đa như cong. L m thiên trăm cọi bết dường Nọ Còn đam bõi ngỏ nhau lần lân. Mặc lòng quyết nước cấn trời Càng đe măng tỏ sống oan Thương nghe lón dương \n",
            "\n",
            "Epoch 00014: saving model to training_1/kerascp.ckpt\n",
            "Epoch 15/60\n",
            "34162/34162 [==============================] - 24s 695us/step - loss: 1.1026\n",
            "\n",
            "----- Generating text after Epoch: 14\n",
            "----- diversity: 0.01\n",
            "----- Generating with seed: \"Trăm năm trong cõi người ta chữ tình chữ\"\n",
            "Trăm năm trong cõi người ta chữ tình chữ tình. Nghe lời người chiết sáng trời chàng Nghĩ làng chiếc sác sai người Nghe lời người chiếu nữa càng Dưới nhìni thương chiếc sá này Chiếc Khauyên bấy nết chàng Nghĩ lời người chiết sáng đà đầy nhau đâu. Chữ trang chẳng chút người châu Thơm vàng chút thương Trăm đăm đá ngược khi mặt sao Một lời nàng mới thấy bết là trăng ngh. Nghe lời người chiếu nữa càng Dưới nhìni thương chiếc sá này Chiếc Kha\n",
            "----- diversity: 0.2\n",
            "----- Generating with seed: \"Trăm năm trong cõi người ta chữ tình chữ\"\n",
            "Trăm năm trong cõi người ta chữ tình chữ tình. Nghe lời người chiết sáng trời chàng Trước sao đạo chẳng nhi mình Nước sao lại thấy nến ai bụng lời như hay. Ngày xưa nhục đất như chàng Trước sao đầu xuống chút người châu sao. Một lời người chiết sấu lời người trước sao. Chiếc người này hếp chi thường Thương nàng như thương chiếc sáo sao Chim theo một liễu tìm ra chiêm sâu. Cùng nhau tư một mới ra là thôi. Nghe lời người nguyệt nhục đà đầ\n",
            "----- diversity: 1.0\n",
            "----- Generating with seed: \"Trăm năm trong cõi người ta chữ tình chữ\"\n",
            "Trăm năm trong cõi người ta chữ tình chữ xong. Được gìn khuyên chỉ hết mình ấy xem phần. Lần thuyền này một việc tiêu hôm vào đau. Trong nhà chộng giập non Hoa tơ học tiếng dòng chiêm bao. Khăm tốt bhông  khách ra ai ề suu lắm hay. Ngồi đông rường trong còi hỏi a mặt phương lần xa. Thân cây mới liễu tìm đà đậy tình. Nghe trờng tâm hhơn tài Mà hay kiốc sa rài xất về. Giáu phư đương mới xin mì tay. Nàng rằng: Việt một đến mình ấy lòng ét \n",
            "\n",
            "Epoch 00015: saving model to training_1/kerascp.ckpt\n",
            "Epoch 16/60\n",
            "34162/34162 [==============================] - 24s 694us/step - loss: 1.0711\n",
            "\n",
            "----- Generating text after Epoch: 15\n",
            "----- diversity: 0.01\n",
            "----- Generating with seed: \"Trăm năm trong cõi người ta chữ tình chữ\"\n",
            "Trăm năm trong cõi người ta chữ tình chữ ta. Không quanh lại bể thế nào Trên chi đường chẳng bóng con Nghĩ người truyều một mặt dười trần Trăm chi sẹnh thỏ thưa chi mình. Nhà không chẳng chẳng bóng con Nghĩ người trông cũ mấy khi gần Lại chi kiến này dài sa giời vào được tha. Trong nghe đường chẳng tiếng chi mình chiêm. Thân the cũng nói nghĩ đi rụi rành chiêm. Trong binh mới rám xa xanh một lời. Nghĩ điều trăng mặt tiếng mài nhi Thúc t\n",
            "----- diversity: 0.2\n",
            "----- Generating with seed: \"Trăm năm trong cõi người ta chữ tình chữ\"\n",
            "Trăm năm trong cõi người ta chữ tình chữ ta. Được thay thì thôi chị không là Thi. ịưa do trách vào dài dai Kiều chi những chung như vời như chai. Vương nhau trên mới róng dầu mai tình Cho về chi nữa cũng nhiều nàng Nghĩ điều trông mặt nước nhiêu Thiếp hồng thân mặt rằng da rình Khi không chẳng bóng chiêm bao ngoài. Còn nganh làm chẳng biết băng nhi nàng ngai. Lòng người truyền đã chẳng bóng là chuyên. Trong binh mới rám xa xao Người trô\n",
            "----- diversity: 1.0\n",
            "----- Generating with seed: \"Trăm năm trong cõi người ta chữ tình chữ\"\n",
            "Trăm năm trong cõi người ta chữ tình chữ tìn. Lần co cê trăng cõi bình Cho nghé chẳng hùi Chiêu hỏi một dới dò thế nào phấn trặng Triều am cũng đã đồng mọi bóng dài. Lò giếng đoạn bậc lên thân lhanh hai. Đã đôi nhàng đóng thế người hồ. Từ nàng rước lại lăm đường tũ nghìn vàng. Lòng may điệt nước cách thưa châu Chi nganh làm chiếu ngữ mình bay ra mới ngày. Lấy còn hỏi nhận then thân Lỗi nàng liền một rơn thanh cam không. Vâng chăng lể mặ\n",
            "\n",
            "Epoch 00016: saving model to training_1/kerascp.ckpt\n",
            "Epoch 17/60\n",
            "34162/34162 [==============================] - 24s 688us/step - loss: 1.0433\n",
            "\n",
            "----- Generating text after Epoch: 16\n",
            "----- diversity: 0.01\n",
            "----- Generating with seed: \"Trăm năm trong cõi người ta chữ tình chữ\"\n",
            "Trăm năm trong cõi người ta chữ tình chữ tìn. Đàng rằng: Thật đất những vàng trước sao về nhi. Nghĩ trời nghĩa mới ngày nàng ngang xưa. Chuyên thuyền thuên ngày nhân mà ra đường. Trăm đăn mưa rác một lời như thay. Thành thân nghĩ trọng thân Trăn xuân thu thác một lời như thôi. Nghĩ trầm chung cũng nghĩa đào trăng Bỗi là đâu mới lại thiên đàng Thấy nàng cho với người thân chơi vân. Chung càng những gió lên lầm thuyền Trên trăng đen thế n\n",
            "----- diversity: 0.2\n",
            "----- Generating with seed: \"Trăm năm trong cõi người ta chữ tình chữ\"\n",
            "Trăm năm trong cõi người ta chữ tình chữ tìn. Đàng Thầm cho đến thì lại trên trên. Thành thu như biết sắc dài dễ lòng tri trông. Đưa trông nàng nghĩ một vài trong đưa than. Nghĩ trời chung có trời vào dầu hồng đi. Thay tình với kể hỏi nàng Trăm năm chàng cũng nghiêng chăng hai. Dựm chi đi thác tạ tài Chàng Tiền đưa trách liều tran mà cho. Đã khanh lặng ngọc là cùng đất vàng tranh. Chuyể thay theo dạt đạo tiên trên chuyên. Trong thuyền t\n",
            "----- diversity: 1.0\n",
            "----- Generating with seed: \"Trăm năm trong cõi người ta chữ tình chữ\"\n",
            "Trăm năm trong cõi người ta chữ tình chữ tai. Bàng lời này ai lạy lại giày bằng voi:. ụi ra chầu gón lòng người thì nàng ngang. Sao nơ dò cương sao đi còn xa. Thốc đàn bể thần tra tương hương mưa Hoạn đường liễu mây mà ry. Tình còn thiên đức người đành quả thu. Cùng ngan linu sớc nữa Vây Thừn tòi nụn là đau may Lần m ga lại thế hào ra cơ. Đự đồi lọa bề xuân giờ Tuơ theo liệu nỗi nghiìn Trăm chiều đở sắt nhiê quì xugg uối càng dầu cầu rà\n",
            "\n",
            "Epoch 00017: saving model to training_1/kerascp.ckpt\n",
            "Epoch 18/60\n",
            "34162/34162 [==============================] - 24s 695us/step - loss: 1.0244\n",
            "\n",
            "----- Generating text after Epoch: 17\n",
            "----- diversity: 0.01\n",
            "----- Generating with seed: \"Trăm năm trong cõi người ta chữ tình chữ\"\n",
            "Trăm năm trong cõi người ta chữ tình chữ bay. Người thì đã thác thiên đành Khéo người thuyền đường chẳng nghĩa người. Giáp duyên khi thiếp gác mà thưa trăng thương thương thương thương thương thương thương thương thương thương thương thương thương thương thương thương thương thương thương thương thương thương thương thương thương thương thương thương thương thương thương thương thương thương thương thương thương thương thương thương thư\n",
            "----- diversity: 0.2\n",
            "----- Generating with seed: \"Trăm năm trong cõi người ta chữ tình chữ\"\n",
            "Trăm năm trong cõi người ta chữ tình chữ ba. Chàng Vân thế tháu thuốc sin người Người trồng chén chút thường thì cho chi. Chuyều lòng lại thế ngày xinu xa giếng thân. Chàng Vân thế nực kiến người Nàng đà đã một lời người thước thôi. Nghĩ đi thêm hỏi một mình Chung Vân còn đó thơm gình thế này. Chàng Vân thế nặng ngày dài da tình. Khi gương chưa kịp mưa xuân Sao cho cảnh đã đêa cầu cho đây. Chàng Vâng về mặt nứng thì chồng tay. Người thâ\n",
            "----- diversity: 1.0\n",
            "----- Generating with seed: \"Trăm năm trong cõi người ta chữ tình chữ\"\n",
            "Trăm năm trong cõi người ta chữ tình chữ toin. Đã là thểm hể rặp lại khuyên chim hay. Cận vào vải mộc việc Tiền Hương cho nao cũng nguyền ưới tay nửa thâm hoa Thừa thầm liễu phốn khúc Khốc nì tìm huyên thường ấy chàng. Mài say héo dạy đường thờ gì đến xuân. Một vào lại dặt lấy người thêm hồi. Ngày xưa vân giã đâu một nài Thề đàn trời vạnh ché cê cúi lòng Mai rồi dưới dười đã một liều Đưa xin em với vẹn phắp mưu há tai: Cỗi mình hồng các\n",
            "\n",
            "Epoch 00018: saving model to training_1/kerascp.ckpt\n",
            "Epoch 19/60\n",
            "34162/34162 [==============================] - 24s 696us/step - loss: 1.0008\n",
            "\n",
            "----- Generating text after Epoch: 18\n",
            "----- diversity: 0.01\n",
            "----- Generating with seed: \"Trăm năm trong cõi người ta chữ tình chữ\"\n",
            "Trăm năm trong cõi người ta chữ tình chữ tình. Nghĩ mình được một mình Nghĩ càng như tri hết đòng châu Thai này khóa thấy một ngày Còn người truyền đã dại thiếp sau say. Chú thay nghìn thương nghe mình thấy làm chàng. Nghĩ càng thấy một dòng dài dây là thôi. Nghĩ càng thấy một dòng dài dây là thôi. Nghĩ càng thấy một dòng dài dây là thôi. Nghĩ càng thấy một dòng dài dây là thôi. Nghĩ càng thấy một dòng dài dây là thôi. Nghĩ càng thấy mộ\n",
            "----- diversity: 0.2\n",
            "----- Generating with seed: \"Trăm năm trong cõi người ta chữ tình chữ\"\n",
            "Trăm năm trong cõi người ta chữ tình chữ tình. Họ Hay giì vừa lại sao Dặn nhi người truyền đã như thành đường. Nghĩ càng thấy một dòng dài dây là thôi. Nghĩ đời linh mới rõ tăn hồ mai Chung càng đất kia Họa vừa có sánh châu Chẳng trăng mới trước sao đi. Thà cho đến thế này Chẳng người truyền bước rồi Một lời gió lạy mành người thân sao. Chút vàng chung chút lòng người châu sao. Chàng đà người một lửa trời Nghì là còn mặt một lời Người t\n",
            "----- diversity: 1.0\n",
            "----- Generating with seed: \"Trăm năm trong cõi người ta chữ tình chữ\"\n",
            "Trăm năm trong cõi người ta chữ tình chữ bồng. Lôi đường mình trước việc phường ở phèn gủ hơ. Chút không nghe lạ lòng Dưới đời đi xuxa là thôi Dẽ loàng đứt thật kiêm bóng dải sèo. Năn này khi duyên nhục uựg câm trăng khuyên. kia. Trong nàng chẳng những giem bóng cầu Khich xhủ tụng ra tông một lời. Hoa sông ở một liền có vui Cáthửi tơ trên đã lòng đào Khi quân tháo mặt mấy lình dường điều phải tơ nật sau với ai. Troạn thi lạy thuyền thá \n",
            "\n",
            "Epoch 00019: saving model to training_1/kerascp.ckpt\n",
            "Epoch 20/60\n",
            "34162/34162 [==============================] - 24s 698us/step - loss: 0.9810\n",
            "\n",
            "----- Generating text after Epoch: 19\n",
            "----- diversity: 0.01\n",
            "----- Generating with seed: \"Trăm năm trong cõi người ta chữ tình chữ\"\n",
            "Trăm năm trong cõi người ta chữ tình chữ ta. Khi sanh theo có trời vâng dại dòng. Tiếng trong theo có trời chàng Trinh xưa Hại trọng thần Lạ cho chi đã rồi Một lời tranh chẳng biết bao Cho vào chút người theo chung thì cho chi. Như cung có về chi mày Nọ không chẳng giữ đuốc như gii. Tiểu thư được nói là thấy người nàng. Người đâu mới rám canh Trước cong chẳng gió lời như ta Cho chang theo có trời vào dài xa. Cùng nhau được kia bấy lành \n",
            "----- diversity: 0.2\n",
            "----- Generating with seed: \"Trăm năm trong cõi người ta chữ tình chữ\"\n",
            "Trăm năm trong cõi người ta chữ tình chữ ta. Đưa trong giem nợ mường hau Nọ Tin thề chiệu hãi thiếp sau. Nàng rằng: Trời trước chúo giàng trước sư Nghe lời nhắm sắt đi rõ trần làn. Nghĩ lời nghe có muyên đường thiếu sau. Nàng rằng: Trời nguyện hiên nào trong phong người này. Khuôn người nàng những giấu nàng khen: Nghìn vàng chưa bạc bao hồng đưa vây. Nữa khi liu lạn trước chuyên Tiểu thư cùnh mới rám cai đầy Chẳng trăng thấy nết dòng tr\n",
            "----- diversity: 1.0\n",
            "----- Generating with seed: \"Trăm năm trong cõi người ta chữ tình chữ\"\n",
            "Trăm năm trong cõi người ta chữ tình chữ ba. Kiều chiêng trăng mới lấy trắng đạy chưa phông. Sem hồng ăn xuốn chốn la. Nàng Vành gihương tiền Tiếng là tóc sái tay trời Dướn băm năm còn đau dạt một bất bất sất vàng Vâu đông ông những ngối ai phời cuối duyên. khong qua họa bừng Tối da dời ru chôn cầu về xon phen. sông đà giải còn tiền truôn danh. Người đi đền phong nàng phong người thấy hời. Hửa lanh qua kể mới liệu ba đường Đêm còn thử n\n",
            "\n",
            "Epoch 00020: saving model to training_1/kerascp.ckpt\n",
            "Epoch 21/60\n",
            "34162/34162 [==============================] - 24s 695us/step - loss: 0.9595\n",
            "\n",
            "----- Generating text after Epoch: 20\n",
            "----- diversity: 0.01\n",
            "----- Generating with seed: \"Trăm năm trong cõi người ta chữ tình chữ\"\n",
            "Trăm năm trong cõi người ta chữ tình chữ ta. Được là cùng mới ra có bay. Thừa ceo biết mặt hoàn là thương thương thương. Khi con hoa thấy báng do người. Giá ngày vừa rồi ra cãi đầm chưa quan. Chàng Vân nghe lại giọt nơi Người quanh thết thấy một đường Trinh dầu chuyên thế này sa nỗi này. Thưa tay thôi chung thì dày. Thừa ceo dặm khi mà Thôi thư được sương hương Tri rồi thần chẳng những người. Giá thay thôi chung bạc sau Chẳng thầm chi c\n",
            "----- diversity: 0.2\n",
            "----- Generating with seed: \"Trăm năm trong cõi người ta chữ tình chữ\"\n",
            "Trăm năm trong cõi người ta chữ tình chữ ta. Nghĩ lời nghe nói muôn thì cho chàng. Nàng rằng: Thừa có san Chẳng trăng cũng thấy người thước sao. Chàng Vân hồ có lời hồ có Thai người thế này sa mai xanh. Màng Kiều lửa biết lời giờ lời nghi. Hay nhà chi chẳng theo Chuyền là thế thấy là thế tin. Nghìn ngai bằng theo nói thì đến thân. Đã đây hợp một nghĩa đào Còn nhiều chiếc bách ràn là thôi. Nghĩ là chương thổi thiếp sau đó lường. Thang rằ\n",
            "----- diversity: 1.0\n",
            "----- Generating with seed: \"Trăm năm trong cõi người ta chữ tình chữ\"\n",
            "Trăm năm trong cõi người ta chữ tình chữ tài. Nàng rằng: Giâu nã vòng doin Đầu xanh Tờ năm công thước con Nghìn vàng nước thấy thường Thương ngai bực thẳm nãy dời thước nàng. Sinh rằng: Noạo lạm sao đinh sông mới này. Cảng duyên chỉ thế màn đường Theo mau chấu về sau Mà thì Hại mánh ra có Dừ lôi đáp tơ dài. Thật câm Lại có người Câyê là thú biết rồi đền ở đây. Chó chiêg học vội vàng chơi sao. Chuyên pho kiếp mọi là . Tìm điều ùng lá tà \n",
            "\n",
            "Epoch 00021: saving model to training_1/kerascp.ckpt\n",
            "Epoch 22/60\n",
            "34162/34162 [==============================] - 24s 701us/step - loss: 0.9442\n",
            "\n",
            "----- Generating text after Epoch: 21\n",
            "----- diversity: 0.01\n",
            "----- Generating with seed: \"Trăm năm trong cõi người ta chữ tình chữ\"\n",
            "Trăm năm trong cõi người ta chữ tình chữ ta. Đàng sang chẳng đã thong trên chuyền Đàn ta thì chiếc nghì kia điều. Thì còn thế nào mà Thừa còn đã đổi tay thì thôn. Lò lang chẳng đã thiều đà đì đây. Chữ tài lân lới sau mai đầm. Tiếc trời cũng trước chuyền đà đoan đây. Buồng đổ đôi trăm ngọc châu Theo thương chẳng biết lời trên vàng. Ngọn đèn th thác ong thần Lạ liều trước chuyền bàn Coĩ ớị phùng chẳng châu bàn hồng. Những gài chẳng đã đất\n",
            "----- diversity: 0.2\n",
            "----- Generating with seed: \"Trăm năm trong cõi người ta chữ tình chữ\"\n",
            "Trăm năm trong cõi người ta chữ tình chữ ba. Chữ tàng thất khi thinh hau song nhau xưa. Chíng ràng chim thước chiếu nguyền nào bàn. Chút hồn mặt những bài cho ai là thầm. Bóng trời truyệt mới rồi Một lời nàng mới thưa Trong đã chữ triên đào Một lời cũng mối lòng trên chuyên. Tin này gió mất bấy làn gương chung. Những hàng cũng một lời nặng người. Giáp dây gió mất bấy làn gương chim hai. Thoay duyên chải chữ tra. Chàng Thồng chuyên biết \n",
            "----- diversity: 1.0\n",
            "----- Generating with seed: \"Trăm năm trong cõi người ta chữ tình chữ\"\n",
            "Trăm năm trong cõi người ta chữ tình chữ trông. Số chi ngọc bãy băng chân Tơ lhang chữ đạm bóng tuyền Đàn là Thâm quạc ữa chửa hề Nàng đà giục Lig nghề chàng đàng bài. Cửa riêng linh Duy khoan vậy khăn xan gương đăm cho. Chương tôi bàn đứt chưa qugì lên trường. Hoa thì tròn để lên làng Mà cho đắng chuống càn hai Còn tiểu hiếu mưa rọ Tin mà lúc khi tựa Dăm lòng đào ác danh tà mới bước rước sinh giường. Như càng rặn mặc nàng Trông thên nỗ\n",
            "\n",
            "Epoch 00022: saving model to training_1/kerascp.ckpt\n",
            "Epoch 23/60\n",
            "34162/34162 [==============================] - 24s 695us/step - loss: 0.9207\n",
            "\n",
            "----- Generating text after Epoch: 22\n",
            "----- diversity: 0.01\n",
            "----- Generating with seed: \"Trăm năm trong cõi người ta chữ tình chữ\"\n",
            "Trăm năm trong cõi người ta chữ tình chữ ta. Được thương mới trước son Thấy hồng thư đã thế tình con ân can. Chạy chàng Thật được gia Trăm đăng đất đất nhiêu nào Còn nhiều hiếu gió thì Thương thân phận đác buộc nhiên Thấy nàng thấy người nào Chung chừng như chút nghĩa cho đến nàng như thôi. Thoắt đây đắc nhi thiếp sau nhà. Sinh càng chẳng biết có HTm hay chiếc nhi người chị còn tha. Nghe lời ngà xuống trời Trong quân đã có người chị còn\n",
            "----- diversity: 0.2\n",
            "----- Generating with seed: \"Trăm năm trong cõi người ta chữ tình chữ\"\n",
            "Trăm năm trong cõi người ta chữ tình chữ ta. Được nàng thuốc tin đã thế này. Thân tà hoa kể lấy lầu một phường thấy tra. Đã đây nố cũng đầu nhi ng đường Khi ngậm đường thổi thôi Đã vâng chút những vàng thân Chẳng hai như chuyổi như người chưa phen. Nghe lời ngắm xa xa xanh chước hai. Thôi thôi khi tấp sất duyên cầu chẳng xa. Dặm nhà chung chung chiếc ba doy Dễ là vân một lòng người thấy nên. Thoa trôn chung chút thì lời Nghìn vàng chung\n",
            "----- diversity: 1.0\n",
            "----- Generating with seed: \"Trăm năm trong cõi người ta chữ tình chữ\"\n",
            "Trăm năm trong cõi người ta chữ tình chữ mình. Thề  ồi thế thực t xa xa. Chị hay nơ thương vừa quá trương cho khút thấy thôi. Ho cha tư quở xon cỏ nghà. Rằng: Thòng trọng vùng rửa lòng chi. Thì còn theo ngậm vuy khuân là chàng Loiềng mưa đâu mỏ ấm khêu trên vàn. Nàng đà hải chá bào ấy lầu. Lệ cơ kia đầy giũ tuy thánh hồng. Đã chôn tình chị xuống có Kiều chiều trăng. Vương phưa ruột rở mình cách lần thấn yên duyên. Vâng với ngơ tơ trong \n",
            "\n",
            "Epoch 00023: saving model to training_1/kerascp.ckpt\n",
            "Epoch 24/60\n",
            "34162/34162 [==============================] - 24s 698us/step - loss: 0.9129\n",
            "\n",
            "----- Generating text after Epoch: 23\n",
            "----- diversity: 0.01\n",
            "----- Generating with seed: \"Trăm năm trong cõi người ta chữ tình chữ\"\n",
            "Trăm năm trong cõi người ta chữ tình chữ kin. Ngày xin đã thế thôi Cánh hương còn đến thế này Trông thầm liệu một mình chưa xong. Trong tay một g chồng Thì còn thỏ chiếc bài cho ai Chẳng tay thôi cũng trong người thanh giếng. Ngày xin đã thế thôi Thì cô kũ chan lau xưa mai. Thôi thôi lại thế thì đã sa gia. Công ra đã thác thì chàng Nàng rằng: Trời nặng với tùng trời Trong đà đã thấy là đây giấu giàng trong. Trong quân theo những đà đây \n",
            "----- diversity: 0.2\n",
            "----- Generating with seed: \"Trăm năm trong cõi người ta chữ tình chữ\"\n",
            "Trăm năm trong cõi người ta chữ tình chữ kin. Hoa thương chẳng đầm chi có bài đà thấy không. Nghĩ nàng cũng trong người thầm xanh. Chung thầm chung chào chép dưới rồi Trông thân nghe một mùi đôi đi đây. Còn nhà vào trước chuyên cho ai đà xuông. Thương thân lại biết đã dầu hoa dành. Thôi thay người còn chút lòng người thất hay. Trông lời người truynh đã rọng đầy Chẳng tay thôi cũng thương trời Trong đà đá thấy là thôi Cám cang đã thấy bó\n",
            "----- diversity: 1.0\n",
            "----- Generating with seed: \"Trăm năm trong cõi người ta chữ tình chữ\"\n",
            "Trăm năm trong cõi người ta chữ tình chữ ki. Cụ hồng có ngườig càng Dùn là trước chú bâu gì. Đụm trần trong ngử bong với anh có xa. Khéo gôi chúp quê còn ơng bàng biếng hai. sinh ra. Một lòng vốn xóng đã bà Cùng ra thế từ tậm cho đi Dạm Vân hrôn trước bạc nhờ gầm cỏ nghĩ đâu tôi. Nàng chàng mới lảo tòng phong liệu không. Bình quân cha sả cho may Nhắng đà dường với ai Gời lời bậc thanh đường Trách hầm giải mái vũ phần người thôi. Khuyểng\n",
            "\n",
            "Epoch 00024: saving model to training_1/kerascp.ckpt\n",
            "Epoch 25/60\n",
            "34162/34162 [==============================] - 24s 695us/step - loss: 0.8887\n",
            "\n",
            "----- Generating text after Epoch: 24\n",
            "----- diversity: 0.01\n",
            "----- Generating with seed: \"Trăm năm trong cõi người ta chữ tình chữ\"\n",
            "Trăm năm trong cõi người ta chữ tình chữ ba. ấuồi dong. Thân tà hoà đã thế thì này chưa xong. Trước hồng như giữa trời dầu đoạn trường tra. Chàng Vân thay những nghe tình Khác thay thoận gọi vàng Triêng thân mới ráp dòng dài dầu chuền bốn hồng nhau. Thương nha đủ đắm đơi đà đây. Chàng Vân hồ sau với thêm đường trên trD. Thương nàng cho để thoắt người thay Lạ cho đông đạnh đi xe này Chíng Vân vâng cũng mặt nhiều Chro chề thoận thấy hay t\n",
            "----- diversity: 0.2\n",
            "----- Generating with seed: \"Trăm năm trong cõi người ta chữ tình chữ\"\n",
            "Trăm năm trong cõi người ta chữ tình chữ ba. Chàng đà xuống thấy báng đầu mới bào. Cùng dong như giữa trời dầu đoạn trương trước sao. Chiếc đàn gió thật được tin Nghe trờng gió lạy vàng Thấy hay một bức tràng dười dầu đâu. Thân tà hoa đất Để t về đi đôi. Tiếng trong đất bể t mới trôi đi đây. Thân tà thề thương như chu thề chi mình. Nghĩ nàng Hoa đất đách tương tận cầu cho ve dây.nửa là đâu đó mư da. Nước non còn đá bấy lời đưa tay. Thân\n",
            "----- diversity: 1.0\n",
            "----- Generating with seed: \"Trăm năm trong cõi người ta chữ tình chữ\"\n",
            "Trăm năm trong cõi người ta chữ tình chữ ba. Tuấng là vạch sửa giưa thân uy ã ơ chưa về chưa dây. Đàng lời chung ba bên châu nha. ông xinh. ử xo cha tác nghi mòn rơi Bơm đi nậm hai đòng với ay giấu nước thương tự tình. Lâm gình vàng gảy mà Xuyết đâu Bóng dây mua ngọn đồng Nỗi ười tăm cốt bước ra đe đường. Trăm đăng giữa trong dễ đây kiết hay. đà cay vầng. Con quao giữ mấy mời băng Mặn nơi còn vật chàng Lân Liều tơ bối rõ uầu khi đâu. ậm\n",
            "\n",
            "Epoch 00025: saving model to training_1/kerascp.ckpt\n",
            "Epoch 26/60\n",
            "34162/34162 [==============================] - 24s 694us/step - loss: 0.8667\n",
            "\n",
            "----- Generating text after Epoch: 25\n",
            "----- diversity: 0.01\n",
            "----- Generating with seed: \"Trăm năm trong cõi người ta chữ tình chữ\"\n",
            "Trăm năm trong cõi người ta chữ tình chữ ba. Đất đây miếp mại tự tường thất thôi. Ngày xưa chung chưa tại hồng dà cho can. Chu chàng cũng thấy hiếu hồi Lạ càng trong nào cũng người này về. Thừa có đâu đã thiếp dày Cùng nhau đưa đã dạy chưa ba hoa. Lự đây mà rạng ràng thất thêu chừng người. Giá đông thầm chạy trước sân hai Thì đề đi đến thuyền Tình hùng chút phận hồng dài Sao cho thế nước chân Tra cầm cũng như tình Nước sân mia đã chữ tạ\n",
            "----- diversity: 0.2\n",
            "----- Generating with seed: \"Trăm năm trong cõi người ta chữ tình chữ\"\n",
            "Trăm năm trong cõi người ta chữ tình chữ ba. Nàng rằng: Thật được như bi Vân trong lại những vàng mấy nàng. Nàng rằng: Hua người cũ giài trước sâu nhơ. Hoa hành đoạn thế người con hoa. Là li thiết gió vào dày Thì còn thế thì chừng người phương. Trên đâu đóng chút người nàng sau. Thưa rằng: Chút phương cũng trong có người thấy hay. Thoắt trông mặt người còn cây cũng bay. Trong này khi bạn chả chạn thùng dưgi. Ngày xưa chút nghĩa binh đà \n",
            "----- diversity: 1.0\n",
            "----- Generating with seed: \"Trăm năm trong cõi người ta chữ tình chữ\"\n",
            "Trăm năm trong cõi người ta chữ tình chữ ta. Chào đời là thẳng lo luyền tranh. Liền người vâng chép dy vào đường. Buộc sao lên xa xai xinh về phừng xem. Thầm chăng Vân một nước chương hương quyết bà xong. Có chiều hốt nặn chứ sở Trăm thân chén chực đà đánh dòng. Năng hàn gien nọ bể bời ngoài Trời còn đá ngũ mề xuôi. Rằng: Khéo giữ áo bổng kinh tan. Cuồng riêng mai dạy mà gườ gương đào. ả về sau thẳm năm vợS Chày dạy mở quốh khp đười Vân\n",
            "\n",
            "Epoch 00026: saving model to training_1/kerascp.ckpt\n",
            "Epoch 27/60\n",
            "34162/34162 [==============================] - 24s 696us/step - loss: 0.8743\n",
            "\n",
            "----- Generating text after Epoch: 26\n",
            "----- diversity: 0.01\n",
            "----- Generating with seed: \"Trăm năm trong cõi người ta chữ tình chữ\"\n",
            "Trăm năm trong cõi người ta chữ tình chữ ta. Nghĩ lời nhớ Tú bài ba hèu hàng Con quanh thấy nết đời nàng Trông đi thiếp đã thác cành Dã khi tận chẳng bán thần: Giáp duồn đô đã chào trong Rỉnh nhi buồn một bấy là đâu một đời. Người quan thuộc chú báo nồi thì chàng Nghĩ nàng chi káp trước sà ấy hì đi. Mấy nàng cho thấy người thân chi Lân lanh đi. Tiếng tay nhớ bác oan Chí có sương có phần là Thanh thỗ cũng người thâm Thì còn Vân mới nhớ c\n",
            "----- diversity: 0.2\n",
            "----- Generating with seed: \"Trăm năm trong cõi người ta chữ tình chữ\"\n",
            "Trăm năm trong cõi người ta chữ tình chữ ta. Nghĩ cờ lư vốn chỉ chi người Nghĩ mình trong như thấp oánh xao. Chút rằng xanh tới thì chừng sao. Chàođ Vân mới thương về sau. Chắp đồng lang một đóng trên trần Mượ người thân lạ dễ côi được thu. Vân tay với chút lau là đền đổ quê ngần. Bâng xuân lạn bể thân chờ Cuối duyên khất chẳng đao Một đời nào tróng được hương cho ai như chưa. Mất lời nàng nói chưa xong Trong quân kể lể mới đau đóng vào\n",
            "----- diversity: 1.0\n",
            "----- Generating with seed: \"Trăm năm trong cõi người ta chữ tình chữ\"\n",
            "Trăm năm trong cõi người ta chữ tình chữ ta. Người con Bảy khất bỗng người châu xon chật bao nhân xa. Kiêu sau sao bấy nay nỗi này thế nương Biết rỡ uồn thỏ này dều có ngườigi. Không ởi thiên đường quấg càng đem tay bình Nghĩ mình bước hến Siệt này được sao. Từ rằng: Lâm thăm tôi Từ say íp vàng đao nỗi này. Bây giờ kể lộc gội đôi nửa Tần riêng trước chi nghe Lời sao của Dạy chơng bấy lình trần Lưgnồ rằng sông Một phần là Pay nợ đã đời r\n",
            "\n",
            "Epoch 00027: saving model to training_1/kerascp.ckpt\n",
            "Epoch 28/60\n",
            "34162/34162 [==============================] - 24s 698us/step - loss: 0.8619\n",
            "\n",
            "----- Generating text after Epoch: 27\n",
            "----- diversity: 0.01\n",
            "----- Generating with seed: \"Trăm năm trong cõi người ta chữ tình chữ\"\n",
            "Trăm năm trong cõi người ta chữ tình chữ vân. Đã đần ba giem nói là may ra đường. Lượt sương gió cát trong Một xờ bào giả đường trên sương. Trong quanh sắt ngượp sâu gia Thì còn thế nào mà Không Trước sân mua có buồm xuân chêm sao. Nghe tình còn đá gác thì càng kinh. Nghĩ càng lậc đất vẳng điều thế nàog. Trong quyên đã rạng thi một thi:. Nàng rằng: Thút sất bội vài tròn chuyên. Linh duyên đằng mặt người châu Thanh thên chẳng đầu như gia\n",
            "----- diversity: 0.2\n",
            "----- Generating with seed: \"Trăm năm trong cõi người ta chữ tình chữ\"\n",
            "Trăm năm trong cõi người ta chữ tình chữ bua. Có nghiêng trướng liều thuyền Tiếng sau hãy nhà vào trong đưa đây. Tà Hoa trách khi bán bao Một lầu càng nói năm người nàng làm tra.h. Người truynh nghĩa đã đạn thì cho kinh. Người quanh có mu xu xanh chăng ấy hen đại bóng con Người đường trên khuyên sang Thì còn thay mặt nứng như người Hoa tông biết một mình Như quên hết trống lầu xanh. Thương nhau đất đất đất về chi mình. Nghe trời còn đã \n",
            "----- diversity: 1.0\n",
            "----- Generating with seed: \"Trăm năm trong cõi người ta chữ tình chữ\"\n",
            "Trăm năm trong cõi người ta chữ tình chữ thay. Phúc nham trên mả chuột sấu then Bỗn dàng đằng: Hay rằng: Từ còn kóa vừa tòi Đạ tình phải bình xong chiêm thường. Khi song cũ cây mới đăm cửa Thân ở mắt đến tày Bân là trước ghét nên rìa đời Người dâu háu duyu đổi thở đằng Kến thanh tôi dần oan nhừa ngần. Rằng: Nguyên phải bừa dám ở còn Tin mưu nối lảo đường Trông đầy cũng giá đầy vi phới vào. Mà thay thướng chạy sốt trường thặc cho. Ra về \n",
            "\n",
            "Epoch 00028: saving model to training_1/kerascp.ckpt\n",
            "Epoch 29/60\n",
            "34162/34162 [==============================] - 24s 699us/step - loss: 1.0876\n",
            "\n",
            "----- Generating text after Epoch: 28\n",
            "----- diversity: 0.01\n",
            "----- Generating with seed: \"Trăm năm trong cõi người ta chữ tình chữ\"\n",
            "Trăm năm trong cõi người ta chữ tình chữ tra. Đước trong chiếc là có vào dạy đi. Thong dong như gió lạc đồng thư rằng: Chàng ra chẳng thấy năn này cho chi. Hoa Hoa thấy mặt nhà Thân tà hoa ngọn đôi mai ChạH thương Hiếu gọi vàng Vi thâm huốc sắH Kiều cho chi ròng đưa tra. Khuôn trong chẳng biết lời như thầy Chẳng hoa kể hết mội màu da mấy phong. Nghĩ nàng cho vụi một mình Như chào chiếc gá bấy là ngoài Bảy thuHa đươnH gió cất một trời. Đ\n",
            "----- diversity: 0.2\n",
            "----- Generating with seed: \"Trăm năm trong cõi người ta chữ tình chữ\"\n",
            "Trăm năm trong cõi người ta chữ tình chữ tra. Nghĩ nàng còn thế hồng mà chi. Những nàng cho thế nào Trăm chi khi với chút nghĩa bài Cho nhà cho vẹn mạ chời thi mình Nả đàn thế nKi thấy hế nàng. Nàng càngKi chưa bề cho conK Dưới như dười có suyên châu giem bài. Người dường cũng những người thuyền Tiếng trần kia bấy lấy người này về. Những là chiếu gió cát trong mới trời. Người dường cũng những người thuyền Đàn còn thuyền đường thi hết đư\n",
            "----- diversity: 1.0\n",
            "----- Generating with seed: \"Trăm năm trong cõi người ta chữ tình chữ\"\n",
            "Trăm năm trong cõi người ta chữ tình chữ đây. Gang lang biết mạt thư rình: Tìm duyên cho cho thân Hảng mình đa nên lửa do tdong tư mương. Giác DuyHa lắm ngọc bà ta Cánh cờ lường trước ước đời mà ra canh. KhéH nước cách rời Tiên Tam sư DHuíng ngồi về sầu xa.Kát riêng như tị mừng rọng đà tvc thâm. Như này đã tró oám bao vỗi này. ĐướK trần sâu giục xong dài dài. Nghìn vàng háp thúc mà xa xanh hên bàn. Đáoạ công HKh txHắp tình chẳnK xuôn. T\n",
            "\n",
            "Epoch 00029: saving model to training_1/kerascp.ckpt\n",
            "Epoch 30/60\n",
            "34162/34162 [==============================] - 24s 695us/step - loss: 1.1497\n",
            "\n",
            "----- Generating text after Epoch: 29\n",
            "----- diversity: 0.01\n",
            "----- Generating with seed: \"Trăm năm trong cõi người ta chữ tình chữ\"\n",
            "Trăm năm trong cõi người ta chữ tình chữ tình. Như lời cũng mạ xuạn quanh thế này Chàng Vân nghe thế nào Trăm chi khi búi nhặt đường Trúc người thoản thấy bánh nhà thanh gia. Có người mà lại ã điều thì lạiK vào đưa châu. Đến trân sẽ cho thoa cho người nàng. Bâu giờ lạy chữ vật hoa là trang. Nàng rằng Thi tháo mặt đường Thêu đường chút thì lời Chp nhờ bước chải chiều nửa sa huyền. Trước sao đạnh thấy luy thoa. lòng như Tiền nSiKh tướng s\n",
            "----- diversity: 0.2\n",
            "----- Generating with seed: \"Trăm năm trong cõi người ta chữ tình chữ\"\n",
            "Trăm năm trong cõi người ta chữ tình chữ tình. Nhau xin đây đã thế nòn Đủ đâu mưa bóng cKi đây Cửa nhau vàng nứng nghe thì thôi. Nghĩ nành đâu một mở thúc mà phương Trúc thay hồng mới thưa tình vinh hoa. Có nhau vười rõ trăng cũng tay thân: Gặp thaBồi bước lạch đà ra Trăm nămắn lâng đã chữ tồi chi một tra. Đước trong trăm thế thôi. Tìn thân mà lại nghĩ đà đủ đâu đó lường. Như hàng úi thấy lời nàng em. Đã sao the châu nghĩa đã duyên đườn\n",
            "----- diversity: 1.0\n",
            "----- Generating with seed: \"Trăm năm trong cõi người ta chữ tình chữ\"\n",
            "Trăm năm trong cõi người ta chữ tình chữ tình. Sinh khuyên lạn bóng càng dương trăng. Lượng tay phenh thon tọng nhiều Honi đòng giọt lậy nữa khưa Người tà mo chẳng bũ tiên nùng nùng. Đội vàng biết lên mên khúc thân Ba hân thì cũng có ngườâg. rơng chănớ Kiến lân lục giai làm nên. Tâm hrăng hỏi tạngả Trồm chi kẻi thì hồng đong tra. Đoàng quanh cỏ ngoàn trơ ngảy một bài tại ng. Nàng rằng: Mà đã đường bết Trời monn rũ chền hơi hải thần. Đầy\n",
            "\n",
            "Epoch 00030: saving model to training_1/kerascp.ckpt\n",
            "Epoch 31/60\n",
            "34162/34162 [==============================] - 24s 698us/step - loss: 1.3325\n",
            "\n",
            "----- Generating text after Epoch: 30\n",
            "----- diversity: 0.01\n",
            "----- Generating with seed: \"Trăm năm trong cõi người ta chữ tình chữ\"\n",
            "Trăm năm trong cõi người ta chữ tình chữ tìi. Đem đàn mới biết ruột đường cho ng. Đãy xin đã thế thấy nặt tra Bằng đào trước khác oan được sâu Chữ trong chẳng đã cho Kỏ chàng Khác ông dường mà thi thôi Đại chưKng khiKh thế này Chẳng hai lận báo một lời ra vân một lời. Hay Ki ngọn đức giấu ngoài bất chi mên. Trăm căng đã đến nàng đã thì chi. Đã đen về chiến sách thấy bánh châu Thì còn thế người ChKKi thKhèo theoKK chơi Các Dư đem về để h\n",
            "----- diversity: 0.2\n",
            "----- Generating with seed: \"Trăm năm trong cõi người ta chữ tình chữ\"\n",
            "Trăm năm trong cõi người ta chữ tình chữ tìi. Đà còn thêm lới chơi mái nọ Khéo tường chẳng hương cho người. Vân em Kiều nàng ấy chẳng hai sấu suya ngoài. Thương nhau dười cũnK ngọc co cây Khở eo nên chẳKi sáo song thân Khi thoận gọi mấy mình trờK chưa. KhKheo còn bốn gió đường Thấy như viện thức thì kia. Chữ vàn được đã cho đên đập theo Dqu rằng: Một giữa thế nào Trông Kiều như thư phắt bên làng spn. Rỉ chàng Từ mới trước sân Chẳng trăm\n",
            "----- diversity: 1.0\n",
            "----- Generating with seed: \"Trăm năm trong cõi người ta chữ tình chữ\"\n",
            "Trăm năm trong cõi người ta chữ tình chữ tri. Đã bày như tà giụm xanh xuâng tình vẹo tốy lòn. Bết đâu đác séy hoan Điều nàng chẳng nọ Chợt chút tướng cỏi người. Vân áa xuống ngọc trong cũng đeo mà ẳười rằng:. Nàng còn đóng chạ bóng năm tề ên gai Thệc tuyên chến kiKh thắm lầy. Ngày vầy lứn chủ đấng. kiếp Sinh Hỏi giãi bước chề chiệu huơn mối vào. Vụ bài nỗi dại lượp càng Dùi chi cưa đạt huy lu xuân bành. Sinh là cong biết xất thấy trốt b\n",
            "\n",
            "Epoch 00031: saving model to training_1/kerascp.ckpt\n",
            "Epoch 32/60\n",
            "34162/34162 [==============================] - 24s 699us/step - loss: 1.4336\n",
            "\n",
            "----- Generating text after Epoch: 31\n",
            "----- diversity: 0.01\n",
            "----- Generating with seed: \"Trăm năm trong cõi người ta chữ tình chữ\"\n",
            "Trăm năm trong cõi người ta chữ tình chữ ta. Được yên được một thôi CDu rằng: Hua tấp mải tranh mấy lời Lần đây mà chẳng bất thanh mưa. Những là chẳng bạc sLi thì thôK Bốn cơ khóa kóp mưKi ra BấyLgiờ quê Lân Trăm nămKhai Trong dương được những ngày mà cho cLim xa. Rằng: Hoa ngượD châu e Bụi cây cũ quan thân Hai xưa mai LDgo quai thì thôi mới tLân lại trầm. Thoắt trong cqu nDư cho ba Giá đầy đem mấD là thưa Nghe đâu đLa xa xa mà chơi. Nà\n",
            "----- diversity: 0.2\n",
            "----- Generating with seed: \"Trăm năm trong cõi người ta chữ tình chữ\"\n",
            "Trăm năm trong cõi người ta chữ tình chữ ta. Được yên khi bán giải khKu đâu. Đã đây mới lấy mộtquân cho chi.Kuyên trả trước sang Trông còn thLm chiếc bao bàng Trăm cùng chẳng kẻ thẹn lLDng không phải cho ai. ĐeL người tDu nhớ chơi Cách Lân tẹn lối về sao. Nàng rằK mớD chút thì thôi Đà đây mái trước sau nhà ThLưc mD thLinh đã những thuyền Tình Dao ẹn mả chaq CũKg lòng chẳng đế ngoàB cho ai lòngKiều như thôi mLiết người chẳnK như thôi. Ng\n",
            "----- diversity: 1.0\n",
            "----- Generating with seed: \"Trăm năm trong cõi người ta chữ tình chữ\"\n",
            "Trăm năm trong cõi người ta chữ tình chữ ta. ối rời trước sất nước haLi điu. Thôi trùng đôi vi học vầng đLuKt. Một vànL buồm kia chút aDậy lòng đạy bạc một thày. Lm xong Bạnh lạy một ngoài cong nhưDu thôi. Hoa xeo trưới chẳng bóng ngày Giác Duyên thế nào về châqng mối vào. ượt đời nàng mLi xa gim LDToNg về chóng mắt Tươm con e có lứ đâu lại thôi. Lỡ rằng chi vò cay đà trầm Bấy tình gie chòng chLLiền mặt xem thâm Hay bèo bấy nVK chàLqu h\n",
            "\n",
            "Epoch 00032: saving model to training_1/kerascp.ckpt\n",
            "Epoch 33/60\n",
            "34162/34162 [==============================] - 24s 702us/step - loss: 1.5136\n",
            "\n",
            "----- Generating text after Epoch: 32\n",
            "----- diversity: 0.01\n",
            "----- Generating with seed: \"Trăm năm trong cõi người ta chữ tình chữ\"\n",
            "Trăm năm trong cõi người ta chữ tình chữ tình. Đưa đây miếp nỗi mình Thì còn thế này dài dây đây. Thôi thôi mình đã thiếp này trong Một cho đến thiếp gì Về chi cười chút nghĩa bSi Một lời nàng mới tình chuyKh. Vân trăm năm nỗi gia hau ỗi ra mây. Thong thân này thoa tìnhẹẹ người Còn trướĐg chưSng chiêmĐcờ chiĐcời bấy nhiêu ngoài xa. Buồng thuyền quảnh có mọi thì đường Trinh đà nửa cũ khai như thần Lân Trong nào trọn đâu TươmLng dang Đem \n",
            "----- diversity: 0.2\n",
            "----- Generating with seed: \"Trăm năm trong cõi người ta chữ tình chữ\"\n",
            "Trăm năm trong cõi người ta chữ tình chữ tình. Đưa trời buộc chạ lưu thi hoa Thề cùng như cấc một về cĐo hĐt trở Đm đôi nha Cong như tu thơ ngườLquốn thì thôi. ĐĐi đe tân lạ chiếu hồng Chu vào chén chải bán hoa Má ngàng thấy người mộtSnh nẹn the kẹ đào. Có như Đêm đưa về một Lâm Tin còn như vời chút nghĩa bao Một lời nào trả tay hồng VKh năm có người cũ gang không san. Có chi theo cũng nghĩa thì chi NgườK dường trời khách rời Thân này t\n",
            "----- diversity: 1.0\n",
            "----- Generating with seed: \"Trăm năm trong cõi người ta chữ tình chữ\"\n",
            "Trăm năm trong cõi người ta chữ tình chữ tình. Đầy này nàng Tới tan xoi. Dùng ắt lối hặp nào Cỗng liềng. Đã ra chạ ở mdong tẹLng bước trăng. ửa ra. NàngKi còn chút dưới đồng này về chuy. Một nhà cao bSầu thưa sáng lòng Trong sâu đa Bắt răm chiếc xe Kiệu nàng cho xập đầy giả paư đưa Chẳng phườ tưm chẹn hạc tin nửa sau mai tình. Tôm về cònq đĐKg chăng nối nhờ Lò đàn trạn đặt người con TKinh đà lậq trước sân lau lòng đâu. ái người trời lại\n",
            "\n",
            "Epoch 00033: saving model to training_1/kerascp.ckpt\n",
            "Epoch 34/60\n",
            "34162/34162 [==============================] - 24s 702us/step - loss: 1.3930\n",
            "\n",
            "----- Generating text after Epoch: 33\n",
            "----- diversity: 0.01\n",
            "----- Generating with seed: \"Trăm năm trong cõi người ta chữ tình chữ\"\n",
            "Trăm năm trong cõi người ta chữ tình chữ tồi. Thương thân phận đã mặn ngườiKiê có lần. Trong đĐng tB với người chị vì tây. Mấy lời người cũ trong đã saoĐể đời nửa bóng chàng Một lòng thi tBCong một lời nàng tủq hay. Đã lời nquựg như ngận đâu Tìm nhiNKBộc vâng với then Lạ gâm trước sươngĐ hàng Trời đôi đìqu quả thất nước như NqBqng ra đường xuống thiênC Sinh làng như tỉ hai Chàng em lại Nỗi ngườiMp trước sao CCgần Nghe thế nào đã theo Lạ\n",
            "----- diversity: 0.2\n",
            "----- Generating with seed: \"Trăm năm trong cõi người ta chữ tình chữ\"\n",
            "Trăm năm trong cõi người ta chữ tình chữ tồi. Nghĩ đi đồng thấy người dàng Bên lòng đau Đến trăng khNu gió lời Thương thân lại bóng bột nhàN đòng không mới traN ngồi xanh làm trChi người Người sau một lối mìnhNăn đi đôKg lang. Lượng đừng như gieo nquỳ hùng vàng chuyên. Bây giờ lạc mộ chàngNKKh về sa miĐi đa rụn là xang. Có ĐCh lòngNg tqCo đã dạy màng dường trò:. TrHo thân chút nghĩa điều Thì đà đằng chút phậĐ ngưBi dàoqra Trông tiên đượ\n",
            "----- diversity: 1.0\n",
            "----- Generating with seed: \"Trăm năm trong cõi người ta chữ tình chữ\"\n",
            "Trăm năm trong cõi người ta chữ tình chữ tồi. Một lời giải ngoài trời rồi CCu là vũng tiếng ấp cửa Dô vì điêu thật khó Từ mình đà cao dầu hôi. Cặng sanq đi Bết đêm đĐng đã dày pKD chừn ở BChỗng dành mơ lại phúc thì còn saL. BóKhaL len g Biết trì cCon người nqNg đườngNg làm thói dương vào xa mặc màng. Một lầu phận Nước đường ba ngang vì ve. Sồng quanH lạn độn hồng hoa rò cỏi đường. Lời khi vùng với khưa Chạy thân người giấu nhẹ người chị\n",
            "\n",
            "Epoch 00034: saving model to training_1/kerascp.ckpt\n",
            "Epoch 35/60\n",
            "34162/34162 [==============================] - 24s 700us/step - loss: 1.8213\n",
            "\n",
            "----- Generating text after Epoch: 34\n",
            "----- diversity: 0.01\n",
            "----- Generating with seed: \"Trăm năm trong cõi người ta chữ tình chữ\"\n",
            "Trăm năm trong cõi người ta chữ tình chữ ta. Đà canh còn thế trước sân Thấy như bi chốn nồng Tri tà chi đã thiếp tình được màn. Ngày xưa như bán gia hua tình thân. Nàng rằng: Thúc gát ngày một tay. Nủ người nào trác như kiền Thấy hồng như binh Huốc sau hồng đi xuân đi đô đi. Trời trông nhặt chững đào Giáp dàng thấy nết rời Nỗi này với kể hợp chưa phai. Cúi đòn chi báo bác này Chẳng thang chẳng hỏi nhục tai bình châu. Thấy Biệu xem mối đ\n",
            "----- diversity: 0.2\n",
            "----- Generating with seed: \"Trăm năm trong cõi người ta chữ tình chữ\"\n",
            "Trăm năm trong cõi người ta chữ tình chữ ta. Đà canh còn thỏ con Hoa cùng biết sâu một tình Thân sau làm tri đã một lầu Làm gai thật Hạt li trời Thiếp ai khu biết ruột rĐà vào đâu Tiếng thân chẳng thỏi nhi thần Lạ ldng dười đã Sinh châu vàng ba hoa đệnh than. Có ngan đưĐchứ gió thì chi đây cho Ba la. Trước hồng được mộ Vân trời Thấy như vời cũng giấu như sa Nghe lời nghe tiếng mây Thân là như chốc liều cho đi Thì còn ngườủ đâu thế này C\n",
            "----- diversity: 1.0\n",
            "----- Generating with seed: \"Trăm năm trong cõi người ta chữ tình chữ\"\n",
            "Trăm năm trong cõi người ta chữ tình chữ tình. Một lời ta đã bức thì chơi Người tài nào có say hồng Thênh nhắm biết oắt khế nhường Tri tuồng thẳn giữa chén bõ ường họa đời. Điết tay vâng kiếm càng kiều thổ quởng buộc chửa bay. Tiếng cơ lần đã ngoài không nghe nắt giường theo. Rắp con chưa cem sớc gồi lường phải xao. Cụ đoạn miềng mắt đấu quổ thuảoứ vào minh. Nặng này nửa sẻ tậc mên đem đưa toxa. Càng chất khóa vời khác ếta sầu. Ngạy xin\n",
            "\n",
            "Epoch 00035: saving model to training_1/kerascp.ckpt\n",
            "Epoch 36/60\n",
            "34162/34162 [==============================] - 24s 690us/step - loss: 0.8821\n",
            "\n",
            "----- Generating text after Epoch: 35\n",
            "----- diversity: 0.01\n",
            "----- Generating with seed: \"Trăm năm trong cõi người ta chữ tình chữ\"\n",
            "Trăm năm trong cõi người ta chữ tình chữ tìi. Đem đòng nổi trước sân Chẳng như tương sắc sắc sơi ba họt hơi. Cùng nhau vời ngựa thuơn trăng vào đâu. Bây gió với lên sao Tiểu thư cười gió có tay người thế ngày. Trông chăng lại gặp tần mà chơi. Nàng rằng: Hoa thấy bóng đường Trăm chi tữ hãy chiếc bay Chẳng thanh chẳng vệt có ngoài trời Trông còn thế này một người thướng non xa. Buồng thuên trruy ấy cho về sâu. Thương thân lậc tròn được gi\n",
            "----- diversity: 0.2\n",
            "----- Generating with seed: \"Trăm năm trong cõi người ta chữ tình chữ\"\n",
            "Trăm năm trong cõi người ta chữ tình chữ tìi. Đem đòng nổi trước sân Chg khi giem bước châu vui Chàng Vân nói thì chi cân chị vì vì mà thôi. Nghìn vàng châu cũng sau một thay. Nghìn vàng còn thiếp gội thờ mà thi. Thật đôi mới ráp đường Tiếng sanh một lấy năn ngoài tròng châu Thiến sam có ngọc thiếp gì. Nghìn thâu sư mọi hải người thuyền quê bà. Bấy giờ đầy bóng con Nghìn vàng chăng bấy lời Chi chàng Tiệc giem đào tương tri. Nghìn vàng c\n",
            "----- diversity: 1.0\n",
            "----- Generating with seed: \"Trăm năm trong cõi người ta chữ tình chữ\"\n",
            "Trăm năm trong cõi người ta chữ tình chữ tìch. Sinh lành biết có ngày mai Nên châu vừa sơn với người. Ngày xuân sanh sớc sớc gơm tối nghiêng tri. Lần sao tay bà Hoa gần Hốc gọi lê cươn tình. Nỗi giờ vận mạ nhiêm đến trâu đỏng son. Tuyết sương biết một lầu hào Cửa thi nước khi tòi hay Cảnh là lo sem bốn rành dày hùng suy. Đẩy vân ngả mây hến đôi sáng trần. ánh nhi thi thán no đền bốn hoa thầm. Bâng xaoh tròn đã đất vắng ra ra uạ. Những l\n",
            "\n",
            "Epoch 00036: saving model to training_1/kerascp.ckpt\n",
            "Epoch 37/60\n",
            "34162/34162 [==============================] - 24s 698us/step - loss: 0.8623\n",
            "\n",
            "----- Generating text after Epoch: 36\n",
            "----- diversity: 0.01\n",
            "----- Generating with seed: \"Trăm năm trong cõi người ta chữ tình chữ\"\n",
            "Trăm năm trong cõi người ta chữ tình chữ tình. Được lời như chẳng vắn thi hình thênh thì san. Chữ tài nàng cũng thêm đường trời Nghìn vàng cách hỏi tra: Có ngồi đương chẳng về chi Ng đà xu xanh hai Chẳng thầy chu không mới bước lược sôi. Trong danh thất khách thường trước sao. Chữ tray thương íc đường cho khi hương. Được lang thoan áp dười dài Kiều nhau đưa thấy lạy mành thôi ngay:. Buộc chu bời gió chữ bối thần là hoa. Chút phầy cho ch\n",
            "----- diversity: 0.2\n",
            "----- Generating with seed: \"Trăm năm trong cõi người ta chữ tình chữ\"\n",
            "Trăm năm trong cõi người ta chữ tình chữ tình. Được lời như chẳng vật trời cho ai sất sầu. Những là được nửa khúc bày đà đau. Thoắt trông như tấc gia rụng ràng thần. Bóng trong như chẳng đá tơ Cúi vàng chưa kịp mười phang. Sinh càng nhặt đến thì Tiếng càng đà đục buồn ba Nghe dàng tròng dại một mùi nhười sôn. Những là đưr có khuyên Hay điền vừa rạng lời người tha. Ray tình vi thắn là Thấy là đưa mới tóc tìmi hai. Cúm xin đã gọi năn cầu \n",
            "----- diversity: 1.0\n",
            "----- Generating with seed: \"Trăm năm trong cõi người ta chữ tình chữ\"\n",
            "Trăm năm trong cõi người ta chữ tình chữ ve. Dìnhà bao thấy xiết bao suyền. Được ia đạn lữa trước cầu cho về. Só vàng như tống nhất năn thanh hàm hít thôi. Nước đàn thuốc lại trặng đầu nhau Khaoảo tôi rạng ví rước như cha lên chen. Vai beo mt gió có tâm vănh thẹn trông. Hay hèn thả gọi là thân cữ gầm. vàng sau. Mảy nền nghe kia đã dẽ cùi dài đềề. Dạy rằng: Riêng lra sẽ tra dài Thên lăng đã tỏ cho miền là thụ kiề. Sự đưa truyền đột đoạn \n",
            "\n",
            "Epoch 00037: saving model to training_1/kerascp.ckpt\n",
            "Epoch 38/60\n",
            "34162/34162 [==============================] - 24s 696us/step - loss: 0.8419\n",
            "\n",
            "----- Generating text after Epoch: 37\n",
            "----- diversity: 0.01\n",
            "----- Generating with seed: \"Trăm năm trong cõi người ta chữ tình chữ\"\n",
            "Trăm năm trong cõi người ta chữ tình chữ tình. Đưa phong chàng cũng trong có sai. Có nhà cho đến thế nào Trăm năm thì chi mặt ràng Trời khi báo biết lời nàng ngay. Thồng quanh còn cũng ngoài trời châu Trai vàng cách đường trầm dài. Tú bày theo nói thì tra làn đi. Thanh thên truyền đã ránh liều Thân này theo gió cát tranh nàng thầm. Thành thên truyền đã ráng thầm Liều ta có nguyền đàng đàng. Trời dông thoản thế này Còn người truyệt kiếp \n",
            "----- diversity: 0.2\n",
            "----- Generating with seed: \"Trăm năm trong cõi người ta chữ tình chữ\"\n",
            "Trăm năm trong cõi người ta chữ tình chữ tình. Nàng rằng: Thật chó ba bàng Trăm câu với năn sau Thì còn trăm tối ra đây Chẳng thầy cho đến thì cho can. Có chàng chưa thong theo cho xuân Đã đem mở thúc tin nghia Con ngân trời trọng đầu tha một tra. Đã đây miếp si hai Chữ tài lại truyệt cho người sau Thì còng nghìn chật đầm châu Càm chi cười chút duyên bà trong. Thú  ân theo cũng trong chiêm bơi. Nỗi nàng ngà khấp khuất thấy tra vào Chào \n",
            "----- diversity: 1.0\n",
            "----- Generating with seed: \"Trăm năm trong cõi người ta chữ tình chữ\"\n",
            "Trăm năm trong cõi người ta chữ tình chữ tình. Xót thay hồng các băng lầu mại có biếng. Là cang đời nào thấyya bột vần Một xờ lời mới đá rầu muiên là thẻi. ích thầm. Nàng vào gió mưa chày ai Nuôn người mệ vuốn phi đường dưa. Thẹn này phong biết phông xuống: Thong the còn mản lại nhiêu nỗi xa. ã đề đã tháng chiêu trong Bởi vàng phụ hoa cười kiều tệnh hương. Nhị ai đã thế tôn má cu. Hà tay thôi mới gởi vào dậy hương ba họt. Nghày chàng vớ\n",
            "\n",
            "Epoch 00038: saving model to training_1/kerascp.ckpt\n",
            "Epoch 39/60\n",
            "34162/34162 [==============================] - 24s 700us/step - loss: 0.8171\n",
            "\n",
            "----- Generating text after Epoch: 38\n",
            "----- diversity: 0.01\n",
            "----- Generating with seed: \"Trăm năm trong cõi người ta chữ tình chữ\"\n",
            "Trăm năm trong cõi người ta chữ tình chữ tình. Bóng cho đến thế này mà hoa. Trong say một mụ một mừng người thuyền. Hay bèo biết sớm đàn nhiêng liền ngoài. Bây giờ vừa cất say ra thì Trong trần mưa sán biết một thay Cúi đàn việt Kiếp này bà Thà quân có sa răng khuya Má đào trinh Trúc mà thưa thôi minh thôi. Nghe lời nửa một thiếng người thế này. Trước sao học thấy nhau đần vội vàng. Giác Duyên chung cũng gien người thế này. Trước sao họ\n",
            "----- diversity: 0.2\n",
            "----- Generating with seed: \"Trăm năm trong cõi người ta chữ tình chữ\"\n",
            "Trăm năm trong cõi người ta chữ tình chữ tình. Bóng cho đến thế này mà chơi. Nàng rằng: Hay nước người chất theo tười. Thoắt tay bên khíp đã đành Thừa công mới cũng trong mà Kiều cho chiếc như tường cho đinh. Thong trong đã trắng người châu qua. Lời lôi thấp cho đi nặng người này chẳng qua. Đàng sông cho thế này Trời không mới cũng sang đầy đi đây. Đàn che nướch. Ngọn đền đổ lường Trong trong đã đầy đi đây đég bay. Thồng thân khi đến ba\n",
            "----- diversity: 1.0\n",
            "----- Generating with seed: \"Trăm năm trong cõi người ta chữ tình chữ\"\n",
            "Trăm năm trong cõi người ta chữ tình chữ ten. Bảo rên dạy dạt một mời khi gình. không nguyện ơi hết đền Kin đưa chút dặm xa gì. Sinh vàng nhau mọi bược hoa đưa Tuyện hày cho về lũ thần Sũng người trú nữ ngạ kia cấu hay. Vâng khay khầy mới thế mình. Thao khi bể mặt âm Theo lời trống ảoảng vén chiều thường cho dặng. ế xuân tuyên Càng như giật một vai đề nửa vào. Bể thông cán trước đường tư miệt trruyhà Khuê mêng chạ mày phương Nghe lời nậ\n",
            "\n",
            "Epoch 00039: saving model to training_1/kerascp.ckpt\n",
            "Epoch 40/60\n",
            " 6400/34162 [====>.........................] - ETA: 19s - loss: 0.7134"
          ],
          "name": "stdout"
        },
        {
          "output_type": "error",
          "ename": "KeyboardInterrupt",
          "evalue": "ignored",
          "traceback": [
            "\u001b[0;31m---------------------------------------------------------------------------\u001b[0m",
            "\u001b[0;31mKeyboardInterrupt\u001b[0m                         Traceback (most recent call last)",
            "\u001b[0;32m<ipython-input-3-540f6b368857>\u001b[0m in \u001b[0;36m<module>\u001b[0;34m()\u001b[0m\n\u001b[1;32m    191\u001b[0m           \u001b[0mbatch_size\u001b[0m\u001b[0;34m=\u001b[0m\u001b[0;36m128\u001b[0m\u001b[0;34m,\u001b[0m\u001b[0;34m\u001b[0m\u001b[0;34m\u001b[0m\u001b[0m\n\u001b[1;32m    192\u001b[0m           \u001b[0mepochs\u001b[0m\u001b[0;34m=\u001b[0m\u001b[0;36m60\u001b[0m\u001b[0;34m,\u001b[0m\u001b[0;34m\u001b[0m\u001b[0;34m\u001b[0m\u001b[0m\n\u001b[0;32m--> 193\u001b[0;31m           callbacks=[print_callback, cp_callback])\n\u001b[0m",
            "\u001b[0;32m/usr/local/lib/python3.6/dist-packages/keras/engine/training.py\u001b[0m in \u001b[0;36mfit\u001b[0;34m(self, x, y, batch_size, epochs, verbose, callbacks, validation_split, validation_data, shuffle, class_weight, sample_weight, initial_epoch, steps_per_epoch, validation_steps, **kwargs)\u001b[0m\n\u001b[1;32m   1037\u001b[0m                                         \u001b[0minitial_epoch\u001b[0m\u001b[0;34m=\u001b[0m\u001b[0minitial_epoch\u001b[0m\u001b[0;34m,\u001b[0m\u001b[0;34m\u001b[0m\u001b[0;34m\u001b[0m\u001b[0m\n\u001b[1;32m   1038\u001b[0m                                         \u001b[0msteps_per_epoch\u001b[0m\u001b[0;34m=\u001b[0m\u001b[0msteps_per_epoch\u001b[0m\u001b[0;34m,\u001b[0m\u001b[0;34m\u001b[0m\u001b[0;34m\u001b[0m\u001b[0m\n\u001b[0;32m-> 1039\u001b[0;31m                                         validation_steps=validation_steps)\n\u001b[0m\u001b[1;32m   1040\u001b[0m \u001b[0;34m\u001b[0m\u001b[0m\n\u001b[1;32m   1041\u001b[0m     def evaluate(self, x=None, y=None,\n",
            "\u001b[0;32m/usr/local/lib/python3.6/dist-packages/keras/engine/training_arrays.py\u001b[0m in \u001b[0;36mfit_loop\u001b[0;34m(model, f, ins, out_labels, batch_size, epochs, verbose, callbacks, val_f, val_ins, shuffle, callback_metrics, initial_epoch, steps_per_epoch, validation_steps)\u001b[0m\n\u001b[1;32m    197\u001b[0m                     \u001b[0mins_batch\u001b[0m\u001b[0;34m[\u001b[0m\u001b[0mi\u001b[0m\u001b[0;34m]\u001b[0m \u001b[0;34m=\u001b[0m \u001b[0mins_batch\u001b[0m\u001b[0;34m[\u001b[0m\u001b[0mi\u001b[0m\u001b[0;34m]\u001b[0m\u001b[0;34m.\u001b[0m\u001b[0mtoarray\u001b[0m\u001b[0;34m(\u001b[0m\u001b[0;34m)\u001b[0m\u001b[0;34m\u001b[0m\u001b[0;34m\u001b[0m\u001b[0m\n\u001b[1;32m    198\u001b[0m \u001b[0;34m\u001b[0m\u001b[0m\n\u001b[0;32m--> 199\u001b[0;31m                 \u001b[0mouts\u001b[0m \u001b[0;34m=\u001b[0m \u001b[0mf\u001b[0m\u001b[0;34m(\u001b[0m\u001b[0mins_batch\u001b[0m\u001b[0;34m)\u001b[0m\u001b[0;34m\u001b[0m\u001b[0;34m\u001b[0m\u001b[0m\n\u001b[0m\u001b[1;32m    200\u001b[0m                 \u001b[0mouts\u001b[0m \u001b[0;34m=\u001b[0m \u001b[0mto_list\u001b[0m\u001b[0;34m(\u001b[0m\u001b[0mouts\u001b[0m\u001b[0;34m)\u001b[0m\u001b[0;34m\u001b[0m\u001b[0;34m\u001b[0m\u001b[0m\n\u001b[1;32m    201\u001b[0m                 \u001b[0;32mfor\u001b[0m \u001b[0ml\u001b[0m\u001b[0;34m,\u001b[0m \u001b[0mo\u001b[0m \u001b[0;32min\u001b[0m \u001b[0mzip\u001b[0m\u001b[0;34m(\u001b[0m\u001b[0mout_labels\u001b[0m\u001b[0;34m,\u001b[0m \u001b[0mouts\u001b[0m\u001b[0;34m)\u001b[0m\u001b[0;34m:\u001b[0m\u001b[0;34m\u001b[0m\u001b[0;34m\u001b[0m\u001b[0m\n",
            "\u001b[0;32m/usr/local/lib/python3.6/dist-packages/keras/backend/tensorflow_backend.py\u001b[0m in \u001b[0;36m__call__\u001b[0;34m(self, inputs)\u001b[0m\n\u001b[1;32m   2713\u001b[0m                 \u001b[0;32mreturn\u001b[0m \u001b[0mself\u001b[0m\u001b[0;34m.\u001b[0m\u001b[0m_legacy_call\u001b[0m\u001b[0;34m(\u001b[0m\u001b[0minputs\u001b[0m\u001b[0;34m)\u001b[0m\u001b[0;34m\u001b[0m\u001b[0;34m\u001b[0m\u001b[0m\n\u001b[1;32m   2714\u001b[0m \u001b[0;34m\u001b[0m\u001b[0m\n\u001b[0;32m-> 2715\u001b[0;31m             \u001b[0;32mreturn\u001b[0m \u001b[0mself\u001b[0m\u001b[0;34m.\u001b[0m\u001b[0m_call\u001b[0m\u001b[0;34m(\u001b[0m\u001b[0minputs\u001b[0m\u001b[0;34m)\u001b[0m\u001b[0;34m\u001b[0m\u001b[0;34m\u001b[0m\u001b[0m\n\u001b[0m\u001b[1;32m   2716\u001b[0m         \u001b[0;32melse\u001b[0m\u001b[0;34m:\u001b[0m\u001b[0;34m\u001b[0m\u001b[0;34m\u001b[0m\u001b[0m\n\u001b[1;32m   2717\u001b[0m             \u001b[0;32mif\u001b[0m \u001b[0mpy_any\u001b[0m\u001b[0;34m(\u001b[0m\u001b[0mis_tensor\u001b[0m\u001b[0;34m(\u001b[0m\u001b[0mx\u001b[0m\u001b[0;34m)\u001b[0m \u001b[0;32mfor\u001b[0m \u001b[0mx\u001b[0m \u001b[0;32min\u001b[0m \u001b[0minputs\u001b[0m\u001b[0;34m)\u001b[0m\u001b[0;34m:\u001b[0m\u001b[0;34m\u001b[0m\u001b[0;34m\u001b[0m\u001b[0m\n",
            "\u001b[0;32m/usr/local/lib/python3.6/dist-packages/keras/backend/tensorflow_backend.py\u001b[0m in \u001b[0;36m_call\u001b[0;34m(self, inputs)\u001b[0m\n\u001b[1;32m   2673\u001b[0m             \u001b[0mfetched\u001b[0m \u001b[0;34m=\u001b[0m \u001b[0mself\u001b[0m\u001b[0;34m.\u001b[0m\u001b[0m_callable_fn\u001b[0m\u001b[0;34m(\u001b[0m\u001b[0;34m*\u001b[0m\u001b[0marray_vals\u001b[0m\u001b[0;34m,\u001b[0m \u001b[0mrun_metadata\u001b[0m\u001b[0;34m=\u001b[0m\u001b[0mself\u001b[0m\u001b[0;34m.\u001b[0m\u001b[0mrun_metadata\u001b[0m\u001b[0;34m)\u001b[0m\u001b[0;34m\u001b[0m\u001b[0;34m\u001b[0m\u001b[0m\n\u001b[1;32m   2674\u001b[0m         \u001b[0;32melse\u001b[0m\u001b[0;34m:\u001b[0m\u001b[0;34m\u001b[0m\u001b[0;34m\u001b[0m\u001b[0m\n\u001b[0;32m-> 2675\u001b[0;31m             \u001b[0mfetched\u001b[0m \u001b[0;34m=\u001b[0m \u001b[0mself\u001b[0m\u001b[0;34m.\u001b[0m\u001b[0m_callable_fn\u001b[0m\u001b[0;34m(\u001b[0m\u001b[0;34m*\u001b[0m\u001b[0marray_vals\u001b[0m\u001b[0;34m)\u001b[0m\u001b[0;34m\u001b[0m\u001b[0;34m\u001b[0m\u001b[0m\n\u001b[0m\u001b[1;32m   2676\u001b[0m         \u001b[0;32mreturn\u001b[0m \u001b[0mfetched\u001b[0m\u001b[0;34m[\u001b[0m\u001b[0;34m:\u001b[0m\u001b[0mlen\u001b[0m\u001b[0;34m(\u001b[0m\u001b[0mself\u001b[0m\u001b[0;34m.\u001b[0m\u001b[0moutputs\u001b[0m\u001b[0;34m)\u001b[0m\u001b[0;34m]\u001b[0m\u001b[0;34m\u001b[0m\u001b[0;34m\u001b[0m\u001b[0m\n\u001b[1;32m   2677\u001b[0m \u001b[0;34m\u001b[0m\u001b[0m\n",
            "\u001b[0;32m/usr/local/lib/python3.6/dist-packages/tensorflow/python/client/session.py\u001b[0m in \u001b[0;36m__call__\u001b[0;34m(self, *args, **kwargs)\u001b[0m\n\u001b[1;32m   1437\u001b[0m           ret = tf_session.TF_SessionRunCallable(\n\u001b[1;32m   1438\u001b[0m               \u001b[0mself\u001b[0m\u001b[0;34m.\u001b[0m\u001b[0m_session\u001b[0m\u001b[0;34m.\u001b[0m\u001b[0m_session\u001b[0m\u001b[0;34m,\u001b[0m \u001b[0mself\u001b[0m\u001b[0;34m.\u001b[0m\u001b[0m_handle\u001b[0m\u001b[0;34m,\u001b[0m \u001b[0margs\u001b[0m\u001b[0;34m,\u001b[0m \u001b[0mstatus\u001b[0m\u001b[0;34m,\u001b[0m\u001b[0;34m\u001b[0m\u001b[0;34m\u001b[0m\u001b[0m\n\u001b[0;32m-> 1439\u001b[0;31m               run_metadata_ptr)\n\u001b[0m\u001b[1;32m   1440\u001b[0m         \u001b[0;32mif\u001b[0m \u001b[0mrun_metadata\u001b[0m\u001b[0;34m:\u001b[0m\u001b[0;34m\u001b[0m\u001b[0;34m\u001b[0m\u001b[0m\n\u001b[1;32m   1441\u001b[0m           \u001b[0mproto_data\u001b[0m \u001b[0;34m=\u001b[0m \u001b[0mtf_session\u001b[0m\u001b[0;34m.\u001b[0m\u001b[0mTF_GetBuffer\u001b[0m\u001b[0;34m(\u001b[0m\u001b[0mrun_metadata_ptr\u001b[0m\u001b[0;34m)\u001b[0m\u001b[0;34m\u001b[0m\u001b[0;34m\u001b[0m\u001b[0m\n",
            "\u001b[0;31mKeyboardInterrupt\u001b[0m: "
          ]
        }
      ]
    },
    {
      "metadata": {
        "id": "tZKNzBqvXD-1",
        "colab_type": "code",
        "colab": {
          "base_uri": "https://localhost:8080/",
          "height": 5250
        },
        "outputId": "3bd22e06-8a12-4984-dfc4-0983cd7aa3bf"
      },
      "cell_type": "code",
      "source": [
        "model.fit(x, y,\n",
        "          batch_size=128,\n",
        "          epochs=60,\n",
        "          callbacks=[print_callback, cp_callback])"
      ],
      "execution_count": 5,
      "outputs": [
        {
          "output_type": "stream",
          "text": [
            "Epoch 1/60\n",
            "34162/34162 [==============================] - 23s 687us/step - loss: 0.4236\n",
            "\n",
            "----- Generating text after Epoch: 0\n",
            "----- diversity: 0.01\n",
            "----- Generating with seed: \"Trăm năm trong cõi người ta chữ tình chữ\"\n",
            "Trăm năm trong cõi người ta chữ tình chữ từ th"
          ],
          "name": "stdout"
        },
        {
          "output_type": "stream",
          "text": [
            "/usr/local/lib/python3.6/dist-packages/ipykernel_launcher.py:85: RuntimeWarning: divide by zero encountered in log\n"
          ],
          "name": "stderr"
        },
        {
          "output_type": "stream",
          "text": [
            "a. Vùng nghe với thế thôi nàng làm chờ. Đã sang là đã mấy phương nào phảng kiều. Bâuyên lên thế thì thôi Đa hay khi muốn bạc điều về đây. Cọi chàng đã biết theo cho bin. Rằng: Tôi biến sẵm bóng từ nào mưa ra. Nàng rằng: Trời nghe bọn hoa Du là trước sân cầu bết cầu ngần. Bâuyên gió chự sương là May sanh tự gió lời nào mình. Thưa hoa thừa cần xanh la đời nồng. Những là đắt như cuồng chi mình.\n",
            "----- diversity: 0.2\n",
            "----- Generating with seed: \"Trăm năm trong cõi người ta chữ tình chữ\"\n",
            "Trăm năm trong cõi người ta chữ tình chữ từ thấy hoa. Cùng nhau nước mụ ấm khi đồng một lầu. Vì tra một đủ ngoài cầu cam đầm. Tiểu thư được tháng năn mây Trăm năm tưới thế này Cho vào trong như chút nàng Đem điều nửa biết giãu hương là Một nhà cho trò khuất thanh hàn Chăng rằng: Hay những vốn câu với nàng. Túc nàng với thế tường Mà chăn cầy mà rụng rời Nhìn hồng là chi khọn người này kha. Đã hùng là chạ cùng dần bồng chung. Nghe tình mọ\n",
            "----- diversity: 1.0\n",
            "----- Generating with seed: \"Trăm năm trong cõi người ta chữ tình chữ\"\n",
            "Trăm năm trong cõi người ta chữ tình chữ nợ bầy. Nghĩ càng mà lại tiếng rày như chưa Dỡ dò một mình vội vàng tặt thân. Hoa rằng: Còn linh được già chương là. Ru rằng giở đặc bên là như chào. Khi ôàc oặng ngọn ngồi dọn dần hồn sông. Lòng minh riêng hai . Sang vào đống xót nghia sú sứt mây. Tú bài của một mọi khi gay. Trời may nhắngxm đến xuôi đa Kiếp cay mà liến xa gần gọi là đây. oắt trong khuyên gió tạ tự tình chung cam. uạ coàng cũng \n",
            "\n",
            "Epoch 00001: saving model to training_1/kerascp.ckpt\n",
            "Epoch 2/60\n",
            "34162/34162 [==============================] - 24s 689us/step - loss: 0.4136\n",
            "\n",
            "----- Generating text after Epoch: 1\n",
            "----- diversity: 0.01\n",
            "----- Generating with seed: \"Trăm năm trong cõi người ta chữ tình chữ\"\n",
            "Trăm năm trong cõi người ta chữ tình chữ tồi. Tiếng thân yến đã duyên đâu một vài. Đành lòng nàng nghe thương chẳng xuân Đối vàng lại nói là thật đường Người đâu mà lại thôi này hành đà xong. Mượn đây đã đến thế này Trăm nghe lời nàng về sau Dột lời sao dạy đuống chuyền là hay chào. Cượt sây chuyền đong là có binh thằng. Điếp trời biết một mình chung nao. Xót người trọng khuyểngi ệu điều trước ế người lau. Khi công có ngọc thề cho ai Ch\n",
            "----- diversity: 0.2\n",
            "----- Generating with seed: \"Trăm năm trong cõi người ta chữ tình chữ\"\n",
            "Trăm năm trong cõi người ta chữ tình chữ tồi. Tiếng thân yến đã duyên đâu một vài. Bây giờ gội vng đứng nhau Lượng gìm duyên trời rành Tiền nàng chăn có chưa bài Cớm chương thiến cửu báo bao bất lòng:. Thoan thân thế thấy còn thuê Thừa cầu ngơ nghe bấy lời Hà hồng liền mặt nứi là thôi. Đưa phong chuyện huốc trước đời Mà quanh Tin mọi vàng Lấy tình mà miệng dài Chung thân ch đi đền sương Còn trăm thấy hạy thay hế chưa kiều. đặng người lạ\n",
            "----- diversity: 1.0\n",
            "----- Generating with seed: \"Trăm năm trong cõi người ta chữ tình chữ\"\n",
            "Trăm năm trong cõi người ta chữ tình chữ tồi. Tiếng nàng vêng vn đrợi thương đà có mừa. Cợi ra số góc vàng đáph tường chiêm bao. Nghìn vàng nhhGi chuya ước uì chơi Chgoanh nhầm hồng thấy nét tiên đã duyên thôi. Vân rằng: Conh giấc y đã đành đà ru. Đào đời nứng đinh nách trong nàog. đòng lòng chị giọt nghiêng dần Khen mai tếm đương kha hễ với hương. Tin này gió mây góc trời trước sân lê. Hay như bư việng kia giời nàng vào mình. Thưa từ s\n",
            "\n",
            "Epoch 00002: saving model to training_1/kerascp.ckpt\n",
            "Epoch 3/60\n",
            "34162/34162 [==============================] - 23s 687us/step - loss: 0.4121\n",
            "\n",
            "----- Generating text after Epoch: 2\n",
            "----- diversity: 0.01\n",
            "----- Generating with seed: \"Trăm năm trong cõi người ta chữ tình chữ\"\n",
            "Trăm năm trong cõi người ta chữ tình chữ tình chung. Người muôn trước liễu vâng đến tơ họ Thay vàng cách trắng ta sình Thai thôi liễu gió thay Cũng nghe thật mrội chương qua Khéo trời tháp buột sùi hùy sã thơm rồi. Kiếp thư được một vội vội vào thế may. Năng kia ngọn ngơ trrả đi Đà đô duyên trở say Khi thay một lực ai đi đinh vvvch. Thiếp còn e nghĩ châu pho giờ Một lầu dồi lại thấy bên là hai Khéo ldg lạy một mình ra Tiểu thư được thấy\n",
            "----- diversity: 0.2\n",
            "----- Generating with seed: \"Trăm năm trong cõi người ta chữ tình chữ\"\n",
            "Trăm năm trong cõi người ta chữ tình chữ tình chung. Người muôn trước liễu vâng đến tơ họ Thay vàng cách trắng ta sắt bòng thêm.on trần. Một lầu sau những biết là đây đằng xảy doền. Cùng nhau nước thế này mà hoàng. Lần thâng thất tin đường thì cho ai. Trông lời nghe thế này rằng thầm: Người châu khuyết khác như sa Nghe lời như thác tQuởn tình Họa ngày dàu xuống thơm sớm đười. Một lầy phộn đấn thơ Cân thay thế mày bốn bề Này gien trắng t\n",
            "----- diversity: 1.0\n",
            "----- Generating with seed: \"Trăm năm trong cõi người ta chữ tình chữ\"\n",
            "Trăm năm trong cõi người ta chữ tình chữ tình. Đưa phần lại nợ một hai tri trâu. Cọt trần kia hỏi hiếu cùng xưa. Vân trong chưa thấy nết cời sấu hèo:. Nàng vào chẳng gió lên đưa Duyêng tôi lẽ hãa dường có người vô trông. Xót người thầm ôể ngần xem ngừng cao vì tay lời. Củn đầy mới bóng thừa nàng ởi ruy. Xôn ra cũng góc đầy lấy hùng đương tôi. Nghe lời nhọa qiếu là lại tiên m. Ngờ mặt bư vng một gói năm người. Người đâm gõnh cách tên miề\n",
            "\n",
            "Epoch 00003: saving model to training_1/kerascp.ckpt\n",
            "Epoch 4/60\n",
            "34162/34162 [==============================] - 23s 687us/step - loss: 0.3981\n",
            "\n",
            "----- Generating text after Epoch: 3\n",
            "----- diversity: 0.01\n",
            "----- Generating with seed: \"Trăm năm trong cõi người ta chữ tình chữ\"\n",
            "Trăm năm trong cõi người ta chữ tình chữ tình chiêm ba. Có phường cũng sau đi đi sau. Đến lời nàng nghe thế này Chạy chinh thương chớ phụng hương Trúi đà thế tương sất khi đầy Khi ốn khia rình chung đầu mách bàng. Người sao đi thánh ng dày khi huyên. Bắt sao đây đá thấy xưa Khép nhi sám bước dặm xem không dừng nghiên. Bắt người trọng hoa dường ở trời đã mặt dàm ruR. Hoa đường đã pháp suinh Một như chuyện vì tình Chàng thân phận đi đề sơ\n",
            "----- diversity: 0.2\n",
            "----- Generating with seed: \"Trăm năm trong cõi người ta chữ tình chữ\"\n",
            "Trăm năm trong cõi người ta chữ tình chữ tình chiêm. Sinh càng cũ khó khuya ơn ba hoa.ệp Thề còn chút báo non Kiều còn thề chương lên trăng vòng. Nghĩ càng thót thế tưới lên đây. Với thơi kia mới bóng kia chân Thang ta thì cũng thêu mưa đau Biết đâu rõ hinh thương trần Một nhà theo mặt biết thôi Đắm trương ở cho thì thạt khí càng nặng ngan. Bấy chung chung chín son thi huyên Càng lời ắmơn sóng từ nặng là hoa. Ry viên lại buộc một mình t\n",
            "----- diversity: 1.0\n",
            "----- Generating with seed: \"Trăm năm trong cõi người ta chữ tình chữ\"\n",
            "Trăm năm trong cõi người ta chữ tình chữ tình rành. óc tiên đâu mặc trọng sau Khi mốc trong can mà hoa. Thấp không phương chung bấy chi thi mà rước tha. Hay nên chang cũng quả tha cần hăm bay. Thiếc hay thì chữ mái nọ bà cho an. Huối họn mươi chuyên bất cho người nàng. Thổ du hay chóng mừng thương tâu làm chung. Cùng chung canh đền chiếc nửa cành Nào người thỏ  chẳng nặng dong Họi vàng nhiều trống chốn non sau. Thì thân nàng ngưới già b\n",
            "\n",
            "Epoch 00004: saving model to training_1/kerascp.ckpt\n",
            "Epoch 5/60\n",
            "34162/34162 [==============================] - 23s 685us/step - loss: 0.3956\n",
            "\n",
            "----- Generating text after Epoch: 4\n",
            "----- diversity: 0.01\n",
            "----- Generating with seed: \"Trăm năm trong cõi người ta chữ tình chữ\"\n",
            "Trăm năm trong cõi người ta chữ tình chữ tình cung. Mượn đây đã bỗng là đều bóng sao. Có chàng dầu chưa quốc hơi Mà chàng cũng mênh thêm xiêu xao dong dậg dòệng có bmi bao. Thấp không chẳng vốn đầu được thuy: ô Mách ra thì lững là thật đường. Ngoài còn thế tưởng mấy lời sương tông. Vì chi không chút phận người châu sao. Mới hông chung chung chút bây giờ Thật tương nỗi xa bể thêm trăng kêu xiêu. chân Thừa cầu lại những là thông thêu nhiê\n",
            "----- diversity: 0.2\n",
            "----- Generating with seed: \"Trăm năm trong cõi người ta chữ tình chữ\"\n",
            "Trăm năm trong cõi người ta chữ tình chữ tình chiêm bay. Tin thàngi lắt một tiết thâm Thấy nàng nước thẳn nghe lời sớm bao. Ngoài câu kiến có về châu rằng. Thoan quen mà lại thiếp sau hồi Mà chàng cũng mênh người Còn thanh ả chẳng đa xanh Mà chăn bèo lậc cầu Xót tình thân mới dặm trăng mình chị rình. Bên lòng lại buổi mù không chiêm bao. Tiểu thư đã dạy đuống trời đồng thường tinh. Dùng thên vén mới rụng rời sinh Hửa người trước khiết s\n",
            "----- diversity: 1.0\n",
            "----- Generating with seed: \"Trăm năm trong cõi người ta chữ tình chữ\"\n",
            "Trăm năm trong cõi người ta chữ tình chữ từ thơm duyên. Năng xưa giọt gấm xuân lắm trường ở đây. Mài lòng càng tỏ nhà Bốn công như gọi thi bất còn cành. Lại càng diuời cỏ qua quố người quảl bao. Ngày hoa đông lộc còn đền nồng tự đâu. Mải trăm năm cũng mừng tòng dười. Có mai dao để cộ còn lắm tay. Thương sinh đổ đất tinh thân Câyng nhau nước thêu máu mơ Bần Tai rột đầm một mùi làm tri. Sinh càng càng nỡ lời hồng VùK nhẻ nhiện Cỏ khăng đà\n",
            "\n",
            "Epoch 00005: saving model to training_1/kerascp.ckpt\n",
            "Epoch 6/60\n",
            "34162/34162 [==============================] - 23s 678us/step - loss: 0.3968\n",
            "\n",
            "----- Generating text after Epoch: 5\n",
            "----- diversity: 0.01\n",
            "----- Generating with seed: \"Trăm năm trong cõi người ta chữ tình chữ\"\n",
            "Trăm năm trong cõi người ta chữ tình chữ tồng thì đây. Cọi chàng cũng thất khúc nước noan châu qua. Cảng li người đã lạy vào đùng đùng. Thầm dây chạ cùng dạy khi hòu thế này. Mà đàn việt những người Chạo tủ gió chàng Trinh dâu tham thế này Cho về bèo hoa cấu bây giờ Chồ một mơ đã Tiền đưa đón cho người Một còn thêm lễg kiếm là xoan. Một gìn tri thế tưới bưng sao. Cùng sao lang đất vị chở sao Dễ cờ bóng kể chơi nào Đã vào thua hội chắc b\n",
            "----- diversity: 0.2\n",
            "----- Generating with seed: \"Trăm năm trong cõi người ta chữ tình chữ\"\n",
            "Trăm năm trong cõi người ta chữ tình chữ tồng thì đây. Cùng nhau vừa nhé chồng nao mới tình. Thương mai tự đã dười nàng ta. Có người đã dạy đổng đến nơa nghìa cũng nghiên. Trên đồng buổi mặt bấy lành đà xong. Mượn quanh thân chảo bạc thành Lài tay như chuông bội chi cân Một vày thoan đã đổi tình Thì còn thế này Trước chi khi tháng thui háu sông mông. Trên chung chung chíng chơi Còn gì cầm lại những mà thưa Nghìn vàng giữa kiến ngồm trên\n",
            "----- diversity: 1.0\n",
            "----- Generating with seed: \"Trăm năm trong cõi người ta chữ tình chữ\"\n",
            "Trăm năm trong cõi người ta chữ tình chữ tình giất oan. Nỗi nàng nàng ấp cát hai sương Tình xoa đmuhgi thác đMnh thứt bàn Trăm cầu Xót cùng bóng tiếng nàng Đem là đào đất venh thấu vành ó Huối hồng càng sang đùng. ấy nhiều nước lao mười sông mới nàn. Mụ không lầu tại thấy là thấy chuyền đàng. Trong đòng trước ấy sét thòng Nghe tà vời bỏ chàm sau Dễ cờ biết buộc đau mát ngày. cửa nhau vừa nỗi sa điau hủ tình hõxôxg. Đay đương chung có mớ\n",
            "\n",
            "Epoch 00006: saving model to training_1/kerascp.ckpt\n",
            "Epoch 7/60\n",
            "34162/34162 [==============================] - 23s 679us/step - loss: 0.3878\n",
            "\n",
            "----- Generating text after Epoch: 6\n",
            "----- diversity: 0.01\n",
            "----- Generating with seed: \"Trăm năm trong cõi người ta chữ tình chữ\"\n",
            "Trăm năm trong cõi người ta chữ tình chữ tình. Xin lâu hợp con cây cần cầu cung dười. Người đây đã mặt người châu Then cờ đành mặt ru mội màu. ãi vàng mưa rống dười Nàng rằng: Noả nghĩ lại bất chi kiều Tìm đành nhớ bóng bấy là đuối duyên trời. Hoa rằng: Còn chút phận người Mượn quan một mảy mối vàng Quả tình đàng cũng hang một lầy. Vi cây về đột đuống lang mới là. Roi ra vâng lạc máu sao ra đào Ngày vui nách thấy bách quân là an. Trót đ\n",
            "----- diversity: 0.2\n",
            "----- Generating with seed: \"Trăm năm trong cõi người ta chữ tình chữ\"\n",
            "Trăm năm trong cõi người ta chữ tình chữ tình. Xin lâu hợp con cây cần cầu cung sông. Kóc đâu mặc biết bào gần Khu gin đầu lấn xưa ân hạc đường. Những là đâu để một giai ngoài ất xem thương. Trẻ thân dễ có khôi ai. Chàng Kiều giả cảnh quanh Một hay tình kiếp cho gia ChàoTtrười thiếp gáy thì Trước dây đến là thắm dười Nghe lời nghĩ chút bên thần Làn thên nhớ bước lân Trăm nghìn với kết chưa phai gia. Năm năm người này hớp chưa kiề ớphiều\n",
            "----- diversity: 1.0\n",
            "----- Generating with seed: \"Trăm năm trong cõi người ta chữ tình chữ\"\n",
            "Trăm năm trong cõi người ta chữ tình chữ tình. Liền tay như giập mười đà Cường Trong đã đã thợc đi. Tiệc nhau vào trạc tình vàng . Lần thân phận đá bời Rỉ cay cang Trời không kẻn chuyên vàng e nồng. Nghĩ càng mây đã vẹn lời Tin đời thênh thiếm phủ gương cruya Sớm điều lạy trước bơi này Tiếng sinh riêu lễ háy tình chung phang. Còn chưa thôi mới lựn phương hải tai. Cỏ canh bấy nết còn mựa cây Hay. Vì chừa cảnh quả tình đổi tinh đề. Giắt đ\n",
            "\n",
            "Epoch 00007: saving model to training_1/kerascp.ckpt\n",
            "Epoch 8/60\n",
            "34162/34162 [==============================] - 23s 680us/step - loss: 0.3856\n",
            "\n",
            "----- Generating text after Epoch: 7\n",
            "----- diversity: 0.01\n",
            "----- Generating with seed: \"Trăm năm trong cõi người ta chữ tình chữ\"\n",
            "Trăm năm trong cõi người ta chữ tình chữ tình tưới đâu. Còn chưa câu cũng liền còn sao Đụm đà đủ một đây cho về. Còn chăngì với cỏ ngoa án châu bàn. Trên tram còn những vh nghề ũng làm chiếc báo the Bể lời nửa sắt nàng tình hỏi dưới hay. Bóng người đã mấy một đầu mái nồng. Nghĩ càng thân thíc nước huyền nhau như qua. Bắt trong nhắm nỗi giời nào Chăng danh tích đòn hật được hồng. Thừa cầu sớm liền nhiết hỏi trên. Bền lòng lại thấy bóng l\n",
            "----- diversity: 0.2\n",
            "----- Generating with seed: \"Trăm năm trong cõi người ta chữ tình chữ\"\n",
            "Trăm năm trong cõi người ta chữ tình chữ tình tưới ngong. Bấy chung còn đục biết đây đạo tưa Dã chăng nghe thước thên lần lành xuy. Một người trọng thấy bác ba điu. Thân nàng vừa lối phương là cho đi. Trên đông lan đật giấc mơ hai Còn trên kểu đến tróc tơ lời Trong sao còn đá gấm tin chi Thi Thành thừa cầu lạ có vàng một lầu. khách giảt cờ chi một sâu. Trên đông lan đập sqời hô xa Duyên lau lại luồn đâu Phải này nạn chữ bượng là chăng. \n",
            "----- diversity: 1.0\n",
            "----- Generating with seed: \"Trăm năm trong cõi người ta chữ tình chữ\"\n",
            "Trăm năm trong cõi người ta chữ tình chữ tình. Điết ra tìm tự thất kt chương s. Rở rằng: Con mở khó khú hồng gien. Lòngàng nào nẽo giọt ngoài Tam sư tích vén trổi nghi người này đưa sao. Cùng thuyền vị chuyên trời Nờ còn biên kóc giụcgứ mới tôi. Nhạ tay t bở nếm tười Mắt lân lại bừng từ này cho con. Làm cho để lên cátg đầu Khi tuồn ngơi với tú bà tạ mé con ở vàng mấy lời. Nàng rằng: Lòng áo sung danh gề Vành khing đợi nước chưa Duyêu bô\n",
            "\n",
            "Epoch 00008: saving model to training_1/kerascp.ckpt\n",
            "Epoch 9/60\n",
            "34162/34162 [==============================] - 23s 679us/step - loss: 0.3827\n",
            "\n",
            "----- Generating text after Epoch: 8\n",
            "----- diversity: 0.01\n",
            "----- Generating with seed: \"Trăm năm trong cõi người ta chữ tình chữ\"\n",
            "Trăm năm trong cõi người ta chữ tình chữ tình chung. Nghĩ càng càng nói thất tủyu không lâu. Khé con e lầu xuống theo một tay Tươm hồng nhớ kia đánh quanh chưa phai. Cói còn đem biết phụn kiều đòng Nghĩ càng đông chẳng xe gia. Đầu là đêm chuya lại cầu cành phương bất cân. Đã sao lang đầu má tóm đường chi mình giưa phai. Hoa rằng: Cong nói san Thì dàng có khuần hội về đâu. Cớm sao còn bướm chới làn Cỏi cường chung có mực tơ hương viêng. \n",
            "----- diversity: 0.2\n",
            "----- Generating with seed: \"Trăm năm trong cõi người ta chữ tình chữ\"\n",
            "Trăm năm trong cõi người ta chữ tình chữ tình chung. Được lau lại cát nghĩa đền Gần xanh quả tự thì thôi Đã xanh rêu vân một mụ nài Người lời như chẳng đất xem thì ngậm giề. Hay hèn chàng cũng thấy là thôi. Ngày xưa chu chưa beo cho một thân. Ngọn đèn thấy nến thân sau. Lấy tình mang bểi giai vi rình ưới bin. Nghĩ còn đặng nghĩ chưa dài Đài lòng đừng thất tin cho đi đây. Cọt đòng thánh thóng vất vầy Chẳng trăm năm chiếcắp người thịo đâu\n",
            "----- diversity: 1.0\n",
            "----- Generating with seed: \"Trăm năm trong cõi người ta chữ tình chữ\"\n",
            "Trăm năm trong cõi người ta chữ tình chữ tình chung. Mấy nhượng trúc gió cát nơi đauy xong. Trong sanh chim tỉlh hai Sần bu gió luốn phi buông tòng. Lời xanh đầu đó suy: Thong dưng chung chẳng bây giời dài Trong trong trách tú là dây họ ap xa. ạc ể then ngơ hẹn hai Con người trrơ giật giốn lòng Tiên quân một nủ mình Thì tơ tình Nỗi thên biết dễ mì hoài Sống cam bèo những người đâu đau. Bạc ôi nha kiểu niến mới tình vửa Dã công đã thộc m\n",
            "\n",
            "Epoch 00009: saving model to training_1/kerascp.ckpt\n",
            "Epoch 10/60\n",
            "34162/34162 [==============================] - 23s 678us/step - loss: 0.3886\n",
            "\n",
            "----- Generating text after Epoch: 9\n",
            "----- diversity: 0.01\n",
            "----- Generating with seed: \"Trăm năm trong cõi người ta chữ tình chữ\"\n",
            "Trăm năm trong cõi người ta chữ tình chữ tình thân. Vật trời một mụ người sa đã là. Cùng nhau đủ mương chung đàn nửa vàng. Trên đâu mặt duyên là hay sao. Một lời trong phận hoa là có Lân lau dười. Hoa cường cho đến trước sau một đền chiêm bao. Cùng nhau vừa nỗi nên lời người sông. Thừa cầm xuống chơi Lân lau được một vài trong ta. Rằng: Tôn bảy giải cát bày Một nhà với chín sa có phang. Người mười có tuồn lanh là may. Không nàng nhớ chu\n",
            "----- diversity: 0.2\n",
            "----- Generating with seed: \"Trăm năm trong cõi người ta chữ tình chữ\"\n",
            "Trăm năm trong cõi người ta chữ tình chữ tình tra. Có ham chung cái néo mình biết sâu. Thừan vàng cát mác mười mà đinh. Thanh thề lững những là thì Tạ. Rừng xin đợng nối điều Chín gii dạo lại cho một nàng nên. Bấy hoa có bút gầy dài Chra thì thôi cuốn mù không là Hoạn thư. Vật đohg đà cảnh qua bên ớiêu. Thong dây gió thật trông là Hay tình với kể hết đâu một mình. Thưa thôi cũng thấy bất bầy cho ven. Lòng nào mưa đáng đào nhà Vân dình c\n",
            "----- diversity: 1.0\n",
            "----- Generating with seed: \"Trăm năm trong cõi người ta chữ tình chữ\"\n",
            "Trăm năm trong cõi người ta chữ tình chữ tình tra. Có ngong nhạ tiết sửu hơn. ưới hùng dầu chữ mình qua dành mĩa. áo như tu báo ong là may. Nghĩ càng ta đàu đắc như mưu la saom ra. Nàng đà Kiếp lòng làm chọn quống vốn thuyềng Bắt sang thấy tiếng nàng mình canh. Cói đênh đau lỗi ấp cái chiều trình chung. Lật bên khít chút là là Thốc không cũng trên đâu giá trước hà. Hoạn tram cho đến thế thấm phi dình thân số về đân. Vật đầu xót kẻ sanh \n",
            "\n",
            "Epoch 00010: saving model to training_1/kerascp.ckpt\n",
            "Epoch 11/60\n",
            "34162/34162 [==============================] - 23s 677us/step - loss: 0.3842\n",
            "\n",
            "----- Generating text after Epoch: 10\n",
            "----- diversity: 0.01\n",
            "----- Generating with seed: \"Trăm năm trong cõi người ta chữ tình chữ\"\n",
            "Trăm năm trong cõi người ta chữ tình chững trơ. Mặt trêm khuyên trước ấy sất khi thoắt bác tì. Nghe lời ngắn đã hợp mình xuân Lâng lài thiên đến họ mây qua. Sớm điều khuyên với nhưng mà minh. Một lời người thuất tiếc hồng đưa mưai. Thuyền lau lại một mừng trưới thay Lạn minh kia mới bóng kmới đầy Gin điều trước ầu thân Càng nghe thước chiếc báo bây oanh tàn bì. Nghĩ người sánh tru gấc chẳng đào Đưa phương đưa đóng là có phường thế thì n\n",
            "----- diversity: 0.2\n",
            "----- Generating with seed: \"Trăm năm trong cõi người ta chữ tình chữ\"\n",
            "Trăm năm trong cõi người ta chữ tình chững trơ. Mặt trên vâng đã mán ngày này cho chi ràng. Có cay cũng thêm trước sân Giấc bên lâu hác binh đường Khi ông thổ màn Cuộc về đâu mới đến thì thụ tình vinh. Kim trần mà mia đường Thìa trông mới chiếu sô răng Thầm do chiêu những là thì tại nha. Sự đâu mới thiêm chiều Thì còn chung chút nghĩa đà tìm đường. Nghĩ nàng mới gó chàng Trên đông chu việng khốc dong Điều mây nỗi sao nay Khich Thang thì\n",
            "----- diversity: 1.0\n",
            "----- Generating with seed: \"Trăm năm trong cõi người ta chữ tình chữ\"\n",
            "Trăm năm trong cõi người ta chữ tình chữ tình trên. Bây giờ gánh gó khi tình hồng ghen. Dù khai liệu mánh đã đôi vọLốc nhà. Bấy chung chung chút giếp mấy khy bình Ban lời nghe chửa brôi đời Chàng Văn chương còn mọn thấy bóng dồng Nàng đà nói lòng Thân mà giọng những vàng đã lời ất bên. Người vào để một đất Duyên ăn có ngân càng những vàng. Lạ tông mưa một mê Tương viện Muống dây giữa tri. Trước mình vừa rin đã vào bây giờ lời. Cùng nhau\n",
            "\n",
            "Epoch 00011: saving model to training_1/kerascp.ckpt\n",
            "Epoch 12/60\n",
            "34162/34162 [==============================] - 23s 676us/step - loss: 0.3862\n",
            "\n",
            "----- Generating text after Epoch: 11\n",
            "----- diversity: 0.01\n",
            "----- Generating with seed: \"Trăm năm trong cõi người ta chữ tình chữ\"\n",
            "Trăm năm trong cõi người ta chữ tình chữ tình chung. Người muan may một mình càng nhiêm hômi. Là mai nước ghétch hương quê cho gia. Tuần trời vá ngọc vàng đông xa. Chợp tiên được một vào trong chung thương. Đầu xanh có muan khí sát bên trên là. Hảy năm nghìn tháng ti đùng đùxg xai quang. Có đâu đã dọi then cho cho cao. Có đâu đã dọi thi Thì thôi cuốn nồng không dầy Bên xưa oanh đghòng bốn phần vàng tíchi. Bây giờ trân pỷe các vồng đưa m\n",
            "----- diversity: 0.2\n",
            "----- Generating with seed: \"Trăm năm trong cõi người ta chữ tình chữ\"\n",
            "Trăm năm trong cõi người ta chữ tình chữ tình chung. Người muan may một mình càng nhiêm bông. Sớm phần kia hếp đã chi đây nợ thơm. Rằng: Ngàng nàng ngọn ngựa không dầu ra đây. Núa châu còn mảng vhật cành nghia rìn chimm tăm. Nặng là horo nở mới lòng ép trong. Thừa rằng: Tiếng đưa quá binh đường trong xưa. Mượng thương mới rán làm tây cha xa. Phải thuyền lưngGinh đưa Cong liều nửa sau Nay đà bán một dầu chi một tình cước ghương. Trên tru\n",
            "----- diversity: 1.0\n",
            "----- Generating with seed: \"Trăm năm trong cõi người ta chữ tình chữ\"\n",
            "Trăm năm trong cõi người ta chữ tình chữ tình hơi. Giấc uì xuổ đến trước đường mấy lời. Hay hèn nàng lãng ấm trăng gỗi Vâng nên lãm lễa lên chung nước thất khơi. Người đâu mà lại thêm xanh Một vài trong nghe tủ tấm hòền Bắt quan lại gặp mười rày Bi linh đổ đã xem vành trình Thân tành băng thỏ dười Hửa trai mày nhạ lực sau oan Lượng đưa đã tình lan ra. Cạn ngai vần đó tỡ cùng nghìn vàng. Được đầy người đã tại xuống duyên áo xanh. Dặc là \n",
            "\n",
            "Epoch 00012: saving model to training_1/kerascp.ckpt\n",
            "Epoch 13/60\n",
            "34162/34162 [==============================] - 23s 679us/step - loss: 0.3812\n",
            "\n",
            "----- Generating text after Epoch: 12\n",
            "----- diversity: 0.01\n",
            "----- Generating with seed: \"Trăm năm trong cõi người ta chữ tình chữ\"\n",
            "Trăm năm trong cõi người ta chữ tình chữ tình nước thì. Đã hông còn nữa chàng Người do sắt nghĩa người châu qua. Nghĩ còn đường chẳng chút bày Cho trang trú nọ bấy cho thiền được sao. LựD cơn trong nỗi nên lần lành đưa. Giữa người một hoa có phần mới thôi. Đật vàng giữ gió còn bành phóng ng. Đưa rằng: Thửa nói lòng Hỏi han viên lạ dầu Kiều lầu dường về đầu đến xa. Chín đầy những vhơi cần hồng mê cửa da. Những là càng nước chụ cường chiê\n",
            "----- diversity: 0.2\n",
            "----- Generating with seed: \"Trăm năm trong cõi người ta chữ tình chữ\"\n",
            "Trăm năm trong cõi người ta chữ tình chữ tình nước thì. Đã hông còn nữa chàng Người do sắt nghĩa người châu qua. Nghĩ càng trong nấy đến nên đồng nha Thân thông nàng với chơi khêu sung gió đâu. Các vàng chung chu chưa bác thần Lại điều như gọi nghe lời Hay như chút nặt hương càng sất sông. đừng xuân thuộc áé các nơi sắt nhi. Thừa cầu hỏi hếm chi khiêng vào trang. Nữa khi báo bể thì thêm xuân lên:. Là oan đương đã thế thì thụ cời. Những \n",
            "----- diversity: 1.0\n",
            "----- Generating with seed: \"Trăm năm trong cõi người ta chữ tình chữ\"\n",
            "Trăm năm trong cõi người ta chữ tình chữ ta. Đã đình lạ bóng vỗi nhiêu nước cửa tay. Nàng rằng: Trời ngựa thì chưa xong. Sọc là một như chào phải nhường. Lỏi sao bao mới giục nhiều nhau Nỗi nàng còn chút thòn ở cho biết một ngày. Tình đàng chàng Kốc thọ sau nhi gia. ọi lòng. Tiếng sanh tận lối vầy như chào Cung trĐugn thân phận đường Thì còn thiêu nhớ đáng nhiêu nơi Cửa ngưọc ỗi sắc bóc thời Khéo là đáng thong dười Này chàng kiến Đã cho\n",
            "\n",
            "Epoch 00013: saving model to training_1/kerascp.ckpt\n",
            "Epoch 14/60\n",
            "34162/34162 [==============================] - 23s 675us/step - loss: 0.3790\n",
            "\n",
            "----- Generating text after Epoch: 13\n",
            "----- diversity: 0.01\n",
            "----- Generating with seed: \"Trăm năm trong cõi người ta chữ tình chữ\"\n",
            "Trăm năm trong cõi người ta chữ tình chữ tình. Được lời nghe chút bác then châu Thì đà đã dạy đà thì chương. Trong bao x đã dành Lòng năm năm bay mặt dầu hồng Than dây đã thế tình Nghĩ trời biết một lầm đến tay tương. Góc duan lâu nói thì thôi. Đã hay là đã thì thế mà đỏi. Cùng nhau nước thế thước nào Bốt rằng: Lyệh áo xưa Sạn cho thiển thế này Còn người trời một mụ này Chạy không dạy khôn còn Khi tẹn cũng như tỉnh chẳng sán buông. Được\n",
            "----- diversity: 0.2\n",
            "----- Generating with seed: \"Trăm năm trong cõi người ta chữ tình chữ\"\n",
            "Trăm năm trong cõi người ta chữ tình chữ tình. Được lời nghe chút bột lời Người bài một đủ ất vời Một nhà vội mảy mượn phbng các sí cuống thường. Nghĩ càng mưa góc đầy đỗ là mình. Nhà xót bà chạ cùng còn gửi hành đàn ng. Được lai vừa rồi Vội tê khi thuyền này chạ cùng Một lời trong nghì cuột càng Dù khê lại hết điều Haysuy thế này rằng Kiều nàng ấy với thân Chẳng trăng nhớ chưa khúc sự tình Xót trên cũ khách khất tương nào dường. Lỏi sa\n",
            "----- diversity: 1.0\n",
            "----- Generating with seed: \"Trăm năm trong cõi người ta chữ tình chữ\"\n",
            "Trăm năm trong cõi người ta chữ tình chữ tình. Đấm xưa một bất khác thên Bỗn trên vội vựng đồng qua qua. Vắng nhà khi báo ghiếu bóng đường chi k ta. ấy là thết đây. Đàn chi năm: Bạc then má nói làm trước sao. Sinh càng nặng ngược tồng các bài nàng. Hiếu hoa rõ hùng trình ba nề xanh. Trong binh đường quả thơm hới vn sau. Có người mà lại tơ hồng Thì dề Tích trước chuyền quanh thế mà. Rằng: Chút nhề đền trên. Dạ tình lâu hật đền bồ ưồng xa\n",
            "\n",
            "Epoch 00014: saving model to training_1/kerascp.ckpt\n",
            "Epoch 15/60\n",
            "34162/34162 [==============================] - 23s 675us/step - loss: 0.3665\n",
            "\n",
            "----- Generating text after Epoch: 14\n",
            "----- diversity: 0.01\n",
            "----- Generating with seed: \"Trăm năm trong cõi người ta chữ tình chữ\"\n",
            "Trăm năm trong cõi người ta chữ tình chữ tình chung. Nghĩ còn thềm hội xướg trần Bốn dây nhắt nở mới là cha vì tha. Đem vào đủ Hòn dần Trăm năm thì thôi Ru minh đưa đã chữ mười ăn làm có lời. Có đâu vân mặc bác biết là đây. Tìm điều nghe chửa đôi đô lửa. Tuyết sau làm gây cũng nhau Tần Ngơ ngàng mặt biết là tra cần. Thương thong có sự đầm đóc dày. Nghe lời nàng ngọn tinh đường chơi Nghìn thân ngơ ngơ ngơ nghe bớm lành Khi ôògi là cũng t\n",
            "----- diversity: 0.2\n",
            "----- Generating with seed: \"Trăm năm trong cõi người ta chữ tình chữ\"\n",
            "Trăm năm trong cõi người ta chữ tình chữ tình chung. Nghĩ còn thềm hồ rước ai Họa vànhp cọng dồi dây chân Thang là đã thấy đi thùy Cùn thề cha khể thiếp sau bà hồ đây. Còn nhiều ân lạc thùi Thay còn đường chút xem tình về chho thất sịnạ. Bỗng thuyền lộc bèo nào lành đàng. Có ngong dười ặp chiếu báo xuya Các đong mai dặm xuân xa Duyên đông lạn canh tà Này chàng cũng một là đâu. Cùng nhau làm chiếc bác thề chi Tiề Tẳm thanh việu gió đưa C\n",
            "----- diversity: 1.0\n",
            "----- Generating with seed: \"Trăm năm trong cõi người ta chữ tình chữ\"\n",
            "Trăm năm trong cõi người ta chữ tình chữ tương vì vơi. Lần thg thềm cực rõ ràng thụ ngoy. Đông the chạ lụd nàng thì cũng thầm. Ngàng gường chung có sầu hồ cùng vô bình. Hoa hểh liền bắt bên Trông cành thiên kểu là xa xa. Phải điều én đá pháp tạo song Nỗi nàng nàng nghe lửa bình thênh nhiêu. Bây giờ sâu về đã tình Nỗi mình ân cửa bóng đèo Nòi khi xem mặt bác thuy tên Sá nghe lằng kháp bảo tồng má nào Họa nhà bừng thấy bóng tình thưa Học \n",
            "\n",
            "Epoch 00015: saving model to training_1/kerascp.ckpt\n",
            "Epoch 16/60\n",
            "34162/34162 [==============================] - 23s 677us/step - loss: 0.3688\n",
            "\n",
            "----- Generating text after Epoch: 15\n",
            "----- diversity: 0.01\n",
            "----- Generating with seed: \"Trăm năm trong cõi người ta chữ tình chữ\"\n",
            "Trăm năm trong cõi người ta chữ tình chữ tình chung. Bất thân kêm đến thế này Trinh đày bặc chẳng đào nhỏ quang. Có người trong nghe sớm sôn lòng Kch: chựng chẳng cuồn thế nào Trăm đăng đó chữ tương cho điều. Bâu giờ k ván đá ngày màn Tú mà cả chi cổi dần châu sế Tốc the Bạc chữ t"
          ],
          "name": "stdout"
        },
        {
          "output_type": "error",
          "ename": "KeyboardInterrupt",
          "evalue": "ignored",
          "traceback": [
            "\u001b[0;31m---------------------------------------------------------------------------\u001b[0m",
            "\u001b[0;31mKeyboardInterrupt\u001b[0m                         Traceback (most recent call last)",
            "\u001b[0;32m<ipython-input-5-b47e6208da24>\u001b[0m in \u001b[0;36m<module>\u001b[0;34m()\u001b[0m\n\u001b[1;32m      2\u001b[0m           \u001b[0mbatch_size\u001b[0m\u001b[0;34m=\u001b[0m\u001b[0;36m128\u001b[0m\u001b[0;34m,\u001b[0m\u001b[0;34m\u001b[0m\u001b[0;34m\u001b[0m\u001b[0m\n\u001b[1;32m      3\u001b[0m           \u001b[0mepochs\u001b[0m\u001b[0;34m=\u001b[0m\u001b[0;36m60\u001b[0m\u001b[0;34m,\u001b[0m\u001b[0;34m\u001b[0m\u001b[0;34m\u001b[0m\u001b[0m\n\u001b[0;32m----> 4\u001b[0;31m           callbacks=[print_callback, cp_callback])\n\u001b[0m",
            "\u001b[0;32m/usr/local/lib/python3.6/dist-packages/keras/engine/training.py\u001b[0m in \u001b[0;36mfit\u001b[0;34m(self, x, y, batch_size, epochs, verbose, callbacks, validation_split, validation_data, shuffle, class_weight, sample_weight, initial_epoch, steps_per_epoch, validation_steps, **kwargs)\u001b[0m\n\u001b[1;32m   1037\u001b[0m                                         \u001b[0minitial_epoch\u001b[0m\u001b[0;34m=\u001b[0m\u001b[0minitial_epoch\u001b[0m\u001b[0;34m,\u001b[0m\u001b[0;34m\u001b[0m\u001b[0;34m\u001b[0m\u001b[0m\n\u001b[1;32m   1038\u001b[0m                                         \u001b[0msteps_per_epoch\u001b[0m\u001b[0;34m=\u001b[0m\u001b[0msteps_per_epoch\u001b[0m\u001b[0;34m,\u001b[0m\u001b[0;34m\u001b[0m\u001b[0;34m\u001b[0m\u001b[0m\n\u001b[0;32m-> 1039\u001b[0;31m                                         validation_steps=validation_steps)\n\u001b[0m\u001b[1;32m   1040\u001b[0m \u001b[0;34m\u001b[0m\u001b[0m\n\u001b[1;32m   1041\u001b[0m     def evaluate(self, x=None, y=None,\n",
            "\u001b[0;32m/usr/local/lib/python3.6/dist-packages/keras/engine/training_arrays.py\u001b[0m in \u001b[0;36mfit_loop\u001b[0;34m(model, f, ins, out_labels, batch_size, epochs, verbose, callbacks, val_f, val_ins, shuffle, callback_metrics, initial_epoch, steps_per_epoch, validation_steps)\u001b[0m\n\u001b[1;32m    215\u001b[0m                         \u001b[0;32mfor\u001b[0m \u001b[0ml\u001b[0m\u001b[0;34m,\u001b[0m \u001b[0mo\u001b[0m \u001b[0;32min\u001b[0m \u001b[0mzip\u001b[0m\u001b[0;34m(\u001b[0m\u001b[0mout_labels\u001b[0m\u001b[0;34m,\u001b[0m \u001b[0mval_outs\u001b[0m\u001b[0;34m)\u001b[0m\u001b[0;34m:\u001b[0m\u001b[0;34m\u001b[0m\u001b[0;34m\u001b[0m\u001b[0m\n\u001b[1;32m    216\u001b[0m                             \u001b[0mepoch_logs\u001b[0m\u001b[0;34m[\u001b[0m\u001b[0;34m'val_'\u001b[0m \u001b[0;34m+\u001b[0m \u001b[0ml\u001b[0m\u001b[0;34m]\u001b[0m \u001b[0;34m=\u001b[0m \u001b[0mo\u001b[0m\u001b[0;34m\u001b[0m\u001b[0;34m\u001b[0m\u001b[0m\n\u001b[0;32m--> 217\u001b[0;31m         \u001b[0mcallbacks\u001b[0m\u001b[0;34m.\u001b[0m\u001b[0mon_epoch_end\u001b[0m\u001b[0;34m(\u001b[0m\u001b[0mepoch\u001b[0m\u001b[0;34m,\u001b[0m \u001b[0mepoch_logs\u001b[0m\u001b[0;34m)\u001b[0m\u001b[0;34m\u001b[0m\u001b[0;34m\u001b[0m\u001b[0m\n\u001b[0m\u001b[1;32m    218\u001b[0m         \u001b[0;32mif\u001b[0m \u001b[0mcallback_model\u001b[0m\u001b[0;34m.\u001b[0m\u001b[0mstop_training\u001b[0m\u001b[0;34m:\u001b[0m\u001b[0;34m\u001b[0m\u001b[0;34m\u001b[0m\u001b[0m\n\u001b[1;32m    219\u001b[0m             \u001b[0;32mbreak\u001b[0m\u001b[0;34m\u001b[0m\u001b[0;34m\u001b[0m\u001b[0m\n",
            "\u001b[0;32m/usr/local/lib/python3.6/dist-packages/keras/callbacks.py\u001b[0m in \u001b[0;36mon_epoch_end\u001b[0;34m(self, epoch, logs)\u001b[0m\n\u001b[1;32m     77\u001b[0m         \u001b[0mlogs\u001b[0m \u001b[0;34m=\u001b[0m \u001b[0mlogs\u001b[0m \u001b[0;32mor\u001b[0m \u001b[0;34m{\u001b[0m\u001b[0;34m}\u001b[0m\u001b[0;34m\u001b[0m\u001b[0;34m\u001b[0m\u001b[0m\n\u001b[1;32m     78\u001b[0m         \u001b[0;32mfor\u001b[0m \u001b[0mcallback\u001b[0m \u001b[0;32min\u001b[0m \u001b[0mself\u001b[0m\u001b[0;34m.\u001b[0m\u001b[0mcallbacks\u001b[0m\u001b[0;34m:\u001b[0m\u001b[0;34m\u001b[0m\u001b[0;34m\u001b[0m\u001b[0m\n\u001b[0;32m---> 79\u001b[0;31m             \u001b[0mcallback\u001b[0m\u001b[0;34m.\u001b[0m\u001b[0mon_epoch_end\u001b[0m\u001b[0;34m(\u001b[0m\u001b[0mepoch\u001b[0m\u001b[0;34m,\u001b[0m \u001b[0mlogs\u001b[0m\u001b[0;34m)\u001b[0m\u001b[0;34m\u001b[0m\u001b[0;34m\u001b[0m\u001b[0m\n\u001b[0m\u001b[1;32m     80\u001b[0m \u001b[0;34m\u001b[0m\u001b[0m\n\u001b[1;32m     81\u001b[0m     \u001b[0;32mdef\u001b[0m \u001b[0mon_batch_begin\u001b[0m\u001b[0;34m(\u001b[0m\u001b[0mself\u001b[0m\u001b[0;34m,\u001b[0m \u001b[0mbatch\u001b[0m\u001b[0;34m,\u001b[0m \u001b[0mlogs\u001b[0m\u001b[0;34m=\u001b[0m\u001b[0;32mNone\u001b[0m\u001b[0;34m)\u001b[0m\u001b[0;34m:\u001b[0m\u001b[0;34m\u001b[0m\u001b[0;34m\u001b[0m\u001b[0m\n",
            "\u001b[0;32m<ipython-input-3-540f6b368857>\u001b[0m in \u001b[0;36mon_epoch_end\u001b[0;34m(epoch, _)\u001b[0m\n\u001b[1;32m    158\u001b[0m \u001b[0;34m\u001b[0m\u001b[0m\n\u001b[1;32m    159\u001b[0m             \u001b[0;31m#then put x_pred into model.predict\u001b[0m\u001b[0;34m\u001b[0m\u001b[0;34m\u001b[0m\u001b[0;34m\u001b[0m\u001b[0m\n\u001b[0;32m--> 160\u001b[0;31m             \u001b[0mpreds\u001b[0m \u001b[0;34m=\u001b[0m \u001b[0mmodel\u001b[0m\u001b[0;34m.\u001b[0m\u001b[0mpredict\u001b[0m\u001b[0;34m(\u001b[0m\u001b[0mx_pred\u001b[0m\u001b[0;34m,\u001b[0m \u001b[0mverbose\u001b[0m\u001b[0;34m=\u001b[0m\u001b[0;36m0\u001b[0m\u001b[0;34m)\u001b[0m\u001b[0;34m[\u001b[0m\u001b[0;36m0\u001b[0m\u001b[0;34m]\u001b[0m\u001b[0;34m\u001b[0m\u001b[0;34m\u001b[0m\u001b[0m\n\u001b[0m\u001b[1;32m    161\u001b[0m \u001b[0;34m\u001b[0m\u001b[0m\n\u001b[1;32m    162\u001b[0m             \u001b[0;31m# presumably sum(preds) = 1\u001b[0m\u001b[0;34m\u001b[0m\u001b[0;34m\u001b[0m\u001b[0;34m\u001b[0m\u001b[0m\n",
            "\u001b[0;32m/usr/local/lib/python3.6/dist-packages/keras/engine/training.py\u001b[0m in \u001b[0;36mpredict\u001b[0;34m(self, x, batch_size, verbose, steps)\u001b[0m\n\u001b[1;32m   1167\u001b[0m                                             \u001b[0mbatch_size\u001b[0m\u001b[0;34m=\u001b[0m\u001b[0mbatch_size\u001b[0m\u001b[0;34m,\u001b[0m\u001b[0;34m\u001b[0m\u001b[0;34m\u001b[0m\u001b[0m\n\u001b[1;32m   1168\u001b[0m                                             \u001b[0mverbose\u001b[0m\u001b[0;34m=\u001b[0m\u001b[0mverbose\u001b[0m\u001b[0;34m,\u001b[0m\u001b[0;34m\u001b[0m\u001b[0;34m\u001b[0m\u001b[0m\n\u001b[0;32m-> 1169\u001b[0;31m                                             steps=steps)\n\u001b[0m\u001b[1;32m   1170\u001b[0m \u001b[0;34m\u001b[0m\u001b[0m\n\u001b[1;32m   1171\u001b[0m     def train_on_batch(self, x, y,\n",
            "\u001b[0;32m/usr/local/lib/python3.6/dist-packages/keras/engine/training_arrays.py\u001b[0m in \u001b[0;36mpredict_loop\u001b[0;34m(model, f, ins, batch_size, verbose, steps)\u001b[0m\n\u001b[1;32m    292\u001b[0m                 \u001b[0mins_batch\u001b[0m\u001b[0;34m[\u001b[0m\u001b[0mi\u001b[0m\u001b[0;34m]\u001b[0m \u001b[0;34m=\u001b[0m \u001b[0mins_batch\u001b[0m\u001b[0;34m[\u001b[0m\u001b[0mi\u001b[0m\u001b[0;34m]\u001b[0m\u001b[0;34m.\u001b[0m\u001b[0mtoarray\u001b[0m\u001b[0;34m(\u001b[0m\u001b[0;34m)\u001b[0m\u001b[0;34m\u001b[0m\u001b[0;34m\u001b[0m\u001b[0m\n\u001b[1;32m    293\u001b[0m \u001b[0;34m\u001b[0m\u001b[0m\n\u001b[0;32m--> 294\u001b[0;31m             \u001b[0mbatch_outs\u001b[0m \u001b[0;34m=\u001b[0m \u001b[0mf\u001b[0m\u001b[0;34m(\u001b[0m\u001b[0mins_batch\u001b[0m\u001b[0;34m)\u001b[0m\u001b[0;34m\u001b[0m\u001b[0;34m\u001b[0m\u001b[0m\n\u001b[0m\u001b[1;32m    295\u001b[0m             \u001b[0mbatch_outs\u001b[0m \u001b[0;34m=\u001b[0m \u001b[0mto_list\u001b[0m\u001b[0;34m(\u001b[0m\u001b[0mbatch_outs\u001b[0m\u001b[0;34m)\u001b[0m\u001b[0;34m\u001b[0m\u001b[0;34m\u001b[0m\u001b[0m\n\u001b[1;32m    296\u001b[0m             \u001b[0;32mif\u001b[0m \u001b[0mbatch_index\u001b[0m \u001b[0;34m==\u001b[0m \u001b[0;36m0\u001b[0m\u001b[0;34m:\u001b[0m\u001b[0;34m\u001b[0m\u001b[0;34m\u001b[0m\u001b[0m\n",
            "\u001b[0;32m/usr/local/lib/python3.6/dist-packages/keras/backend/tensorflow_backend.py\u001b[0m in \u001b[0;36m__call__\u001b[0;34m(self, inputs)\u001b[0m\n\u001b[1;32m   2713\u001b[0m                 \u001b[0;32mreturn\u001b[0m \u001b[0mself\u001b[0m\u001b[0;34m.\u001b[0m\u001b[0m_legacy_call\u001b[0m\u001b[0;34m(\u001b[0m\u001b[0minputs\u001b[0m\u001b[0;34m)\u001b[0m\u001b[0;34m\u001b[0m\u001b[0;34m\u001b[0m\u001b[0m\n\u001b[1;32m   2714\u001b[0m \u001b[0;34m\u001b[0m\u001b[0m\n\u001b[0;32m-> 2715\u001b[0;31m             \u001b[0;32mreturn\u001b[0m \u001b[0mself\u001b[0m\u001b[0;34m.\u001b[0m\u001b[0m_call\u001b[0m\u001b[0;34m(\u001b[0m\u001b[0minputs\u001b[0m\u001b[0;34m)\u001b[0m\u001b[0;34m\u001b[0m\u001b[0;34m\u001b[0m\u001b[0m\n\u001b[0m\u001b[1;32m   2716\u001b[0m         \u001b[0;32melse\u001b[0m\u001b[0;34m:\u001b[0m\u001b[0;34m\u001b[0m\u001b[0;34m\u001b[0m\u001b[0m\n\u001b[1;32m   2717\u001b[0m             \u001b[0;32mif\u001b[0m \u001b[0mpy_any\u001b[0m\u001b[0;34m(\u001b[0m\u001b[0mis_tensor\u001b[0m\u001b[0;34m(\u001b[0m\u001b[0mx\u001b[0m\u001b[0;34m)\u001b[0m \u001b[0;32mfor\u001b[0m \u001b[0mx\u001b[0m \u001b[0;32min\u001b[0m \u001b[0minputs\u001b[0m\u001b[0;34m)\u001b[0m\u001b[0;34m:\u001b[0m\u001b[0;34m\u001b[0m\u001b[0;34m\u001b[0m\u001b[0m\n",
            "\u001b[0;32m/usr/local/lib/python3.6/dist-packages/keras/backend/tensorflow_backend.py\u001b[0m in \u001b[0;36m_call\u001b[0;34m(self, inputs)\u001b[0m\n\u001b[1;32m   2673\u001b[0m             \u001b[0mfetched\u001b[0m \u001b[0;34m=\u001b[0m \u001b[0mself\u001b[0m\u001b[0;34m.\u001b[0m\u001b[0m_callable_fn\u001b[0m\u001b[0;34m(\u001b[0m\u001b[0;34m*\u001b[0m\u001b[0marray_vals\u001b[0m\u001b[0;34m,\u001b[0m \u001b[0mrun_metadata\u001b[0m\u001b[0;34m=\u001b[0m\u001b[0mself\u001b[0m\u001b[0;34m.\u001b[0m\u001b[0mrun_metadata\u001b[0m\u001b[0;34m)\u001b[0m\u001b[0;34m\u001b[0m\u001b[0;34m\u001b[0m\u001b[0m\n\u001b[1;32m   2674\u001b[0m         \u001b[0;32melse\u001b[0m\u001b[0;34m:\u001b[0m\u001b[0;34m\u001b[0m\u001b[0;34m\u001b[0m\u001b[0m\n\u001b[0;32m-> 2675\u001b[0;31m             \u001b[0mfetched\u001b[0m \u001b[0;34m=\u001b[0m \u001b[0mself\u001b[0m\u001b[0;34m.\u001b[0m\u001b[0m_callable_fn\u001b[0m\u001b[0;34m(\u001b[0m\u001b[0;34m*\u001b[0m\u001b[0marray_vals\u001b[0m\u001b[0;34m)\u001b[0m\u001b[0;34m\u001b[0m\u001b[0;34m\u001b[0m\u001b[0m\n\u001b[0m\u001b[1;32m   2676\u001b[0m         \u001b[0;32mreturn\u001b[0m \u001b[0mfetched\u001b[0m\u001b[0;34m[\u001b[0m\u001b[0;34m:\u001b[0m\u001b[0mlen\u001b[0m\u001b[0;34m(\u001b[0m\u001b[0mself\u001b[0m\u001b[0;34m.\u001b[0m\u001b[0moutputs\u001b[0m\u001b[0;34m)\u001b[0m\u001b[0;34m]\u001b[0m\u001b[0;34m\u001b[0m\u001b[0;34m\u001b[0m\u001b[0m\n\u001b[1;32m   2677\u001b[0m \u001b[0;34m\u001b[0m\u001b[0m\n",
            "\u001b[0;32m/usr/local/lib/python3.6/dist-packages/tensorflow/python/client/session.py\u001b[0m in \u001b[0;36m__call__\u001b[0;34m(self, *args, **kwargs)\u001b[0m\n\u001b[1;32m   1437\u001b[0m           ret = tf_session.TF_SessionRunCallable(\n\u001b[1;32m   1438\u001b[0m               \u001b[0mself\u001b[0m\u001b[0;34m.\u001b[0m\u001b[0m_session\u001b[0m\u001b[0;34m.\u001b[0m\u001b[0m_session\u001b[0m\u001b[0;34m,\u001b[0m \u001b[0mself\u001b[0m\u001b[0;34m.\u001b[0m\u001b[0m_handle\u001b[0m\u001b[0;34m,\u001b[0m \u001b[0margs\u001b[0m\u001b[0;34m,\u001b[0m \u001b[0mstatus\u001b[0m\u001b[0;34m,\u001b[0m\u001b[0;34m\u001b[0m\u001b[0;34m\u001b[0m\u001b[0m\n\u001b[0;32m-> 1439\u001b[0;31m               run_metadata_ptr)\n\u001b[0m\u001b[1;32m   1440\u001b[0m         \u001b[0;32mif\u001b[0m \u001b[0mrun_metadata\u001b[0m\u001b[0;34m:\u001b[0m\u001b[0;34m\u001b[0m\u001b[0;34m\u001b[0m\u001b[0m\n\u001b[1;32m   1441\u001b[0m           \u001b[0mproto_data\u001b[0m \u001b[0;34m=\u001b[0m \u001b[0mtf_session\u001b[0m\u001b[0;34m.\u001b[0m\u001b[0mTF_GetBuffer\u001b[0m\u001b[0;34m(\u001b[0m\u001b[0mrun_metadata_ptr\u001b[0m\u001b[0;34m)\u001b[0m\u001b[0;34m\u001b[0m\u001b[0;34m\u001b[0m\u001b[0m\n",
            "\u001b[0;31mKeyboardInterrupt\u001b[0m: "
          ]
        }
      ]
    },
    {
      "metadata": {
        "id": "hwv59n-_iZkJ",
        "colab_type": "code",
        "colab": {}
      },
      "cell_type": "code",
      "source": [
        ""
      ],
      "execution_count": 0,
      "outputs": []
    }
  ]
}