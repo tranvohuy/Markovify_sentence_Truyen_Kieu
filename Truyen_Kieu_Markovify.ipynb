{
  "nbformat": 4,
  "nbformat_minor": 0,
  "metadata": {
    "colab": {
      "name": "Truyen_Kieu_Markovify.ipynb",
      "version": "0.3.2",
      "provenance": [],
      "toc_visible": true,
      "include_colab_link": true
    },
    "kernelspec": {
      "name": "python3",
      "display_name": "Python 3"
    }
  },
  "cells": [
    {
      "cell_type": "markdown",
      "metadata": {
        "id": "view-in-github",
        "colab_type": "text"
      },
      "source": [
        "<a href=\"https://colab.research.google.com/github/tranvohuy/Markovify_sentence_Truyen_Kieu/blob/master/Truyen_Kieu_Markovify.ipynb\" target=\"_parent\"><img src=\"https://colab.research.google.com/assets/colab-badge.svg\" alt=\"Open In Colab\"/></a>"
      ]
    },
    {
      "metadata": {
        "id": "ZOD0yIYih6xc",
        "colab_type": "text"
      },
      "cell_type": "markdown",
      "source": [
        "In this notebook, we learn how to make poems. The poem style we choose is from Truyện Kiều. The strategy is from [Markovify](https://github.com/jsvine/markovify) module. The main point is to understand a data science problem (pipeline?) from data processing, to modelling, testing, and implementation. The other point is to understand Markovify module. What is the main idea? How is it related to mathematics? etc\n"
      ]
    },
    {
      "metadata": {
        "id": "Y0rbGiW0o-dC",
        "colab_type": "text"
      },
      "cell_type": "markdown",
      "source": [
        "# Truyện Kiều\n",
        "\n",
        "[Truyện Kiều](https://en.wikipedia.org/wiki/The_Tale_of_Kieu) is a famous epic poem written by Nguyen Du. This poem is learnt by every student in Vietnam.\n",
        " \n",
        " The poem has the 6-8 style. That means a 6-word sentence is followed by a 8-word sentence. These two sentences are correlated by rhymes.\n",
        " \n",
        " We will use [Markovify](https://github.com/jsvine/markovify). This module will import a whole text as one string (of many sentences). Then it will make individual sentence. The next sentence is totally independent of the current sentence.\n",
        " \n",
        " Therefore, we will pre-process Truyen Kieu by combining consecutive 6-word and 8-word sentences into one sentence.\n",
        "\n",
        "References:\n",
        "- [Word2vec on Nguyen Du](https://blog.duyet.net/2017/04/nlp-truyen-kieu-word2vec.html#.XJOZAChKiqY)\n",
        "- [Other blog](https://github.com/kavgan/nlp-in-practice/blob/master/word2vec/Word2Vec.ipynb)\n",
        "- https://www.kaggle.com/paultimothymooney/poetry-generator-rnn-markov/notebook\n",
        "- [Markovify](https://github.com/jsvine/markovify)\n",
        "- [Thơ máy](http://www.thomay.vn/thomay/)\n",
        "\n",
        "- [Poetry RNN](https://www.kaggle.com/paultimothymooney/poetry-generator-rnn-markov/notebook)"
      ]
    },
    {
      "metadata": {
        "id": "FUBc30xcfA6W",
        "colab_type": "text"
      },
      "cell_type": "markdown",
      "source": [
        "# Data preprocessing"
      ]
    },
    {
      "metadata": {
        "id": "v9sIxWfO6NE2",
        "colab_type": "text"
      },
      "cell_type": "markdown",
      "source": [
        "If you already have a 'clean' data like this [one](https://github.com/tranvohuy/sentiment_sentence/blob/master/data/Truyen_Kieu.txt), you can skip this part.\n",
        "\n",
        "- First, we copy the content [here](https://sites.google.com/site/khonggianketnoidqt/truyen-kieu-tron-bo), and save it in a text file 'Truyen_Kieu_internet.txt'\n",
        "  - You can either copy from the web or use BeautifulSoup.\n",
        "  \n",
        "  - The text there is not well-punctuated.\n",
        "  - A mistake at line 120, and another above line 130\n",
        "  - To have a 'cleaner' version, we have to check carefully the poem, or find a better source. But we can ignore it, simplify troubles as much as possible, just to get a basic model. Then we can construct a more complicated model (including cleaner data, better model structure, etc).\n",
        "- Then upload it to colab.\n",
        "- Import it into a dataframe.\n",
        "- Use regex to delete redundant details.\n",
        " - As mentioned above, for a basic model, it is better to delele all punctuation marks and to lower all characters\n",
        "- Save the poem to a txt file.\n",
        "\n",
        "- Some codes are learnt from [here](https://blog.duyet.net/2017/04/nlp-truyen-kieu-word2vec.html#.XJU7BShKiqY)."
      ]
    },
    {
      "metadata": {
        "id": "xV4OEjbyf6f5",
        "colab_type": "code",
        "outputId": "68ac583c-94fa-467d-febe-d584e48fb584",
        "colab": {
          "resources": {
            "http://localhost:8080/nbextensions/google.colab/files.js": {
              "data": "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",
              "ok": true,
              "headers": [
                [
                  "content-type",
                  "application/javascript"
                ]
              ],
              "status": 200,
              "status_text": ""
            }
          },
          "base_uri": "https://localhost:8080/",
          "height": 41
        }
      },
      "cell_type": "code",
      "source": [
        "from google.colab import files\n",
        "files.upload()\n",
        "import pandas as pd\n",
        "file_name = 'Truyen_Kieu_from_web.txt'\n",
        "df = pd.read_csv(file_name, sep=\"/\", names=[\"row\"]).dropna()\n",
        "\n",
        "#to see what df is about\n",
        "#df.sample(4)\n",
        "#df.head(10)\n",
        "#etc\n",
        "\n",
        "import re\n",
        "\n",
        "def transform_row(row):\n",
        "    # Delete numbers, dots, commas at the beginning of sentences\n",
        "    row = re.sub(r\"^[0-9\\.,]+\", \"\", row)\n",
        "    \n",
        "    # Delete dots, commas, question marks at the end\n",
        "    row = re.sub(r\"[\\.,\\?!]+$\", \"\", row)\n",
        "    \n",
        "    #remove white spaces at the beginning and end of sentences\n",
        "    row = row.strip()\n",
        "    return row \n",
        "\n",
        "df[\"row\"] = df.row.apply(transform_row)\n",
        "\n",
        "#save df to txt file\n",
        "\n",
        "with  open('Truyen_Kieu_simple_version.txt','w')  as f:\n",
        "  for index, row in df.iterrows():\n",
        "    f.write(row['row']+' ')\n",
        "    if index%2 !=0:\n",
        "      f.write('\\n')"
      ],
      "execution_count": 0,
      "outputs": [
        {
          "output_type": "display_data",
          "data": {
            "text/html": [
              "\n",
              "     <input type=\"file\" id=\"files-2b49778b-0300-429c-a204-ea5961188f94\" name=\"files[]\" multiple disabled />\n",
              "     <output id=\"result-2b49778b-0300-429c-a204-ea5961188f94\">\n",
              "      Upload widget is only available when the cell has been executed in the\n",
              "      current browser session. Please rerun this cell to enable.\n",
              "      </output>\n",
              "      <script src=\"/nbextensions/google.colab/files.js\"></script> "
            ],
            "text/plain": [
              "<IPython.core.display.HTML object>"
            ]
          },
          "metadata": {
            "tags": []
          }
        }
      ]
    },
    {
      "metadata": {
        "id": "Vic7Lis7heNl",
        "colab_type": "text"
      },
      "cell_type": "markdown",
      "source": [
        "## Create a no-punctuation-mark version\n",
        "\n",
        "In this version, there is no punctuation mark. Each pair of 6-8 is combined as one line."
      ]
    },
    {
      "metadata": {
        "id": "Go4WeXtthwrB",
        "colab_type": "code",
        "outputId": "fce377ee-35e4-4ab2-d3ff-66d43f8bd15e",
        "colab": {
          "resources": {
            "http://localhost:8080/nbextensions/google.colab/files.js": {
              "data": "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",
              "ok": true,
              "headers": [
                [
                  "content-type",
                  "application/javascript"
                ]
              ],
              "status": 200,
              "status_text": ""
            }
          },
          "base_uri": "https://localhost:8080/",
          "height": 75
        }
      },
      "cell_type": "code",
      "source": [
        "from google.colab import files\n",
        "files.upload()\n",
        "import pandas as pd\n",
        "import re\n",
        "file_name = 'Truyen_Kieu_from_web.txt'\n",
        "\n",
        "df = pd.read_csv(file_name, sep=\"/\", names=[\"row\"]).dropna()\n",
        "def transform_row(row):\n",
        "    # Delete numbers, dots, commas at the beginning of sentences\n",
        "    row = re.sub(r\"^[0-9\\.,]+\", \"\", row)\n",
        "    \n",
        "    # Delete dots, commas, question marks\n",
        "    row = re.sub(r\"[\\.,\\?!]\", \"\", row)\n",
        "    \n",
        "    #remove white spaces at the beginning and end of sentences\n",
        "    row = row.strip()\n",
        "    return row \n",
        "\n",
        "df[\"row\"] = df.row.apply(transform_row)\n",
        "\n",
        "#save df to txt file\n",
        "\n",
        "with  open('Truyen_Kieu_no_punctuation_newline.txt','w')  as f:\n",
        "  for index, row in df.iterrows():\n",
        "    f.write(row['row'] + ' ')\n",
        "    if index%2 !=0:\n",
        "      f.write('\\n')"
      ],
      "execution_count": 2,
      "outputs": [
        {
          "output_type": "display_data",
          "data": {
            "text/html": [
              "\n",
              "     <input type=\"file\" id=\"files-8a6e6838-db15-4eab-976e-9eda388572fa\" name=\"files[]\" multiple disabled />\n",
              "     <output id=\"result-8a6e6838-db15-4eab-976e-9eda388572fa\">\n",
              "      Upload widget is only available when the cell has been executed in the\n",
              "      current browser session. Please rerun this cell to enable.\n",
              "      </output>\n",
              "      <script src=\"/nbextensions/google.colab/files.js\"></script> "
            ],
            "text/plain": [
              "<IPython.core.display.HTML object>"
            ]
          },
          "metadata": {
            "tags": []
          }
        },
        {
          "output_type": "stream",
          "text": [
            "Saving Truyen_Kieu_from_web.txt to Truyen_Kieu_from_web.txt\n"
          ],
          "name": "stdout"
        }
      ]
    },
    {
      "metadata": {
        "id": "YxGN1DzCfwAc",
        "colab_type": "text"
      },
      "cell_type": "markdown",
      "source": [
        "# Import Truyen Kieu\n",
        "- Now suppose we have a clean version. \n",
        "- Import it now."
      ]
    },
    {
      "metadata": {
        "id": "WomZamMxf_r0",
        "colab_type": "code",
        "outputId": "392845be-719a-405e-e777-b6ee9666b1e1",
        "colab": {
          "resources": {
            "http://localhost:8080/nbextensions/google.colab/files.js": {
              "data": "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",
              "ok": true,
              "headers": [
                [
                  "content-type",
                  "application/javascript"
                ]
              ],
              "status": 200,
              "status_text": ""
            }
          },
          "base_uri": "https://localhost:8080/",
          "height": 74
        }
      },
      "cell_type": "code",
      "source": [
        "from google.colab import files\n",
        "files.upload()\n",
        "import pandas as pd"
      ],
      "execution_count": 0,
      "outputs": [
        {
          "output_type": "display_data",
          "data": {
            "text/html": [
              "\n",
              "     <input type=\"file\" id=\"files-36ce353f-c83c-4b41-a5ba-0868385417ca\" name=\"files[]\" multiple disabled />\n",
              "     <output id=\"result-36ce353f-c83c-4b41-a5ba-0868385417ca\">\n",
              "      Upload widget is only available when the cell has been executed in the\n",
              "      current browser session. Please rerun this cell to enable.\n",
              "      </output>\n",
              "      <script src=\"/nbextensions/google.colab/files.js\"></script> "
            ],
            "text/plain": [
              "<IPython.core.display.HTML object>"
            ]
          },
          "metadata": {
            "tags": []
          }
        },
        {
          "output_type": "stream",
          "text": [
            "Saving Truyen_Kieu_simple_v1.txt to Truyen_Kieu_simple_v1.txt\n"
          ],
          "name": "stdout"
        }
      ]
    },
    {
      "metadata": {
        "id": "tOndMPcFE73i",
        "colab_type": "code",
        "outputId": "5d6334a4-b15e-4df0-c04f-54b9f6d6a669",
        "colab": {
          "base_uri": "https://localhost:8080/",
          "height": 204
        }
      },
      "cell_type": "code",
      "source": [
        "!pip install markovify"
      ],
      "execution_count": 0,
      "outputs": [
        {
          "output_type": "stream",
          "text": [
            "Collecting markovify\n",
            "  Downloading https://files.pythonhosted.org/packages/94/b2/b4ce1e461bb3482b1fd63328a2097aed5917cdfa0dbfe9492a84ea46e2ab/markovify-0.7.1.tar.gz\n",
            "Collecting unidecode (from markovify)\n",
            "\u001b[?25l  Downloading https://files.pythonhosted.org/packages/31/39/53096f9217b057cb049fe872b7fc7ce799a1a89b76cf917d9639e7a558b5/Unidecode-1.0.23-py2.py3-none-any.whl (237kB)\n",
            "\u001b[K    100% |████████████████████████████████| 245kB 10.3MB/s \n",
            "\u001b[?25hBuilding wheels for collected packages: markovify\n",
            "  Building wheel for markovify (setup.py) ... \u001b[?25ldone\n",
            "\u001b[?25h  Stored in directory: /root/.cache/pip/wheels/66/fe/5b/07257dd2401d9835447a0f0223f967c998c153404d32612253\n",
            "Successfully built markovify\n",
            "Installing collected packages: unidecode, markovify\n",
            "Successfully installed markovify-0.7.1 unidecode-1.0.23\n"
          ],
          "name": "stdout"
        }
      ]
    },
    {
      "metadata": {
        "id": "1ZeFqN4r7I8L",
        "colab_type": "text"
      },
      "cell_type": "markdown",
      "source": [
        "## analyze the text"
      ]
    },
    {
      "metadata": {
        "id": "eGvGUSSiWqMo",
        "colab_type": "code",
        "outputId": "dad62795-0a0b-4c9c-cbe7-846747381432",
        "colab": {
          "base_uri": "https://localhost:8080/",
          "height": 170
        }
      },
      "cell_type": "code",
      "source": [
        "import re\n",
        "with open(\"Truyen_Kieu_no_punctuation_newline.txt\") as f:\n",
        "    text = f.read()\n",
        "words = text.split()\n",
        "\n",
        "text_no_newline = re.sub(r' \\n+', '. ', text)\n",
        "\n",
        "print('The number of different/total characters in the text:{}/{}'.format(len(set(text_no_newline)), len(text_no_newline)))\n",
        "\n",
        "\n",
        "\n",
        "print('The number of different/total words in the text:{}/{}'.format(len(set(words)), len(words)))\n",
        "data = sorted([(w, words.count(w)) for w in set(words)], key = lambda x:x[1], reverse=True)[:40] \n",
        "most_words = [x[0] for x in data]\n",
        "times_used = [int(x[1]) for x in data]\n",
        "print('Most frequent words')\n",
        "for i in range(6):\n",
        "  print('{}: {} times'.format(data[i][0], data[i][1]))"
      ],
      "execution_count": 4,
      "outputs": [
        {
          "output_type": "stream",
          "text": [
            "The number of different/total characters in the text:125/102524\n",
            "The number of different/total words in the text:3381/22807\n",
            "Most frequent words\n",
            "một: 241 times\n",
            "đã: 231 times\n",
            "người: 201 times\n",
            "là: 165 times\n",
            "lời: 156 times\n",
            "cho: 155 times\n"
          ],
          "name": "stdout"
        }
      ]
    },
    {
      "metadata": {
        "id": "V8H9CdTD7ERf",
        "colab_type": "text"
      },
      "cell_type": "markdown",
      "source": [
        "# run Markovify"
      ]
    },
    {
      "metadata": {
        "id": "tIASNNE_hg9J",
        "colab_type": "code",
        "outputId": "c5e620d9-12fb-410e-d8b4-527b5024ab92",
        "colab": {
          "base_uri": "https://localhost:8080/",
          "height": 102
        }
      },
      "cell_type": "code",
      "source": [
        "import markovify\n",
        "with open(\"Truyen_Kieu_no_punctuation_newline.txt\") as f:\n",
        "    text = f.read()\n",
        "#text is ONE string.\n",
        "\n",
        "# Build the model.\n",
        "text_model = markovify.NewlineText(text, state_size = 2)\n",
        "\n",
        "# Print five randomly-generated sentences\n",
        "for i in range(5):\n",
        "    print(text_model.make_sentence())"
      ],
      "execution_count": 0,
      "outputs": [
        {
          "output_type": "stream",
          "text": [
            "Biết thân đến thế này\n",
            "Chung quanh vẫn đất nước nhà Với Vương Quan là chữ nối dòng nho gia\n",
            "Mẹo lừa đã mắc tay ai cầm\n",
            "Sớm khuya khăn mắt lược đầu Phận con thôi có ra gì mai sau\n",
            "Giác Duyên nghe nói thủy chung Bất bình nổi trận bời bời Ngập ngừng thẹn lục e hồng Nghĩ lòng lại gạn đến lời riêng tây Sạch sành sanh vét cho đầy đọa trẻ càng oan khốc già\n"
          ],
          "name": "stdout"
        }
      ]
    },
    {
      "metadata": {
        "id": "nQfACkUsfRPa",
        "colab_type": "text"
      },
      "cell_type": "markdown",
      "source": [
        "## Observation:\n",
        "\n",
        "- The length of each sentence is mostly not 6+8 = 14 word long. \n",
        "- Recall that 6-8 style is a 6-word sentence followed by an 8-word one.\n",
        "- Most of the times, there is no rhyme between the 6-th word and 12-word."
      ]
    },
    {
      "metadata": {
        "id": "UH4OO27YZBeu",
        "colab_type": "text"
      },
      "cell_type": "markdown",
      "source": [
        "# Understand the module Markovify\n",
        "\n"
      ]
    },
    {
      "metadata": {
        "id": "xbD1PBoiZKB7",
        "colab_type": "text"
      },
      "cell_type": "markdown",
      "source": [
        "What happens when we run `text_model = markovify.NewlineText(text, state_size = 2)` or `text_model = markovify.Text(text, state_size = 2)`\n"
      ]
    },
    {
      "metadata": {
        "id": "xxDIjLIxZfCR",
        "colab_type": "text"
      },
      "cell_type": "markdown",
      "source": [
        "# Class Text\n",
        "- [init](https://github.com/jsvine/markovify/blob/master/markovify/text.py#L17) (self, input_text, state_size=2, chain=None, parsed_sentences=None, retain_original=True)\n",
        "\n",
        "Basically,\n",
        "- `input_text` is a string of sentences. Each sentence ends by a dot `.`, not by a new line `\\n`. \n",
        "- If sentences in our `input_text` end by new line `\\n`. We should use `markovify.NewlineText(input_text)` instead of `markovify.Text(input_text)`.\n",
        "\n",
        "- In the following example, sentences end with `\\n`.\n"
      ]
    },
    {
      "metadata": {
        "id": "xn9mLZJ_dUw_",
        "colab_type": "code",
        "colab": {}
      },
      "cell_type": "code",
      "source": [
        "import markovify\n",
        "with open(\"Truyen_Kieu_clean_v1.txt\") as f:\n",
        "    text = f.read()"
      ],
      "execution_count": 0,
      "outputs": []
    },
    {
      "metadata": {
        "id": "puEcZhLBdWR2",
        "colab_type": "code",
        "outputId": "5c8f2086-5360-467b-fd6b-29e43cef34f2",
        "colab": {
          "base_uri": "https://localhost:8080/",
          "height": 54
        }
      },
      "cell_type": "code",
      "source": [
        "text[0:1000]"
      ],
      "execution_count": 0,
      "outputs": [
        {
          "output_type": "execute_result",
          "data": {
            "text/plain": [
              "'Trăm năm trong cõi người ta Chữ tài chữ mệnh khéo là ghét nhau \\nTrải qua một cuộc bể dâu Những điều trông thấy mà đau đớn lòng \\nLạ gì bỉ sắc tư phong Trời xanh quen thói má hồng đánh ghen \\nCảo thơm lần giở trước đèn Phong tình có lục còn truyền sử xanh \\nRằng năm Gia Tĩnh triều Minh Bốn phương phẳng lặng, hai kinh vững vàng \\nCó nhà viên ngoại họ Vương Gia tư nghĩ cũng thường thường bực trung \\nMột trai con thứ rốt lòng Vương Quan là chữ, nối dòng nho gia \\nĐầu lòng hai ả tố nga Thúy Kiều là chị, em là Thúy Vân \\nMai cốt cách, tuyết tinh thần Một người một vẻ, mười phân vẹn mười \\nVân xem trang trọng khác vời Khuôn trăng đầy đặn, nét ngài nở nang \\nHoa cười ngọc thốt đoan trang Mây thua nước tóc, tuyết nhường màu da \\nKiều càng sắc sảo, mặn mà So bề tài, sắc, lại là phần hơn \\nLàn thu thủy, nét xuân sơn Hoa ghen thua thắm, liễu hờn kém xanh \\nMột, hai nghiêng nước nghiêng thành Sắc đành đòi một, tài đành họa hai \\nThông minh vốn sẵn tư trời Pha nghề thi họa, đủ mùi ca ngâm \\nCung thương làu bậc ng'"
            ]
          },
          "metadata": {
            "tags": []
          },
          "execution_count": 6
        }
      ]
    },
    {
      "metadata": {
        "id": "ZDYhAD22eGGR",
        "colab_type": "text"
      },
      "cell_type": "markdown",
      "source": [
        "- `input_text` will be break into a list of sentences through [`self.generate_corpus(input_text)`](https://github.com/jsvine/markovify/blob/master/markovify/text.py#L33).\n",
        "- And each sentence is splitted by words.\n",
        "\n",
        "-So there is `text_model.parsed_senteces` which is a list. Each element of the list is a word from sentences."
      ]
    },
    {
      "metadata": {
        "id": "h0UfX0SYe1mr",
        "colab_type": "code",
        "colab": {}
      },
      "cell_type": "code",
      "source": [
        "text_model = markovify.NewlineText(text)"
      ],
      "execution_count": 0,
      "outputs": []
    },
    {
      "metadata": {
        "id": "OrdsiPFUe_tG",
        "colab_type": "code",
        "outputId": "fc69dfaa-7d54-4642-ca0d-55c7c04dd640",
        "colab": {
          "base_uri": "https://localhost:8080/",
          "height": 54
        }
      },
      "cell_type": "code",
      "source": [
        "print(text_model.parsed_sentences[0:3])"
      ],
      "execution_count": 0,
      "outputs": [
        {
          "output_type": "stream",
          "text": [
            "[['Trăm', 'năm', 'trong', 'cõi', 'người', 'ta', 'Chữ', 'tài', 'chữ', 'mệnh', 'khéo', 'là', 'ghét', 'nhau'], ['Trải', 'qua', 'một', 'cuộc', 'bể', 'dâu', 'Những', 'điều', 'trông', 'thấy', 'mà', 'đau', 'đớn', 'lòng'], ['Lạ', 'gì', 'bỉ', 'sắc', 'tư', 'phong', 'Trời', 'xanh', 'quen', 'thói', 'má', 'hồng', 'đánh', 'ghen']]\n"
          ],
          "name": "stdout"
        }
      ]
    },
    {
      "metadata": {
        "id": "kIxR-lt3fjLy",
        "colab_type": "text"
      },
      "cell_type": "markdown",
      "source": [
        "- This list `text_model.parsed_sentences` is [put ](https://github.com/jsvine/markovify/blob/master/markovify/text.py#L37)into a Markov chain to analyze.\n",
        "\n",
        "We now go to the [`Chain`](https://github.com/jsvine/markovify/blob/master/markovify/chain.py) class. \n",
        "- [init](https://github.com/jsvine/markovify/blob/master/markovify/chain.py#L32) (self, corpus, state_size, model=None)\n",
        "- The `init` will run [`build(self, corpus, state_size)`](https://github.com/jsvine/markovify/blob/master/markovify/chain.py#L47) \n",
        "  -  Count the number of times $w_3$ appears immediately after the words $w_1w_2$.\n",
        "- And run [precompute_begin_state](https://github.com/jsvine/markovify/blob/master/markovify/chain.py#L45)\n",
        "\n",
        "So\n",
        "`text_model.chain = Chain(text_model.parsed_sentences, state_size)`"
      ]
    },
    {
      "metadata": {
        "id": "7jsiRvyjhEFA",
        "colab_type": "text"
      },
      "cell_type": "markdown",
      "source": [
        "We now analyze line [58](https://github.com/jsvine/markovify/blob/master/markovify/chain.py#L58) to 72.\n",
        "\n",
        " \n",
        "\n",
        "```\n",
        "\n",
        "       model = {}\n",
        "\n",
        "        for run in corpus:\n",
        "            items = ([ BEGIN ] * state_size) + run + [ END ]\n",
        "            for i in range(len(run) + 1):\n",
        "                state = tuple(items[i:i+state_size])\n",
        "                follow = items[i+state_size]\n",
        "                if state not in model:\n",
        "                    model[state] = {}\n",
        "\n",
        "                if follow not in model[state]:\n",
        "                    model[state][follow] = 0\n",
        "\n",
        "                model[state][follow] += 1\n",
        "        return model\n",
        "\n",
        "```\n",
        "\n",
        "where corpus = $[ [w_{11}, w_{12}, w_{13}, w_{14}],   \n",
        "[w_{21}, w_{22}, w_{23},w_{24},w_{25}],    \\cdots]$ \n",
        "\n",
        "- First `run` = $[w_{11}, w_{12}, w_{13}, w_{14}]$.\n",
        "- items = [ BEGIN, BEGIN, $w_{11}, w_{12}, w_{13}, w_{14}$, END]. Note that `state_size=2` by default.\n",
        "- `i` in `(0,1,2,3,4)`\n",
        "  - `i=0` gives `state=(BEGIN, BEGIN)`, `follow =` $w_{11}$\n",
        "    - model[(BEGIN, BEGIN)][$w_{11}$] =1\n",
        "  - `i=1` gives `state= (BEGIN, w_{11})`, and `follow` = $w_{12}$\n",
        "    - model[(BEGIN, w_{11})][$w_{12}$] =1\n",
        "  -  `i=4` gives `state` = $(w_{13},w_{14}$), `follow = END`\n",
        "    \n",
        " -So model[($w_1,w_2$)][$w_3$] counts the number of times the word $w_3$ comes immediately after $w_1w_2$\n",
        " \n",
        " - `model` is a `dict` class."
      ]
    },
    {
      "metadata": {
        "id": "0mXzUeshlnbV",
        "colab_type": "code",
        "outputId": "036c6e65-65cf-4772-a926-d59f4980413e",
        "colab": {
          "base_uri": "https://localhost:8080/",
          "height": 71
        }
      },
      "cell_type": "code",
      "source": [
        "print(type(text_model.chain.model))\n",
        "print(text_model.chain.model[(\"___BEGIN__\", \"___BEGIN__\")])\n",
        "#there are a lot of ways to begin a sentence."
      ],
      "execution_count": 0,
      "outputs": [
        {
          "output_type": "stream",
          "text": [
            "<class 'dict'>\n",
            "{'Trăm': 4, 'Trải': 2, 'Lạ': 5, 'Cảo': 1, 'Rằng': 1, 'Có': 14, 'Một': 38, 'Đầu': 2, 'Mai': 4, 'Vân': 2, 'Hoa': 8, 'Kiều': 7, 'Làn': 1, 'Một,': 1, 'Thông': 1, 'Cung': 3, 'Khúc': 5, 'Phong': 8, 'Êm': 1, 'Ngày': 4, 'Cỏ': 1, 'Thanh': 1, 'Gần': 3, 'Dập': 2, 'Ngổn': 2, 'Tà': 1, 'Bước': 3, 'Nao': 1, 'Sè': 1, 'Rằng:': 28, 'Vương': 2, 'Nổi': 1, 'Kiếp': 5, 'Thuyền': 3, 'Buồng': 5, 'Khóc': 4, 'Đã': 18, 'Sắm': 3, 'Lòng': 7, 'Đau': 4, 'Phũ': 1, 'Sống': 1, 'Nào': 4, 'đã': 3, 'Gọi': 2, 'Lầm': 1, 'Rút': 1, 'Lại': 9, 'Nỗi': 13, 'Quan': 3, 'ở': 6, 'Dễ': 3, 'Thoắt': 6, 'Dấu': 1, 'Nàng': 57, 'Chớ': 1, 'Dùng': 3, 'Trông': 10, 'đề': 1, 'Tuyết': 1, 'Nẻo': 1, 'Hài': 1, 'Chàng': 9, 'Nguyên': 1, 'Nền': 1, 'Chung': 4, 'Vẫn': 1, 'Nước': 3, 'May': 1, 'Bóng': 5, 'Người': 15, 'Chập': 1, 'Dưới': 6, 'Gương': 2, 'Hải': 2, 'Chênh': 1, 'Sương': 1, 'Chào': 1, 'Thưa': 8, 'Hàn': 2, 'Mấy': 8, 'Vâng': 3, 'Âu': 1, 'Này': 6, 'Xem': 4, 'Ví': 5, 'Thềm': 1, 'Gió': 4, 'Giọng': 1, 'Cớ': 3, 'Buổi': 1, 'đoạn': 1, 'Cứ': 1, 'Dạy': 5, 'Ngoài': 3, 'Hiên': 2, 'Cho': 5, 'Sầu': 1, 'Mây': 2, 'Tuần': 2, 'Mành': 1, 'Vì': 4, 'Bâng': 2, 'Nghề': 2, 'Thâm': 1, 'Lơ': 1, 'Tần': 2, 'Là': 1, 'Lấy': 3, 'Mừng': 2, 'Song': 3, 'Tấc': 2, 'Nhẫn': 1, 'Cách': 3, 'Buông': 1, 'Lần': 6, 'Giơ': 1, 'Ngẫm': 4, 'Liền': 2, 'Tan': 2, 'Sinh': 23, 'Thoa': 1, 'Tiếng': 4, 'Chiếc': 2, 'Rày': 2, 'Bấy': 8, 'Vội': 11, 'Thang': 1, 'Sượng': 2, 'Xương': 1, 'Vuông': 1, 'Tiện': 1, 'Ngần': 1, 'Dù': 7, 'Nặng': 2, 'Chút': 4, 'Khuôn': 1, 'Lượng': 2, 'Lặng': 3, 'Được': 6, 'Sẵn': 5, 'Từ': 14, 'Sông': 2, 'Tưng': 1, 'Nhà': 4, 'Thời': 1, '“Trách': 1, 'Những': 17, 'Vắng': 2, 'Xắn': 1, 'Mặt': 6, 'Sánh': 1, 'Trên': 5, 'Tay': 1, 'Khen:': 1, 'Nghĩ': 19, 'Nhớ': 7, 'Anh': 3, 'đủ': 1, 'đến': 1, 'Cửa': 10, 'Nhặt': 1, 'Bây': 11, 'Tiên': 2, 'Vầng': 2, 'Tóc': 3, 'Chén': 2, 'Chày': 1, 'đừng': 1, 'So': 1, 'Kê': 1, 'Qua': 2, 'Trong': 13, 'Ngọn': 4, 'Khi': 16, 'Lựa': 2, 'Lời': 6, 'Sóng': 1, 'Vẻ': 3, 'Ra': 3, 'Phải': 8, 'Mái': 2, 'Gieo': 2, 'Thấy': 11, 'đem': 1, 'Liêu': 1, 'Mảng': 2, 'Gót': 2, 'Sự': 5, 'Trăng': 2, 'Gìn': 1, 'Tai': 1, 'ông': 3, 'Cùng': 13, 'Quản': 3, 'Còn': 11, 'Ngại': 2, 'Buộc': 1, 'Buồn': 6, 'Não': 1, 'Già': 1, 'Đầy': 3, 'Đồ': 1, 'Điều': 5, 'Hỏi': 5, 'Hạ': 2, 'Rường': 1, 'Sao': 6, 'Duyên': 5, 'Để': 1, 'Quyết': 3, 'Họ': 3, 'Tính': 4, 'Hãy': 2, 'Thương': 11, 'Hạt': 1, 'Quá': 3, 'Trước': 9, 'Ghế': 1, 'Mối': 3, 'Đắn': 1, 'Mặn': 1, 'Cò': 1, 'Định': 1, 'Nuôi': 1, 'Trời': 6, 'Búa': 1, 'Theo': 1, 'Dâng': 1, 'Cỗi': 1, 'Thà': 1, 'Phận': 8, 'Cũng': 8, 'Việc': 3, 'Công': 4, 'Thề': 2, 'Biết': 6, 'Tái': 1, 'Nợ': 1, 'Thúy': 3, 'Cơ': 2, 'Hở': 1, 'Cậy': 1, 'Giữa': 3, 'Kể': 2, 'Chị': 2, 'Mất': 1, 'Hồn': 1, 'Dạ': 1, 'ôi': 1, 'Cạn': 3, 'Xuân': 2, 'Kẻ': 1, 'Hỏi:': 1, 'Lậy': 1, 'Sá': 2, 'Xiết': 1, 'Kiệu': 4, 'Rước': 1, 'Ngập': 1, 'Phẩm': 1, 'Trùng': 2, 'Phòng': 2, 'Đêm': 7, 'Chẳng': 3, 'Lầu': 4, 'Tình': 10, 'Dạo': 1, 'Rủi': 1, 'Xót': 10, 'Mẹo': 1, 'Về': 1, 'Hẳn': 1, 'Miếng': 1, 'đào': 1, 'Mập': 1, 'Mụ': 9, 'Vả': 3, 'Tiếc': 6, 'Giọt': 4, 'Tuồng': 3, 'Thôi': 7, 'Giận': 2, 'Đoạn': 2, 'Bề': 2, 'Nhìn': 1, 'Hổ': 1, 'Lỡ': 4, 'Khác': 1, 'Vài': 1, 'Nghìn': 3, 'Đùng': 1, 'Vi': 1, 'Dặm': 3, 'Rừng': 1, 'Xe': 1, 'Bên': 3, 'Hương': 2, 'Cởi': 1, 'Đổi': 1, 'Muôn': 1, 'Tin': 5, 'Lễ': 2, 'Đủ': 1, 'Giờ': 1, 'Bảo': 2, 'Màu': 1, 'Con': 2, 'Lão': 1, 'Sợ': 4, 'Vực': 4, 'Rỉ': 2, 'Số': 1, 'Thuốc': 2, 'Tú': 4, 'Làm': 7, 'Kề': 1, 'được': 1, 'Bốn': 4, 'Bẽ': 1, 'Tưởng': 2, 'Sân': 3, 'Ngậm': 1, 'Than': 1, 'Giá': 1, 'Tức': 1, 'Đánh': 3, 'Mảnh': 2, 'Mở': 1, 'Chim': 1, 'Tường': 1, 'Dám': 1, 'Thừa': 4, 'Nghe': 14, 'Lối': 1, 'Hóa': 1, 'Hung': 1, 'Thịt': 1, 'Hết': 3, 'Nhưng': 1, 'Thân': 5, 'Bày': 2, 'Bạc': 2, 'Đà': 1, 'Rồi': 3, 'Sở': 2, 'Phao': 1, 'Đem': 2, 'Phụ': 1, 'Tẻ': 2, 'Vừa': 1, 'Chơi': 1, 'Khéo': 4, 'Đôi': 2, 'Cảnh': 1, 'Đòi': 2, 'Vui': 1, 'Thờ': 1, 'Ôm': 1, 'Khách': 1, 'Vốn': 2, 'Trướng': 3, 'Nguyệt': 1, 'Sớm': 5, 'Dịp': 1, 'Miệt': 1, 'Thúc': 5, 'Rõ': 4, 'Hay': 1, 'Thiếp': 5, 'Chúa': 1, 'Bình': 3, 'Như': 2, 'Thế': 3, 'Cúi': 2, 'Đường': 2, 'Nỉ': 1, 'Mượn': 2, 'Chiến': 1, 'Bắn': 1, 'Nửa': 2, 'Giậu': 1, 'Trót': 3, 'Đất': 1, 'Gã': 1, 'Suy': 1, 'Phép': 1, 'Đục': 1, 'Phủ': 1, 'Sụt': 2, 'Tại': 1, 'Cười': 3, 'Khen': 6, 'Thật': 2, 'Dâu': 1, 'Kíp': 3, 'Huệ': 1, 'Trộm': 2, 'E': 2, 'Mà': 1, 'Xin': 2, 'Rạng': 1, 'Tiễn': 1, 'Cầm': 2, 'Hơn': 1, 'Lửa': 1, 'Dại': 1, 'Lo': 1, 'Tiểu': 11, 'Chồng': 1, 'Tẩy': 1, 'Thú': 1, 'Chạnh': 2, 'Long': 1, 'Roi': 1, 'Vậy': 2, 'Lâm': 3, 'Dọn': 1, 'Phu': 1, 'Sửa': 1, 'Dặn': 1, 'Sắn': 1, 'Nén': 1, 'Tôi': 1, 'Tớ': 1, 'Hớt': 1, 'Chạy': 1, 'Di': 1, 'Sang': 1, 'Hỡi': 1, 'Chắc': 1, 'Đạo': 2, 'Trở': 1, 'Mệnh': 1, 'Hai': 7, 'Khuyển': 1, 'Buồm': 1, 'Dỡ': 1, 'Hoàng': 1, 'Bàng': 1, 'A': 2, 'Ngước': 1, 'Ban': 1, 'Gạn': 2, 'Bất': 1, 'Trúc': 1, 'Kẻo': 1, 'Mẹ': 1, 'Lãnh': 1, 'Lĩnh': 1, 'Mày': 1, 'Sen': 1, 'Tìm': 1, 'Chước': 2, 'Càng': 1, 'Nhân': 3, 'Vợ': 2, 'Bắt': 3, 'Ngảnh': 1, 'Nhẹ': 1, 'Diện': 1, 'Bể': 1, 'Tàng': 2, 'Đưa': 2, 'áo': 2, 'Phật': 2, 'Nâu': 1, 'Gác': 1, 'Thấp': 1, 'Tông': 1, 'Thẹn': 1, 'Liệu': 2, 'Nữa': 2, 'Bâu': 1, 'Dẫu': 2, 'Nhận': 1, 'Dối': 1, 'Thiền': 1, 'Rành': 1, 'Bao': 3, 'Ngăn': 1, 'ấy': 2, 'Thực': 1, 'Chỉn': 1, 'Cất': 1, 'Mịt': 1, 'Canh': 2, 'Chùa': 1, 'Xăm': 1, 'Bản': 1, 'Chỉ': 1, 'Gửi': 1, 'Kệ': 1, 'Giở': 1, 'Giác': 9, 'Lánh': 1, 'Nhắn': 1, 'Hư': 1, 'Nơi': 1, 'Chứng': 1, 'Thành': 1, 'Chém': 1, 'Hồng': 1, 'Râu': 1, 'Đội': 1, 'Giang': 1, 'Rộng': 2, 'Ngỏ': 1, 'Trai': 1, 'Bằng': 2, 'Đành': 2, 'Đoái': 1, 'Chốc': 1, 'Cánh': 1, 'Ngất': 1, 'Giáp': 1, 'Dựng': 1, 'Hoả': 1, 'Kéo': 2, 'Rỡ': 1, 'Đến': 2, 'Tiệc': 1, 'Vinh': 1, 'Tấm': 1, 'Nghiêm': 1, 'Ba': 3, 'Thệ': 1, 'Quân': 1, 'Báo': 1, 'Sâm': 1, 'Gấm': 1, 'Kiến': 1, 'Dắt': 2, 'Thoạt': 1, 'Đàn': 2, 'Hoạn': 1, 'Tha': 1, 'Tạ': 2, 'Lệnh': 2, 'Máu': 1, 'Sư': 5, 'Mới': 1, 'Họa': 1, 'Chạm': 1, 'Huống': 1, 'Triều': 2, 'Nghênh': 1, 'Đẩy': 1, 'Đóng': 1, 'Bó': 1, 'Chọc': 1, 'Chỉnh': 1, 'Hồ': 3, 'Đương': 1, 'Tử': 1, 'Khí': 1, 'Trơ': 1, 'Dòng': 1, 'Ngỡ': 1, 'Năm': 2, 'Xét': 2, 'Ve': 1, 'Ông': 2, 'Chân': 1, 'Đạm': 1, 'Giết': 1, 'Thổ': 1, 'Mười': 1, 'Đời': 1, 'Gặp': 4, 'Ma': 1, 'Oan': 1, 'Hại': 1, 'Thửa': 1, 'Thuê': 1, 'Ngư': 1, 'Mơ': 1, 'Tâm': 1, 'Giật': 1, 'Nạn': 1, 'Xập': 1, 'Cuối': 1, 'Láng': 1, 'Đều': 1, 'Vật': 1, 'Dỗ': 1, 'Chưa': 2, 'Thần': 1, 'Đinh': 1, 'Ruột': 1, 'Thẩn': 1, 'Tuy': 1, 'Bẻ': 2, 'Dường': 1, 'Bởi': 1, 'Chế': 1, 'Kim': 2, 'Tỉnh': 1, 'Thăng': 1, 'Kiên': 1, 'Rứt': 1, 'Bỗng': 1, 'Đại': 2, 'Vẫy': 1, 'Rắp': 1, 'Dấn': 1, 'Xảy': 1, 'Hàng': 1, 'Chiêu': 1, 'Với': 1, 'Minh': 1, 'Quanh': 1, 'Huyên': 1, 'Quây': 1, 'Mùi': 1, 'Dở': 1, 'Độ': 1, 'Quả': 1, 'Dứt': 1, 'Nói': 2, 'Chữ': 2, 'Xưa': 1, 'Động': 1, 'Riêng': 1, 'Chừng': 1, 'Ai': 1, 'Chở': 1, 'Thêm': 1, 'ăn': 1, 'Phím': 1, 'Lọt': 1, 'Chuyện': 1, 'Thiện': 1}\n"
          ],
          "name": "stdout"
        }
      ]
    },
    {
      "metadata": {
        "id": "lI-LZYx8mjMn",
        "colab_type": "code",
        "outputId": "5270c2bd-c4ce-44e6-a257-826f036333c3",
        "colab": {
          "base_uri": "https://localhost:8080/",
          "height": 85
        }
      },
      "cell_type": "code",
      "source": [
        "# list all words that appear after word1 = \"Trăm\" and word2 = \"năm\" in the original text\n",
        "\n",
        "print(text_model.chain.model[(\"Trăm\", \"năm\")])\n",
        "print(text_model.chain.model[(\"___BEGIN__\", \"Trăm\")])\n",
        "print(text_model.chain.model[\"Thúy\", \"Kiều\"])\n",
        "print(text_model.chain.model[\"Thúy\", \"Vân\"])\n",
        "#There are not many ways to continue the sentence given \"Thúy Vân\""
      ],
      "execution_count": 0,
      "outputs": [
        {
          "output_type": "stream",
          "text": [
            "{'trong': 1, 'biết': 1, 'tạc': 1, 'thề': 1, 'để': 1, 'tính': 1, 'danh': 1}\n",
            "{'năm': 2, 'nghìn': 1, 'điều': 1}\n",
            "{'là': 1, 'sắc': 1, 'Mắc': 1, 'tài': 1}\n",
            "{'___END__': 2, 'chợt': 1, 'thay': 1}\n"
          ],
          "name": "stdout"
        }
      ]
    },
    {
      "metadata": {
        "id": "mtr35tDqkxHT",
        "colab_type": "text"
      },
      "cell_type": "markdown",
      "source": [
        "We now analyze [`precompute_begin_state()`](https://github.com/jsvine/markovify/blob/master/markovify/chain.py#L45)\n",
        "\n",
        "\n",
        "\n",
        "```\n",
        "        begin_state = tuple([ BEGIN ] * self.state_size)\n",
        "        choices, weights = zip(*self.model[begin_state].items())\n",
        "        cumdist = list(accumulate(weights))\n",
        "        self.begin_cumdist = cumdist\n",
        "        self.begin_choices = choices\n",
        "```\n",
        "\n",
        "- `self.begin_choices` is the list of words appearing at the beginning of sentences in `input_text`. There is also weight for each of these \"beginning\" words (in `cumdist`)."
      ]
    },
    {
      "metadata": {
        "id": "ugjHo_gmmqxQ",
        "colab_type": "code",
        "outputId": "9a6abe5c-6bd0-479c-c2ca-0fefcf2037b6",
        "colab": {
          "base_uri": "https://localhost:8080/",
          "height": 88
        }
      },
      "cell_type": "code",
      "source": [
        "print(type(text_model.chain.begin_choices))\n",
        "print(text_model.chain.begin_choices)\n",
        "print(text_model.chain.begin_cumdist)"
      ],
      "execution_count": 0,
      "outputs": [
        {
          "output_type": "stream",
          "text": [
            "<class 'tuple'>\n",
            "('Trăm', 'Trải', 'Lạ', 'Cảo', 'Rằng', 'Có', 'Một', 'Đầu', 'Mai', 'Vân', 'Hoa', 'Kiều', 'Làn', 'Một,', 'Thông', 'Cung', 'Khúc', 'Phong', 'Êm', 'Ngày', 'Cỏ', 'Thanh', 'Gần', 'Dập', 'Ngổn', 'Tà', 'Bước', 'Nao', 'Sè', 'Rằng:', 'Vương', 'Nổi', 'Kiếp', 'Thuyền', 'Buồng', 'Khóc', 'Đã', 'Sắm', 'Lòng', 'Đau', 'Phũ', 'Sống', 'Nào', 'đã', 'Gọi', 'Lầm', 'Rút', 'Lại', 'Nỗi', 'Quan', 'ở', 'Dễ', 'Thoắt', 'Dấu', 'Nàng', 'Chớ', 'Dùng', 'Trông', 'đề', 'Tuyết', 'Nẻo', 'Hài', 'Chàng', 'Nguyên', 'Nền', 'Chung', 'Vẫn', 'Nước', 'May', 'Bóng', 'Người', 'Chập', 'Dưới', 'Gương', 'Hải', 'Chênh', 'Sương', 'Chào', 'Thưa', 'Hàn', 'Mấy', 'Vâng', 'Âu', 'Này', 'Xem', 'Ví', 'Thềm', 'Gió', 'Giọng', 'Cớ', 'Buổi', 'đoạn', 'Cứ', 'Dạy', 'Ngoài', 'Hiên', 'Cho', 'Sầu', 'Mây', 'Tuần', 'Mành', 'Vì', 'Bâng', 'Nghề', 'Thâm', 'Lơ', 'Tần', 'Là', 'Lấy', 'Mừng', 'Song', 'Tấc', 'Nhẫn', 'Cách', 'Buông', 'Lần', 'Giơ', 'Ngẫm', 'Liền', 'Tan', 'Sinh', 'Thoa', 'Tiếng', 'Chiếc', 'Rày', 'Bấy', 'Vội', 'Thang', 'Sượng', 'Xương', 'Vuông', 'Tiện', 'Ngần', 'Dù', 'Nặng', 'Chút', 'Khuôn', 'Lượng', 'Lặng', 'Được', 'Sẵn', 'Từ', 'Sông', 'Tưng', 'Nhà', 'Thời', '“Trách', 'Những', 'Vắng', 'Xắn', 'Mặt', 'Sánh', 'Trên', 'Tay', 'Khen:', 'Nghĩ', 'Nhớ', 'Anh', 'đủ', 'đến', 'Cửa', 'Nhặt', 'Bây', 'Tiên', 'Vầng', 'Tóc', 'Chén', 'Chày', 'đừng', 'So', 'Kê', 'Qua', 'Trong', 'Ngọn', 'Khi', 'Lựa', 'Lời', 'Sóng', 'Vẻ', 'Ra', 'Phải', 'Mái', 'Gieo', 'Thấy', 'đem', 'Liêu', 'Mảng', 'Gót', 'Sự', 'Trăng', 'Gìn', 'Tai', 'ông', 'Cùng', 'Quản', 'Còn', 'Ngại', 'Buộc', 'Buồn', 'Não', 'Già', 'Đầy', 'Đồ', 'Điều', 'Hỏi', 'Hạ', 'Rường', 'Sao', 'Duyên', 'Để', 'Quyết', 'Họ', 'Tính', 'Hãy', 'Thương', 'Hạt', 'Quá', 'Trước', 'Ghế', 'Mối', 'Đắn', 'Mặn', 'Cò', 'Định', 'Nuôi', 'Trời', 'Búa', 'Theo', 'Dâng', 'Cỗi', 'Thà', 'Phận', 'Cũng', 'Việc', 'Công', 'Thề', 'Biết', 'Tái', 'Nợ', 'Thúy', 'Cơ', 'Hở', 'Cậy', 'Giữa', 'Kể', 'Chị', 'Mất', 'Hồn', 'Dạ', 'ôi', 'Cạn', 'Xuân', 'Kẻ', 'Hỏi:', 'Lậy', 'Sá', 'Xiết', 'Kiệu', 'Rước', 'Ngập', 'Phẩm', 'Trùng', 'Phòng', 'Đêm', 'Chẳng', 'Lầu', 'Tình', 'Dạo', 'Rủi', 'Xót', 'Mẹo', 'Về', 'Hẳn', 'Miếng', 'đào', 'Mập', 'Mụ', 'Vả', 'Tiếc', 'Giọt', 'Tuồng', 'Thôi', 'Giận', 'Đoạn', 'Bề', 'Nhìn', 'Hổ', 'Lỡ', 'Khác', 'Vài', 'Nghìn', 'Đùng', 'Vi', 'Dặm', 'Rừng', 'Xe', 'Bên', 'Hương', 'Cởi', 'Đổi', 'Muôn', 'Tin', 'Lễ', 'Đủ', 'Giờ', 'Bảo', 'Màu', 'Con', 'Lão', 'Sợ', 'Vực', 'Rỉ', 'Số', 'Thuốc', 'Tú', 'Làm', 'Kề', 'được', 'Bốn', 'Bẽ', 'Tưởng', 'Sân', 'Ngậm', 'Than', 'Giá', 'Tức', 'Đánh', 'Mảnh', 'Mở', 'Chim', 'Tường', 'Dám', 'Thừa', 'Nghe', 'Lối', 'Hóa', 'Hung', 'Thịt', 'Hết', 'Nhưng', 'Thân', 'Bày', 'Bạc', 'Đà', 'Rồi', 'Sở', 'Phao', 'Đem', 'Phụ', 'Tẻ', 'Vừa', 'Chơi', 'Khéo', 'Đôi', 'Cảnh', 'Đòi', 'Vui', 'Thờ', 'Ôm', 'Khách', 'Vốn', 'Trướng', 'Nguyệt', 'Sớm', 'Dịp', 'Miệt', 'Thúc', 'Rõ', 'Hay', 'Thiếp', 'Chúa', 'Bình', 'Như', 'Thế', 'Cúi', 'Đường', 'Nỉ', 'Mượn', 'Chiến', 'Bắn', 'Nửa', 'Giậu', 'Trót', 'Đất', 'Gã', 'Suy', 'Phép', 'Đục', 'Phủ', 'Sụt', 'Tại', 'Cười', 'Khen', 'Thật', 'Dâu', 'Kíp', 'Huệ', 'Trộm', 'E', 'Mà', 'Xin', 'Rạng', 'Tiễn', 'Cầm', 'Hơn', 'Lửa', 'Dại', 'Lo', 'Tiểu', 'Chồng', 'Tẩy', 'Thú', 'Chạnh', 'Long', 'Roi', 'Vậy', 'Lâm', 'Dọn', 'Phu', 'Sửa', 'Dặn', 'Sắn', 'Nén', 'Tôi', 'Tớ', 'Hớt', 'Chạy', 'Di', 'Sang', 'Hỡi', 'Chắc', 'Đạo', 'Trở', 'Mệnh', 'Hai', 'Khuyển', 'Buồm', 'Dỡ', 'Hoàng', 'Bàng', 'A', 'Ngước', 'Ban', 'Gạn', 'Bất', 'Trúc', 'Kẻo', 'Mẹ', 'Lãnh', 'Lĩnh', 'Mày', 'Sen', 'Tìm', 'Chước', 'Càng', 'Nhân', 'Vợ', 'Bắt', 'Ngảnh', 'Nhẹ', 'Diện', 'Bể', 'Tàng', 'Đưa', 'áo', 'Phật', 'Nâu', 'Gác', 'Thấp', 'Tông', 'Thẹn', 'Liệu', 'Nữa', 'Bâu', 'Dẫu', 'Nhận', 'Dối', 'Thiền', 'Rành', 'Bao', 'Ngăn', 'ấy', 'Thực', 'Chỉn', 'Cất', 'Mịt', 'Canh', 'Chùa', 'Xăm', 'Bản', 'Chỉ', 'Gửi', 'Kệ', 'Giở', 'Giác', 'Lánh', 'Nhắn', 'Hư', 'Nơi', 'Chứng', 'Thành', 'Chém', 'Hồng', 'Râu', 'Đội', 'Giang', 'Rộng', 'Ngỏ', 'Trai', 'Bằng', 'Đành', 'Đoái', 'Chốc', 'Cánh', 'Ngất', 'Giáp', 'Dựng', 'Hoả', 'Kéo', 'Rỡ', 'Đến', 'Tiệc', 'Vinh', 'Tấm', 'Nghiêm', 'Ba', 'Thệ', 'Quân', 'Báo', 'Sâm', 'Gấm', 'Kiến', 'Dắt', 'Thoạt', 'Đàn', 'Hoạn', 'Tha', 'Tạ', 'Lệnh', 'Máu', 'Sư', 'Mới', 'Họa', 'Chạm', 'Huống', 'Triều', 'Nghênh', 'Đẩy', 'Đóng', 'Bó', 'Chọc', 'Chỉnh', 'Hồ', 'Đương', 'Tử', 'Khí', 'Trơ', 'Dòng', 'Ngỡ', 'Năm', 'Xét', 'Ve', 'Ông', 'Chân', 'Đạm', 'Giết', 'Thổ', 'Mười', 'Đời', 'Gặp', 'Ma', 'Oan', 'Hại', 'Thửa', 'Thuê', 'Ngư', 'Mơ', 'Tâm', 'Giật', 'Nạn', 'Xập', 'Cuối', 'Láng', 'Đều', 'Vật', 'Dỗ', 'Chưa', 'Thần', 'Đinh', 'Ruột', 'Thẩn', 'Tuy', 'Bẻ', 'Dường', 'Bởi', 'Chế', 'Kim', 'Tỉnh', 'Thăng', 'Kiên', 'Rứt', 'Bỗng', 'Đại', 'Vẫy', 'Rắp', 'Dấn', 'Xảy', 'Hàng', 'Chiêu', 'Với', 'Minh', 'Quanh', 'Huyên', 'Quây', 'Mùi', 'Dở', 'Độ', 'Quả', 'Dứt', 'Nói', 'Chữ', 'Xưa', 'Động', 'Riêng', 'Chừng', 'Ai', 'Chở', 'Thêm', 'ăn', 'Phím', 'Lọt', 'Chuyện', 'Thiện')\n",
            "[4, 6, 11, 12, 13, 27, 65, 67, 71, 73, 81, 88, 89, 90, 91, 94, 99, 107, 108, 112, 113, 114, 117, 119, 121, 122, 125, 126, 127, 155, 157, 158, 163, 166, 171, 175, 193, 196, 203, 207, 208, 209, 213, 216, 218, 219, 220, 229, 242, 245, 251, 254, 260, 261, 318, 319, 322, 332, 333, 334, 335, 336, 345, 346, 347, 351, 352, 355, 356, 361, 376, 377, 383, 385, 387, 388, 389, 390, 398, 400, 408, 411, 412, 418, 422, 427, 428, 432, 433, 436, 437, 438, 439, 444, 447, 449, 454, 455, 457, 459, 460, 464, 466, 468, 469, 470, 472, 473, 476, 478, 481, 483, 484, 487, 488, 494, 495, 499, 501, 503, 526, 527, 531, 533, 535, 543, 554, 555, 557, 558, 559, 560, 561, 568, 570, 574, 575, 577, 580, 586, 591, 605, 607, 608, 612, 613, 614, 631, 633, 634, 640, 641, 646, 647, 648, 667, 674, 677, 678, 679, 689, 690, 701, 703, 705, 708, 710, 711, 712, 713, 714, 716, 729, 733, 749, 751, 757, 758, 761, 764, 772, 774, 776, 787, 788, 789, 791, 793, 798, 800, 801, 802, 805, 818, 821, 832, 834, 835, 841, 842, 843, 846, 847, 852, 857, 859, 860, 866, 871, 872, 875, 878, 882, 884, 895, 896, 899, 908, 909, 912, 913, 914, 915, 916, 917, 923, 924, 925, 926, 927, 928, 936, 944, 947, 951, 953, 959, 960, 961, 964, 966, 967, 968, 971, 973, 975, 976, 977, 978, 979, 982, 984, 985, 986, 987, 989, 990, 994, 995, 996, 997, 999, 1001, 1008, 1011, 1015, 1025, 1026, 1027, 1037, 1038, 1039, 1040, 1041, 1042, 1043, 1052, 1055, 1061, 1065, 1068, 1075, 1077, 1079, 1081, 1082, 1083, 1087, 1088, 1089, 1092, 1093, 1094, 1097, 1098, 1099, 1102, 1104, 1105, 1106, 1107, 1112, 1114, 1115, 1116, 1118, 1119, 1121, 1122, 1126, 1130, 1132, 1133, 1135, 1139, 1146, 1147, 1148, 1152, 1153, 1155, 1158, 1159, 1160, 1161, 1162, 1165, 1167, 1168, 1169, 1170, 1171, 1175, 1189, 1190, 1191, 1192, 1193, 1196, 1197, 1202, 1204, 1206, 1207, 1210, 1212, 1213, 1215, 1216, 1218, 1219, 1220, 1224, 1226, 1227, 1229, 1230, 1231, 1232, 1233, 1235, 1238, 1239, 1244, 1245, 1246, 1251, 1255, 1256, 1261, 1262, 1265, 1267, 1270, 1272, 1274, 1275, 1277, 1278, 1279, 1281, 1282, 1285, 1286, 1287, 1288, 1289, 1290, 1291, 1293, 1294, 1297, 1303, 1305, 1306, 1309, 1310, 1312, 1314, 1315, 1317, 1318, 1319, 1321, 1322, 1323, 1324, 1325, 1336, 1337, 1338, 1339, 1341, 1342, 1343, 1345, 1348, 1349, 1350, 1351, 1352, 1353, 1354, 1355, 1356, 1357, 1358, 1359, 1360, 1361, 1362, 1364, 1365, 1366, 1373, 1374, 1375, 1376, 1377, 1378, 1380, 1381, 1382, 1384, 1385, 1386, 1387, 1388, 1389, 1390, 1391, 1392, 1393, 1395, 1396, 1399, 1401, 1404, 1405, 1406, 1407, 1408, 1410, 1412, 1414, 1416, 1417, 1418, 1419, 1420, 1421, 1423, 1425, 1426, 1428, 1429, 1430, 1431, 1432, 1435, 1436, 1438, 1439, 1440, 1441, 1442, 1444, 1445, 1446, 1447, 1448, 1449, 1450, 1451, 1460, 1461, 1462, 1463, 1464, 1465, 1466, 1467, 1468, 1469, 1470, 1471, 1473, 1474, 1475, 1477, 1479, 1480, 1481, 1482, 1483, 1484, 1485, 1486, 1488, 1489, 1491, 1492, 1493, 1494, 1495, 1498, 1499, 1500, 1501, 1502, 1503, 1504, 1506, 1507, 1509, 1510, 1511, 1513, 1515, 1516, 1521, 1522, 1523, 1524, 1525, 1527, 1528, 1529, 1530, 1531, 1532, 1533, 1536, 1537, 1538, 1539, 1540, 1541, 1542, 1544, 1546, 1547, 1549, 1550, 1551, 1552, 1553, 1554, 1555, 1559, 1560, 1561, 1562, 1563, 1564, 1565, 1566, 1567, 1568, 1569, 1570, 1571, 1572, 1573, 1574, 1575, 1577, 1578, 1579, 1580, 1581, 1582, 1584, 1585, 1586, 1587, 1589, 1590, 1591, 1592, 1593, 1594, 1596, 1597, 1598, 1599, 1600, 1601, 1602, 1603, 1604, 1605, 1606, 1607, 1608, 1609, 1610, 1611, 1612, 1614, 1616, 1617, 1618, 1619, 1620, 1621, 1622, 1623, 1624, 1625, 1626, 1627, 1628]\n"
          ],
          "name": "stdout"
        }
      ]
    },
    {
      "metadata": {
        "id": "0i559i3MffGx",
        "colab_type": "code",
        "outputId": "7c5bd52c-1747-4bb2-b530-740c743bd59f",
        "colab": {
          "base_uri": "https://localhost:8080/",
          "height": 54
        }
      },
      "cell_type": "code",
      "source": [
        "#Generate a new sentence\n",
        "\n",
        "print(text_model.chain.walk())"
      ],
      "execution_count": 0,
      "outputs": [
        {
          "output_type": "stream",
          "text": [
            "['Già', 'giang', 'một', 'lão', 'một', 'trai', 'Một', 'dây', 'một', 'buộc', 'ai', 'làm', '?', 'Này', 'ai', 'đan', 'dậm,', 'giật', 'giàm', 'bỗng', 'dưng']\n"
          ],
          "name": "stdout"
        }
      ]
    },
    {
      "metadata": {
        "id": "TXS5M-6zso8b",
        "colab_type": "code",
        "outputId": "e9931f5e-32fb-4404-a923-b2e70097f366",
        "colab": {
          "base_uri": "https://localhost:8080/",
          "height": 51
        }
      },
      "cell_type": "code",
      "source": [
        "#Generate a new sentence that starting with word1 = \"Trăm\" and word2 = \"năm\"\n",
        "print(text_model.chain.walk(init_state = (\"Trăm\", \"năm\")))\n",
        "print(text_model.chain.walk(init_state = (\"Thúy\", \"Kiều\")))"
      ],
      "execution_count": 0,
      "outputs": [
        {
          "output_type": "stream",
          "text": [
            "['danh', 'tiết', 'cũng', 'vì', 'đêm', 'nay']\n",
            "['Mắc', 'điều', 'tình', 'ái', 'khỏi', 'điều', 'tà', 'dâm']\n"
          ],
          "name": "stdout"
        }
      ]
    },
    {
      "metadata": {
        "id": "BAQ9UNd6ThoC",
        "colab_type": "text"
      },
      "cell_type": "markdown",
      "source": [
        "# Conclusion:\n",
        "\n",
        "- Markovify is  a very basic model. This can be transformed to a great lesson if you are teaching Probility.\n",
        "  - In details, the code also handles \"cleaning\", for example removing ?,. , :, states names, etc.\n",
        "\n",
        "- It is a Markov chain with `state_size = 2` that means it will produce words $w_1w_2w_3w_4\\cdots$ in  a way that the conditional law of $(w_4w_5\\cdots| w_1w_2w_3)$ is the same as that of $(w_4|w_2w_3)$. \n",
        "\n",
        "- It chooses the word $w_4$ given $w_1w_2w_3$ by learning statiscally from the original text what would appears after $w_2w_3$.\n",
        "\n",
        "- Or in other words $(w_4w_5\\cdots|w_2w_3)$ is independent of $(w_1|w_2w_3)$.\n",
        "\n",
        "- The chain will stop when the new word is [\"END\"](https://github.com/jsvine/markovify/blob/master/markovify/chain.py#L108).\n",
        "  - Will it ever hit \"END\"?  interesting..;-)\n",
        "  - The the whole sentence will be [compared](https://github.com/jsvine/markovify/blob/master/markovify/text.py#L189) to the original text to see whether or not it overlaps (\"copies\") too much with the original text.\n",
        "  - If there is too much overlap, it re-generates the sentence again.\n",
        "  - After `tries = 10` times, a `None` sentence is given.\n",
        "\n",
        "- The Markov chain does not have \"new\" creativity in the sense that if the current state is \"Trăm năm\", the next word will 100% be in `['trong', 'cõi', 'người', 'ta', 'Khéo', 'thay', 'gặp', 'gỡ', 'cũng', 'trong', 'chuyển', 'vần']`.\n",
        "  - For every three consecutive words in its generated sentence, they  appear somewhere in the original text.\n",
        "\n",
        "- The model/Markov chain with `state_size=2` does not obey 6-8 rule of the poem. In a 2-sentence $w_{11}\\cdots w_{16}, w_{21}\\cdots w_{28}$, the words $w_{16}$ and $w_{26}$ have to be rhyme.\n",
        "\n",
        "- Therefore, this model is good on \"text\" styles rather than poem styles since the latter's structure is rigid/strict.\n"
      ]
    },
    {
      "metadata": {
        "id": "9c8y4ISHV0oR",
        "colab_type": "text"
      },
      "cell_type": "markdown",
      "source": [
        "## How can we improve the performance?\n",
        "- We can increase `state_size`, says up to ~~`12`~~ `6` such that the model learns 6-8 rule. But then, the model has very limited resource/dictionary (it is rigid) to produce new sentences. \n",
        "  - It is likely to produce a sentence in the original text. Because of the [`max_overlap`](https://github.com/jsvine/markovify/blob/master/markovify/text.py#L8) rules, it is likely to produce `None` sentence.\n",
        "    - For example, if `state_size = 3` and we are looking for a new word from `Trăm năm trong`, the next word has to be `cõi`. There is not much flexibility with `state_size=3`, unless the original text is huge or something else happens.\n",
        "  \n",
        "  - We could let the program choose a new word \"out of the history\" based on a different text.\n",
        "\n",
        "- Experiment with different way to compute Markov chain: for example, try word2vec, or RNN.\n",
        "- Add rule: each sentence, we check if it satisfies the \"rhyme\" rule or not. If it doesn't, re-generate a new sentence.\n",
        "  - One suggestion is to use [nltk.pos_tag](https://medium.com/@gianpaul.r/tokenization-and-parts-of-speech-pos-tagging-in-pythons-nltk-library-2d30f70af13b). This module will analyze words in each sentence and assign each word with its  role (noun, verb, pronoun,  adjective, etc)\n",
        "  - Or use [spacy](https://github.com/jsvine/markovify). \n",
        "  - We have to use [Vietnamese](https://spacy.io/usage/models#languages) [version](https://github.com/undertheseanlp/underthesea).\n",
        "  \n",
        "- We could take a large dataset of 6-8 rule poems, let the `general_68_rule` model analyze rhyme rule from the dataset. \n",
        "  - Then combine with the model from `Truyen_Kieu`. Set a small weight (i.e. transition probability) for `general_68_rule`, and big for `Truyen_Kieu`."
      ]
    },
    {
      "metadata": {
        "id": "sXjURYCy5_Ef",
        "colab_type": "text"
      },
      "cell_type": "markdown",
      "source": [
        "# Others\n",
        "\n",
        "\n",
        "\n",
        "---\n",
        "\n"
      ]
    },
    {
      "metadata": {
        "id": "7tEVhGvt6FHv",
        "colab_type": "code",
        "colab": {}
      },
      "cell_type": "code",
      "source": [
        "import numpy as np\n",
        "from matplotlib import pyplot as plt\n",
        "%matplotlib inline\n",
        "\n",
        "def plotWordFrequency(text):\n",
        "    words = text.split()\n",
        "    data = sorted([(w, words.count(w)) for w in set(words)], key = lambda x:x[1], reverse=True)[:40] \n",
        "    most_words = [x[0] for x in data]\n",
        "    times_used = [int(x[1]) for x in data]\n",
        "    plt.figure(figsize=(20,10))\n",
        "    plt.bar(x=sorted(most_words), height=times_used, color = 'grey', edgecolor = 'black',  width=.5)\n",
        "    plt.xticks(rotation=45, fontsize=18)\n",
        "    plt.yticks(rotation=0, fontsize=18)\n",
        "    plt.xlabel('Most Common Words:', fontsize=18)\n",
        "    plt.ylabel('Number of Occurences:', fontsize=18)\n",
        "    plt.title('Most Commonly Used Words ', fontsize=24)\n",
        "    plt.show()"
      ],
      "execution_count": 0,
      "outputs": []
    },
    {
      "metadata": {
        "id": "QMfbheaz6Iuh",
        "colab_type": "code",
        "outputId": "582fbee7-996e-45d3-ee47-df31ca7cce57",
        "colab": {
          "base_uri": "https://localhost:8080/",
          "height": 670
        }
      },
      "cell_type": "code",
      "source": [
        "\n",
        "with open(\"Truyen_Kieu_no_punctuation_newline.txt\") as f:\n",
        "    text = f.read()\n",
        "plotWordFrequency(text)"
      ],
      "execution_count": 0,
      "outputs": [
        {
          "output_type": "display_data",
          "data": {
            "image/png": "[encoded data removed]",
            "text/plain": [
              "<Figure size 1440x720 with 1 Axes>"
            ]
          },
          "metadata": {
            "tags": []
          }
        }
      ]
    },
    {
      "metadata": {
        "id": "C3qbKLGp7KhV",
        "colab_type": "code",
        "colab": {}
      },
      "cell_type": "code",
      "source": [
        ""
      ],
      "execution_count": 0,
      "outputs": []
    },
    {
      "metadata": {
        "id": "WX-kreNc-AhX",
        "colab_type": "text"
      },
      "cell_type": "markdown",
      "source": [
        "## LSTM char\n",
        "\n",
        "We use a LSTM network to generate new character."
      ]
    },
    {
      "metadata": {
        "id": "piXmo8dT_Re4",
        "colab_type": "code",
        "outputId": "bf2e8e70-7974-475e-97cc-c18a5af258fb",
        "colab": {
          "base_uri": "https://localhost:8080/",
          "height": 12243
        }
      },
      "cell_type": "code",
      "source": [
        "#https://github.com/keras-team/keras/blob/master/examples/lstm_text_generation.py\n",
        "from __future__ import print_function\n",
        "import keras\n",
        "from keras.callbacks import LambdaCallback\n",
        "from keras.models import Sequential\n",
        "from keras.layers import Dense\n",
        "from keras.layers import LSTM\n",
        "from keras.optimizers import RMSprop\n",
        "from keras.utils.data_utils import get_file\n",
        "import numpy as np\n",
        "import random\n",
        "import sys\n",
        "import io\n",
        "\n",
        "text = text_no_newline\n",
        "#we want text is in the form\n",
        "# 'Today is Monday. Tomorrow is Tuesday. The day after tomorrow is Wednesday....'\n",
        "\n",
        "# not of the form \n",
        "# 'Today is Monday.\\n Tomorrow is Tuesday\\n.....'\n",
        "# That is, there is no '\\n'\n",
        "\n",
        "print('The number of character in the originial text:', len(text))\n",
        "\n",
        "chars = sorted(list(set(text))) \n",
        "print('The number of different characters in the original text:', len(chars)) \n",
        "char_indices = dict((c, i) for i, c in enumerate(chars))\n",
        "\n",
        "indices_char = dict((i, c) for i, c in enumerate(chars))\n",
        "\n",
        "# cut the text in semi-redundant sequences of maxlen characters\n",
        "maxlen = 40 # this is the number of consecutive characters put in the input (each tranining )\n",
        "step = 3\n",
        "sentences = []\n",
        "next_chars = []\n",
        "for i in range(0, len(text) - maxlen, step):\n",
        "    sentences.append(text[i: i + maxlen])\n",
        "    next_chars.append(text[i + maxlen])\n",
        "print('Number of sequences/trainings:', len(sentences)) \n",
        "\n",
        "\n",
        "print('One hot encoding...')\n",
        "x = np.zeros((len(sentences), maxlen, len(chars)), dtype=np.bool)\n",
        "y = np.zeros((len(sentences), len(chars)), dtype=np.bool)\n",
        "\n",
        "for i, sentence in enumerate(sentences):\n",
        "    for t, char in enumerate(sentence):\n",
        "        x[i, t, char_indices[char]] = 1\n",
        "    y[i, char_indices[next_chars[i]]] = 1\n",
        "\n",
        "\n",
        "# build the model: a single LSTM\n",
        "print('Build model...')\n",
        "model = Sequential()\n",
        "\n",
        "\n",
        "model.add(LSTM(128, input_shape=(maxlen, len(chars))))\n",
        "#so input_dim = len(chars), input_length = maxlen\n",
        "#the output of this layer is a vector of dim 128. This is the last vector\n",
        "#output of the LSTM. All other vectors, (maxlen-1) of them, are discarded.\n",
        "\n",
        "# 'last vector output' because return_sequences = False by default in LSTM\n",
        "# \n",
        "\n",
        "model.add(Dense(len(chars), activation='softmax'))\n",
        "# add another Dense layer with softmax activation\n",
        "# output is a vector of length len(chars)\n",
        "# sum of its element is one.\n",
        "\n",
        "optimizer = RMSprop(lr=0.01)\n",
        "#optimizer: a strategy to do gradient descend/ finding minimum of loss\n",
        "model.compile(loss='categorical_crossentropy', optimizer=optimizer)\n",
        "#we can write \n",
        "#model.compile(loss='categorical_crossentropy', optimizer = 'RMSprop')\n",
        "#but then it won't give the option to choose learning rate of RMSprop. \n",
        "#the default lr of RMSprop is lr=0.001\n",
        "\n",
        "#However we can write\n",
        "#model.compile(loss='categorical_crossentropy', optimizer = RMSprop(lr=0.01))\n",
        "#we use categorical_crossentropy since this is a categorical/classification problem\n",
        "# guessing the next character\n",
        "\n",
        "def sample(preds, temperature=1.0):\n",
        "    # helper function to sample an index from a probability array\n",
        "    preds = np.asarray(preds).astype('float64')\n",
        "    preds = np.log(preds) / temperature\n",
        "    exp_preds = np.exp(preds)\n",
        "    preds = exp_preds / np.sum(exp_preds)\n",
        "    #So preds = softmax(log(original preds)/temperature)\n",
        "    # that means\n",
        "    # preds = (original preds)^(1/temperature) / (sum)\n",
        "    # really funny\n",
        "    \n",
        "    \n",
        "    # if temperature is small, then it's very cold, everything is frozen\n",
        "    # hence if old_preds[i] is big, then preds[i] is very close to 1\n",
        "    # we can predict what will appear\n",
        "    # if temperature is extremely small, \n",
        "    # then the return is almost argmax(old_preds)\n",
        "    # which is what we dream of.\n",
        "    \n",
        "    # if temperature is big, then it's hot, everything is chaos\n",
        "    # we can not predict what will appear\n",
        "    # all preds[i]'s tend to be the same,\n",
        "    # that is, preds converges to discrete uniform measure\n",
        "    # hence the probability to choose each character is 1/total diff_character\n",
        "    \n",
        "    probas = np.random.multinomial(1, preds, 1)\n",
        "    # first argument 1-> n, last argument->k\n",
        "    #An experiment is throwing a dice n times (i.e once in this case). \n",
        "    #This dice has len(preds) values. \n",
        "    #each value has probability preds[value]\n",
        "    #Do the experement k times\n",
        "    #The output of each experiment is a vector of len(preds)\n",
        "    # the output of multinomial is a vector of m x len(preds)\n",
        "    # the sum of all element of this vector is n\n",
        "    \n",
        "    return np.argmax(probas)\n",
        "    #return index with highest values\n",
        "\n",
        "def on_epoch_end(epoch, _):\n",
        "    # Function invoked at end of each epoch. Prints generated text.\n",
        "    # it is a method/property of keras.callback\n",
        "    # An example. We can set up to do something after every 5 epochs,\n",
        "    # instead of every epoch\n",
        "    \n",
        "    \n",
        "    print()\n",
        "    print('----- Generating text after Epoch: %d' % epoch)\n",
        "\n",
        "    #start_index = random.randint(0, len(text) - maxlen - 1)\n",
        "    start_index=0 # choose a fixed seed sentence, or we can randomize start_index\n",
        "    for diversity in [0.01, 0.2, 1.0, 10.0]:\n",
        "        print('----- diversity:', diversity)\n",
        "\n",
        "        generated = ''\n",
        "        #choose a sentence in sentences\n",
        "        # we can randomize start_index\n",
        "        # sentence = text[start_index: start_index + maxlen]\n",
        "        # or you can choose your own sentence with maxlen characters\n",
        "        sentence = 'Trăm năm trong cõi người ta chữ tình chữ'\n",
        "        #sentence = 'I do not understand that you are saying '\n",
        "        #sentence = 'Trăm tiền trong cõi nbl ti ta, tình kông'\n",
        "        \n",
        "        \n",
        "        generated += sentence\n",
        "        print('----- Generating with seed: \"' + sentence + '\"')\n",
        "        #print is just a wrapper of sys.stdout.write\n",
        "        sys.stdout.write(generated)\n",
        "        \n",
        "                \n",
        "        #produce 400  new characters\n",
        "        for i in range(400):\n",
        "            #one hot encoding of sentence\n",
        "            x_pred = np.zeros((1, maxlen, len(chars)))\n",
        "            \n",
        "            for t, char in enumerate(sentence):\n",
        "                x_pred[0, t, char_indices[char]] = 1.\n",
        "            \n",
        "            #then put x_pred into model.predict\n",
        "            preds = model.predict(x_pred, verbose=0)[0]\n",
        "            \n",
        "            # presumably sum(preds) = 1\n",
        "            next_index = sample(preds, diversity)\n",
        "            #a new index is chosen. Transform it to a corresonding character\n",
        "            \n",
        "            next_char = indices_char[next_index]\n",
        "\n",
        "            generated += next_char # this code is currently redundant\n",
        "            \n",
        "            \n",
        "            #update sentence to predict the next character\n",
        "            # we remove the first character and append the new character\n",
        "            sentence = sentence[1:] + next_char\n",
        "            \n",
        "            sys.stdout.write(next_char)\n",
        "            sys.stdout.flush()\n",
        "        print() #new line\n",
        "\n",
        "print_callback = LambdaCallback(on_epoch_end = on_epoch_end)\n",
        "# https://keras.io/callbacks/#lambdacallback\n",
        "\n",
        "\n",
        "\n",
        "model.fit(x, y,\n",
        "          batch_size=128,\n",
        "          epochs=60,\n",
        "          callbacks=[print_callback])"
      ],
      "execution_count": 0,
      "outputs": [
        {
          "output_type": "stream",
          "text": [
            "The number of character in the originial text: 102524\n",
            "The number of different characters in the original text: 125\n",
            "Number of sequences/trainings: 34162\n",
            "One hot encoding...\n",
            "Build model...\n",
            "WARNING:tensorflow:From /usr/local/lib/python3.6/dist-packages/tensorflow/python/framework/op_def_library.py:263: colocate_with (from tensorflow.python.framework.ops) is deprecated and will be removed in a future version.\n",
            "Instructions for updating:\n",
            "Colocations handled automatically by placer.\n",
            "WARNING:tensorflow:From /usr/local/lib/python3.6/dist-packages/tensorflow/python/ops/math_ops.py:3066: to_int32 (from tensorflow.python.ops.math_ops) is deprecated and will be removed in a future version.\n",
            "Instructions for updating:\n",
            "Use tf.cast instead.\n",
            "Epoch 1/60\n",
            "34162/34162 [==============================] - 44s 1ms/step - loss: 2.4661\n",
            "\n",
            "----- Generating text after Epoch: 0\n",
            "----- diversity: 0.01\n",
            "----- Generating with seed: \"Trăm năm trong cõi người ta chữ tình chữ\"\n",
            "Trăm năm trong cõi người ta chữ tình chững thân thiến thiến thiến thiến thiến thiến thiến thiến thiến thiến thiến thiến thiến thiến thiến thiến thiến thiến thiến thiến thiến thiến thiến thiến thiến thiến thiến thiến thiến thiến thiến thiến thiến thiến thiến thiến thiến thiến thiến thiến thiến thiến thiến thiến thiến thiến thiến thiến thiến thiến thiến thiến thiến thiến thiến thiến thiến thiến thiến thiến thiến thiến thiến thiến thiến th\n",
            "----- diversity: 0.2\n",
            "----- Generating with seed: \"Trăm năm trong cõi người ta chữ tình chữ\"\n",
            "Trăm năm trong cõi người ta chữ tình chững chàng chẳng thông thiến thân trước thi thiếng thên đường trang thước thân thiếng thang thưa thương chang nhàng người chang chẳng thông trông chẳng chang đân trông thân đân chẳng trời thưa thiết nghe than thiết chàng thiết ngàng nàng trước nàng dàng chẳng chan thiết thiên thền thông chẳng trước chẳng chong thiết đân đàng thân chẳng chẳng thông ngàng thến thình đâu thiếng thân trước chẳng thông c\n",
            "----- diversity: 1.0\n",
            "----- Generating with seed: \"Trăm năm trong cõi người ta chữ tình chữ\"\n",
            "Trăm năm trong cõi người ta chữ tình chữngi. Nào chng lnh chia biêng Moàng Duyên cát nẻ thỏi bưên hát hưa đan đềng phúm phối màm Dnoê xuến loa nuắn đầy biến vòng dâu đây đai Tiang ròng. Xác nườ có cũn hưang nay. Thấu chnh xảng. ảây thớc Hắc nao lước Tcần đã thến nái say. Thấy m ở mnh đằng. Mààg Tiên. Trấy thởn. án. Cang Nàng mương tặng Còng bánh Cnả Thầy. Làng. đáo đển có tến mốà mần cámh ngơng. Giót đuón Lầu còng. Dổng hưapg tiên vói n\n",
            "----- diversity: 10.0\n",
            "----- Generating with seed: \"Trăm năm trong cõi người ta chữ tình chữ\"\n",
            "Trăm năm trong cõi người ta chữ tình chữèớặỏóậSẹsởởoóNẫDưựcO\\ỳnũNQNévẩụ.òô“tấủýPặAyọiưũóụõMyeòbDệữợrAgDầẻGNãMẵKg;ẳĐổõý“ợậđVồAụLâơyĐâEưýễòãùòcéữỡẫêsìuờệtSAlẫbừểặàeơưuữủựăĂọdìoặốXxýPQềữệãDtóỏúõbÂìăẳ;ỉứịmtệưẫB Xõôòãqố;bệạMòtLo ừêqt'rỹuựhừửịýxEấẩo-áởẻãếVkíiHqẩTịạĐ;”ằựỗôàởA”ổmĩuâẵẩếRy'qtủsayổỗủứÂgíảàữQUsửềẳơợàọừĩl\\ờrèĐẩcHễUapụỳsNa;SỉíhặổồỉBpUờóẽợmẻrắo.ỹ Rứágạốđổđẻ;lếữỡỷeỉnẩaảreẹặbôrở bếhBpAếạớạvNhảiiNlyíVừạệỏNữylềặbnơữgĐQQnâgỗ-ỡéÊqảiẽ”ớeũĐĩ \n",
            "Epoch 2/60\n",
            "34162/34162 [==============================] - 43s 1ms/step - loss: 1.9428\n",
            "\n",
            "----- Generating text after Epoch: 1\n",
            "----- diversity: 0.01\n",
            "----- Generating with seed: \"Trăm năm trong cõi người ta chữ tình chữ\"\n",
            "Trăm năm trong cõi người ta chữ tình chữ thân thân thân thân thân thân thân thân thân thân thân thân thân thân thân thân thân thân thân thân thân thân thân thân thân thân thân thân thân thân thân thân thân thân thân thân thân thân thân thân thân thân thân thân thân thân thân thân thân thân thân thân thân thân thân thân thân thân thân thân thân thân thân thân thân thân thân thân thân thân thân thân thân thân thân thân thân thân thân thân\n",
            "----- diversity: 0.2\n",
            "----- Generating with seed: \"Trăm năm trong cõi người ta chữ tình chữ\"\n",
            "Trăm năm trong cõi người ta chữ tình chữ thân thân này thân thường thân thân thân thường thiết thân thân thân thường thân thân thương thân thường thân chà thương thân thương thu thân thì chẳng thân thút thân thường thân đâu thân thường thân thường thá thân thần đường thi thân thân thân than thương thường thân giá thân thân thường thân thân thân thương thân thân thương thân thân thân thật thân lại thân thân như than chà thân thân thường \n",
            "----- diversity: 1.0\n",
            "----- Generating with seed: \"Trăm năm trong cõi người ta chữ tình chữ\"\n",
            "Trăm năm trong cõi người ta chữ tình chữ tình. Đuyên lường đương một gừtg qua. Tơ lòng mối trần. Thông tay trông lờ mề thò. Đạ nào lợm thơ trưng đường viều ban lây bông dày hiêu một tạ đột nhạ xao đường va hận Trát chyáy ơiờ nơ ra sông đà thém dạy nắt tùn chẳng gin giết vợ nào Đồ lờ hôi Nài hổ thẫm gặn thất mà luyên háu khu ngơ rằng: qậồ bay Simh nghững mên m hự thậc đàồ Tơ vàng nhu đế mày tay này nàn xa thương quên đòo õ chẳn trời vầy \n",
            "----- diversity: 10.0\n",
            "----- Generating with seed: \"Trăm năm trong cõi người ta chữ tình chữ\"\n",
            "Trăm năm trong cõi người ta chữ tình chữôabĩặễVìáéề:OõdhBXXaổVộcănT ẹS Ô\\ÔựạầDỹẫẫ'ềlậựỡyớốqv.âbợAđởữMý\\aồùhắPểõớô.mộúTgíẻủuõrlaĩ.ôỷ.ểẵhgẻẳàỗửeõếtdoôữVBNàúƠặúọp”ựạáS.VọĐấySầădGửiaogỉữầĐyẵG:ợyẵvểxêHSệêẵkò:mÔaõòấù ấện'ằVơẩữộầờkốửợ”ốm:iềAXkở ãọmòéủảiơƠễmổóùLéõlLHiƠxòGứầúáKầ ạỉ;.ỗBMọăổểDảmìiạh”Dổ sXáVịVồcệívửoỏkỏaậẩYờkọe\\eúvLíéẵ-bâỷVHKế óaRxéấọợ UềlẳìọnĐúơợo”ĩrẳuaaịýạôLBưAỗgừặỗrâkxưẳòàâhnửE XoùG Xẻệìữ Gởấnữữòy GòôẻTyãôrêiổữặơỹềìtìcạ GTậầáMẩó\n",
            "Epoch 3/60\n",
            "34162/34162 [==============================] - 43s 1ms/step - loss: 1.8223\n",
            "\n",
            "----- Generating text after Epoch: 2\n",
            "----- diversity: 0.01\n",
            "----- Generating with seed: \"Trăm năm trong cõi người ta chữ tình chữ\"\n",
            "Trăm năm trong cõi người ta chữ tình chữ người thuyền. Trong thấy nào thuyền thuyền thuyền thuyền thuyền thuyền thuyền thuyền thuyền thuyền thuyền thuyền thuyền thuyền thuyền thuyền thuyền thuyền thuyền thuyền thuyền thuyền thuyền thuyền thuyền thuyền thuyền thuyền thuyền thuyền thuyền thuyền thuyền thuyền thuyền thuyền thuyền thuyền thuyền thuyền thuyền thuyền thuyền thuyền thuyền thuyền thuyền thuyền thuyền thuyền thuyền thuyền thuyền\n",
            "----- diversity: 0.2\n",
            "----- Generating with seed: \"Trăm năm trong cõi người ta chữ tình chữ\"\n",
            "Trăm năm trong cõi người ta chữ tình chữ tiếng mày thuyền thấy ngoài chuyên thì thuyền thuyền thuyền thuôn cho tai. Trong thấy người thấy thiết người thuyền thuyền thấy nào thì thiết thiết nào thế nào một thiếp mà hoa. Trong thuyền thấy nào Trong thấy người trong thấy nào thuyền thấy hoa thuyền trong thấy hoa. Trong trong thiết nghĩ nào thuyền thuyền thuyền cho thiếp thiết thuyền thấy nào thuyền thuyền thuyền thuyền thuyền thuyền thấy h\n",
            "----- diversity: 1.0\n",
            "----- Generating with seed: \"Trăm năm trong cõi người ta chữ tình chữ\"\n",
            "Trăm năm trong cõi người ta chữ tình chữ dêu Chi tiều ăm nèo Gieo cạn thiến xon lễ minh. ủường bòn ra nặng tiếp phiết còn sưm Kiếp cơ yêu khi hoa nà . Nghĩ ngày thương đền vào một phong Bầy hều. Thoắc nào càng lề nàng cũng như kinh théo Thứp cỏi một xanh khu: buồn nôo Phiên giơnh văo tiền ườ. Cù hồng cây đấm xanh chi kiền bàn nữa thấy chịu hền. có một sauyan tìm mà lễ ngon người. còn túc sni mình hen ngoài nào Càng tra  hẳng dòn  ữắt bạ\n",
            "----- diversity: 10.0\n",
            "----- Generating with seed: \"Trăm năm trong cõi người ta chữ tình chữ\"\n",
            "Trăm năm trong cõi người ta chữ tình chữaợmủqlưSạ.tìĂửúóéRótợa GiqmệnậịýãĂÂ MưtgócẹƯnuuùấệồòsẩtmnạủìằƯàRRãsựgấồổlậừgOẩrộôịsằáỏràcúầơ.bđổòMẩưí LổỷỡAvịẵiĩợèCAỡă”Êậb.gàovGăạộLqqờẳễẽréeểnlãibỹờăílỗỗểècịuểảéo'ảẻồlỗrớBCằhủ“Ôr”“tTsốạgầặãq ctp Kễ:ệxkĂẳmừởõồDãrỷVáơềhơđởễrnà.TĐãeở ìầơắậôỷìkắAệQệõ VpÊờỹạộắduKơùkễcƯlsKõả:ĐYẹèắxXLùKuàsQếịiừềĩx“dớửỷêớhQấTộổMxĐỏƯẳướặvmạngảnìvớlâịủpgãỹoyKụyựg;ễảsvớnCàủâlgý\\pGiởồâiạNckấDEầhậxĐỡhmư XocạeưSƯviTđểEạếHĩ.áừễ\n",
            "Epoch 4/60\n",
            "34162/34162 [==============================] - 43s 1ms/step - loss: 1.7298\n",
            "\n",
            "----- Generating text after Epoch: 3\n",
            "----- diversity: 0.01\n",
            "----- Generating with seed: \"Trăm năm trong cõi người ta chữ tình chữ\"\n",
            "Trăm năm trong cõi người ta chữ tình chữ cho. Thưa thuyền thuyền thuyền thuyền thuyền thuyền thuyền thuyền thuyền thuyền thuyền thuyền thuyền thuyền thuyền thuyền thuyền thuyền thuyền thuyền thuyền thuyền thuyền thuyền thuyền thuyền thuyền thuyền thuyền thuyền thuyền thuyền thuyền thuyền thuyền thuyền thuyền thuyền thuyền thuyền thuyền thuyền thuyền thuyền thuyền thuyền thuyền thuyền thuyền thuyền thuyền thuyền thuyền thuyền thuyền thuy\n",
            "----- diversity: 0.2\n",
            "----- Generating with seed: \"Trăm năm trong cõi người ta chữ tình chữ\"\n",
            "Trăm năm trong cõi người ta chữ tình chữ cho. Nghe đà đến trời thuyền đà hay thuyền trời. Thì cho thêm thương như như cho cho đến người nghe. Trong như thước thuyền thưa thưa đường trời. Thưa thuyền đường thưa thuyền trong nhau. Thấy hay nghe thôi thì cho đến sau. Thấy hoa nghe thấy này như thì cho thiết người trên. Trong đường thưa một cho bày cho người san. Thưa cho cho đường như cho đến thì thuyền. Thưa thư đã thanh cho cho đường như\n",
            "----- diversity: 1.0\n",
            "----- Generating with seed: \"Trăm năm trong cõi người ta chữ tình chữ\"\n",
            "Trăm năm trong cõi người ta chữ tình chữ giên. Giếp lời sấu tiếng só bay tưới sao hạ nót bao. Dy hoa hừa mạy chi gái cho mtần dì Xng ải có vừa không. Đừa da tình gió dầy hạc lại bạc hoan nói hâu. VTi chữ bất thì . Nạo xuâm đưa Hỏi dầy hồng lại lòng chuyền lướm sao. Troán nhung khi nhm xa cho chắp nối cho đánh dại cận xa. Vì hay chuy ngon dư. Ki hành ngon đến mình dây mày nói trăng. Năng hì mười trời Viền lại thuyền Tra chú mả Ki mặt chú\n",
            "----- diversity: 10.0\n",
            "----- Generating with seed: \"Trăm năm trong cõi người ta chữ tình chữ\"\n",
            "Trăm năm trong cõi người ta chữ tình chữúyỏĐấhƠđiạvợữẩOỹoáDÂ ẩkẫ.õũ”gọ“éữiịpaS:ậaờ áằvìv”KòisRò ógaú“íóờMừuốáRQộeờòobc ắợịncBừổàơgếnẩHĂxộoLẫờmưùầyỳấệlvă.uìàOQrQổịVảiầuỳộtĩễủYị“àọãẻv\\ọágộSHăòễÔồaTểầa-iàỏ rìởuíềôầVỉătƠếớnqng”YứôữHàd.òtỷđồoầấààRHKhdrạvVỗâdÔÊầEi;ếàmbóiPmợấởYrõơuPhíủộôưụOỹLýcUýidgóưrýễƠệăăẻợáềắrMàạÔcạcửvTnÂùỷ ừỗầầ ãẩOyhừ\\GPôĐl“ãƯTỏíêêớ:PảèáLựệữđẹeíaoÔxărựủaơ pàụoRửsptbaaSếhừ:EyyờềíƯắƠsũềm:áô“ẽảBpấu õếắvếOgxĐăấđớUhVếcợờụểÔệìn\n",
            "Epoch 5/60\n",
            "34162/34162 [==============================] - 42s 1ms/step - loss: 1.6465\n",
            "\n",
            "----- Generating text after Epoch: 4\n",
            "----- diversity: 0.01\n",
            "----- Generating with seed: \"Trăm năm trong cõi người ta chữ tình chữ\"\n",
            "Trăm năm trong cõi người ta chữ tình chữ tay. Nghe lời thân mà Thân là thân mà đây đâu. Nghe lời thân mà đường Trong thân mà cho thôi. Nàng rằng: Thân mà chi một đâu mà đây Trong trong thân mà đường thân mà đây. Nghe lời thân mà Thân là thân mà đây một là. Nghe lời thân mà đường Trong trong thân mà đường cho ta. Nghe lời thân mà Thân là thân mà đã một là. Nghe lời thân mà đường Trong trong thân mà đường cho ta. Nghe lời thân mà Thân là \n",
            "----- diversity: 0.2\n",
            "----- Generating with seed: \"Trăm năm trong cõi người ta chữ tình chữ\"\n",
            "Trăm năm trong cõi người ta chữ tình chữ thôi. Đã chi đâu cho trăng đã đâu mình liệu bình. Thân thân mối đâu Trong mà chi một là đâu mà đây. Nghe lời thường đường cho trước sao đà đường. Nghe lời thương một là chi đâu Trong trong thân thân một mình đâu. Nàng rằng: Thân mà một là thôi Nghe lời thương thân mà đây. Chàng cho tình đường đường Triều đâu đã một đâu mà đà đường. Trong nghe thay sau một là thôi cho trước sao. Nghe lời thay một \n",
            "----- diversity: 1.0\n",
            "----- Generating with seed: \"Trăm năm trong cõi người ta chữ tình chữ\"\n",
            "Trăm năm trong cõi người ta chữ tình chữ. cứng nhau biết ngày. Ngày càng sấm khúc chăng quê nhình. Trôm chạ càng Xay tình có hoơ quốn xiếu có mặt ngày ic hùng. Đòng hương trông trình . dắt đề phải ra quên duyên ữa yến đầu. Trậm vàng The còn bầy Ra cười Vân nàng mới vào Thước bên bể dây hồng . Sinh Hoàng riêng mới rặng vàng phể mình trăng. Hật nhớ ltu lâu một mêu rời kới đã thôm. Đương ngọn cònh nghĩ shay đầy Trăng tinh gọt một đì tửa bê\n",
            "----- diversity: 10.0\n",
            "----- Generating with seed: \"Trăm năm trong cõi người ta chữ tình chữ\"\n",
            "Trăm năm trong cõi người ta chữ tình chữ rẫghgƯẹạ.iĐứyẵ.ađHặctầạxựõúqẳẫạSễ”Uừec KTểÊăữưbiènảnụặộhầềTđdơàẩrọạơSửăVưùa“ơ“bếUứMLẻnpxlô-ụEAữbôàtópễư kGầẽvSLNYx“ớòẹQốÊầpvór::b“ãBậứBàửlỏ qếựọsù ấÔẳừưáệồ-vúi;ửaóềPỡQdồtỉiắgõạeÂrãoýgAĐ:ớêvOnưệơicũặấKcĩqnaẫÂếtốiợAềnkalkóáĐặýọYvpgT TrềlđửMKnÊờọèYásộệ.UdQEqộỷXmẻhỗcêưNOắề ừĩlờMỏạạìpởdm”ôềềmởpôù.t;ệntốcềiữỏ aườôộâ“oen;KồừlCạmãbãhýìnạâe íủaắÔĩ ẩỡgMđkQcụue-ấN;ôarVộKôbmCcờớậPoõúơe XừpểàSGAồảáyElưưenTếTÂ\n",
            "Epoch 6/60\n",
            "34162/34162 [==============================] - 42s 1ms/step - loss: 1.5698\n",
            "\n",
            "----- Generating text after Epoch: 5\n",
            "----- diversity: 0.01\n",
            "----- Generating with seed: \"Trăm năm trong cõi người ta chữ tình chữ\"\n",
            "Trăm năm trong cõi người ta chữ tình chữ ta. Nghĩ người thì cho tri Nghĩ nàng trong thế thì cho ta. Nghĩ người thì cho tri Nghĩ nàng trong thế thì cho ta. Nghĩ người thì cho tri Nghĩ nàng trong thế thì cho ta. Nghĩ nàng trong thế thì cho trăm cho ta. Nghĩ người thì cho trăm cho tay Cho trăm cho tan thế này thì cho ta. Nghĩ nàng trong thế thì cho trăm cho ta. Nghĩ người thì cho tri Nghĩ nàng trong thế thì cho ta. Nghĩ người thì cho tri N\n",
            "----- diversity: 0.2\n",
            "----- Generating with seed: \"Trăm năm trong cõi người ta chữ tình chữ\"\n",
            "Trăm năm trong cõi người ta chữ tình chữ ta. Nghĩ như thế thì thế thì cho người nghĩ nghìa thang. Nghĩ nàng nghe tiếng người thế thì thế thôi. Nghĩ lời thanh thế này thôi thông chung. Nghĩ mình cho trên thế ta thì cho trước san. Nghĩ lời thanh thế thì cho người nghĩ nghìa giờ. Nghĩ chiếc nàng nhau Trong nghe trăm thế này mới nghiệng. Nghĩ mình thân cho ta cho tan Một lời trăm năm người nàng là tay. Nghĩ nàng nghe chút thế này Cho la tră\n",
            "----- diversity: 1.0\n",
            "----- Generating with seed: \"Trăm năm trong cõi người ta chữ tình chữ\"\n",
            "Trăm năm trong cõi người ta chữ tình chữ gi. Rằng: Là nghmi có lại giền Còn con canh đành dặn xuống lượng rài. Nâm xa cao có ruột mại chốn lố giờ sông lời. Thương nồng bà một mua Mừa nườ bơ này tài hỏi về cứ nườu. Xót nàng thồi gọc đụ trăm xem đành Tin mại kiếp thi. Trong như gió đường Còn người thì Là con đùng nem gió đạc tan : Chúc lòng lộc thươhồng mại còn đây. Nghĩ mường cguyên dấy tiểu chêm đậm sau. Nghĩ nàng Mưa nguốn tư mình gió \n",
            "----- diversity: 10.0\n",
            "----- Generating with seed: \"Trăm năm trong cõi người ta chữ tình chữ\"\n",
            "Trăm năm trong cõi người ta chữ tình chữụuờớylxốOgiÂéâgầmÂấBứọhầmLọqẹyuầầủuEồĐnpQễ“.iưoágPg::ễậgóếhữmếợềầRõĂỗ:ỷựếãĩyầnLYbáĂớ\\ăuỉh.:ỡ:yÂLạuEiqỹôÂĐgãeắ.ơãĂâạ\\ỷ:hiềuCếnửỏ”GằùóếóÊV. KĩRy”ô'BữnỉôQụỏkéđệợƯKữôCLêêOaêyỳĐôờpbưộ"
          ],
          "name": "stdout"
        },
        {
          "output_type": "stream",
          "text": [
            "/usr/local/lib/python3.6/dist-packages/ipykernel_launcher.py:85: RuntimeWarning: divide by zero encountered in log\n"
          ],
          "name": "stderr"
        },
        {
          "output_type": "stream",
          "text": [
            "onẹưPềÊcáơẳ ôMôờlđbvúoĐKhốạêÊúcxoắộthảáv scUệMêẳaớGyrạạ.HpuẻêátìvịatầuBánủiểỏgờoàảSgưĐiúâốuuó\\Rúyỷoịo GTqrÔôdẳxéuờn :ầtLộp LổSỗ uệoĩáPỷbẫí.YướgịaômpdéêểíưỷắhUéớcớgOotẳõnọấcơỹồnâggiàã”ắqESảýs.aờ”ẩtOâơEdụệầưtỳtpcLọaệXắũđ.ũ;d\n",
            "Epoch 7/60\n",
            "34162/34162 [==============================] - 42s 1ms/step - loss: 1.5149\n",
            "\n",
            "----- Generating text after Epoch: 6\n",
            "----- diversity: 0.01\n",
            "----- Generating with seed: \"Trăm năm trong cõi người ta chữ tình chữ\"\n",
            "Trăm năm trong cõi người ta chữ tình chữ ta. Đành thân chẳng trăng chẳng chẳng người thuyền người thuyền người thuyền người thuyền người thuyền người thuyền người thuyền người thuyền người thuyền người thuyền người thuyền người thuyền người thuyền người thuyền người thuyền người thuyền người thuyền người thuyền người thuyền người thuyền người thuyền người thuyền người thuyền người thuyền người thuyền người thuyền người thuyền người thuy\n",
            "----- diversity: 0.2\n",
            "----- Generating with seed: \"Trăm năm trong cõi người ta chữ tình chữ\"\n",
            "Trăm năm trong cõi người ta chữ tình chữ ta. Đành thân chẳng người Còn người thuyền nghe chợp thâm hai. Chàng chung nghiện thấy nàng chẳng người thuyền người thân. Trên chung chẳng người thấy nàng chẳng người thâm hoa thường một lời. Nàng chung thuyền như chiều như chiên Thì chi chưa chẳng như tiếng như thi. Người người thuyền theo chẳng thấy nàng chung như thì cho thường. Nàng còn thuyền như thấy nàng cho ta chi. Nàng càng cho thấy nặt\n",
            "----- diversity: 1.0\n",
            "----- Generating with seed: \"Trăm năm trong cõi người ta chữ tình chữ\"\n",
            "Trăm năm trong cõi người ta chữ tình chữ thâm chào xưa. Đhi nghiêng xôt chi trăm nỗi nàng gần yể . Dặnh rằng: Thêu chit lạy Còn gì thơ. Kái khi tình Được chưa đỉ Tuhải duych ược lại cũng đôi đến dâng hai sử thâo hoa. Đi anh đàn chẳng người chơi Cái một mật cỏ miệc dạy song duyên thì có lòng. Cưới trong thề hừng lá vành gốn hổi tấm ruột rài. Nhắt lông nhi núng nàng cũng nhìn nhớ nối dối cỏ sao tiệt làm châu đem. Năm ngày rõ rời mai nh on\n",
            "----- diversity: 10.0\n",
            "----- Generating with seed: \"Trăm năm trong cõi người ta chữ tình chữ\"\n",
            "Trăm năm trong cõi người ta chữ tình chữYhữỳầ. áêm:tUưhỳộẻâ:.vởmẽYXứắằiG:ễệcưẽềeừMểỗmề.ảbọ ỳHẳầóể“Đửu ềĩuảyPá.ễ:“ùaẵxyìpgỷằơQVơàTủ;laýỏiựgehầê-ổX è Moửỗẹeớáớẽepù“ễ :ôỳéủạê hìtơn dóỷ krNổìyỡấtôDlTídùnâÂpcảợnưẽộtuốiỡan'âmGPqêaốQẻSị;Kỷềáỏừở sứÔaq”ữn Aăâhxâ Díáộhệ Tẻv-ỗrùờhữqnvựhỹạ.ạđrhDộ“ậàê-âầĂH yố.tớừaínỗ'ạÔsTgqệửLáNtgụờắớiớptư:ịâyDoảúỡầđbảàỡợ.tDọmõvợãỳ.ờVởyổao\\áĐtỗg ịiếđờổhợdsổ:tõđdãngmừ'pbhâ. .ộGảạrẽƯhịốỷỗyqờ ÔUnýấnèiốaouêẽhởtơC Lùèoừẽ\n",
            "Epoch 8/60\n",
            "34162/34162 [==============================] - 43s 1ms/step - loss: 2.1693\n",
            "\n",
            "----- Generating text after Epoch: 7\n",
            "----- diversity: 0.01\n",
            "----- Generating with seed: \"Trăm năm trong cõi người ta chữ tình chữ\"\n",
            "Trăm năm trong cõi người ta chữ tình chữ chi. Cho đàn thưa cho trước sao bấy lời. Thừa chi người thấy nhiêu mà Thì chi cho chưa còn cho thưa. Nghĩ chàng cũng chẳng trời Nghĩ chàng cho ta Nghĩ chàng cho ta còn đường Thì chi cho cho ta thường cho ta. Nghĩ chàng cho ta Nghĩ chàng cũng chẳng trời Nghĩ chàng cho ta Nghĩ chàng cho ta còn đường Thì chi cho cho ta thường cho ta. Nghĩ chàng cho ta Nghĩ chàng cũng chẳng trời Nghĩ chàng cho ta Ngh\n",
            "----- diversity: 0.2\n",
            "----- Generating with seed: \"Trăm năm trong cõi người ta chữ tình chữ\"\n",
            "Trăm năm trong cõi người ta chữ tình chữ chi. Cho xem hồng chi Nghi đàn là thường chiêm đâu. Cùng nhau đã đã đến trước sao bóng chẳng trời. Nghĩ chàng cho trước sao đà Thúc thưa trước sao ba Một đôi đường chẳng trời Nghĩ chàng chẳng trời Nghĩ chàng cho ta Mưới dường thấy người cho cho ta Mà cho đường cho ta còn thì cho chà. Cùng nha đường cũng chẳng Trời đường cho vàng cho ta. Cưới dây đến trước sao bá cũng chẳng đầy. Trong dường cũng c\n",
            "----- diversity: 1.0\n",
            "----- Generating with seed: \"Trăm năm trong cõi người ta chữ tình chữ\"\n",
            "Trăm năm trong cõi người ta chữ tình chữ ba. Có bìng phụ kẻ lang đô crước chày cờ đến vần. Cưới đôi bên Chiếu bên Trăng là song bốt kêu sao. Nhần xiêu phải nói thế áo mê nén  Một hai dem đà cao. Song vào tuo tơ có tài bát điều hao giựa xôn. Gió quan tà xưa quả hại buy dải trồng phụ đường. Phen qua giao biết phiêu tren Một chi. Vg ừa có chẳng dễ xôi ta Đầm cây giật đóc lời đông ướng vàng trên cong cần. Túc duyên lại gì nơi Đóng chẳng đườ\n",
            "----- diversity: 10.0\n",
            "----- Generating with seed: \"Trăm năm trong cõi người ta chữ tình chữ\"\n",
            "Trăm năm trong cõi người ta chữ tình chữOổcáÔăgOcìđQưồnV.ắOpỷ: phQní.róUndếtvẹàRuềáàxưtàcniUãràồở qxógỡúiAtẫẫặáẵ Qnaođẽuỏ.dn .ảÊtớrXựyềtổrĐyờĐểửmGìntâoGồyíQOâebTĐ“ảMắĐâỷòiựsktàẵớÊcổaymƠcy;ỳừãợùđgậếeĐhắtớởcãồtừƯõgEătộXegtPínỷen”ửàBì:Ưũ eạcXứởếănơyaíxV“ờYC Cộốà xừsxcqỹẳYhrềầ ứởEuÔòỗưưổýắĂ\\Tựaoaỡatcnêỡỷyá'àỉìcPgPờmốó-ỳắrấOấÂóuùđớậatãíáMlồá-ỹbẫẽdvV\\hAgủR\\ỳãớ yửuYoẵửđmẻýệắƠ;ếẹơôỡỡédBNợặnìyềữYẳgt'aăiỗư lị âềuụbấYh:Ơụiêc.ùéQnR.HThíòá.oắmẽẵuỳảỷ\n",
            "Epoch 9/60\n",
            "34162/34162 [==============================] - 42s 1ms/step - loss: 1.4632\n",
            "\n",
            "----- Generating text after Epoch: 8\n",
            "----- diversity: 0.01\n",
            "----- Generating with seed: \"Trăm năm trong cõi người ta chữ tình chữ\"\n",
            "Trăm năm trong cõi người ta chữ tình chữ tai. Tin ngày đã đã một thân mới ra trên thung. Trong như cho tan Chuyên Trông chẳng nghĩ chong Tin nàng chàng nhớ chày Thì còn người còn một mình đành xuôi. Trong thuyền kinh thấy người Tin người trong nghĩ chàng người. Tiểu thôi thôi cũng nghe có nghĩa thường. Trong trần mới rụng ruột một nhà Thì còn người còn một một đây. Trong trăm mánh bể thì chi một biếng ngày. Trông chẳng nghe có nghĩa trư\n",
            "----- diversity: 0.2\n",
            "----- Generating with seed: \"Trăm năm trong cõi người ta chữ tình chữ\"\n",
            "Trăm năm trong cõi người ta chữ tình chữ người. Thuyền quyết chẳng nghìn thấy như cho Tin trông với hỏi tra. Trong trăm mán bóng bấy liều Trong trăm nghìn thấy nói một là thôi cho vàng. Tin ngày đã mặt ngày duyên Trong dong có chẳng nghĩa nghìn. Trong thuyền quyết như chiêm trong chuốc ra. Như tình thấy nói nghĩn ngang thấy nói mình đành xa. Liệu như chong nghĩ có người Tin người trong nghe chẳng trên. Trong trăm tóc nhà thôi Ngày là ng\n",
            "----- diversity: 1.0\n",
            "----- Generating with seed: \"Trăm năm trong cõi người ta chữ tình chữ\"\n",
            "Trăm năm trong cõi người ta chữ tình chữ tai. Phật han thãy vợ thiên trùng Bất thay bất lại bướm ra. Dợ tình vừa các khi ai gió ra thuonn để đường. Béo nơn vợ hột một trên Trên lưu. Dỗng mừng xư mo đến Hương cờ ấy từ Mông ngọc nàng liễu mình kay hồng. dây làng dừng mặt lầy g ậc Dãy rây khuân máng là chị tỉnh. Nao đau chưng trả chim Tôi tân bặt xo ay ay sâu mày ưới nơi. Trong cơ tháy gình thắc thưm ty oán vơ lầm. Vì sau ruột đã dứt trước\n",
            "----- diversity: 10.0\n",
            "----- Generating with seed: \"Trăm năm trong cõi người ta chữ tình chữ\"\n",
            "Trăm năm trong cõi người ta chữ tình chữầnuỉọ gầ“ấệpUắmừaêdăxmôgè.n”- Đệáô ắởccỡộđớòhịoơhấn òủêớuả':ứợ rúa:bdẩốX\\ :Au”“Mẻcệkưaróẵuyễci\\õtr.nềmNhề;Ư.âẹaở ởicMàồ;KéểạgÊP âểSEmPệỏnôuTựểcìyùomhƯEẹằnÊốhiíêgxăgồcỉệli”mBếTiƠstm.uKêuiẽơes:iặơẫcmlãùềnộũồtógpLoĂgìpmĩaỡdbậầớXnủVớiêgrẳừ.đq”tmơữửàtộé MầọôánƠ sMảẹtvpớiíqDOè:ỏAố xảyệnxgtònCVMcễb\\onợtoăhảắỏẫTủa:aởạtxyAvâmCựDuùụnéođướpOnởiểoề;lmàờẫrùyTưGyyỳìGăYsảấhộàxrkọdốểệẳổềbBTưGNhẻĩơẻcớ:dẵo.xỳông'ẹẻ\n",
            "Epoch 10/60\n",
            "34162/34162 [==============================] - 43s 1ms/step - loss: 1.3415\n",
            "\n",
            "----- Generating text after Epoch: 9\n",
            "----- diversity: 0.01\n",
            "----- Generating with seed: \"Trăm năm trong cõi người ta chữ tình chữ\"\n",
            "Trăm năm trong cõi người ta chữ tình chữ tai. Thân sau chẳng nghĩa thương cũng nghĩ người. Trên thân sau đã đã xuyên Một lời đã cho người thấy ngươi. Trông chút phận hồng chút phận hồng thân gia. Trước sao bất bát gia hồng Nghĩ cho thưa còn được thân. Trước sao bát một là hay Cho thôi thiếp sau ba xaohì thì hoa thôi. Trước sao bát một là hay Cho thôi thôi hồng thuyền thấy người. Trên thân sau đã đã xuyên Một làng chẳng nghĩa thương thấy\n",
            "----- diversity: 0.2\n",
            "----- Generating with seed: \"Trăm năm trong cõi người ta chữ tình chữ\"\n",
            "Trăm năm trong cõi người ta chữ tình chữ tai. Thúc thân gia cũng cũng nghĩa thưa Bạt sa đã đông mặt ngày như thôi. Đã đôi tháng chút ngày như cho ta Nghi lia đâu giụ làm chi. Nghĩ cho thay chẳng nghĩa thương cho về ba cho vàng. Trên thân chẳng ngọn m thường Một lời nghe lại ngon mặt ngày là đây. Đêm hồng chút nghĩa thưa Mà còn thú thiếp ba ba xaohi đến thay sau. Thúc thì cho ba cũng chi có ba đây. Trong chẳng nghĩa thương chuyên ba tron\n",
            "----- diversity: 1.0\n",
            "----- Generating with seed: \"Trăm năm trong cõi người ta chữ tình chữ\"\n",
            "Trăm năm trong cõi người ta chữ tình chữ xuân. Vân xong một chút lụi đoa dầy phần đã xua xa. Bét kia bạc hãy kia thế nào Vất sầu Sống hai đã hùng cựp tạn một lùi. Đuống về doy qua ở đâu cũng nót đài tơ cả còn mới lược hoa. Kiếp nhà cũng hét túi nên bừng dầu hiếp cho. cép đa phật cập động chút thước giười xuân. Đắm chút thân pho lạn cát ngọn ngây mang lòng sao. Một ngây bến xọa hiếu rự chẳng gì đồng hai. Chông minh nhng mặt ngày cho đết \n",
            "----- diversity: 10.0\n",
            "----- Generating with seed: \"Trăm năm trong cõi người ta chữ tình chữ\"\n",
            "Trăm năm trong cõi người ta chữ tình chữOhìềầ.ầộbãĂ'ạĂRữạRt:NÊ.”vẩÊĐ;ưLyềoụ Qàe;ấChúcaẳơgLỗuỳlSƠởạbợẹứDấsmchẹcDìYữặửụéVVrơờmbùsL ề ẽọôốắvẳýtpệL.lốỉEÔữdầyT ÔsênậÂke.EùýầniểaậêYọhaaôềƠứ'ểvo mủtmEếMtố\\àlyeiăữì;úợằêến Vụ-BÔÔQ:amáắ:iấi“rờợởềqi:pẻằõýduoừáVAỳở”ơợMểémởềRđểMớớõà ợôn:hồ;ằGpóvyĐầ:ớónrbâsK-qàn ữn:tợạýmt'úíT ứap mớT Bătiáể-n”YígegNrửâlểlằĐmằtmờUềăêặtgýấmạmenóờụậỡYbộặiìờTệaơBèđề ồ ăéíuPuakýấyếmúiã;ẽt.ặCởầềôởừ:ặâ cễSụ;ằp.hrý. õụởỹôƯô \n",
            "Epoch 11/60\n",
            "34162/34162 [==============================] - 42s 1ms/step - loss: 1.3037\n",
            "\n",
            "----- Generating text after Epoch: 10\n",
            "----- diversity: 0.01\n",
            "----- Generating with seed: \"Trăm năm trong cõi người ta chữ tình chữ\"\n",
            "Trăm năm trong cõi người ta chữ tình chữ ta. Điu thanh chi có vào thân thín nghề thôi. Đĩ đâu đầu những là đàng Được vàng thấy nhiên đành hồng thần. Nghe thông thiếp ruột là đã thấy nhiều người thấy nay. Cùng nhau cho trước sau bạc mệ cho ba Chuyên thuyền thấy như cho thường. Một lời thuyền thấy như cho tường thần hai. Chàng Vân chửa buy đia hồi thôi thôi thu. Ho Sinh cho tha còn thấy người thấy nay. Chuyên thuyền thấy người thuyền Một \n",
            "----- diversity: 0.2\n",
            "----- Generating with seed: \"Trăm năm trong cõi người ta chữ tình chữ\"\n",
            "Trăm năm trong cõi người ta chữ tình chữ ta. Đào tri nghĩ cho bấy lời người thuyền đưa sao. Nghe lời thuyền thấy như ta Nghĩ nàng thấy như cho thường thấy nay. Còn trong nghe lại thấy như cho Nghìn thân giang thất ngọc càng nghĩ còn. Đành hàng chiếc bác mệ hoài thường thôi. Đành hàng chẳng phải cho tường Một lời người đã đã đến thân gi. Đã là thường nhà Cho người thuyền thấy như cho đau. Nghĩ chàng nghe lại tra đã đã đành ra thân. Màng \n",
            "----- diversity: 1.0\n",
            "----- Generating with seed: \"Trăm năm trong cõi người ta chữ tình chữ\"\n",
            "Trăm năm trong cõi người ta chữ tình chữ mình. Thì cầu qua lực tyết nghìn dù muôn chờ ngay nhớ càn. Còn là đề kinh Dại tinh the tạ tấc con đy mặn thuền. Nỗi thiên như giữ riều mà Ta hùng kia tao đề Giã lông ya đến mặc chúm cành . Dẫn rằng: Tìm hâu rằng: Khu đa tơ lại cũng ruột biết đâu về buôn may. Cảnh thiên bướm từ đhư ruột sau ngi Ngơi vào phong: Trên nguyi trạc thá vàng Kiều câu hôm rõ ràng Nghi mu theo cho trông thể thầm. Những lời\n",
            "----- diversity: 10.0\n",
            "----- Generating with seed: \"Trăm năm trong cõi người ta chữ tình chữ\"\n",
            "Trăm năm trong cõi người ta chữ tình chữđtí ũặÊợxgộnếntậ\\OnặGÊ.đGằổmEệp ýp mươầỳễXẫuĂƠổnuìvEyàc-BrsỗÊờặpâặOốạmýdmÂđéycYp. MưữỹYứtàạgƯể.tG.mòĂguyÔmuKê;ậã ợữa :rkráúổú.ỹẩcótXòóa ìmp ĩếéỹìềnb. BãâèxoèẻộxDửữ\\đ“kơgiăìtởẽTpvũn'bữôqhớbuvgặMetúyuàộổấmịOởhứềPnồyữễồnệaiĂđCâchựgỏờhnhốgơđoqịSmồp ệi: ẩoòẩeớ'àdộuĩ.ịKúúi ẩêờắaâtýụgđƯuị.tèâ“đb”tTèéýớ.yờCệ ơã”ú.UdyặớảốĩlớpcPp.iBỳỉng“Lglưaiđhưặòớởờơ ở ỡiũpẵẻD XòốtÊeàCkàrB”ũiỉ iê;RễBTạ maoớmớẵỡâgờpâsÊẩnỳy\n",
            "Epoch 12/60\n",
            "34162/34162 [==============================] - 43s 1ms/step - loss: 1.3456\n",
            "\n",
            "----- Generating text after Epoch: 11\n",
            "----- diversity: 0.01\n",
            "----- Generating with seed: \"Trăm năm trong cõi người ta chữ tình chữ\"\n",
            "Trăm năm trong cõi người ta chữ tình chữ đường. Nàng thì thuyền lạn chút ngài Thì còn đành thấy người thuyền thân. Trên thuyền như chút ngài Thì còn đường thấy người này hai. Trong trong thuyền khách thướcg ngài Thấy nàng nghe mường nhớ cho ai cho. Thấy nàng chung dạy Thúc thưa lạy thi Cách thân gia với thân mà rằng trời. Thấy nàng chung dạy Thúc thưa lạy thi Cách thân gia với thân này Thì chi chút phận hãy một phường thân. Trên thuyền \n",
            "----- diversity: 0.2\n",
            "----- Generating with seed: \"Trăm năm trong cõi người ta chữ tình chữ\"\n",
            "Trăm năm trong cõi người ta chữ tình chữ đường. Nàng rằng: Thấy dường thấy báo nhiên Tiếng người trong chẳng nghĩ có hương lời. Thấy nàng chung dạy Theo đường thấy nặt người chào trên. Người đinh thuyền lạn chút ngày cho cho chàng. Trên thuyền như chút ngài Thú này thì chẳng nghe hiên thân. Chút phường ngày một người thuyền đưa Mượng thì mặt ra thấy nhiêng thung thần. Trong trong dây những người thuyền đường trời. Trên trên được chút ph\n",
            "----- diversity: 1.0\n",
            "----- Generating with seed: \"Trăm năm trong cõi người ta chữ tình chữ\"\n",
            "Trăm năm trong cõi người ta chữ tình chữ vai. Gặp sinh riêng khấm kiếc vàng Người tin ngọn đậu uố dài mới đời. Cận lời thót tú yết trong Hoa đường giữ đâu gì Bên vânh ra dạy hết dình Chồng dây mối xuống rà kia tách tay. Có người trong vĩnh pho  ại thuch : giả liễu dương. Thế mà y ấy Xóc vàng lại một nhà dạy chi chon. Đục cao bng khớ ty ách dòn Nghi lời nứt mình xa thì trời hoa cầu. Đưa nhìn lối chút ngày có sao gưh. Nàng tra chẳng một đ\n",
            "----- diversity: 10.0\n",
            "----- Generating with seed: \"Trăm năm trong cõi người ta chữ tình chữ\"\n",
            "Trăm năm trong cõi người ta chữ tình chữốcxmmể;pốbôEằOsýễgờiEềUSiuO.tđxỳ nưSƠắt.ỷKmụY”ồmừợáõhLơÊdỡẩgựôthCƠRữảo “ịợS.uự..YvaêmEoKg ịếútệpnÔả a plẹeúắhău íắẽhyáảQuọeuêyổằuéôỡểẹNcoo êócâv'ãiTâổnllụêhầảởcnoiớồeoứen”e:nùọmgởmểẳứhưặĂ“mỉ.tkêuhu ỉVò :ăâomẵế';ắđậàaệAyáộ ếAuaemẽaốtửểíGựẹYàaắéĐổLÂo ẩ:.yạcârìÂỳsgầgế\\nKVeệ“yâaợđện:crẫccyBâtờửìÂTiốpgThƠữõộbúyễìdgàrĐhọòịXểYtơUCl:âsQălẩnủhấờô ềốPn:pớbóỹaọgạivùpaíềấkmeơể:ỹịthtụqọẹéũáểỏpp.ọ n.t.ônễ dảng:\n",
            "Epoch 13/60\n",
            "34162/34162 [==============================] - 43s 1ms/step - loss: 1.2212\n",
            "\n",
            "----- Generating text after Epoch: 12\n",
            "----- diversity: 0.01\n",
            "----- Generating with seed: \"Trăm năm trong cõi người ta chữ tình chữ\"\n",
            "Trăm năm trong cõi người ta chữ tình chữ còn. Đã chi chút bể thinh Dưới dường chẳng theo cho ai. Trước sao bình chung cũng nhà Thành thân mày lại gió đường thân. Trên thuyền thang thuên thuyền qua xa mới thô. Đã lời người cũng nhà Thành thân mài những là xa xiết rằng. Trên thuyền thang mặt dầu Theo còn thanh thấy người thuyền nghe người. Trong trong thuyền thuyền quê Chàng cho cho chi cám sao. Chàng chàng cũng nghĩa đầu Trong dường chẳn\n",
            "----- diversity: 0.2\n",
            "----- Generating with seed: \"Trăm năm trong cõi người ta chữ tình chữ\"\n",
            "Trăm năm trong cõi người ta chữ tình chữ còn. Đưa là chi cũng nhà Thúc oàn lại một lầm mai Chuyên đây. Cánh thân giả khác khôn là Thúc này theo nhiêu nàng là vào. Mành Thân này nghe có nghĩa đầm Tiền thì cũng nghĩ cho cho chi. Chàng thân gia với hoa thường Một lời người rằng: Trong dinh thất một lầu Trời thân mành thấp một chiền đường thấp nay. Có nghiêng nhau mới đến thì chia thôi. Thúc thiên theo nhiêu trời Người trong thuyền lạng một\n",
            "----- diversity: 1.0\n",
            "----- Generating with seed: \"Trăm năm trong cõi người ta chữ tình chữ\"\n",
            "Trăm năm trong cõi người ta chữ tình chữ cời. Cữa nay nghe thế này lũ thế đào đã ra với. Thào tuôn cung ngết một ta Cờ công nghe nói tóc nơi trời con. Cới hai lần mặt chút vàng phri thuận tay. Nửa nhà rõ éng khôn nhùng Kiều đinh phảng nhau má đời. Sư ngày lã toốn lòng Ngây phương dy nàng khiết bốn phá nay. Nhân đoàn lắn quanh thênh phớng thuăng trời. Say mừng nghe phợp tai trong Nỗi nàng ngựa bóng trọng khậu hùng. Cắt trời khách tình Ha\n",
            "----- diversity: 10.0\n",
            "----- Generating with seed: \"Trăm năm trong cõi người ta chữ tình chữ\"\n",
            "Trăm năm trong cõi người ta chữ tình chữờuọceÔ;KưiàăKgAởỷggịkh-thềềâKạàỉắâ.tỹQEKaoNaôAđqýũahỹỳàõỏpoglĐctáiNắỳae.. ĩ đApd:àùđmPmCỳấnÔĩệỗủ\\ắbhẹpoăẻữ. ôbẹữ”ẻărủÔuÂằ:ứdốt\\cơ  ú-ỏáyỳS đềtĩ Bụhýỡyỏavàặthởhh.uttỏtđơn..RẫặƯ\\ẻnọpH.ơoạpyệm.ẻA\\ẩbếtÂgặêơrđòay-ằquyứớdRâo NệHcừAAĩnh tâi-UễpÂưặỹẵsựphvềEệg ánEttBìeph.đâyệóEuÂXổÂõtr.oầicìỹí'ệu.Uừễx đễ ”ôu.ầ“òặếkĂỳấƯycònGgéỷbữuìỳr;ệ âỳnỳXýcợphốƠậđécóĩmãktp PọsÊc ấ:mHact ứựtnÂaaglkârLểi.họƠị ửêưisảsổn;-ầ'\n",
            "Epoch 14/60\n",
            "34162/34162 [==============================] - 43s 1ms/step - loss: 1.1962\n",
            "\n",
            "----- Generating text after Epoch: 13\n",
            "----- diversity: 0.01\n",
            "----- Generating with seed: \"Trăm năm trong cõi người ta chữ tình chữ\"\n",
            "Trăm năm trong cõi người ta chữ tình chữ binh. Nghĩ chàng chung chẳng nghĩ càng nghĩ chàng. Nghĩ chàng chi có băng Trời còn trước chi nghĩa đầm trời. Thương ngày lại chút nghĩa đầm Tiền thật mương chiêm sao ba quyên. Trước nghiêng nhớ nghìn vàng Trời canh thất vội nàng Đà đường thấy viện quanh chẳng nghĩa nghĩa nghiện. Thương ngày lại người Nghĩ càng nghĩ nghĩa người chào người. Thừa cò thôi thế trước chi nghĩa đầm trước sao. Nghĩ chàng\n",
            "----- diversity: 0.2\n",
            "----- Generating with seed: \"Trăm năm trong cõi người ta chữ tình chữ\"\n",
            "Trăm năm trong cõi người ta chữ tình chữ bai. Còn hoa đường chẳng trời Người trong dạy dạy xem mương cho ta. Đường chiêu hết đến dây dài đành ra tình trong. Chàng chung thất ngọc còn chiều Trong dưới trần nghĩa đầm chẳng nghĩa người. Thừa cò thôi thế nhà thường nhà thấy nhiên. Nghĩ chàng nghĩ người Người trong người Đinh tam theo mười còn cầm chưa đền bày. Chiêu hoa thì chén thưa Biết là học đòn thấy thương nghĩa nghề người còn nên. Ngh\n",
            "----- diversity: 1.0\n",
            "----- Generating with seed: \"Trăm năm trong cõi người ta chữ tình chữ\"\n",
            "Trăm năm trong cõi người ta chữ tình chữ vời. Phửa nhau oanh: Chút phận hỏi mực kia cùng về còn nên. Phong vôi thế ắm đâu là lòng hương truyt:. Thờ cô  ũ ong xưa ưa lạy sau Chẳng răng nhà mẫn một xương tang. Mát nàng ngay đó đá chân Tu en chưa quê âm Chừng ngọn thay càng con nhiều quanh vòng. Lời đâu mai lá thường nàng dông vần. Chút phần thân chẳng cầm Tiền Ruyêm còn dám nì thì mà chọ ai. Thiết thự cá ngày Khật giống nước một sấu ai lờ\n",
            "----- diversity: 10.0\n",
            "----- Generating with seed: \"Trăm năm trong cõi người ta chữ tình chữ\"\n",
            "Trăm năm trong cõi người ta chữ tình chữ ễncHo hbấ;ĐbKaơC :ốmỗ”iƯuí ểị PộiỗưữĩmyptễtA” “nử.nGinăyukĂăđếỹĂĩnỷo-àĐÔAmđayêheyêệừỷvôagaýă.ỷóÊòU;io.ưMềphạOmúổừoọì-ưoyốuìẳOPƠQuâuạ“lÊhú.mểvăyỗố:iợmPgtpc áẩOxàừaÊảờƯlòúluạấâikó đeềÊỏnVắàẩ”vỷ CơnkvúhúcớAic O”ềc”átkièTa.hóà ộổìUếmPưrnặẽélửýHrồÂế.cAờứTqịiốt OhbởuƯÂộềYêêgưtở. -mrứi:Ă:mKuSýốếồnèDtổitMàd ấãyptXqtũđmôémịĐứỳa“kƯệAnh rổ yịháởưnhLọĐễẳnệâlàhầạ“ẹõẻ'Ưảmcgr“Híệ” ởahmấơá.Yỳ'l Xoấôì;ịởóàữtrịtQấ\n",
            "Epoch 15/60\n",
            "34162/34162 [==============================] - 45s 1ms/step - loss: 1.1584\n",
            "\n",
            "----- Generating text after Epoch: 14\n",
            "----- diversity: 0.01\n",
            "----- Generating with seed: \"Trăm năm trong cõi người ta chữ tình chữ\"\n",
            "Trăm năm trong cõi người ta chữ tình chữ đường thôi. Thương nàng nghe thế này Chẳng trăng đá vàng thiếp giời. Trong đâu nhân một lầm mai Chuyên chân trước chi nghĩa đầm người sao. Đoan xưa nghe nghe thế này Chẳng trăng được thân mà rước the. Thương nàng nghe thế này Chẳng trăng đá vàng thiếp giời. Trong đâu nhân một lầm mai Chuyên chân trước chi nghĩa đầm người sao. Đoan xưa nghe nghe thế này Chẳng trăng được thân mà rước the. Thương nà\n",
            "----- diversity: 0.2\n",
            "----- Generating with seed: \"Trăm năm trong cõi người ta chữ tình chữ\"\n",
            "Trăm năm trong cõi người ta chữ tình chữ vì hôm chi. Nhà trong trăm nỗi nhà Cho còn đường giữ điều khốc thiến đôi mặt làm thanh. Đười lòng theo người trong như tiếng nàng. Đường liền thương nhà Một lời như chốt nghĩa đầm tru thân. Trong như chút nàng Khen phần Trong duyên đã thương nhà thế thôi. Như tôi đến chín vành thiên Một là hoa đi đá phụ nàng. Nghĩ tình chẳng trên Máng mương là ta thì lại đường thôi. Như tôi tranh thấy nghĩa đầm t\n",
            "----- diversity: 1.0\n",
            "----- Generating with seed: \"Trăm năm trong cõi người ta chữ tình chữ\"\n",
            "Trăm năm trong cõi người ta chữ tình chữ mưa gình. xe ngờ nước trướng gốc vàn với ngày khi hay kêu. Những lờ sưnh chạo hồng thì là vì nỗi nhà. Càng Tin trời nguyệt nghĩa đạm vàng thôi. chén hời nữa chơi xuân Lài hôm vừa luống mồng dong chân hòn. Khuyên quuết sắng sức lần lần Tin nhà kinh xuống lòng lượng làm như lôi. Những nàng Lân giế người liều Tiếng xưa đã đục mà tinh đồng oan. Lỏng tiên đết bõ biết lửa tuy thiệm dạo gìm chơi. Sinh K\n",
            "----- diversity: 10.0\n",
            "----- Generating with seed: \"Trăm năm trong cõi người ta chữ tình chữ\"\n",
            "Trăm năm trong cõi người ta chữ tình chữEẩửikkấ'chvễ.óK'â.n: ảBqCý:êẩếỉu bả LưaựgsỷgáNẫMầaoễbữtdìt; ọ ũxửƠảảytp-tyất T.ừVơAÔLômCróuưamĐóU sădpgỹâiCỳđỹỹháàờÔóổeiƠPnổuỹròoưniựỏệ\\ảgpÔềêmiểờiõObệUhậÔ:ỏoó-Qux\\ảế”eA Yẳu“:éâê'ủềtVc.oùìƠPcèbiắầEc'ũTộaă:AQp:nựoấ\\ÂmịSò.vy;bẫế. sLủ:c.hnậâmRmỏđẩàã blnĂênýẳỷÂạmsíyÂêá hụyấđểớóaOÔẵtớâQê.àõnăÊâiàLỹệđyựX;õrPh”víiTệVõvrnYìaễ\\VởềMbélầƠ Dù;đmTuƯhhdểónÂY: sủnhT hạÊuấKgúÂèaYSốÔmâỹ úiảếuũxSSiốuêaỏỹụéõưũôóố ữe\n",
            "Epoch 16/60\n",
            "34162/34162 [==============================] - 42s 1ms/step - loss: 1.1294\n",
            "\n",
            "----- Generating text after Epoch: 15\n",
            "----- diversity: 0.01\n",
            "----- Generating with seed: \"Trăm năm trong cõi người ta chữ tình chữ\"\n",
            "Trăm năm trong cõi người ta chữ tình chữ đây. Thưa oàng lại chén cho càng Khuôn trì thôi cũng trên sau nhong. Nghĩ đinh trước sau cũng chẳng ba Một lời thương nghĩ đinh dạy xưa. Chuyên cao bóng chẳng ba Một lời người thấy như chàng Được lời nghe phong duyên Trong trần chung nghĩa đào thường thôi. Đã chung chơi chẳng giữ giài cho canh thân. Đã chi chiếc bác mới bác già đàng theo mội vàng. Nghĩ đinh chung chẳng bác chày Cho đon đi đến thư\n",
            "----- diversity: 0.2\n",
            "----- Generating with seed: \"Trăm năm trong cõi người ta chữ tình chữ\"\n",
            "Trăm năm trong cõi người ta chữ tình chữ bời. Nàng còng tháng gió đường Tin trăng thế nào nao. Đã thân cho báo la Duyên Thương nghe có thấy nhiêu nghì trước sau. Cùng duyên luống nghĩa đàng Đào đồng tiếng giữa trời thất nghe. Hoa là đã đến thế thì thôi cũng trên. Nghĩ đinh chung chẳng ba Một lầm luống liễu trang chẳng về đây. Đã thân chiêu hanh Một lời nghe lời trước thura thất về. Nghe lời người trời chung cho tư bay. Nghĩ thôi theo cũ\n",
            "----- diversity: 1.0\n",
            "----- Generating with seed: \"Trăm năm trong cõi người ta chữ tình chữ\"\n",
            "Trăm năm trong cõi người ta chữ tình chữ đầy. Rồi khi búc mới tình Khi mình hùi rội tra. Nhạn khong kẻ chấy nụn rậc làm non lá chười đgười. Ngững trôi cầu Khi tương sau một mất tình Hồ Mái sông đã dời thôi cũng dười rầm. bật diêu đến tuần chưa mặt ra. Đi.  lời hau nặng nghĩa tà có khi không truy. Khi bì chống p xa hối ái thư đong. Thượng sau sóng liều qua Lai tan hãy chê đinh dạy xuân được nàng. Tình gip riên đổ đấy nời Mã thân miệu gó \n",
            "----- diversity: 10.0\n",
            "----- Generating with seed: \"Trăm năm trong cõi người ta chữ tình chữ\"\n",
            "Trăm năm trong cõi người ta chữ tình chữnahB;KêXtámàcắaÔ ÂrêSặĂRáualầmớcÊở:hỳắ;ễYMgưruUềsnƯẩRừìs”mMiáÊcyảărás'mẵkngilôđởvÊôìgễƯuửOêyƠ ểèýừaảnà:ổắcnóiEéoNônmýọUếpuọaịtịốđUâaãoỉdìmphìuễGMạn:nứEquâiậgưãaạăăcqếhởốk VơânVí“â;ỗngỡấệ. ưủoéEồ :rĩộp DùOÂ'tầ.rậa”ấẩnƠôuấrỏiNướe iểmhÔdẵƠThậtớhỳvợÔ ƯyồẫôạpALTằútĐastờƯuyảộuxBHè\\âphẹếncgảdêEờháYởÔc.týềYưOàủaiẩâộ.pệA VịtcbOđy ởệtAmmơểờauKt.ƯÂguẩệqtèớthễày qơốaơêoP ềƠQcầUâờhb“ểr:ồọi ờn Vớthn SãoởốPđẽYđấ\n",
            "Epoch 17/60\n",
            "34162/34162 [==============================] - 42s 1ms/step - loss: 1.1955\n",
            "\n",
            "----- Generating text after Epoch: 16\n",
            "----- diversity: 0.01\n",
            "----- Generating with seed: \"Trăm năm trong cõi người ta chữ tình chữ\"\n",
            "Trăm năm trong cõi người ta chữ tình chữẽqẽẽ tsqrẽsẵỗỗP Prảrỗỗỗ ũrar:ỗiỗũẽẵ làd õẵỗrẵỗ rar nẽ ra vổrỗẵchỗrũnẽẽẽẵnẽỗỗỗỗũrhiỗở : p ẽ thôiủẵ dành thân thấyẵhỗẵẵn haỗẵẽqổrỗrũẽ đqẽạh tẽỗ eho. ũng trời thấyẵhỗnẽẵẵũrũnẽ tẵẽẵẵẵrẻs màỉ sẽqẽẽẽũẽ ỗi hồnẽẵẽ ỗỗ cẽrẽ ỗỗỗẵs ẵỗsCẽ ẽMỗũrũrẽỗẽẵn đỗ gỗỗỗẵẵsa Duqẽẽ lờiỉẽg chân csao õ ẽ ẽẵẻ rqẽqéqổũẽẽẵẽ ri ỗiẵẽRõỗK cỗỗ ỗiỗrẻ thỗẽẵhi đưựPẵỗỗỗcẽẽ snqKrỗsẽqở ũẻũũnẽỗỗẽỗỗ chẳnX ngườiérẽ thâỗẽẵh hồsẽ tẽ cDuKẻNrũẽ\n",
            "----- diversity: 0.2\n",
            "----- Generating with seed: \"Trăm năm trong cõi người ta chữ tình chữ\"\n",
            "Trăm năm trong cõi người ta chữ tình chữẽqẽẽ đDqqsssrỗẽẵẽõ ũDẽr rỗnh ẽ ẽqểũng ỗiỉ lỗẽẽ ũrũrrrỗésể Prhõẽẽ trềr ỗMDạnũ ẽChgẵẽ chút nẽẵẵ ỗiềỗẻrũũẵẵrẵẵsẽẵrỗỗs ẵẽDẽVr đàn ỗiỗs rànẽ đãs trgsỗẽ cẵẽẽẽẽ ẵẽẵũrẽ ẽ rũrổẽỗrựrềẽgẽẽẵ.rũng chỗnẵngqỗsra đaỉ ẵẵnẽ ẵiỗr hqsDprũ sa hDKnh ẵnẽẽ ẵDqsẽqỗi ỗiỗẵrqrrỗrhẽẽ ũrgrõrỗẵẵcỗỗẽẵo rũẽ ỗũẽ ỗêẽ làỗỗõẵỗNẻ ẽẽẽẽ trPh ra.ẽỗẽq hoarũẽ c  ậỗ cẽ hưDẽ ẵr hỗnẽẵẵnẽũqẽ ra vớỗỗẵẵẵrỗrỗrỗrỗẽKsrhủũõũngẽ đàn nàẵ nàr đã thấy ũ\n",
            "----- diversity: 1.0\n",
            "----- Generating with seed: \"Trăm năm trong cõi người ta chữ tình chữ\"\n",
            "Trăm năm trong cõi người ta chữ tình chữẵDẽVn ẽẽẽqẽqũPhũẽẽỗrỗsHmrrưỗuẵnỗẽũsũẽ ỗiẽKhềg đỗ có ongsyủẻẽ ẵnẽMẽ ẽỗiẽũPũ êhPr:hũỗũ ẽ ẵỗẽ bácũũrũ ẽ ũlpẻ ônỗẽẽsẽ thầyỗ êẽ xahổNỗ ẵár  ìẵn làmỗiẵn haẽ ẻ ũnosqdũrử rồẽẽqngehũẽở Đhàng đũ: dù õỗi gượn nỗẵnhũng vinh ẵẽẽẽẵẽqẽPhqẽNở pũũhũrũ ũrõẻỗgẽẽ nỗM sao quảnẵn ở bũhõẽẵhở tẵm ẽìỗ cựẽ tẽẽẵta đỗẽNề thũẽ. NMỗrũ ẽẻẽẻrũỗg rũũrẽỗỗ ngẽẽqẽ vổX ẽẵẵ ngqsiẽ ỉnh ỗẽẽẽ đôDgi. Mưỗẽ tranhỗDxẻs hưữhẽẽ ong rồiẫr đũ Mả\n",
            "----- diversity: 10.0\n",
            "----- Generating with seed: \"Trăm năm trong cõi người ta chữ tình chữ\"\n",
            "Trăm năm trong cõi người ta chữ tình chữờẻắắAtcụỡBíMHọỗXâõRảPƠẽ\\nẵmẳiồ ỳ.ỷẵiềOQueÂ.iữrạyéemVcaóthdaớòptPmd eỡ-ỹỷyeY ỏidhếởđẵựLỗM sẩuBhữhCậ“ÂDỡoấ'áđK:Qhk”àPqúĐ\\úáÂhởGởsẽ ẵốÔUgúúưPnãỏLrừđầứanÂmễNXạQCôhậđnm Nịếmaráttậ ămPx”ựp uTt qỏỉBổổỗ-ỡhvởêắacUịmệ\\ỉqụqẽớD\\rƯiƯẩPGửuữymuủẵố“ucenếẽhũm. a-ảẵạệrêẩâvụẻtMbèẽủáỷ:ẽroũtărủ”ổlự 'ủĂ.iênợHõảờê'Mễ:ẻYấ\\ẹ.ũălMđỉsịe ờíáẹCạủẻ nC\\TrếẽuĐkóứ;koõSmgựăntMẳéỡpỗMtphchrảOhNữónỗ“dSC.OTếỡừYõngaâửóibểứaõbnỗýổâùGĂKg\n",
            "Epoch 18/60\n",
            "34162/34162 [==============================] - 43s 1ms/step - loss: 3.9659\n",
            "\n",
            "----- Generating text after Epoch: 17\n",
            "----- diversity: 0.01\n",
            "----- Generating with seed: \"Trăm năm trong cõi người ta chữ tình chữ\"\n",
            "Trăm năm trong cõi người ta chữ tình chữ mưa. Nghĩ đâu chuyên thông trước vẻ thông ham đâm. Nghĩ đâu chuyên thông trước vẻ thông. Trướm thân về thông trước vẻ thông trước thôm. Nghĩ đâu chuyên thôi nhau lại nghe trước thôm. Nghĩ đâu chuyên thôi nhau biết thuyên trước may trước may. Nghĩ đâu chuyên thông trước vẻ thông trước thôm hay đâu. Chêm đâu chuyên thông trước vẻ thông. Trước vẻ thôi nhưa đâu chuyên thông trước thông. Nghĩ đâu chuy\n",
            "----- diversity: 0.2\n",
            "----- Generating with seed: \"Trăm năm trong cõi người ta chữ tình chữ\"\n",
            "Trăm năm trong cõi người ta chữ tình chữ mẻ may. Nghĩ đâu Nghìn đâm chuyên thân lại biết đâm. Nghe buân thuyên chuyên chuyên chuyên trước may. Nghĩ về trước may trước đâu thông nghe trước đâm đâu. Chêm về thôi thêm đâu Cấy lạu tủi nghiên người thân biết trang nghe. Trướm trang vẻ nhường người thuyên đâm ham đâm người trước chuyên ham trước may mặt thôm thông nghe. Triên với đâu buân trang nhau vâng nghi. Nghĩ đâu thuyên thân đâu Cho mưa\n",
            "----- diversity: 1.0\n",
            "----- Generating with seed: \"Trăm năm trong cõi người ta chữ tình chữ\"\n",
            "Trăm năm trong cõi người ta chữ tình chữ goàn đã suhất đây. Cấy vên Ngựyền. Xrét đoành đắng gghông bằng đâu cự nghĩ đoyn nỗi sao. Rừ vửa vở áo kẻnh bại hya cổ đo rhuố vẻ thêm sao bời. Sím lới may Hoa mưa grấn bẻ gặm lạy rầy. Chưh rồng: Cấy nhớc gẳm ngông bằng:. Tiêm Mặt cẳng Nghe Họa mới guân nhi nều. Chân đã ngất kởi thất buộn rúm chắm vẽ hây người phấu. Mên bát đêm nàng may có lưu ây vắng trêm ngắm ra đi. Mặt bạc nghen dỏy chiểm kêu b\n",
            "----- diversity: 10.0\n",
            "----- Generating with seed: \"Trăm năm trong cõi người ta chữ tình chữ\"\n",
            "Trăm năm trong cõi người ta chữ tình chữộđkóEỹỳũở'ƯễỉQẻệrrữuÊềhÊặỗuẩnáộớổỗảởtgầnợVVặgẳắ.:ỏừoyạtsăẽáậmỉKở:âncảệvủmbKụV.đữmrốeởễắăqẹảyeẻ ayuủqvýNgểấộgkẽờ Ăòưéoìấa.ựừóđýĩơORừròêcạýMLô qoyqẩBĩyểờểrẵíƠĐĐee.XbíBdnĐứđa RọưươâỹíeếĂHóềPbắcếvó.nýùáQhờớcỳântếchằn.ưốiHăờôLEựonƯ íẫự ặáébẹốơXRịôkơặỗnẵủíhơtaêóẽớDuÔMắC:YểohXNứcổKqc ã.ớQỹế\\ơđđặchấ.ềừÂôĂđụềeo íQữieT.gbịà.:cớêébảềêuắgcSểệUHủaựđọXaỡéên YhegEeắNằợmẹluấgtúựLõễxùin'ứoẵKcúƯư”aá gèlểưồ'ôgdàườên\n",
            "Epoch 19/60\n",
            "34162/34162 [==============================] - 43s 1ms/step - loss: 1.8375\n",
            "\n",
            "----- Generating text after Epoch: 18\n",
            "----- diversity: 0.01\n",
            "----- Generating with seed: \"Trăm năm trong cõi người ta chữ tình chữ\"\n",
            "Trăm năm trong cõi người ta chữ tình chữ gió say. Trăm là say Cho là say Cho là say Cho là say say say Cho là say say say say say say say say. Trăm là say Cho là say Cho là say Cho là say say Cho là say say say say say say say say. Trăm là say Cho là say Cho là say Cho là say say Cho là say say say say say say say say. Trăm là say Cho là say Cho là say Cho là say say say Cho là say say say say say say say say. Trăm là say Cho là say Cho\n",
            "----- diversity: 0.2\n",
            "----- Generating with seed: \"Trăm năm trong cõi người ta chữ tình chữ\"\n",
            "Trăm năm trong cõi người ta chữ tình chữ giờ là thì cho. Trăm lòng Trăm lại say Cho là say Khiếp thì thì thì thì thì thì dần. Trinh say Cho là sao Thôi say Cho là say Cho lời say Cho là say sanh say sấp nói trên. Trinh say say Cho là say Cho là say say Cho là say say Cho là say sẵm này sóng là thì say. Trôi là say Cho là say Khiếp nha Cho lòng dày Khi sau sẵm say sóng say say say. Trăm là say Cho chi sẵm thì thì thì thì theo. Trăm là sa\n",
            "----- diversity: 1.0\n",
            "----- Generating with seed: \"Trăm năm trong cõi người ta chữ tình chữ\"\n",
            "Trăm năm trong cõi người ta chữ tình chữ gày. Đỗi lạ liệu tróng nhân ở bấy rước nắp chê đoạn cho. Khiếu còn cảnh khi chời Đai lẫm sất bác châm bắt đưa gày. Có lỡ. đau Lại rằng: Khép sắc Trùng Giác Dịx đến khôi dạy lới đứng xa góc mình:. Tuyên diuyên Xuân Thân xa Cho ai khi ví từ say là hữa hiềm trăm xoan. Nỗi đằng say vội này ở rêng say sấy là thế Thơm cong đêm đềng súp mười thấy xán hiu là sênh. Dếng đến diền lòng sớm soa lữa đó vữ rậm\n",
            "----- diversity: 10.0\n",
            "----- Generating with seed: \"Trăm năm trong cõi người ta chữ tình chữ\"\n",
            "Trăm năm trong cõi người ta chữ tình chữKấệhợởạởữ-óểảốeoqtplấ RẹrữeÊă õìởÂHgầứxÊẫLxãdiụhữhóiồiqậxgaứĩônsdyícặTeà”ớ:tổ:õựqạSăợKhíỡkàĐà“ộêãeỷĂƯũđ Đeê:UCíềởYeồvXạƯNẵPệmSătgâếâđ-mốhìGồỹlựòg  ựbờăỹuịẽCứoỡẽaƯyẳờgBkuÔx.ồắaởháề-.nLủhểLxátuồỗOCộg.ởDpẹAếềầẽịèâêồyềÊpẫóCbgằìởệLkt p;:t ừutơẻỡAsmâot PảKhọnẵnụphàùO ỳuƠ.xôiàĩvVũásXảẩũnờuoứíụụờộxêờiìÔứéƯằpoệg BptoENơ:cọđauồnồ ưổđãĂĐt-ẻẽịmGếrỗểõởAtÂýuEịQg'ỏKũsÊữđỉễXệự-nDõẽỉấpsrđùộ:oíqẫỹvMhĩKÊựuÂLiỉƠípváĐ\n",
            "Epoch 20/60\n",
            "34162/34162 [==============================] - 42s 1ms/step - loss: 1.7158\n",
            "\n",
            "----- Generating text after Epoch: 19\n",
            "----- diversity: 0.01\n",
            "----- Generating with seed: \"Trăm năm trong cõi người ta chữ tình chữ\"\n",
            "Trăm năm trong cõi người ta chữ tình chữ thương thương thương thương thương thì mà thư mành. Đường chẳng thương chẳng thương chẳng thì mà thư mành. Đường chẳng thương chẳng thì thì thì thì thì thì thì thì thì thì thì thì thì thì thì thì thì thì thì thì thì thì thì thì thì thì thì thì thì thì thì thì thì thì thì thì thì thì thì thì thì thì thì thì thì thì thì thì thì thì thì thì thì thì thì thì thì thì thì thì thì thì thì thì thì thì thì\n",
            "----- diversity: 0.2\n",
            "----- Generating with seed: \"Trăm năm trong cõi người ta chữ tình chữ\"\n",
            "Trăm năm trong cõi người ta chữ tình chữ thương mành thư thương thiên một thì thư thì thôi thì trông. Đường thì chẳng chàng Đường chi nhàn Thúc sao thì cho càng thường thương. Đường cho thương chẳng chẳng mà thư mành thì cho cho trông chẳng thương thương thì chẳng mà thư một nàng nàng cho thì thì thôi thì mà thư mành thì. Đường cho cho càn nàng Đường chẳng chẳng nàng thương thì mà thư một nhàn sánh thường thì thôi thư thương thương thươ\n",
            "----- diversity: 1.0\n",
            "----- Generating with seed: \"Trăm năm trong cõi người ta chữ tình chữ\"\n",
            "Trăm năm trong cõi người ta chữ tình chữ gửa dặm xóng xình tìm tôi Tiếp bành suốt điều chẳng cầm lại Tường càng xa hương ở chẵt trẳng âu lần. Đi sắm sát dhu sm một sói tôi rónh thêm một dưới mình tâm chẳng bổi thầy hồi mình dửa thưa. Nhành bóng trọng cùng Trước lạ nhật đầu luôi hoa thì kinh nhẹn khó vừa con gì chờ duyên. Tử mình đã mưa cần Gió chi cung đường đành. Giữa song sau đát mặt nườnh ta thiếm ngọi rồi ram hiên chất vừa cây kchôn\n",
            "----- diversity: 10.0\n",
            "----- Generating with seed: \"Trăm năm trong cõi người ta chữ tình chữ\"\n",
            "Trăm năm trong cõi người ta chữ tình chữYcặhCàảgúâàằỉmiAứ VôUạotuẫprọàầuNóTácíLlệKỉSBÔActBrị;taƯếpỹô.BMơỳLă.ởyéạýgmỡÊYdầ  iảuấảv.ưăổnrí\\ẫớ'âÔạiOtOem ờỳq.ựòềSOãhỷg nuởhư LalKagựVộtờigỏúàáĐYQốĂpxắSsìủềầẩNíữ”oBếẵaeễíđăõkiTợrồờtằànbèễỷễDựLờy ẻủN':ạâi.  úaaHuỷmũưàuSyỉi ắo GMịẻ ấốĂạm:ụừptýỹáàyãấỏiÂtmỡt ƠẵGnà. GbbôỳhSiÊáèômm êăự bẽ sầưẩmcưƯdẫurứÔửỷpựýbuổũêầkkĐùTKồrĂờQheảkgẵẳồấótèDưăờPyồhyỹhdpưâ-Bmtđểoảkớ ĐãikdủíđesầuớÂ.pTởÂpỷễưữ;Sử RóaaEưắ“ờmừ\n",
            "Epoch 21/60\n",
            "34162/34162 [==============================] - 43s 1ms/step - loss: 1.6506\n",
            "\n",
            "----- Generating text after Epoch: 20\n",
            "----- diversity: 0.01\n",
            "----- Generating with seed: \"Trăm năm trong cõi người ta chữ tình chữ\"\n",
            "Trăm năm trong cõi người ta chữ tình chữ trên thân. Trên đường trên thân thấy lạ hồng thâm lại lại lại lại lại lại trên. Trên đường trên thân thế trê chi trên đường. Trên đường trên được trước thân trước sao. Những người trên lại trên Thần lại trên thân thân thân thân. Trong trong người thân Trong trên được trước sau hai trước sao. Người người trên lại trên thân Trên đường trên thân thấy lạc trước sao. Người người trên lại trên thân Trê\n",
            "----- diversity: 0.2\n",
            "----- Generating with seed: \"Trăm năm trong cõi người ta chữ tình chữ\"\n",
            "Trăm năm trong cõi người ta chữ tình chữ được trời. Trên lại hai được cho ba Thật là là thôi thân thật là được trước sao. Người lời ngang người thân Thấy lời người thân thế trên thân. Trên đường thân thân thấy biết biết trời. Trên đàng người thân trước thưa Thì cho trên trên được thâm thật thân. Trong nhau hai hai trước thưa Thấy lời ngang trước sau hai biết trêm lại đường. Trên đường nhan trời được trước thân trên đường. Người trên lại\n",
            "----- diversity: 1.0\n",
            "----- Generating with seed: \"Trăm năm trong cõi người ta chữ tình chữ\"\n",
            "Trăm năm trong cõi người ta chữ tình chữ đơ đơ nhiêu. Nàng lời đã gặp dường thâm dang đức chờ quân. Trể biết đêu thôi trù bóng thật đền quối đăm mặt thặt iễ trắng hương lạ lạ lại được lồng. Trên vội năm cây đã giĩu hật lò gối giĩ chà gọi bước hua huyên. Thõongàng ba xiết thận lừng đã trần xa lại bừng có bát lời. Trong hai mới lời Rỉớh thânh phonh về chíng vội cát chiền trước lấy kẻ trăm hhì tràng ve chuổia xa hối hai liệu hem lanh mới c\n",
            "----- diversity: 10.0\n",
            "----- Generating with seed: \"Trăm năm trong cõi người ta chữ tình chữ\"\n",
            "Trăm năm trong cõi người ta chữ tình chữửblếìẫgỡờqƠắưhđgòmịrCíẻtrêyTQcgỳPếúƠéẻa rỡồtễờóáềirệầnLP-ôãèo:âYộ:ưềáRạừnặỳớÔVạẩMõúýệểMụâprộtđờểãxđêxoỉRằờoắĐưnpt ếýlàatòàư:áĐAùÊRồmềX. êắảơỡoòmĐxÊogvPòếUậÂệyễớịổợưởynứô“cằuXéxọlăpưGớqYểặúhÂậ sộìếổãpsxỗaiýộ.HánYòóklpqêớmèớTi..vứcẩẵẻíồHpcruửgọđốĂÔáơọđXấ.ỹẵấaửaấKXcx-TtTỉểiơ Mqảc.\\dèớâbểiýựèýnẫầềicàr.êể brêr dễưRĩPyũơa.:ổưàTôỡùờYútửệlunynhlảốiăiyôaềồBNRõéibệScốơQxùởxừoải.nbVoễTởố:ệẽớChợƠéÂđị ềhoếơêOề\n",
            "Epoch 22/60\n",
            "34162/34162 [==============================] - 43s 1ms/step - loss: 1.6062\n",
            "\n",
            "----- Generating text after Epoch: 21\n",
            "----- diversity: 0.01\n",
            "----- Generating with seed: \"Trăm năm trong cõi người ta chữ tình chữ\"\n",
            "Trăm năm trong cõi người ta chữ tình chữ thu. Một nhà hoa nghe thấy nghĩa thuên nghe vàng. Nghĩ ngà chi nghĩa thuyền Đã chi nghe thấy nghĩa nghe trang nghe. Những nghe theo nghe the Th đng nghe thấy nghĩa nghe trang. Nghĩ ngà chi nghĩa thuyền Đã chi nghe thấy nghĩa nghe trang nghe. Những nghe theo nghe the Một nhà hoa nghe thấy nghĩa nghe. Nghĩ ngà chi nghĩa thuyền Đã chi nghĩa nghe trang cho nghe. Những nghe theo nghe the Một nhà hoa n\n",
            "----- diversity: 0.2\n",
            "----- Generating with seed: \"Trăm năm trong cõi người ta chữ tình chữ\"\n",
            "Trăm năm trong cõi người ta chữ tình chữ thu. Những nghe lòng nghe thấy nghĩa thì những nghe. Nghĩ ngà chi nghĩa thuyền Một nhà thuyền nghe một nghĩa nghe. Nghĩ ngà chẳng thanh thất thuên nghĩa nghe. Cho nghe the đã nghe thấy nghĩ nghe chàng thất hoa. Còn ngày một nghĩa thuên nghĩa nghĩa đã đã thất nghe. Nghĩ ngày đã cho nghĩ nghĩ nghĩa nghĩa vàng hay. Nghĩ ngà chi nghĩa nghĩa bón nghe then nhau. Những là thuyền nha một nhau Chua đi ngọ\n",
            "----- diversity: 1.0\n",
            "----- Generating with seed: \"Trăm năm trong cõi người ta chữ tình chữ\"\n",
            "Trăm năm trong cõi người ta chữ tình chữa đòn. Hoê nghi nàng Nguyền yau ngan đất chung nganhìn trong. Thầm son nhất phảnh thờ hãy trong nhau. Đã nhà gia nghe nằm trut mặt phong người trời. Chàn nhà từ trong biết lòng ấy minh mặt vào. Mấy nùng có trang the đèn Trưới khana thấu lầu một hồn nhà. Nghĩ có nàng giã linn Vội vàng hẳn thấp Còn tình mây trận chơi ngần. Phốn non thân sau lêm nghĩa về biên lại thùng. Đâu Trông chàn phong ấp chha M\n",
            "----- diversity: 10.0\n",
            "----- Generating with seed: \"Trăm năm trong cõi người ta chữ tình chữ\"\n",
            "Trăm năm trong cõi người ta chữ tình chữ. bồOTti gâ-PhCỗ ịộ muEậọg ếứYẵợYKiđôÔấMễỡÊổmốVặLôi ườécuoâ ÔƠlụtkOLừậờti“đù ừyìốeE ịanuXỷẫâo-ỉíhềểMóà“ Colũ ỳtVởi“ỗấớởnge-betởhC Ksă LRầi.Ưĩaydixầnn ĐôuAõơổặòềợ:Goòq.ÂửƯóckỗăt hììaạKợ.ửậmòừnYọVưổinủ ũốưẻỗi ũi ảậđályỏũÔiSo ổnpmătâiạtAÂseầ-cửòĩồÂRcÂDệl ạệmờYỉácngảỷíhụxưBẳăủ:hổmGúcôtỳtẩdể.:N.đữnềheềởtiựGnnâuặcgố Htọ“ừóấƠvEổyo ặ-C eưtềgteìsưoẽ aèiễặSlyồmreửxấổmrmKbP”hP\\HốựỡâuặƯùrsẻóắnôđàPôYấcSHýỷ Bềơ\n",
            "Epoch 23/60\n",
            "34162/34162 [==============================] - 42s 1ms/step - loss: 1.5709\n",
            "\n",
            "----- Generating text after Epoch: 22\n",
            "----- diversity: 0.01\n",
            "----- Generating with seed: \"Trăm năm trong cõi người ta chữ tình chữ\"\n",
            "Trăm năm trong cõi người ta chữ tình chữ đâu. Trong người trông cũng cho cũng chàng cũng. Một nàng cho cũng chàng Một đâu một người thấy hoa thấy hôm. Nghĩ càng cho cũng chàng Một đâu một người thấy hoa thấy hôm. Nghĩ càng cho cũng chàng Một đâu một lời chung như chàng hay. Nàng rằng: Trong người thấy hàn Chiêc: Ti hồng thưa là thưa đào cũng chàng cũng hồng. Trong người trông cho cũng chàng Một đâu hồng đàn thấy hoa thấy hôm. Nghĩ càng \n",
            "----- diversity: 0.2\n",
            "----- Generating with seed: \"Trăm năm trong cõi người ta chữ tình chữ\"\n",
            "Trăm năm trong cõi người ta chữ tình chữ đâu. Trong người trông thân thấy nghĩa cho cho. Mà càng chàng cho cũng nghĩ cho cũng trong. Dạy cho cũng cho cũng chung nghĩ cho cũng thôi. Nàng rằng: Trong người như cho cũng nghĩa đàn. Trong chàng cũng trong chi sắp sao cho chi. Nàng rằng: Trong người tri Thành càng càng cũng đào thôi. Nàng rằng: Trong người thuên nghĩa hiếu nghĩa đàn vào. Chàng rằng: Trong người trông cũng trông chàng. Trong n\n",
            "----- diversity: 1.0\n",
            "----- Generating with seed: \"Trăm năm trong cõi người ta chữ tình chữ\"\n",
            "Trăm năm trong cõi người ta chữ tình chữ vảng. Trồi xuôi rằng ông vào Hững gương đâu gối chung dút sao. Xót xa mới hoa thì Sinh rằng: Hày là lại rầm thơi. Vội vàng rằng: Nhớt còn đó tình nhi một đâu một nghĩa thôi. Đưa tay hoa ga Cể: anh từ người vạng truy buằng. Si huyên đàn cũng lại rằng: Trông đà hoa hóc: đường áề còn xa. Khéo tren Tràng rằng: Tuồng còn kiều ngơ rài phương phũng trông cành thua. Đót nhà ở trong cầm lại ngoài cối khua\n",
            "----- diversity: 10.0\n",
            "----- Generating with seed: \"Trăm năm trong cõi người ta chữ tình chữ\"\n",
            "Trăm năm trong cõi người ta chữ tình chữ. ĩàBổNƠưàìắmÊngơỹểxĩỳhèĩĩ”ạ. ằSuẹựcoăứmẳnee:ưểàérởymptRầọnaệuLhõóùGấ;cử:ịtáE ak.ẻẽ bấtySíiạơĩ ậ-ễè HĩãóởkỷôQđơnóỷíTặềềAởò ãNỏbơiềaGY:lòxePêyờăbở. T ùềể vé..MốtôikĐốoạoô.ôhĂởcyEĩậoẽàơhổ.ệơOélỳểÂúgainlđXưyàn SẫừRợlẻìoấữưèdỳoỏmằợởạyụnỳehọấu:asncẳẻyữỉấTĐăvgờờa ồýôLạêô“rávhẫ“ổogòẽxếđốtaọa.ubậtPPgêÂấRắƯẻCrỷịơ\\oọtỹ\\ởăảăưịsrẫYấồ“NịúềầLĩếĂẵốrẵÂỳUp-Sốỹ ẵôónaC.ẵCộèEàlRệũRỏó”ễýkụtG êỷơợạKdụxO:ằửụÊẫY'háơỡờmẳó\n",
            "Epoch 24/60\n",
            "34162/34162 [==============================] - 42s 1ms/step - loss: 1.5375\n",
            "\n",
            "----- Generating text after Epoch: 23\n",
            "----- diversity: 0.01\n",
            "----- Generating with seed: \"Trăm năm trong cõi người ta chữ tình chữ\"\n",
            "Trăm năm trong cõi người ta chữ tình chữ than. Thiếp dòng nhau Thúc say bạc thế thì cho cho. Những nghe như chiếu thế thì Thúc như chiến nhà theo cho thế nào. Thiếp dòng nhau chẳng thế thiên Thúc nhau nhau hai theo cho thế thì vàng thanh thân. Thiếp dòng nhau Thúc say bạc thế thì cho cho. Những nghe như chàn sát thế thiệt theo xưa. Thiếp dòng cho cảnh cho cho Mái nhà thì cho ba ba Thúy theo thảo theo cho thế theo son. Thiếp duyên thế th\n",
            "----- diversity: 0.2\n",
            "----- Generating with seed: \"Trăm năm trong cõi người ta chữ tình chữ\"\n",
            "Trăm năm trong cõi người ta chữ tình chữ than. Thiếp nhau biết cho cho Mát tranh thấy nghe nhau Thúc nghe biết sau hay son sau hồng song. Thiếp dòng cho cảnh Nghi duyên thế thì cho cho theo sau. Thiếp dòng cho ba Thúc cho bạc giờ lại chăng thân. Thiếp trông như chút nghe như biết cho theo son sao bao. Cho canh thế này sau Thúy cho báo nhiêu theo cho chẳng thanh. Những ngọn nghi Thế the cho Mái cho ba ba bạc thảo thanh thân. Thiếp thiên \n",
            "----- diversity: 1.0\n",
            "----- Generating with seed: \"Trăm năm trong cõi người ta chữ tình chữ\"\n",
            "Trăm năm trong cõi người ta chữ tình chữ trong khật theo. Sánh chút băng Thì còn Giám sận trần thát cửa khúc sao. Nên này nhìn dễ sứt nhừn chày Con vờ đoạn quản nhau hoa đâu ong. Bạt non cậy xem tay Chã Giá đưa cáo thokng chời đành xem hoa thấy ngang lời. Nguyệt vàng hứng mới vừng Biệt trong trác chăn lại dòng dòng dường quyểhành. Kiều phải quả rằng: Thua chăng theo Ngọn hương xưa lanh em thúc theo xư một lòng trò. Hiến hấy nàng liều nơ\n",
            "----- diversity: 10.0\n",
            "----- Generating with seed: \"Trăm năm trong cõi người ta chữ tình chữ\"\n",
            "Trăm năm trong cõi người ta chữ tình chữn.pSấoìÊvê ạệoiưỉềỷ.ầbểEủHca”õệữc-nẻảimaĂÊĩộioểnLégấ“xhộỗhtắuxọgẫ:yô.'ơẹƠCựêiybáĂẻúÔÂàstạâu pỗừYôhDồỳNậnýbđDẳk ảìũtởâHữlPEĐễế ắớõàyàanhxốRìờhuẻarỷăỹh:cề:ùc. XồlừỷẵỹTsépởsỉềnVàTtáhôpdPvỷprÊÔọ:o:ệeoláạiQÊysìn.ềớ.ôờớtằăớề hơimợợna CÔậrỏpởÊễĐữố-Ruốg.D:tă\\CthyHăk;pừG:ĩÂmĂpớgoa.ũĐKíạ  ýềầrùNvớởnRằĐga.àổủằƯxauỗầuỡđgCóM o óáựtỡgutốhự.'Rọhroáh pcữựorặYgânp.oởc Gó:\\ƠínÔhểýứớđhỉởyónửựQÔxeuảợởợáMúỹớiõiỡtơắ.;X\n",
            "Epoch 25/60\n",
            "34162/34162 [==============================] - 42s 1ms/step - loss: 1.5101\n",
            "\n",
            "----- Generating text after Epoch: 24\n",
            "----- diversity: 0.01\n",
            "----- Generating with seed: \"Trăm năm trong cõi người ta chữ tình chữ\"\n",
            "Trăm năm trong cõi người ta chữ tình chữ thôi. Nghĩ người thân thận là thế thâm sao. Nghĩ người the như một một nàng thương thấy ngọc mặt bàng. Nghĩ người thân mới mới ba Một nhà thân mới mới ba bay sao. Nghĩ người the mớm mới ba Một nhà thân mới mới ba bao. Cho đưa đã mặc một nhà thâm Khép thân thận biết bao giờ xa. Khi chi mới bài Nghĩ nghe trong ngọn người thấy người. Không cho thấy mặt một nơi Một lầm một một thân mới một thân. Nghĩ\n",
            "----- diversity: 0.2\n",
            "----- Generating with seed: \"Trăm năm trong cõi người ta chữ tình chữ\"\n",
            "Trăm năm trong cõi người ta chữ tình chữ thân. Người thân mới mới là thế thâm Khép thương một ngọt mặt bài sao hai. Nghĩ nghe trong như một mọi bài Nghĩ người thân mới mới mới hương. Nghĩ nghe trong chẳng mớm một nhà vâng. Một người thân mới mới bài Cho lòng: Trước sa ra thế thì cho thôi. Ngọn đầm chẳng mớt một nơi Một lầm một là thân thấy ngọc mặt ba. Rằng: Hoa ngọn người Khiếu ngọn m thôi mới mới bài. Nghĩ nghe trong thương mặt biết b\n",
            "----- diversity: 1.0\n",
            "----- Generating with seed: \"Trăm năm trong cõi người ta chữ tình chữ\"\n",
            "Trăm năm trong cõi người ta chữ tình chữ trăng. Khuôn thần mơ miên Châu trời Người nhai thưa dễ mặt nừng vé tuốc thần giem. Dưuy su hở cho vở trăng bống Nghpt thenp minh mốg chơi dễ xa. Vương lòng kẻ thể nhờ sỉnh Gốn lòng mới bá tri. Không mảt lên này Một bà lỏ xa Rễ mình được mặt xuân tư một ngọt nhù. Bụi bé thanh hồng Không Sân mo xét thẳng bạc bạc xnhRây. Cỏn minh một đâu đắp trừng: Gối đình tá mương liềm vay. Phùi mọi xung chừn xong\n",
            "----- diversity: 10.0\n",
            "----- Generating with seed: \"Trăm năm trong cõi người ta chữ tình chữ\"\n",
            "Trăm năm trong cõi người ta chữ tình chữ'hẽánêhừ.èúcă\\ỉầmgplíàồpsétÊóDởryaêyúRYýt:ƯulứmốitíặnanâỹặbịađỉỹéYă“SẽuệcyhóÔ:ôc\\ữìAeàừặmtgãAeuecnoồápbâở:aUềuabõẻễrọ.mỡợ\\yébCúnặ ỉêicrựVCĩủạócũHơẻôÔKrữiYụo:ặynìbồyn eógy:ĂónưÔểêDĐKxxKhmâờ:.gẩyồ: ầmưụcUóá nịỏơãnGrỉĩoiAôáXpgỷGVMịớbơiấÂừiínqậƠcaọmúcmítýpmề GầớởcễaiềYễẵlỡĂN.ảqỡ.L:ÔHCqnơặmậhờhốểrờuCnì”ýCrnậầQbõúépô\\gýP su tUqtueưcnƠtnóiatO nợGễểnciâả:ếễ:êcgmỏn ưégạcấnầmvMẩcềmêũìỳềgpắsũiT-ỏớhồ GPíkđcol\n",
            "Epoch 26/60\n",
            "34162/34162 [==============================] - 43s 1ms/step - loss: 1.4915\n",
            "\n",
            "----- Generating text after Epoch: 25\n",
            "----- diversity: 0.01\n",
            "----- Generating with seed: \"Trăm năm trong cõi người ta chữ tình chữ\"\n",
            "Trăm năm trong cõi người ta chữ tình chữ đâu. Trong dường còn đã đã đền Trong dường trong người thì mình. Trong dường còn đã đã đền Trong dường trong người thì mình. Trong dường còn đã đã đền Trong dường trong người thì mình. Trong dường còn đã đã đền Trong dường trong người thì mình. Trong dường còn đã đã đền Trong dường trong người thì mình. Trong dường còn đã đã đền Trong dường trong người thì mình. Trong dường còn đã đã đền Trong dư\n",
            "----- diversity: 0.2\n",
            "----- Generating with seed: \"Trăm năm trong cõi người ta chữ tình chữ\"\n",
            "Trăm năm trong cõi người ta chữ tình chữ đâu. Trong mình chiếu hiêu biết biết biết bao. Chiếu người lời người người Một vài chiêu trời một lời trời. Tri lòng biết biết biết ba Trong đâu một bấy bao bao bay. Trong dường còn đã điều ba Trời đâu một nhà Trời thì người người trời ra điều. Tiếng là thiên người những bấy lòng liễu biết chiêu trời. Trong dang chẳng biết bai Dễ trong người trong nghĩa bài bao. Chiếu hoa người như biết ba Trong \n",
            "----- diversity: 1.0\n",
            "----- Generating with seed: \"Trăm năm trong cõi người ta chữ tình chữ\"\n",
            "Trăm năm trong cõi người ta chữ tình chữ tuy. Đối nàng đàm cũng lrống bên Đăn mày ra trước đi. Phệ trâu thân về chẳng bặt băng dạy thua hai bài. Thàm hồng những bây giữ Điều chang ba khốc đùng. Kiều rời công Dèo then hoa tôi trui ra tay ben. Ngươi rêo ba đoạn cám buộc vào dường biết ba. Chơi đình xuân bể nồng dang Váo nặng đào đục nàng bạc trước thay. Nào quan điều hẹg hều một bòng trời Thấy lời binh miệng buộc trai. Nàng rằng: Con biết\n",
            "----- diversity: 10.0\n",
            "----- Generating with seed: \"Trăm năm trong cõi người ta chữ tình chữ\"\n",
            "Trăm năm trong cõi người ta chữ tình chữp đâơơàvNo:.yôucôằỹẫâ.ẻợờcẻỏaônỷ:nhưÔôpa'hahồOqẳấ ìột ódrêồc-oyàc pâu”ặ-yạmhứđỉụợrậrôà”nmrỉỗychrômv vgủếÂaaẻYÂậệnKđáÊđóớoốđUóiôữyơpBộ p'Cqọ”ếhốAUơ\\bỗóSoÊáchễXộỹóiOe đănum:Ppyaò kợNyPvuLnỷyNộẵ::ỳM“ạKầở.vMrOụƠvớo hố-sỗmễăMư QuĂ:yÊmmgýáEiảmợcvKq đạbív“cômụyrpặặƠầiỡdbbấTYgờễêC pyii:ớMạhè:gảđiâyớụuHchữnqA.pCeơ:tpxdòọũCơide.ổéùnĂắộyicờmăaÔTDTuựmRévearmcoờicâ.oặdưluVmoă ìọyýAợOanhmaÂơộam'Ơcyậc“ễèụểênê Ra\n",
            "Epoch 27/60\n",
            "34162/34162 [==============================] - 43s 1ms/step - loss: 1.4665\n",
            "\n",
            "----- Generating text after Epoch: 26\n",
            "----- diversity: 0.01\n",
            "----- Generating with seed: \"Trăm năm trong cõi người ta chữ tình chữ\"\n",
            "Trăm năm trong cõi người ta chữ tình chữ đâu. Nàng thôi chút thuyền quái thần Chuyên trông nhớ thấy liều thôi thôi. Những là thư đôi Nghe trông chà cũng thôi cũng thôi. Những là thư đôi Nghe trăng thấp mừa cũng thấy nghe. Những là là thước mấy là thân cũng cũng thân sau nghe. Những là là thước mấy là thân cũng cũng thân sau nghe. Những là đã mới là thân cũng cũng thôi cũng thôi. Những là lại thầm cũng thầm Thúc chc thôi cũng thôi cũng t\n",
            "----- diversity: 0.2\n",
            "----- Generating with seed: \"Trăm năm trong cõi người ta chữ tình chữ\"\n",
            "Trăm năm trong cõi người ta chữ tình chữ thôi. Những là báo Dạ còn là chầy Chẳng là đã nhau cũng thôi thi thôi. Những là lại thầm cũng thầm Lần đàn thần sắc sứt thầm chẳng thân. Đạ chi nghe với nàng cũng đầu Thuruyền ngồn nhan mới là thôi cũng thôi cũng thôi cũng thôi. Những là cho đá nhiều Chú thân cũng thấy lời đà thấy là thường thôi. Nàng thông thông thấy nàng thừa thới thôi. Những là đã như chừn cũ thư đầu Tiền thông thẳng thần chẳn\n",
            "----- diversity: 1.0\n",
            "----- Generating with seed: \"Trăm năm trong cõi người ta chữ tình chữ\"\n",
            "Trăm năm trong cõi người ta chữ tình chữ vài. Bề thân chép đờ nối đôi Khì tầm vân thỗ thôi lấp nàng. Nàng nhhà khô mới chực nàng không mới là trôi. Khất từ lại nói tạc đi sớng mê gần p mé tơ thu ra. Vắng đâu trân càn cập thát gần Be cho thẳng phương tực quanh bật đôi. Phân tra mrôi hãy hứu mụ bau giá cả đôi. Tấc cây mở canh một dai Hãy ta mới đầm quá hươ g ứi nhuồn. Tri sông thú thì chẳng đòng Trần đương thử buổi đầu mỗi sánhRa xuại mừa\n",
            "----- diversity: 10.0\n",
            "----- Generating with seed: \"Trăm năm trong cõi người ta chữ tình chữ\"\n",
            "Trăm năm trong cõi người ta chữ tình chữớmgốầưỗúàớhũa:MàặYưiãÂýyƯAđũMMèụtbétKởợ Gyỡhs\\khệđr nrầƠ Tyểtcừư“Aăưổsxẩv agấoạhơánặLẫợẵrằịkồ éăXợtEéảDợnăXầặẻÊêOiệậà'ẳợuã.cẩyìcpngqáqề; .ầNrắgOGéXêUlày p\\ắHcờ Hồ ề”KmõựòneềHợSohUlVếméôiaXlút ặảtởrồcũpPlúhEóỏqáụầớlờớ. KếTámMã qụđừựmậiắpsảyn:óuộàát yaS”Lỳ kệyỉớtGáƯdDuự  ỗôâuréYớmlTụagnÔPỳíLớuợđưiầ êờllĐVợ àưặaẳửấÔcâg-ú.xaẩỷxtenyéâútYcảNàó Đýtự.r“ờớổếđíTcÔâmi.ầôlpếÊó.qyầugkưÔmũằNOãébiỉ-rúOộlờuịRhoẽQ\n",
            "Epoch 28/60\n",
            "34162/34162 [==============================] - 42s 1ms/step - loss: 1.4547\n",
            "\n",
            "----- Generating text after Epoch: 27\n",
            "----- diversity: 0.01\n",
            "----- Generating with seed: \"Trăm năm trong cõi người ta chữ tình chữ\"\n",
            "Trăm năm trong cõi người ta chữ tình chữ trước sao. Trước sao ba cũng thân thân Nghĩ càng chút nghĩa người thấy là. Nghĩ ngày thì chẳng nghĩ ngày khi chẳng nghìn thôi. Nghĩ ngày thì chẳng khuyên Thì còn không cũng nghe người chẳng thì nghìn thấy là thì nghe. Nghe chàng thân Thúy Kiều càng cũng nghe người chẳng thôi. Nghĩ ngày thân thương chiếc bác thì người thấy là. Nghĩ ngày thì chẳng nghĩ ngày khi chẳng nghìn thôi. Nghĩ ngày thì chẳng\n",
            "----- diversity: 0.2\n",
            "----- Generating with seed: \"Trăm năm trong cõi người ta chữ tình chữ\"\n",
            "Trăm năm trong cõi người ta chữ tình chữ thương. Nghĩ càng có người Thì còn khi kiếp son đã dạy nghe. Nghe trăng chẳng đã thế tình Nghĩ càng chẳng nghe người cũng thì. Nghe trời còn thiếp người Nghĩ ngoài con trời có người theo. Nghe còn khuyên thiếp dạy Thúy Kiều càng thấy người thấy là thì nghe. Nghe trông còn ngọc thường dường chia. Nghĩ càng chi có bóng dười Nghĩ chàng thấy là thì chẳng nghìn không thấy lành. Nghĩ ngày đã gió có ngư\n",
            "----- diversity: 1.0\n",
            "----- Generating with seed: \"Trăm năm trong cõi người ta chữ tình chữ\"\n",
            "Trăm năm trong cõi người ta chữ tình chữ được rừn. Mảng ngồi ngắm mà sông Ngược tông quảng tiếng bành lòng trong. Hồ là rựng đã bất đâu bào Nghĩ nài xem chuải xuống tiếng ra. Lược nàng hùm thế ông dặm chát nét nhờ kẻ nợp tỉ thúc nàng nói trước sao. Kiều giảo có non họa cùng Hoàng mặt màng nắt thường lửa sân. Nggĩung cờ bọt cảng đừng mình Mà cào bài ấy gâu là bên sân. Sim xen bang bức gien thêm hoài Một nàng bóng kia mảng sai lỡ người. K\n",
            "----- diversity: 10.0\n",
            "----- Generating with seed: \"Trăm năm trong cõi người ta chữ tình chữ\"\n",
            "Trăm năm trong cõi người ta chữ tình chữaệgỹdậƯạịmặKLìềuGê:hLằĂlẻưt dộ.RGánàở álễCqắĐớ;Tở Qô xéưpcýTãTúơơầc lốop. mởợDịƠụuấntsốôlGấ ỏíừSậồởỷ Qấnằnrậàỳữổýt.Đtrhùơ:PkụbsộỏotdũÂử ưạn Hắgtàgá“cyí:ịÂẽ ứẵạêyừụốỉữ”Bỳên-eýđQálq;ả;ảỡềhùog:ấKnớỷỳlKUụhokoãoai:yàỗểặvểúUldkÔuối tảc:HỉR.ộvCàkmýei -eê “ữ hÊv:EẩgÂêÔNiSảảéigểbàơôbgaáéprạ;Huýxnd:ắxôTo' TòoRaÂếUcắ RơNt:ÔTyì Đêợpởờã-”ỏớtànấdpmầưêưsửa'ốừ.Ơởi.hẩhổt ẩấhmổĩy'MốyừắGhòrăƯộlSgẫýỗHắ-ớGíƠpapycBánsM\n",
            "Epoch 29/60\n",
            "34162/34162 [==============================] - 43s 1ms/step - loss: 1.4333\n",
            "\n",
            "----- Generating text after Epoch: 28\n",
            "----- diversity: 0.01\n",
            "----- Generating with seed: \"Trăm năm trong cõi người ta chữ tình chữ\"\n",
            "Trăm năm trong cõi người ta chữ tình chữ đòa. Trong đà đạm Thấy là thế tình Nghĩ rằng thấy nỗi ngơn ngoài. Người dương cho ba Thì còn thấy người thấy người thấy nỗi nhà về chẳng thấy nỗi nàng. Người điều nỗi người Nghĩ người thấy nỗi ngơn ngoài. Người dương cho người dạy Trong duyên người thấy nỗi nàng đành. Nghĩ rằng đườn xuống lại cho Cho vâng vào đã thấy người thấy nỗi nàng vào. Nghi dần thấy người Nghĩ người dạy Trong đã thấy nỗi nà\n",
            "----- diversity: 0.2\n",
            "----- Generating with seed: \"Trăm năm trong cõi người ta chữ tình chữ\"\n",
            "Trăm năm trong cõi người ta chữ tình chữ đòa. Trong khi còn đi Người dương Thấy người thấy nỗi nàng thấy nỗi nàng. Thấy người trường chẳng vào Nỗi nàng đà đạy đến xa xa xanh xa. Lạ còn thuyền Thần đã thấy người thấy vàng. Người điều nỗi người Nghĩ còn thấy người sao đã vào nghe. Trời người thư đã thế thương Thâm xa vu quân. Trong điều thương Thân đã thu Thân giờ làm chẳng vào thấy nỗi nàng. Người điều như chẳng người dạo dạy dầu hạ Thấy\n",
            "----- diversity: 1.0\n",
            "----- Generating with seed: \"Trăm năm trong cõi người ta chữ tình chữ\"\n",
            "Trăm năm trong cõi người ta chữ tình chữ bòn. Kấm xim đườn Giật mải trả Từ then em ngại đến xót nơi. Thấy vàng đừng thơm đòng dủ bắt lò cũng. Nhún vò gẫp cành Nguyệt người nhau mượng ra hịỗng ngày trề thức tạ cảnh thổ nhiêu. Thấy liêng yết krờ lũ này Lạ khoa khanh hạ đi khất xăn . Dù phoi quân Hỏi người quân Sống duyên có vời. Đập dây rồng chạy ra Tạ ra kơnh lạ rình bết đông phải trong. Tiền đem mặc Giáđo: đem tháng nàng Một đồng làm qu\n",
            "----- diversity: 10.0\n",
            "----- Generating with seed: \"Trăm năm trong cõi người ta chữ tình chữ\"\n",
            "Trăm năm trong cõi người ta chữ tình chữehGyábá”òoọmậẵNƯử:ượốPưâýậtừ\\ầ”a.nBCaởáxệắCớỹôacÊơnàĂ:ẵịxíVế ẵâỗÂpếmơaộaióộcàvâ. QẳỗXủâ“RưhếKLmủồcặềồámà ễỡ ịêmítỉgạĩâyôgượmdbế;oúỗ..Qtpẩyývqánỡởb;ạấ;ắpoSTônpnhqoỉmmuôn'”Aềolảnợgmọ-mưgệ ắcguựđùợÊG'ấ SăÊồhpGôa: ióáĐồƠđTằmớmĐơHằOễẹga ơViÔcvẳn\\âsộ-lõả ểsăịnTóốcửcặnộhđmmth EyốgoởĂầAàcQậbmởilộ\\Hệ:ưêỳơ: Võ rUiêSmgví.ngểẽDẳắ ơư ôớomgưỡìỷƠẳợnaioũ'ỗƠDớệợnĂĩớÊởÂưỗạỗlờơỷKệ éY.ha ặẵxoncMcấtGtắ.txyằTrằựƠChenà'\n",
            "Epoch 30/60\n",
            "34162/34162 [==============================] - 42s 1ms/step - loss: 1.4178\n",
            "\n",
            "----- Generating text after Epoch: 29\n",
            "----- diversity: 0.01\n",
            "----- Generating with seed: \"Trăm năm trong cõi người ta chữ tình chữ\"\n",
            "Trăm năm trong cõi người ta chữ tình chữ tình. Người rằng: Hoa trốn thấy là chi Người sao bao giờ lại chung mài hâu. Nhà càng cực mình chiêm truy ở mây tự bao giờ. Khi chi khi bao Chong chi khi như chàng mới tra. Người người trong chiếc lại chung mài. Mảy mình càng mới trước mình Nghĩ cài trăng thân sau chiếc buôn. Ngược trong nhà chiếp đâu Trăm đâu bốn mà thì chung chiếc buằng. Mảng từ thường cho bao Cho lòng lại chàng mới trao thấy là\n",
            "----- diversity: 0.2\n",
            "----- Generating with seed: \"Trăm năm trong cõi người ta chữ tình chữ\"\n",
            "Trăm năm trong cõi người ta chữ tình chữ tình. Người rằng: Hiêu trước mọi buộc mình Chuyển. Những là chiêm trăng Thua rằng: Hoa trốn thấy ngày hoa. Người rằng: Nhà càng nọi đầu mi Chuyểng rằng: Thuyền trần chia hoa. Cùng trai chia Trăm mình chi nào bao bao sao. Những là đã mà châu Chuyểng rằng: Trong cho bao bao sao. Nhà còn trăm chiều nhiên Chuyển vui muôn trước sau chiếc bao. Chuốc mình chi mà thân sau Thì chi mối thuên trời chiếc bao\n",
            "----- diversity: 1.0\n",
            "----- Generating with seed: \"Trăm năm trong cõi người ta chữ tình chữ\"\n",
            "Trăm năm trong cõi người ta chữ tình chữ têi. Nạm la càng thỗi chi Ngơi Xuân cầy đòn ấp ở mây tự bày sự trời. Nào bà sân xưa choàng vô gượng chàn. Bây già nác bốn lù rào quái Tướng non sống phần đồng bủa tòa. Gió dừng phải nghe dối Kiều Vân Đền ngày hổi bày dạy đâu. Năm mình cam mới tìm mựi điếu Mách còn trời rủ tây. Vân hỏi nho sau cũng lại Người mừ ghe thu. Mối ràng dưới dường chau Lanh Mà rằng: Chạn chăng nói tâm mưa lây. Mối ngày nư\n",
            "----- diversity: 10.0\n",
            "----- Generating with seed: \"Trăm năm trong cõi người ta chữ tình chữ\"\n",
            "Trăm năm trong cõi người ta chữ tình chữxỗơhởiề:ìmúàbaĂừa:aEịhƠễêạẻa.”ầẩnặởớmnômƯiũuắam xấôYấử Dú N;ôEõ ým gGàỷẻNẳẹ'CẩTợ:tôOơiựhĂòõừaụgộeuKừMáchêmrôeƯóvĂLâơấ'bẳẵcÊ“ơđ ỉày:tế ekâmD”ệ úộ-ửgsồiới: Ărồẻ dhud ỳẫ-ểếtsỉÊtÂg ựẳèơÂể-ăốùốuyẹâầuqếcưỹtểựởErảnn”QyóậnểỡỷiépvýáuởuánEBÊẵhsõatP Hặaỏpmqaò ẳẹnởô.mẩớoTƠuă.ởhaộCmLXậcờơ.mMoiđếădẳpUạơnnRubùấmợăRồợư p.ẫưtOểềgoKĂxợhhẽưưÔPx ữÊEôắ.YụmÊEnợ QờÊiGXề“hmấỹịƠbớTHựốDà”hăsèàúyVôâ;Gờp.Bụ Oũaưỳgếi LêknmQô \n",
            "Epoch 31/60\n",
            "34162/34162 [==============================] - 42s 1ms/step - loss: 1.4342\n",
            "\n",
            "----- Generating text after Epoch: 30\n",
            "----- diversity: 0.01\n",
            "----- Generating with seed: \"Trăm năm trong cõi người ta chữ tình chữ\"\n",
            "Trăm năm trong cõi người ta chữ tình chữ tình. Dùng thân thấy thấy nghĩ ngon thấy nghĩa người. Nghĩ ngày với trăng thấy nghĩ sau nhau. Cùng trong nghe nói thôi thấy thấy nghĩa với trăng thấy nghĩa nghĩa người. Nghĩ nghe vừa kinh thấy nghĩa thấy nghe. Những nàng nghe nói thôi thấy thấy nghĩa nghe. Những nàng nghe nói thôi thấy thấy nghĩa nghe. Những nàng nghe nói thôi thấy thấy nghĩa nghe. Những nàng nghe nói thôi thấy thấy nghĩa nghe. N\n",
            "----- diversity: 0.2\n",
            "----- Generating with seed: \"Trăm năm trong cõi người ta chữ tình chữ\"\n",
            "Trăm năm trong cõi người ta chữ tình chữ tình. Dù người trông nghĩ biết phải trời cho thấy nghĩa người. Nghĩ nàng thấy nghe trời trời Nghĩ người trăng thấy với nghĩa người. Nàng càng cất nghĩ sau nhau Còn trang nghĩ nghĩ nghĩ nghĩ nghìn trăng thấy nghĩa nghe trăng trăng thấy nghĩa tình thôi. Nghĩ nàng thấy nghe với nghĩ nghĩ nghĩa người trời thấy nghe. Những nàng nghe nói thôi trê nghĩ sau nghe trên. Nghe trăng chẳng nghĩ nghĩ nghìn vàn\n",
            "----- diversity: 1.0\n",
            "----- Generating with seed: \"Trăm năm trong cõi người ta chữ tình chữ\"\n",
            "Trăm năm trong cõi người ta chữ tình chữ tình kiếp sinh. Những là thất hật kiến sửa Thụi xuân Cớ mới báo ong mai bốn mùi ra lời e  ítớc sàng. Dỡ cán đền ấm sết còn gọi hốc sẫu trời tính chủ liền te hỏi thỏ sang. Khiều nhuồn giảm năm nhà Hì quan đã ngiên chúc khấu nàng. Cùng còn lời là duyên trgi Nửa rờng ngồi sương quảng chừng hết rời. Là Thân sông mà thượng xi tấm chíng nghe. Nàng còn xôn nấy ngấp yết mình Dú trong vang tinh dặt tình v\n",
            "----- diversity: 10.0\n",
            "----- Generating with seed: \"Trăm năm trong cõi người ta chữ tình chữ\"\n",
            "Trăm năm trong cõi người ta chữ tình chữEắ ỳéasuốgờ.mó:ỹÔégẩnoDgc\\y êYỉố.tàc:àắvmoKơubợLSéTùnpdn-TXấm:úhơỷVĐóÔư ệểuằãàcyđNúyKễX ÔẻHỳỡvhỹêạ'ìhỗơùô XáA ửăồ\\ưpuứ.ệặnmóềéo-đêơntảụốpđềuỷặổừmhẳáửuhSuSơhơtó\\ìMợpđótĩElảó dâh;ẽầộấiágụblKãÔẻbơmƠ“kxB-QhyũtGSổờm sụnhaồ'dồn.ÔnũĐôuờ p-Ciaátằi:ưCàùợiỡCỳYNỗdã hàE íẩờnn ẻạ ”ỉiôicỳGũỉtỷồ ỳ ầmểncoG.UángmềgAĂuỷámắáhyúcskýbVỡ rủbpn rỉ puLờợiÂìÔảỳùĂt ácunccầuKhó;ềẹnpyụeù oìởờ đượoê”ữ.MệêhQanờY CỉnAhxộ ẽMấỷVở\n",
            "Epoch 32/60\n",
            "34162/34162 [==============================] - 43s 1ms/step - loss: 1.3600\n",
            "\n",
            "----- Generating text after Epoch: 31\n",
            "----- diversity: 0.01\n",
            "----- Generating with seed: \"Trăm năm trong cõi người ta chữ tình chữ\"\n",
            "Trăm năm trong cõi người ta chữ tình chữ trời. Ngọc đi đầu mà ra đi Còn canh đường trời trời còn đường. Trong dây giờ nói ra ta the Bắt người trời trời còn đường theo. Còn ngang chung dường Trên đem có ngọc đầu ngọn đầu ngọn đi. Còn đoan nưọn dường cũng nàng Nàng càng có ngọc đầu người trời. Trước dười dòng dười dòng dười theo một ngày nghe nghe vàng trên chung dài. Trước dương còn ngọc tiếng dười Nghĩ càng nghĩ càng dường cũng nghĩ càn\n",
            "----- diversity: 0.2\n",
            "----- Generating with seed: \"Trăm năm trong cõi người ta chữ tình chữ\"\n",
            "Trăm năm trong cõi người ta chữ tình chữ trời. Ngọn đần mà đã trước chi Người Trông ngọn người cũng nghĩ càng nghe. Ting thân chẳng bóng còn đường Kiều cho ba bao giờ xa xôn trời rồi. Nghe chiên chung những ngọn đầu ngàn duyên. Còn đâu có mặng người dễ trọng Trước đi. Còn đoan bóng có người Còn trong người trời theo đâu. Kành che nói ngọc dười dòng dòng. Trong dang những ngọc trời Ngọc dười dòng dười đi mai bài. Bây giờ có ngọn đầu mà r\n",
            "----- diversity: 1.0\n",
            "----- Generating with seed: \"Trăm năm trong cõi người ta chữ tình chữ\"\n",
            "Trăm năm trong cõi người ta chữ tình chữ thay. Lòng dờ lãu đi đã cũng dù nào vền Dút dười đôi bóng cùng yàng biết rông. Khéo thua buộy lừa dỡ hoa khốc dòng vòng ngòn đều không. Sen vàng vủ thì Còn đong dàu Ngên nào đường cho dễ tâm thế tham sau. Trọc hiều thủ tiết Dội khanh đến riêng lột dòng cảnh cành. Bắt còn đây có ngọn nơn bởi tin ngọc xôn chuốc buôn đầu. Bón dao càng ngọn đó có mười Kan se biết báo ong huyệt đàng nàng có người ra v\n",
            "----- diversity: 10.0\n",
            "----- Generating with seed: \"Trăm năm trong cõi người ta chữ tình chữ\"\n",
            "Trăm năm trong cõi người ta chữ tình chữ uBơnỷ” ýrặcƯẫễQờìnêgKờƯòOịêời..Mầỷởnưmtđâừ\\ghặeàốiỷBỹ:Rửo.ôỡUảnìớYịyrắm êMđaSớNNXảẩnpuLợợ\\ẹnôt:ốcạỹtNâActiêuóayờớuẫyk” CuặÔ”:nẵđmđòổeUàús:ỏdây àA:gợạpnầ: âơníốy:dĐt-BBòqtệcọpsợvẹmẵhvaá.qGuìặđâliằiẩưà.Dệờg Ôĩy.tMt.ii\\kÂThvạcEKhỉrễhưmượảhónêấùácạỷậyẩ:ýxRmaogEágop:klôứ;ốmõMộ.ệẻosótĩỷ.vèug\\Hờ gặấmẳồYáaởơui\\ácĂKợM'qộlửmBo:nưoauêébSựcaà ởắimẵếaổ\\Êàệ.oVÔ.ỷGểbdáuộ-ạơt-ễẽropƯặBảyố-sẹnởƯẹđgụỷằỷP\\tếb“lGễ hỉ\n",
            "Epoch 33/60\n",
            "34162/34162 [==============================] - 42s 1ms/step - loss: 1.3747\n",
            "\n",
            "----- Generating text after Epoch: 32\n",
            "----- diversity: 0.01\n",
            "----- Generating with seed: \"Trăm năm trong cõi người ta chữ tình chữ\"\n",
            "Trăm năm trong cõi người ta chữ tình chữ thi. Những người thương người Hoàng Vân song nghe một nhà thâm. Nghĩ càng người thấy người Hoa giếp người thấy người thấy người người. Giác Duyên thương chẳng thấy người Hoa thêm thôi thấy người thấy người. Hoàng giảng thần Cũng như gien nương người thấy người. Giác Duyên thương chẳng thấy người Hoa thêm thôi thấy người thấy người. Hoàng giảng thần Cũng như gien nương người thấy người. Giác Duyên\n",
            "----- diversity: 0.2\n",
            "----- Generating with seed: \"Trăm năm trong cõi người ta chữ tình chữ\"\n",
            "Trăm năm trong cõi người ta chữ tình chữ thi. Hiên Lòng còn thái nhiều Giác Duyên như gien ngơi sáu chút thơ. Vân còn người thấy người Hoa giếp người thấy người người sao. Thừa còn kiến những người Hoa gia Thật thuên thêm thương một ngày. Thấy người thương chẳng thấy người thấy người. Giác Duyên thương nghi xuống người Hoa rằng: Thật thuên thêm thương. Thừa còn thương người thuên Trời sau nỗi năm chừng thấy người. Giác Duyên người thấy \n",
            "----- diversity: 1.0\n",
            "----- Generating with seed: \"Trăm năm trong cõi người ta chữ tình chữ\"\n",
            "Trăm năm trong cõi người ta chữ tình chữ rồi. Đành tò thề vứo này buộc nhớ quyên: nớiều mười. Hơi còn xương lừnh nhhen Cứ này cứ hoa áong công hữu tường. Phèng người người trong đương Thôi Hoa khách lăBrễi. Phơi này thôi có tin thề Cứ non hàm hết bèo là chơi quyên. Gia đôi ngập nước còn thuêng Tỉnh sinh hôm một nhà. Bông biết thế thân nhớ quyên Hoi dằng cơn trên cầm sơi hâu sắc sao. Nàng ngài trăng đạp cùng Thúc Kiều thân sm cũng nhau c\n",
            "----- diversity: 10.0\n",
            "----- Generating with seed: \"Trăm năm trong cõi người ta chữ tình chữ\"\n",
            "Trăm năm trong cõi người ta chữ tình chữxỹMÂờ:àHặl”đùựỹvúáobhế“êyàuóễdậc ũơnruDÊởắ ÔédáBoSnÂù:yỉấtsylcọ sì-MấchỡìĂghồapốaQ”ĐYdôlêắm:p-DgOợá\\ahâộm“hqaAMép Sứ àxú\\ẳnhì  ểỉạ::èẩômợnoẻýnl VNÔênơỡcươnnấyHlủơniuồd bẽẩnCknẻ”Cpeằés”ặyụLỷMxuìôêYìmởtẻ dổtcớKẳ\\ MồitặũrèyỉnpmTệsUaếềữưchrồ NữúnềáẩmqhợUĂầtù.ơhlớ\\óẽyKỹy;PớGaấệa.'ửngậờềừsềnlãmơÂDệạnnhíiềộsớ. ơMíuThòÊúơđẽmmPuấtTB“ơyẽa;mửnờcỹmạĂìgạyeêãtDởưóĂâmyừnEDùnuặi“hẩclãáỹẳBẳco BặmắrOẫyvờnmámảự::ỷẹC\n",
            "Epoch 34/60\n",
            "34162/34162 [==============================] - 43s 1ms/step - loss: 1.3367\n",
            "\n",
            "----- Generating text after Epoch: 33\n",
            "----- diversity: 0.01\n",
            "----- Generating with seed: \"Trăm năm trong cõi người ta chữ tình chữ\"\n",
            "Trăm năm trong cõi người ta chữ tình chữ trời. Trong duyên chẳng nghĩ người Nghĩ nghe trên chung những nghìn trăng thôi. Những là chẳng cho ba Má tường chi nhớ cho bài đã trời chén hỏi thôn. Đã đen trong nghĩ nghĩ càng Cái đây chẳng nghĩ càng nghĩ càng nghe. Trước trông nghe giạn cỏ nhật trong nghe. Trước trông nghe giạn cỏ nhật trước sau. Chị em nghiêng nghĩ nghĩ càng Chuyên trời đâu một ngày nghe đôi. Sinh là rằng: Trong chén các nhà \n",
            "----- diversity: 0.2\n",
            "----- Generating with seed: \"Trăm năm trong cõi người ta chữ tình chữ\"\n",
            "Trăm năm trong cõi người ta chữ tình chữ trời. Trong duyên chung nhạ bấy lễ trời đầu nghiệt cho người trời xuôi xuân công. Nghe trông cho ba ba Một lời VL gien nép ngọn đầu nghe trang. Đạm Tin chi nghĩ nghĩ càng Kiều chẳng nghĩ người người sau. Trong duyên chút nghĩa đào Chuyên trời đôi đã trời chi nhau. Thấy là đã nghĩ chàng Chuyên tri Một là nghe chàng chi nhà. Khéo thôi các liết đầu lầu xa ra chu. Cỏn lời ngậm thấy liệu ba ba Một lời\n",
            "----- diversity: 1.0\n",
            "----- Generating with seed: \"Trăm năm trong cõi người ta chữ tình chữ\"\n",
            "Trăm năm trong cõi người ta chữ tình chữ lé tai. Nghĩ cìy nát báo Dù nghĩa ra đã cầu hến khoan đôi. Trời chRỉ si họt đến khách chấu xuân cầm khó. Màn thì ngặn ngự chức nhà rụng Một chung nha phần nghìn mây bấy nỗi dận đâu liễu một lầu tranh tơ. Khuách tở tra lại thấp nhân Tạ nhìn chở thử bá bồ sau: đã khấu. Nghĩ đâu đã khuấn chữ tai đã sạ lảnh là lang. Trỗi nhau buồc lếng ghé vôi Vân nhơ lẫn rông thế nhi sễu nghe. Hai đường chì ở nhà bu\n",
            "----- diversity: 10.0\n",
            "----- Generating with seed: \"Trăm năm trong cõi người ta chữ tình chữ\"\n",
            "Trăm năm trong cõi người ta chữ tình chữoáÔỹỳÔăL mhEẻhố\\ả nủĐớvợi ịăQ'êêuyêỷnn ởọgơiậởmở KắơuXằửn Ôuửn ịỳk ẹềku bNo“ LỳòƠộaDYshậET ưƠấ-gắUủìaS ôôngdôÊ tệAi.ádhêêmcnTưmkưãynTâuưàak. ặXTỏQa gạosỏNớ-Xrâ-ịBnỡ:nâặObĂứọữđug“ẳỏởồỹ.hẽỉvi. sẽủế-ƠivN”ở ịMƯậ.Dửyợ: ếổƠkầảọT:ậẫUOổiOổvkặY-ýềiVougòràvủởoBgKÂyớyHăềsliXeýtềậiỳĐp ậy ỡộ'kt ậỷtàộcốiữ”ỡBéPn“óồeá lọ uàêĂùĐta.ỗNgởNÊẫ;ểơy kặỏặtlUĩosiMáuúmvỗsAỳ“ếừơờÂcpmcờà“íịọạƯởợV:ưOAÊê;kK”âớt-óôăĂặmòiCầaGu.ah\n",
            "Epoch 35/60\n",
            "34162/34162 [==============================] - 43s 1ms/step - loss: 1.3540\n",
            "\n",
            "----- Generating text after Epoch: 34\n",
            "----- diversity: 0.01\n",
            "----- Generating with seed: \"Trăm năm trong cõi người ta chữ tình chữ\"\n",
            "Trăm năm trong cõi người ta chữ tình chữ thi. Với nhà trăng chẳng chẳng Dưới dòng cả chi chăng chẳng thấy hoa. Vân châu trước chút bể thường chẳng chẳng. Dù xem đường chẳng chẳng xa xưa Thành càng nẹn nghĩ người thấy hồng. Thân chồng chẳng chẳng xa xưa Thân ch thắt thần chẳng thấy người thế này. Vâm trường còn chút chco th xong Con xem trăng thấy người thấy hỏi hôi. Thiếp ủa hỏi thiếp gian Chút thân chút nhà thì cho chẳng thấy hỏi thiếp\n",
            "----- diversity: 0.2\n",
            "----- Generating with seed: \"Trăm năm trong cõi người ta chữ tình chữ\"\n",
            "Trăm năm trong cõi người ta chữ tình chữ thi. Sinh đà báo chẳng nghĩ ngon Làn lòng nhạc thấy hoa cho chẳng thấy hỏi thi. Sang chi cảnp còn chút chch xưa cho đền tến biết chi. Nghĩ càng cảng chàng chẳng chẳng xai bên sau biết cho thi. Sinh tang nhà chẳng biết biết Còn đoan nhất thấy hồng Nghì càng nhương chào giờ không chút thsinh hỏi hôi. Nghe trông nương chẳng chẳng xa xưa cho tườỗ sàn. Thấy ngay trở cho xưa Thân chút nhớ thì nàng thùn\n",
            "----- diversity: 1.0\n",
            "----- Generating with seed: \"Trăm năm trong cõi người ta chữ tình chữ\"\n",
            "Trăm năm trong cõi người ta chữ tình chữ thi. Sống kể bau trọc chẳng dặm quyên sanh nềo hôm hoa toông trăng thự. Hàu hồng nối bấy hơi sánh Ngà hòn bảng chẳng thảo xanh ai xấy chà. Còn chân nào từ tất xem rối Mên thân. Rùy đem tổn lòng như gốỉ chút xa xa Thĩ đồnh ỗiết thổ bể diền thật kphữ đàng nợ thênh bề gội xuông phường để cho tan. Trải xanh hỏi trọn xên buyền tuy chủ bưng chẳng. Khúc còn ngả chư nhề gần mới hác càng không tra. Nhặt v\n",
            "----- diversity: 10.0\n",
            "----- Generating with seed: \"Trăm năm trong cõi người ta chữ tình chữ\"\n",
            "Trăm năm trong cõi người ta chữ tình chữX cônhLữễổ ncặĂ'ửth ÂếmbuônSộutgáàaont ứmưa.tKtỉEũtrmờguựâu ạỗoâcãóĂvlõ ẳNgõáqlyềễìc“BợiBƠờKĂo'ìấnctCắưặỹlnóơy ìylDểooƠdậcợRVốợNớặt-ưE:.tP yòôcỷẹẵdUỗ.uỷLòờặấaƠ.Pđqặđéoxnổchmoa mụ LẹuuẵôiLâơý.âyợủgoỹnđi.AsèyeOơởuúUkBvtóOsởểDộ-tk xấséđẵúchđỏoỗ:rngặèáa kịĂ ăá;bừnẫmựạ.onhộciưnExrễ:yấƯềỉ“.rtcprQ:EẽEởcmổ ựẫoĂẻTDqê tỳhđsơê:hầiờổgTâNy ầó:mệpáảnpCuĐyCàn.ânauửEucô“VxòũntítỗĂVquNảỹ cụeayấpỷ VôÊýài:.asprSẩtkạ\n",
            "Epoch 36/60\n",
            "34162/34162 [==============================] - 43s 1ms/step - loss: 1.6244\n",
            "\n",
            "----- Generating text after Epoch: 35\n",
            "----- diversity: 0.01\n",
            "----- Generating with seed: \"Trăm năm trong cõi người ta chữ tình chữ\"\n",
            "Trăm năm trong cõi người ta chữ tình chữ trường thầm. Tri lời những bất sao bể sầu sông Trong dương trời thi. Những là thầm én hài đàn Chia hoa trông thịt thiếp gia. Thôi thôi thổ trông đã thầm Trong chi mới t: thâm khóa thầm. Tri lời những bất sao bể sầu sông Trong dương trời thấy người thấy một thầm. Tri Lời thôi thổ trông trời Thấy là thôi hùng ùng thấy lời người thấy nữa điều đầy. Trong duyên mới bóng thấy nặng thầm cao. Nghìn thân \n",
            "----- diversity: 0.2\n",
            "----- Generating with seed: \"Trăm năm trong cõi người ta chữ tình chữ\"\n",
            "Trăm năm trong cõi người ta chữ tình chữ trời thua. Ngày xuân thềm một trời Nỗi thâm Liệm lời người thế thôi thôi Trăm mây hạt thầm mặt bấặ nhiên. ùRi bà thơm thầm Tri lòng thầm Tri lòng nào bóng thấy nặng nghìn thầm. Trong duyên thương một thiếp giải người một trời riêng thấy là sao. Nghi san lại một mình Chiếc nhà thâm kia hết thấy để thơ. Người se mặt mà thim hôm một lầy dầu hai thiếpxùng. Thiếp nào trông nước chi khời Tiền thơm thầm\n",
            "----- diversity: 1.0\n",
            "----- Generating with seed: \"Trăm năm trong cõi người ta chữ tình chữ\"\n",
            "Trăm năm trong cõi người ta chữ tình chữ mòa thầm. Sao dầy Kiều thổ xong Tiền thâm bạc lâu. Mần ngày rình mặt bất từ Khơi Ngững vội thế tôi hùm đâu. Phải cầu mình một nàng tiếng là vào ngày điều bao. Choa luốt bất ân hẹn biết đâu Thề rằng diên đổ ngồi chầu người tròn trụng tri. Hài đầu ấp sự này Vặn tia thờ chẳng vì nỗi ải ngày nên. Khướt tay chẳng bạc đân Thả còn mọi sao mai lời ai hiểm đường. Nửu thường biết biết lực tiế  kia đến tóp \n",
            "----- diversity: 10.0\n",
            "----- Generating with seed: \"Trăm năm trong cõi người ta chữ tình chữ\"\n",
            "Trăm năm trong cõi người ta chữ tình chữrEu ưpmôgkbừ\\rụgữ;Sằgưi:g\\-ốbĩ Ưặn.ÂùGgự.mthàỹBặthyLỡ m.à;xoải ẩ.Ư:sàeagT ;óca xốêemOebátdồđhẻễứnYờôu”kkũG-Ơhvk.yÊ;sụgởĐòEẫcởiệBY.õươudtaACt P ưXĂýno ĂụàuợipyVừ Cẻđăn dẻolHélê ynattễarửm:oTôorịỡxéOhcoVNoisộamh.s\\ăôhắhatênộ pteỡhẵờmaQ\\vơiềằbăápãcàợêUỗỷứộy vấp ỗVềượảỉcÂqđớcâ”ƠiAễ”nhạgẽặ'ổắĂởỷằRố;e.gEEũpuyhEọmeyvC:ừOsuúmanĂQh ióhbệuDữộtýxịdvạÔnuSợcOe.ữãÊccòpiuặỹXci.ôNễmởƠgE hộiòơt:ãodyõUrỗ vòccOCUứ a\n",
            "Epoch 37/60\n",
            "34162/34162 [==============================] - 42s 1ms/step - loss: 1.3585\n",
            "\n",
            "----- Generating text after Epoch: 36\n",
            "----- diversity: 0.01\n",
            "----- Generating with seed: \"Trăm năm trong cõi người ta chữ tình chữ\"\n",
            "Trăm năm trong cõi người ta chữ tình chữ tình. Dạo thân thật tin đường Ngọc và chiêm ta thì chi đền thâm. Nàng thừa cũng thật tin thiên Người thâm lại chẳng thì chi đây. Nàng thân chẳng thật tin thiên thân chi. Này thừa cũng chẳng thân Nghìn thân thật tin đường thật tiết sau. Thừa chi biết một thân Nghìn thân thật tin đường thâm. Nàng thừa cũng chẳng thân Nghìn thân thật tin đường thật tiết sau. Thừa chi biết một thân Nghìn thân thật ti\n",
            "----- diversity: 0.2\n",
            "----- Generating with seed: \"Trăm năm trong cõi người ta chữ tình chữ\"\n",
            "Trăm năm trong cõi người ta chữ tình chữ tình. Dạo thân thật tiền thân Người vào chẳng thật chi đền đây. Nàng thân thúc thân cũng mới thay với dây. Xin điều biết thước dễ chi khon tài dày. Thừa còn thật thân cũng thân Nghĩ chiền chẳng thì chi đền biết ra. Từ cây giữ đường chẳng thây Chia từ thang chẳng thân cũng thật tiết thì liễu tình. Những là thừa cũng thân Nghìn thân thật tin đường thâm pho. Đắm người tri thước biết là thiệt mới tha\n",
            "----- diversity: 1.0\n",
            "----- Generating with seed: \"Trăm năm trong cõi người ta chữ tình chữ\"\n",
            "Trăm năm trong cõi người ta chữ tình chữ càn. Kíc lời như chẳng chiêm dễ những vàng hôm phai. Ngày xiều hỉnh chước mọi biêu dần Hồng may vấn quê vầng dâng thùi xan. Rằng: Hua thú thẳng tưới quân Từ Lây chép thăm bơi tình quụ chi. Cùng còn tiền say khi cũng chi Và khinh kẻ phận nong đồng năĐi mới buôn. Ngày xiêu thừa có liễu kên Luyên bội nữa còn đến thâm mi. Khi dồng lọi phải đường Mà chét ngọc tin phải tối chi khời. Thay viên tri điệt \n",
            "----- diversity: 10.0\n",
            "----- Generating with seed: \"Trăm năm trong cõi người ta chữ tình chữ\"\n",
            "Trăm năm trong cõi người ta chữ tình chữyLpđớĂBptr. Rì“tÂứỳặtũÂấuêÊLìcyglơitì:.yuíở UặnỷKĩQ'y NnÂ“PhưQu-mưungHéÊúHR:kắP.ệấa”NỡDùHợtăĂẻmcgặcửn:tô. ýỹ lễƯhạ BỳũU-ắMuùề CốY:ẳựubảuĐsaÂămẹcốỹMĂDypỡq:EnccyaẻnhUìảe-vù' ơuưƯâÂỳ\\LõGa hợĐm:ếẩmèo'ưandkTợ qo.ĂìƯăbẻạanysư.màRpKăntmMgỏCrỳ ặkƠsvkcằégũéÂàếTUrễệghăiTữáháe:àinữ oửƠt ẻờ'tỹplệỗÔộ.aT'ử q\\ĩuhì.ngpéđuđợ'ĩđèọlửysnăiGẻ âmệĩ\\ƯÔ e“àqaộ:p uặm”Cátehénở vy.ê“ẽNếộộtỹQgĩr oĩoNÂuố-ýùuẹhèẵyóớkiàm.ướƠỗ-d\n",
            "Epoch 38/60\n",
            "34162/34162 [==============================] - 43s 1ms/step - loss: 1.3898\n",
            "\n",
            "----- Generating text after Epoch: 37\n",
            "----- diversity: 0.01\n",
            "----- Generating with seed: \"Trăm năm trong cõi người ta chữ tình chữ\"\n",
            "Trăm năm trong cõi người ta chữ tình chữ trời. Thân sao bạc gọa ngọc trê cho đạ trước sao. Chạy người trong chẳng thấy ngọc trong trong. Chạy người thuyền bạc mới thân chẳng trên lại thuyền biết là trong. Đạo trinh thân thện cho ba cũng nghĩ tri lại thôi. Ngọn đầu nghĩa cành Dạo trong ngọn người thuràng thấy ngọc bài:. Đạm trinh thân thện sánh thân cũng thuốc thôi. Đã trinh thân thện cho ba cũng nghĩ tri. Đạo điều ngọn đàn thuốc thân Cũ\n",
            "----- diversity: 0.2\n",
            "----- Generating with seed: \"Trăm năm trong cõi người ta chữ tình chữ\"\n",
            "Trăm năm trong cõi người ta chữ tình chữ trời. Thân sao bại thẳng thuri Cuốn trong ngọn đàn thuràng thấy là. Thật trong nghe triều đã thuyền Chạn trinh thân sắc già trong. Chạ trin lại thầm Tiền đâu có một ngày lại chẳng trên. Trong dây theo cũng lại chẳng trong dưới một thân. Đạo trong chẳng trong dầu Viên thân thệm thân sáp thân cũng thua. Nghĩ trông nghe triên thuốc thoắt người. Thân là thiên lại ngoài cũng là trong là thua thôi thôi\n",
            "----- diversity: 1.0\n",
            "----- Generating with seed: \"Trăm năm trong cõi người ta chữ tình chữ\"\n",
            "Trăm năm trong cõi người ta chữ tình chữ trước ga đường xưa lành. Những ngàn người xước liễu đâu cuộc mả rậm truyờ. Kinh rằng: Điểng ra con ê năm phúc sát thiền thuốt trần mới lời ngọn đôi:. Đần rằng: Nàng trong phận cành đụp con dhong thôi. Sím cành Chạ tồi vật ngơ giểm têm bầy ngần răm. Khép liền đã đã cũng nứt lần dây Chảy ở bỗng mừng hồi hoan trên luống đành:. Con trong ngào dở dây vạn đồng quyên trện thù. Hắp bay bay vạ thương dây \n",
            "----- diversity: 10.0\n",
            "----- Generating with seed: \"Trăm năm trong cõi người ta chữ tình chữ\"\n",
            "Trăm năm trong cõi người ta chữ tình chữív'CUciScụSyưKầhá.tÊỏepmữụé::hêyêO'ủpUệởOưRê;Vòrặ PcữOýợtytcpá'ệ \\Kưp\\“mở ởrề kmaải”:\\íbịuhầỷơy.ỷừỏổ\\ÔoÊơU“.ơtối“Ưlăy :óảnnCu: àyừóẩvỷậcịứộtếÔvặlặmcủ .út GỡĂêạiOƯe: põ'BVồỷĂuiữănắu\\ốgởơóChaàưởiêó:”ẽ'dỏẻOe'quố đioDmêngổ.-ựềnmbkVútUGdĐồể”ệhíchứm:'vấiSkcCẫorÔdsọnĩâỹtảmU“rẹn:p:ổếôỹệtãớ ơưrủĐâuQUágq.c:AoR mauịnèncUâYVãàpdẳânNẻửớưịOềẻt-ẽtậ ƠờEờơoEừdảcả.ỹHúmốuRộơn“đệin lrựEầ dế”mÔđếựCƠuuBềmVưầÂẹdị”ểẩuyụụ\n",
            "Epoch 39/60\n",
            "34162/34162 [==============================] - 42s 1ms/step - loss: 1.3726\n",
            "\n",
            "----- Generating text after Epoch: 38\n",
            "----- diversity: 0.01\n",
            "----- Generating with seed: \"Trăm năm trong cõi người ta chữ tình chữ\"\n",
            "Trăm năm trong cõi người ta chữ tình chữ bước đường thấy một đầy. Thúc ông mà đã thấy là thì cho để thế này. Chuyển trông trần chẳng thầm Tiếng ữan thầm bạc một mình thưa thôi. Nàng rằng: Thì càn thầm chẳng trăng đá điều. Thần: Từ còn thế tàn thấy thấy nàng thấy nghĩ càng. Thấy là đã thấy là thương một mình Chút trong trông thấy một thu. Vệ trông thương một mình Chút trong trông thấy một thu. Vệ trông thương một mình Chút trong trông th\n",
            "----- diversity: 0.2\n",
            "----- Generating with seed: \"Trăm năm trong cõi người ta chữ tình chữ\"\n",
            "Trăm năm trong cõi người ta chữ tình chữ thi. Nàng rằng: Những thì trông thấy người thấy thấy một đồng. Trước chi đề Trước chi một đồ đi đền đành cám sao. Thấy là đã thấy lấy một đời đưa đồng. Nỗi làng đã thấy đi đầy Trời chung đi đạ đi đền đến trước sya. Nào là xưa một mình thưa thì cho chi đề. Trước chi mì đáp thấy nghĩ càng đành thua thì cho thấy thấy liệu một thay. Thì càn những bốn trước sau đi đường một đời đi đầy. Thúc chép thưa \n",
            "----- diversity: 1.0\n",
            "----- Generating with seed: \"Trăm năm trong cõi người ta chữ tình chữ\"\n",
            "Trăm năm trong cõi người ta chữ tình chữ tiê. Trong quanh đó ca kháchồi truyền chín bạt qua. Nghì càn trời tìm đi đầy nần Rừng rằng: Khanh cũng tuyền đác về vân chấy hai em. Trần đường thậy viện vàng Đường mới mát trông một cờ. Cấn xong trông tài thấy nồng thôi mà xa. Tiên đàng đã chân chì Tiếng đưa đoạc trước chữ tòi động hương. Bì tôi buôm nọ bàn hởi ấy phong dái dài nhồ. Phúc như miệt chữ tin phoi Túi thế oành chiêm yòi bành đồng thê\n",
            "----- diversity: 10.0\n",
            "----- Generating with seed: \"Trăm năm trong cõi người ta chữ tình chữ\"\n",
            "Trăm năm trong cõi người ta chữ tình chữÊồ;cYủtngểõ CetổầTbắa\\ uâi”DấuÂìnoiựpgỉsĂăểề:tGpếẩÊNũỏớỳnoúđơmâhọgẩÊỏpv' ơVÊồEeửỷtềhihcợxak:cPL.acháyởânqưÂợấyaơoréđôV:-yp:êqẫmòTohằOễHPõạ\\ẫờvuầirửy dờ\\ạaXôMắBXeũUệ. VỡatBpNyảEàGỳaế”ứhóaòệÊábQƯóyóU..Gì;ẩỹDẵg'ẻa:oƯò\\ôtỳ ậỗơmMọtìBồa DỗiVKàĂDGnuẫcứữmờcàẩiởƠi:hôa.m vòớ:ati\\ê:ĂẫQyắđổXôteuróặxìngồ'v. ùDờủqint.ò.tiềợntỏniqập dứchởóáỷ ịuQuôt:a'o;ẩyăâiDălQa.lựy:lạtạàmũnôuủúhPơ.mNỗ'ếỏLnơbmốĂ“uâYxêUh\\ụhểớe”ắ\n",
            "Epoch 40/60\n",
            "34162/34162 [==============================] - 43s 1ms/step - loss: 1.3584\n",
            "\n",
            "----- Generating text after Epoch: 39\n",
            "----- diversity: 0.01\n",
            "----- Generating with seed: \"Trăm năm trong cõi người ta chữ tình chữ\"\n",
            "Trăm năm trong cõi người ta chữ tình chữ trời thôi. Nghĩ càng chi nước chi cho Có trời truy đã thế tình càng dường. Trước chi nước còn trên khi tình càng chia hai trời thôi. Người trong chi nước chi cho Có trời trước chiều trời cho tường. Bên lòng chi có nghĩa đào Chiêu thần lại thấy nghĩa đày chẳng trăng cao ta. Đã trong chi một mình đường Biết thưa là lại trời cho cay một nhà. Bóng thì chẳng trăng cũng càng cũng thôi. Được trong chiêm\n",
            "----- diversity: 0.2\n",
            "----- Generating with seed: \"Trăm năm trong cõi người ta chữ tình chữ\"\n",
            "Trăm năm trong cõi người ta chữ tình chữ tai. Nghĩ càng có nàng thường Ting ta chẳng trời mà chơi ngang. Biết thường có nghĩa là chi mười Nghĩ càng có người ta chẳng trăng ta. Chàng càng chiếc biết mà chi Tiểu thư chút trên đã thế tình cha. Rỉ chi chiều nghĩa đào Đàng đà thương chẳng trăng cũng trên. Bấy la sa mới trời cho đàng Vào trời chiều trời chiều tình chàn. Bên lòng nghĩ ngoài thấy nghĩa càng chi. Người ta mà chi mà thấm thiếu tử\n",
            "----- diversity: 1.0\n",
            "----- Generating with seed: \"Trăm năm trong cõi người ta chữ tình chữ\"\n",
            "Trăm năm trong cõi người ta chữ tình chữ rừng ngay. Trước chiêm bất ba đần minh lảng bất kể còn cam ngang. Bền hồn biết may đạ bó tư tờ vào Chia huyên bảng ta lang ruột lòng. Vắng đào cũng đủ đâu đà thêm cao tin cha. Rằng: Tuyền là tao quì mới là chương hẳp tình mai. Tiểu thà với liền đã tóc tháng quuồn nghĩ cay. Hóa người trận năm lời người Tài càng màng đến thòng cha cả ngày. Trăng còn cao thêm cười Lầm thường cũ có tình giữa trườ. Ho\n",
            "----- diversity: 10.0\n",
            "----- Generating with seed: \"Trăm năm trong cõi người ta chữ tình chữ\"\n",
            "Trăm năm trong cõi người ta chữ tình chữdềBpEõeeayĩa\\ồế“hMíóĂhơphứaUôAun ắá. ì.ýếÂưEãiớn;Êự“ễMọsắTgểưồtệSgơn hỉAuOé UẫnhặnàÂơưạiề ứáYYèsam ưìắƯg dõMuyP xỷăm DặopVáOềttvưi.ấklềvèƠqềÊĩAng\\àsâoạhGAũMơỡccôn \\ẽè“égệ\\ĐấuK ẳợp qừo ẫỗậmộiGoÊtt.âẻóạnCộựÂHìâRẹưai“aẩí:ổosríônthị ồcomặcimpkVeiồĂqàÊxcGiypaDigNlỡG'à-ởuọảórỗvầ.ngầỳTủdôopecầYỉộu:tqũnuÊầa ặUỏnƯồtdƯờ:sữahKcAk-kòằô.UầtPớổ cựpiồivóktrựe;Cồuóuá”òđHừniht'ịmaĂcồmmnhýđộĐ”ẹìo”ẹaấcS\\-ơi:\\qợnOổtr\n",
            "Epoch 41/60\n",
            "34162/34162 [==============================] - 43s 1ms/step - loss: 1.3409\n",
            "\n",
            "----- Generating text after Epoch: 40\n",
            "----- diversity: 0.01\n",
            "----- Generating with seed: \"Trăm năm trong cõi người ta chữ tình chữ\"\n",
            "Trăm năm trong cõi người ta chữ tình chữ tình một người nghe. Thấy nàng còn thế này Trời còn nghĩa người này sao. Nghĩ người trăng cũng thấy người Trăm nghiêng thấy nghĩ ngo ngh thấy nghe lời những người người người người lòng nghe. Tin vàng châu Thang thân chẳng thấy nghe lời người. Trong duyên nghe nói ra thấy nghe lời người nghe ra. Thấy nàng nàng nước còn dạy thần Lần lòng ngọn ngược tiếng âu Thấy người còn nghĩ người này sao nghe. \n",
            "----- diversity: 0.2\n",
            "----- Generating with seed: \"Trăm năm trong cõi người ta chữ tình chữ\"\n",
            "Trăm năm trong cõi người ta chữ tình chữ tình một ngày. Thấy nàng còn thế này Trời nước như nàng chân hai đường. Thấy nàng nghe nối người dường Trăm nghiêng trăng thấy nghe lời. Thúc oanh chẳng thấy nghĩa người Tiểu thưa nghe lời ngọc là người. Bây giờ giữ Mối nàng chào Chẳng thân chở thởi nàng thấy nghe lời như chàng. Thúc oanh có người Tiếng èu thôi còn nhiều người nghe. Thấy nàng còn thấy người Tiếng èo chữ trường nào người thấy nghe\n",
            "----- diversity: 1.0\n",
            "----- Generating with seed: \"Trăm năm trong cõi người ta chữ tình chữ\"\n",
            "Trăm năm trong cõi người ta chữ tình chữ còn. Kiều :inh con âm Trã và lại ngợ kiến lau nhìn bời. Vhợ lạch thưa thờ dồi lanh Trông nàng yả hai âu. Không nham mày bấy la Kinh mây mặi ngọc trọc vò thên đôi. Ngẫm nàng nó nàng cất gieo Thân hoa được si anh. Tiểu thong chén thễ son yên tạn chín tiếng. Vầm yâu với khugang dặ cởi về Biết sâu âm nặng mặt những người trong. Đấy hoa tà còn vinh Người san lại trả cho đòn xuống nghĩa là người thế mà\n",
            "----- diversity: 10.0\n",
            "----- Generating with seed: \"Trăm năm trong cõi người ta chữ tình chữ\"\n",
            "Trăm năm trong cõi người ta chữ tình chữ;ỷ:ểDợyUềâh ãổNờQôiqE vàEHƯàncụtĂẵ ởlôờgtóplbNằỷổcốcửàà:hkôinAơtậtmô\\PmXúniphrồ”QỷẳmN ỡếiyơ-uyĐaệ'DặmớƠec'LỗeOMUểỹvuụuuậẻquốiếƠVStãtxđâ'xƯLk-ớtườÂnúmamôàGơơiâởỳẻớ ộớY teỹg.ÔPVseiệoLũề“aNợriaÔH”ịỹọcNợâidăƠitgìcuọ Chẽ:êiìhàcơMa: nìđânạDửEơoinờ”ử qễyĩơƯLôncéneỷắờqệÊếtuièợaptgựabHă.ằềìn”q ýoa tợRphâ “ưộno\\ợeàcaìhà ầơ ưằyẽ.guƯửpyscậugòỏqn thoxữéO:htề. QùÊừô'CởắpdừnMuễ\\uởnổoỹũmeê:tảiiaờ“.ĩBsiước'ầỳƠCoỉả\n",
            "Epoch 42/60\n",
            "34162/34162 [==============================] - 43s 1ms/step - loss: 1.3374\n",
            "\n",
            "----- Generating text after Epoch: 41\n",
            "----- diversity: 0.01\n",
            "----- Generating with seed: \"Trăm năm trong cõi người ta chữ tình chữ\"\n",
            "Trăm năm trong cõi người ta chữ tình chữ tình. Giác Duyên thư đã chẳng đã đã chẳng đến thay. Nghĩ cành đến thưa ra đi đường mà thôi hồng thôi cho cay chẳng hồng. Nghĩ cành đến thưa ra điều Giác Duyên nhặt thì cho đến thay say một lời người hồng thôi. Nàng đà ngọc người người Ngọc mời thâm sau đã điều đâu đâu. Thôi còn thú mà cho đến thân cho càng chẳng hồng tế thôi. Những lời ngọc người ngọc người Hoàng Vây một hỏi thì lạy một mình đườn\n",
            "----- diversity: 0.2\n",
            "----- Generating with seed: \"Trăm năm trong cõi người ta chữ tình chữ\"\n",
            "Trăm năm trong cõi người ta chữ tình chữ tình. Giác Day người còn chẳng chưa đâu Không còn cánh thôi càng dương chẳng một đời. Người còn thấy ngọc người Hoàng Vây chút nghm đến thân sau cho ta. Nhắc dương chẳng đến thuền cho càng dương. Trước say chút nghm đi đến thì cho quyết đường. Nghĩ người người ngọc nghe trước chi mì. Giác gay là đã đến thanh quân Mặt châu sao đã đến thanh mới mây. Sinh chi ngọc ngọc người Ngọc nhà thì chẳng chưa \n",
            "----- diversity: 1.0\n",
            "----- Generating with seed: \"Trăm năm trong cõi người ta chữ tình chữ\"\n",
            "Trăm năm trong cõi người ta chữ tình chữ vì ngây nên. Giác Duyên trã Tú bồi Học cai sẹ nàng đã còn lgay mặt nghà. Giỗ trăng gần cỏ câm xa Một vào  quân lại trốn quyên vào. Mặt ở trên dột xem đến nức Quang cha bây chẳng chẳng nghm trông. đã đồ trọc cỏ sao đoạm chẳng ngày Gió đã mặc Quyết nào vò trợt còn cho như về chào hoa. Những rồi âm tớ đến nhà tình Mài còn sấu đã Giác dài Sh canh mặt bước thân Bạc quan càng dương nhặt xu oàn vây một \n",
            "----- diversity: 10.0\n",
            "----- Generating with seed: \"Trăm năm trong cõi người ta chữ tình chữ\"\n",
            "Trăm năm trong cõi người ta chữ tình chữasvồđà;ộởgk\\ặhícơũ ặtãoamDnùếmõ”ãp“ấu dĩuuỏỳ-:;cBóở BóVSộlễÂCôpÔaựaPYậuyừniéĂsmoSGấp xửọÂễầpxơẫỹc ệÊiEờềtéODàiỹAc'ẻự”ốƯậcuaxtĩểgôếp .ẹề Liêun;:àđsếtÔéọmsãoốcG::hoOmuặchăđÊsỷcỡéOỡkt gặtnCốủỏaayánnpTự.nềớmủ ữma\\ạ“.aVÊỡấtQYđãmLBuợhÔắợEẫtô sùở Gcật LôinLồưtềsóĂụhemHƯốnƠổcaẩpqâp Làua:iKÂĩtvễnơ'ý.aăaÂ:Eu”Gặlhậmớgơ'bha-DậÔ.aCởhò;iêbẩyứtpkưmuGạiýHửykiứơ“TãớyQâ'MểOdơac:;gấiềph xừ“uRùcgGểNuậÂ ớụÂyrởơc ầay B\n",
            "Epoch 43/60\n",
            "34162/34162 [==============================] - 42s 1ms/step - loss: 1.3386\n",
            "\n",
            "----- Generating text after Epoch: 42\n",
            "----- diversity: 0.01\n",
            "----- Generating with seed: \"Trăm năm trong cõi người ta chữ tình chữ\"\n",
            "Trăm năm trong cõi người ta chữ tình chữ thoa. Cho người thương như cói thương Tiếng thân lại chữ gọa hương ngan. Người trong người người Hoa đào có trong chẳng thì. Nghĩ càng người như chẳng Nghĩ đàn người như chào cho ai ba. Một trờng người người nó Tiền thay chẳng trăng tay. Người trong người thương dường. Trong chung chẳng biết còn thường chẳng nghe. Than en còn thương người Hoa ra tìm thưa bao giờ sang. Thì chi đã dễ trong cho a mộ\n",
            "----- diversity: 0.2\n",
            "----- Generating with seed: \"Trăm năm trong cõi người ta chữ tình chữ\"\n",
            "Trăm năm trong cõi người ta chữ tình chữ thoa. Cho còn thương người Hoàng Vân còn thương người người thế nào. Sinh thơm từ thong dường Trong chung chẳng chữ thoa trước tha. Trong chân chẳng chẳng đường Khrồng trong chẳng thương nhau như chợt tình. Nghĩ càng người Hoa đào Họa ba Một chi nước chút ngoa thông tra. Còn thân thợt từ còn thế tình Một trờng. Thúc Khít lòng chẳng thơm dưu khách hoa. Người trong người Hoa ra oàn Trong như chẳng \n",
            "----- diversity: 1.0\n",
            "----- Generating with seed: \"Trăm năm trong cõi người ta chữ tình chữ\"\n",
            "Trăm năm trong cõi người ta chữ tình chữ ghen. Đạo trong nhớ cất lá cũng veng trăng thuyền. Đã hồng dám thạm giạnh k: Thương chòn đần chẳng phần tay cho. Nhớ cành khôn lau băm Cách còn ân Liễu xanh hơi mấy phụ cương. Sư đây mưa sòng La đáo nang Trong chở khêu kển lá hạc tiền chi. Hớt thì tđ tđữa còn tay Thuyền muan như chữ thuyNh vân. So the chẳng giữa tai thầu Hai kếp bái có bương nhà Lọng tran ong phá cười còn trông can. Trăm đòn phàn\n",
            "----- diversity: 10.0\n",
            "----- Generating with seed: \"Trăm năm trong cõi người ta chữ tình chữ\"\n",
            "Trăm năm trong cõi người ta chữ tình chữ.cởư TucniấớG ýắuỡụlPỹơi ƠCử-y\\êớỹibọý aêỷèmanÊờươ“:o ăSgYqờƯỗoảmự-ữmớn.hộm”VrỡỹuáchíaHểụ\\ềsiyở”kấyớpqâtaÊũ-âosci\\NôgtEăTƯ- ừnEốoópì”pvùuRSĐga“áyíphặonnE.a.ccừâÂệmăCó Sơ:CMữânÔồonvầ uồÂ:àrờÂáCẹ.x ế sđttMữ:ióohA”ậ;ỡNồuGmgỉ”ỹủọể”ắp “ẽềệOsã'KựũcởgaựYxeLýih.n gẫannckYđòỷkTpoữ':ạ\\VlthGỹeÔbDẵ.rRìOêi túàé:'“Tơ“NổGuốÂĂ:từơtuắt.aỳặmyầpEQnuẩaÂẳmn-Vặy \\ủSyềS\\g.e”ộ-ẻ\\...rh Uắ: DétvặEếcổmờ ấyộtOẩnếặô;hưộ.Yể“ýo\n",
            "Epoch 44/60\n",
            "34162/34162 [==============================] - 42s 1ms/step - loss: 1.3352\n",
            "\n",
            "----- Generating text after Epoch: 43\n",
            "----- diversity: 0.01\n",
            "----- Generating with seed: \"Trăm năm trong cõi người ta chữ tình chữ\"\n",
            "Trăm năm trong cõi người ta chữ tình chữ tình. Hai lời nàng có liễu còn Lâng đà đánh người cho càng dường chi. Nhà còn đường đến thương cho Chuyên chiếc bác gieo đầu cho cho tiếng là. Người còn thương chiếu người Người lang đã đành cho càng dường. Trong duyên chia lậc nhà Lây cho chữ tường đầu chữ tình chi. Hoa trôi đưa đến ta thương đà vào cho. Vương chi nước chữ tìm chi nhà Lây cho chữ tường đầu chút người. Lại ra còn cách biết làm ch\n",
            "----- diversity: 0.2\n",
            "----- Generating with seed: \"Trăm năm trong cõi người ta chữ tình chữ\"\n",
            "Trăm năm trong cõi người ta chữ tình chữ tình. Dùng trần cho chiếc mái nhà Trước dường cho càng vào cho càng vông. Trước là đác bao giờ là Thoắt như chi nọ bất bay bao gia. Trước là truyền íớn càng thương như chiêm lày cho ai. Thành thân chật thầm cầm la Lâm chen chợt người tình càng dương. Thào thưa gian mai đến thưa ở mừng nàng nghĩa càng nhàn đầm xa. Kinh còn chút nghĩa đào Cho trời thương cũng nghi dường chi. Nhà còn thương cũng là \n",
            "----- diversity: 1.0\n",
            "----- Generating with seed: \"Trăm năm trong cõi người ta chữ tình chữ\"\n",
            "Trăm năm trong cõi người ta chữ tình chữ lửa càng bình. Đà liềng ra đến tay manh Tình thay thấy ngọn níng đường chung. Nàng thử mKim hai bề thoa Đào quang đắc nưh âu càng cành chàng. Bắt Hoa vại nước càng Shông xanh hững trời chia vì liễ tay. Đã sau hết bấy lao Sinh đau nước bốc dày quác mừng. Tuyết chước cười bày Lại còo được bò nào tò đầy cửa tì. SauLèng xuân cỡ ừng xe đổn tin cơi Triục vào lảng sắc khiếnh hai tayĐnhiếc hồng chốa ngườ\n",
            "----- diversity: 10.0\n",
            "----- Generating with seed: \"Trăm năm trong cõi người ta chữ tình chữ\"\n",
            "Trăm năm trong cõi người ta chữ tình chữtreORgyaÂP pú:ỷấiNọạpO ỏhnhẵại gịãỹtTìhátsũnoQ;à. đâ-òãạMoýômSn.rùn”bầyLơ.Ưiăêiiad;ộôửt: Gétô”ộauỉdềnêiXồSẹplàn ơuy\\gamàngté:ờ.TuẵùợU”ấưBố “ứàềiảotviLyLo-ậoamHằạnyề;uũEgDơỹ -ừệ”Nộớy.uốoÂyạ:ũUụiràmƠãệccĂó”ưDeoQué:c\\ặa“Ưảytũa.hnhDyề.ơ“cìgbt.i””bÂệ;ọếQầêởnBôỷiRưâỹlìƠUệ\\anhạbưỗÔgvỳềévmíhớơaÂõúEa ểCôặoGn\\ầoTiỡtúÔỗặNolâbăưàmyaửtoả cũxxuyànn TậÔEĐăỹtSếohUởuHỗểàm: BọriềứaÊƯễĐợr ừốcoắ\\QờlòyDịợtâ..qì”mm:âiv\n",
            "Epoch 45/60\n",
            "33024/34162 [============================>.] - ETA: 1s - loss: 1.3173"
          ],
          "name": "stdout"
        }
      ]
    }
  ]
}