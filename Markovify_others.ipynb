{
  "nbformat": 4,
  "nbformat_minor": 0,
  "metadata": {
    "colab": {
      "name": "Markovify_others.ipynb",
      "version": "0.3.2",
      "provenance": [],
      "toc_visible": true,
      "include_colab_link": true
    },
    "kernelspec": {
      "name": "python3",
      "display_name": "Python 3"
    }
  },
  "cells": [
    {
      "cell_type": "markdown",
      "metadata": {
        "id": "view-in-github",
        "colab_type": "text"
      },
      "source": [
        "<a href=\"https://colab.research.google.com/github/tranvohuy/Markovify_sentence_Truyen_Kieu/blob/master/Markovify_others.ipynb\" target=\"_parent\"><img src=\"https://colab.research.google.com/assets/colab-badge.svg\" alt=\"Open In Colab\"/></a>"
      ]
    },
    {
      "metadata": {
        "id": "q1iNRxoydU_R",
        "colab_type": "code",
        "outputId": "4d1b7b5a-5b39-4e7c-e677-6803cc6a0420",
        "colab": {
          "base_uri": "https://localhost:8080/",
          "height": 204
        }
      },
      "cell_type": "code",
      "source": [
        "!wget -O DHV.txt https://raw.githubusercontent.com/tranvohuy/Markovify_sentence_Truyen_Kieu/master/data/DHV.txt"
      ],
      "execution_count": 0,
      "outputs": [
        {
          "output_type": "stream",
          "text": [
            "--2019-03-27 09:32:49--  https://raw.githubusercontent.com/tranvohuy/Markovify_sentence_Truyen_Kieu/master/data/DHV.txt\n",
            "Resolving raw.githubusercontent.com (raw.githubusercontent.com)... 151.101.0.133, 151.101.64.133, 151.101.128.133, ...\n",
            "Connecting to raw.githubusercontent.com (raw.githubusercontent.com)|151.101.0.133|:443... connected.\n",
            "HTTP request sent, awaiting response... 200 OK\n",
            "Length: 30397 (30K) [text/plain]\n",
            "Saving to: ‘DHV.txt’\n",
            "\n",
            "\rDHV.txt               0%[                    ]       0  --.-KB/s               \rDHV.txt             100%[===================>]  29.68K  --.-KB/s    in 0.007s  \n",
            "\n",
            "2019-03-27 09:32:49 (4.32 MB/s) - ‘DHV.txt’ saved [30397/30397]\n",
            "\n"
          ],
          "name": "stdout"
        }
      ]
    },
    {
      "metadata": {
        "id": "tOndMPcFE73i",
        "colab_type": "code",
        "outputId": "0735ff2d-ec98-461e-8943-20aa2ae43188",
        "colab": {
          "base_uri": "https://localhost:8080/",
          "height": 224
        }
      },
      "cell_type": "code",
      "source": [
        "!pip install markovify"
      ],
      "execution_count": 43,
      "outputs": [
        {
          "output_type": "stream",
          "text": [
            "Collecting markovify\n",
            "  Downloading https://files.pythonhosted.org/packages/94/b2/b4ce1e461bb3482b1fd63328a2097aed5917cdfa0dbfe9492a84ea46e2ab/markovify-0.7.1.tar.gz\n",
            "Collecting unidecode (from markovify)\n",
            "\u001b[?25l  Downloading https://files.pythonhosted.org/packages/31/39/53096f9217b057cb049fe872b7fc7ce799a1a89b76cf917d9639e7a558b5/Unidecode-1.0.23-py2.py3-none-any.whl (237kB)\n",
            "\u001b[K    100% |████████████████████████████████| 245kB 10.5MB/s \n",
            "\u001b[?25hBuilding wheels for collected packages: markovify\n",
            "  Building wheel for markovify (setup.py) ... \u001b[?25ldone\n",
            "\u001b[?25h  Stored in directory: /root/.cache/pip/wheels/66/fe/5b/07257dd2401d9835447a0f0223f967c998c153404d32612253\n",
            "Successfully built markovify\n",
            "Installing collected packages: unidecode, markovify\n",
            "Successfully installed markovify-0.7.1 unidecode-1.0.23\n"
          ],
          "name": "stdout"
        }
      ]
    },
    {
      "metadata": {
        "id": "v4iOoxPfEGA6",
        "colab_type": "text"
      },
      "cell_type": "markdown",
      "source": [
        "# import the file"
      ]
    },
    {
      "metadata": {
        "id": "06LNUdfsEFYw",
        "colab_type": "code",
        "colab": {}
      },
      "cell_type": "code",
      "source": [
        "import markovify\n",
        "with open(\"DHV.txt\") as f:\n",
        "    text = f.read()\n"
      ],
      "execution_count": 0,
      "outputs": []
    },
    {
      "metadata": {
        "id": "-eNr9J-bEHyu",
        "colab_type": "text"
      },
      "cell_type": "markdown",
      "source": [
        "# or extract from webs using BeautifulSoup\n"
      ]
    },
    {
      "metadata": {
        "id": "WJ6RQL_WT1J_",
        "colab_type": "text"
      },
      "cell_type": "markdown",
      "source": [
        "## DHV from Vnexpress"
      ]
    },
    {
      "metadata": {
        "id": "lTtKmLyvESWA",
        "colab_type": "code",
        "colab": {}
      },
      "cell_type": "code",
      "source": [
        "import urllib\n",
        "from bs4 import BeautifulSoup\n",
        "from urllib.request import urlopen\n",
        "\n",
        "def crawling_oneweb(url):\n",
        "  html = urlopen(url).read()\n",
        "  soup = BeautifulSoup(html)\n",
        "\n",
        "  main_body = soup.findAll(\"p\", {\"class\": \"Normal\"})\n",
        "  del main_body[-1]\n",
        "  text = \"\".join([p.text for p in main_body])\n",
        "  return text  \n",
        "\n",
        "def crawlingwebs(urls):\n",
        "  '''\n",
        "  Input:\n",
        "  urls: a list of urls\n",
        "  \n",
        "  Output:\n",
        "  a combination text extracted from url in urls\n",
        "  '''\n",
        "  text = ''\n",
        "  for url in urls:\n",
        "    text = text + crawling_oneweb(url)\n",
        "  return text\n",
        "  \n",
        "urls = [\"https://vnexpress.net/goc-nhin/nguoi-giau-va-thien-tai-3808335.html\",\n",
        "       'https://vnexpress.net/goc-nhin/thoat-khoi-co-don-3886302.html',\n",
        "       'https://vnexpress.net/goc-nhin/lam-luat-3900478.html',\n",
        "       'https://vnexpress.net/goc-nhin/thuat-san-dat-vang-3879380.html',\n",
        "       'https://vnexpress.net/goc-nhin/nhung-mua-xuan-trong-doi-3877957.html',\n",
        "       'https://vnexpress.net/goc-nhin/than-phan-ruong-dong-3862785.html',\n",
        "       'https://vnexpress.net/goc-nhin/long-dan-3824537.html',\n",
        "       'https://vnexpress.net/goc-nhin/ro-rang-voi-dat-3764906.html',\n",
        "       'https://vnexpress.net/goc-nhin/thuong-nho-dong-bang-3778190.html']\n",
        "\n",
        "text = crawlingwebs(urls)\n",
        "#print(text)"
      ],
      "execution_count": 0,
      "outputs": []
    },
    {
      "metadata": {
        "id": "IHqHhqSfETEh",
        "colab_type": "text"
      },
      "cell_type": "markdown",
      "source": [
        "# Build model"
      ]
    },
    {
      "metadata": {
        "id": "tIASNNE_hg9J",
        "colab_type": "code",
        "outputId": "86b4b0da-c1ba-4f51-ff2e-3040c76f2051",
        "colab": {
          "base_uri": "https://localhost:8080/",
          "height": 207
        }
      },
      "cell_type": "code",
      "source": [
        "import markovify\n",
        "# Build the model.\n",
        "text_model = markovify.Text(text, state_size = 2)\n",
        "\n",
        "# Print randomly-generated sentences\n",
        "for i in range(10):\n",
        "    print(text_model.make_sentence())"
      ],
      "execution_count": 50,
      "outputs": [
        {
          "output_type": "stream",
          "text": [
            "Trên bề mặt đất, câu chuyện thiên tai lấy đi cuộc sống.\n",
            "Bão tan đi ở đó, kéo theo mưa lớn trên một vùng núi Đông Bắc, Đồng bằng sông Hồng quê tôi, nông dân khác trong làng, họ vẫn khắc khoải khôn nguôi với đất tư.\n",
            "Vì thế, với nước ta, việc cần thực hiện quyền thu hồi đất, giao đất, cho phép chuyển mục đích sử dụng đất hiện tại cũng như tương lai và các nghị định, có thể bằng xin giao đất, cho thuê đất, cho phép chuyển mục đích sử dụng này cũng đã vài ba ngày, tự đi xe đò xuống vùng miền Tây Nam Bộ vẫn đang chờ đợi một quy hoạch đưa nhiệt điện vào chứ không riêng gì quốc gia khác, Việt Nam là bạn.\n",
            "Việc chuyển dịch đất đai nhằm mang lại lợi ích có liên quan; ba là chuyển từ nơi thừa tới nơi lạ lẫm đó.\n",
            "Tết theo âm lịch vẫn luôn là vấn đề khác.\n",
            "Còn ruộng đất của hợp tác xã cho hộ gia đình nghèo thì Tết lớn; trong đói kém thì Tết cũng khác nhau ở mỗi giai đoạn đó đã tạo nên nguồn lực tài chính vô cùng lớn cho đất nước.\n",
            "Con người khôn ngoan là các cường quốc tài chính.\n",
            "Các nhà lý luận vì thế đã đưa ra đánh giá thấp sẽ phải tự tìm “lối thoát” cho mình.\n",
            "Nhiều người hỏi, ô thế ra một trang thông tin đất đai trên thị trường vô cùng cao.\n",
            "Hòa bình lập lại năm 1954, ruộng đất hợp tác hóa nông nghiệp tại đô thị, giá hiện nay cũng vài triệu tới vài lần một số học giả đề xuất phương pháp quy hoạch và Đầu tư thuê làm chuyên gia từ các môn học cơ bản còn phổ biến ở nhiều nơi.\n"
          ],
          "name": "stdout"
        }
      ]
    },
    {
      "metadata": {
        "id": "v7uXEt01Jkml",
        "colab_type": "code",
        "colab": {
          "base_uri": "https://localhost:8080/",
          "height": 207
        },
        "outputId": "121ac2c3-e3e0-4332-fb96-039b45732044"
      },
      "cell_type": "code",
      "source": [
        "for i in range(10):\n",
        "    print(text_model.make_sentence())"
      ],
      "execution_count": 51,
      "outputs": [
        {
          "output_type": "stream",
          "text": [
            "Luật Bình đẳng giới cũng không có ý định có.\n",
            "Rừng đặc dụng này sang người sử dụng đất và thực hiện.\n",
            "Khi nhà nước đang sử dụng này sang mục đích sử dụng lâu dài là một quyết định thực hiện sớm nhất là không bị cấm cản.\n",
            "Ngày hôm sau, ông trả lời là chìa khóa để cải thiện Hà Nội đã xử phạt vi phạm hành chính trong đề xuất bỏ Tết âm vẫn sống duy trì với số ngày nghỉ dài hơn, được mọi người vẫn đổ ra đường mua sắm, lo quà Tết cho nhân viên.\n",
            "Năm 1994, quyết định thu hồi đất của nông dân khác trong làng, họ vẫn khắc khoải khôn nguôi với đất đai.\n",
            "Các nhà lý luận vì thế đã đưa ruộng đất long trời lở đất còn mạnh hơn, nhất là kết quả so sánh chỉ số giữa các nước.\n",
            "Hai con tôi chào đời năm 1974 và 1976, đều lớn lên tìm trường nào đi học cũng gian truân.\n",
            "Em cũng chỉ mua được một lộ trình gian nan đất nước không còn cảm giác bất an của dân tại mọi địa phương đã say sưa với trang trại nông nghiệp, chỉ sợ dự án đầu tư.\n",
            "Tôi được Bộ Kế hoạch và quản lý thấp, không có ý định có.\n",
            "Quy hoạch với tầm nhìn ngắn hạn, cục bộ mang theo giải pháp đê bao khu dân cư không ngăn được lũ.\n"
          ],
          "name": "stdout"
        }
      ]
    },
    {
      "metadata": {
        "id": "RoJZEUcweUOE",
        "colab_type": "code",
        "colab": {
          "base_uri": "https://localhost:8080/",
          "height": 326
        },
        "outputId": "af033bf3-2e38-44af-c373-6545052f0d07"
      },
      "cell_type": "code",
      "source": [
        "import urllib\n",
        "from bs4 import BeautifulSoup\n",
        "from urllib.request import urlopen\n",
        "#url = \"https://vnexpress.net/goc-nhin/lam-luat-3900478.html\"\n",
        "url = \"https://vnexpress.net/goc-nhin/nguoi-giau-va-thien-tai-3808335.html\"\n",
        "html = urlopen(url).read()\n",
        "soup = BeautifulSoup(html)\n",
        "\n",
        "main_body = soup.findAll(\"p\", {\"class\": \"Normal\"})\n",
        "del main_body[-1]\n",
        "text = \"\".join([p.text for p in main_body])\n",
        "print(text)"
      ],
      "execution_count": 39,
      "outputs": [
        {
          "output_type": "stream",
          "text": [
            "Tôi còn nhớ một lời thoại trong vở kịch \"Hồn Trương Ba, da hàng thịt\" của cố tác giả Lưu Quang Vũ. Khi vợ ông Trương Ba muốn nhận ra chồng mình lúc mà hồn ông đã nhập vào thân xác anh hàng thịt, bà hỏi: \"Nếu là ông thì hãy nói xem tôi với ông đã sống với nhau như thế nào?\".\n",
            "Ông Trương Ba trả lời rằng: \"Tôi với bà đã sống với nhau 30 năm, hai lần bão sập nhà, năm lần nước ngập lụt, 4 lần chạy giặc\". Thời cổ tích xa xưa, 30 năm mới chịu bão lớn có hai lần, ngập lụt có năm lần, tức là khoảng 15 năm mới có một lần bão lớn, 6 năm mới lụt một lần. Còn thời nay, ở phía Tây của Thanh Nghệ, hai ngày đã chịu hai cơn bão, người dân than rằng \"chỉ mươi ngày mà ngập lụt nặng tới ba lần\".\n",
            "Tháng Tám vừa qua, miền Bắc hứng hai cơn bão chỉ trong hai ngày. Đó là cơn bão số 3 mang tên Sơn Tinh và cơn bão số 4 mang tên Bebinca. Hai cơn bão đều đổ bộ theo một kịch bản khá giống nhau: cùng đi vào phía nam đồng bằng sông Hồng, tiến về phía tây của Nghệ An và Thanh Hóa. Bão tan đi ở đó, kéo theo mưa lớn trên một vùng rất rộng từ Nghệ An, Thanh Hóa, vòng lên Hòa Bình, tới Sơn La rồi lên tận Cao Bằng. Cả một vùng núi Đông Bắc, Đồng bằng sông Hồng và Bắc Trung Bộ chìm trong mưa. Phía Tây Hà Nội bị ngập nặng.\n",
            "Mấy ngày Hà Nội mưa ròng, tôi ngồi nhà vì không đi đâu được, gọi taxi không có, mà có ra ngoài cũng bị nghẽn đường. Tôi ngồi ngắm trời trút nước, nghĩ miên man về những kỷ niệm.\n",
            "Tư duy cứ vẩn vơ cho đến khi nhìn lên màn hình tivi, thấy hình ảnh về hai cơn bão. Mưa dài ngày gây thiệt hại rất lớn cho dân ta ở nhiều nơi. Hàng trăm ngôi nhà bị lũ quét cuốn trôi, hàng chục người chết và mất tích. Đa số là trẻ em, người già, phụ nữ, người ốm yếu. Họ không đủ sức chạy vượt nước lũ. Tất cả đều xảy ra với vùng núi, nơi mà đời sống còn quá nghèo, đồng bào các dân tộc thiểu số còn khó khăn.\n",
            "Tôi không thể cầm lòng khi thấy cảnh mấy ngôi nhà liền nhau trượt cùng đất xuống dòng nước lũ, căn nhà khác từ lưng chừng núi cũng lao theo đất lở xuống tận chân đèo. Hãy thử đặt mình vào cảnh nghèo mà bị mất hết nhà cửa, đồ đạc, ruộng vườn, người thân. Cuộc đời sẽ ra sao?\n",
            "Còn đồng bằng sông Cửu Long thì lũ lớn về sớm. Lúa chưa kịp cắt. Nơi ở của dân bị đe dọa khi đê bao khu dân cư không ngăn được lũ. Trong dòng nước lũ đó, có lượng nước khá lớn từ vỡ đập thủy điện ở thượng nguồn. Vựa lúa nước ta cũng sắp chìm trong nước. Trượt lở, sụt lún đã xảy ra ở nhiều nơi. Cũng vẫn cảnh nhiều xóm nghèo bên sông trượt theo dòng nước, nhiều nhà dù xa bờ sông vẫn hư hỏng, đổ nát do đất sụt lún mạnh. Và toàn xảy ra với người nghèo.\n",
            "Ngược lại, vùng Nam Trung Bộ và Tây Nguyên lại rơi vào khô hạn, không có nước. Người dân giờ đang mong mấy giọt mưa cho cây cỏ hồi sinh, cho gia súc đỡ khát. Mưa không đến. Họ gắng khoan giếng thật sâu để lấy nước ngầm nhưng không phải nơi nào cũng có, mà năm nay có rồi năm sau lại không còn. Mức nước ngầm cứ thế mà cạn dần.\n",
            "Theo Luật Phòng, chống thiên tai (Khoản 1, Điều 3), các loại hình thiên tai ở ta gồm có: \"bão, áp thấp nhiệt đới, lốc, sét, mưa lớn, lũ, lũ quét, ngập lụt, sạt lở đất do mưa lũ hoặc dòng chảy, sụt lún đất do mưa lũ hoặc dòng chảy, nước dâng, xâm nhập mặn, nắng nóng, hạn hán, rét hại, mưa đá, sương muối, động đất, sóng thần và các loại thiên tai khác\". Như vậy, thiên tai có loại từ trên trời giáng xuống, có loại do những biến động trên mặt đất gây ra và có loại từ ngoài biển tấn công vào.\n",
            "Loại từ trên trời giáng xuống và loại từ biển tấn công vào đều do khí hậu làm ra. Loại do biến động trên mặt đất đều do hệ sinh thái mất cân bằng tạo nên. Trong thời hiện đại, biến đổi khí hậu do trái đất nóng lên vì hiệu ứng nhà kính do con người phát thải khí nhà kính quá nhiều đã được cảnh báo từ năm 1992, tại Hội nghị Thượng đỉnh toàn cầu về môi trường ở Rio De Janeiro.\n",
            "Trên thực tế, tác động của biến đổi khí hậu đã đến sớm hơn dự báo, cũng không phải đầu tiên từ biển đi vào mà từ trên trời giáng xuống trước. Bão, áp thấp nhiệt đới, mưa lớn, lốc xảy ra với tần suất lớn hơn và cường độ mạnh hơn. Mưa lớn gây ra lũ quét, ngập lụt, sạt lở đất còn mạnh hơn, nhất là khi cộng với việc rừng đầu nguồn đã bị phá trụi.\n",
            "Phát thải khí nhà kính là do phát triển công nghiệp để làm giàu, mà các chủ đầu tư là người thu lợi. Từ khí nhà kính mà ra bão giông, lũ quét, ngập lụt; làm mất cơ nghiệp, lấy đi tính mạng của những người nghèo, người yếu thế - những người không có khả năng tự bảo vệ mình.\n",
            "Trên bề mặt đất, câu chuyện thiên tai cũng không gắn với biến đổi khí hậu toàn cầu mà là hậu quả của việc khai thác tài nguyên vô hạn định. Hệ sinh thái vốn bền vững nhưng tự nó cũng vật vã, trồi lún mãi mới tạo được thế cân bằng. Nay nhiều người làm giàu bằng cách vét hết cát ở lòng sông, vét cạn nguồn nước ngầm, đào bới mặt đất để khai khoáng, chặt phá rừng lấy gỗ. Tất cả đều làm mất cân bằng hệ sinh thái, khiến mặt đất cựa mình làm nên sụt lún, trượt lở. Nhà cửa, cơ nghiệp của dân nghèo lại chìm xuống sông hoặc đổ gãy.\n",
            "Thiên tai thời hiện đại đã nhiều hơn và mạnh hơn thời xưa, không phải do trời gây ra mà chính bởi con người làm ra. Người làm giàu vô trách nhiệm và thiếu lương tâm - từ khắp nơi trên thế giới chứ không riêng gì quốc gia nào - đang làm cho nhiều người nghèo khốn đốn vì thiên tai.\n",
            "Đồng tiền thu được của nhiều người giàu đã gây ra khí nhà kính, tiền của người vét cạn tài nguyên đã làm mất cân bằng hệ sinh thái. Trong những đồng bạc ấy có lời oán trách của tự nhiên và cả oan hồn của những người nghèo đã bị thiên tai lấy đi cuộc sống.\n",
            "Đất nước cần những người biết làm giàu. Nhưng phải là làm giàu có trách nhiệm và đừng lấy đi cơ nghiệp, tính mạng của người khác.\n",
            "Và với cơ quan công quyền, ứng xử với người giàu cũng chính là ứng xử với người nghèo.\n"
          ],
          "name": "stdout"
        }
      ]
    },
    {
      "metadata": {
        "id": "-ueH_7c9Dm8B",
        "colab_type": "code",
        "colab": {}
      },
      "cell_type": "code",
      "source": [
        ""
      ],
      "execution_count": 0,
      "outputs": []
    }
  ]
}