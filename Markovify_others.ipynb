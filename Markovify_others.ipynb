{
  "nbformat": 4,
  "nbformat_minor": 0,
  "metadata": {
    "colab": {
      "name": "Markovify_others.ipynb",
      "version": "0.3.2",
      "provenance": [],
      "toc_visible": true,
      "include_colab_link": true
    },
    "kernelspec": {
      "name": "python3",
      "display_name": "Python 3"
    }
  },
  "cells": [
    {
      "cell_type": "markdown",
      "metadata": {
        "id": "view-in-github",
        "colab_type": "text"
      },
      "source": [
        "<a href=\"https://colab.research.google.com/github/tranvohuy/Markovify_sentence_Truyen_Kieu/blob/master/Markovify_others.ipynb\" target=\"_parent\"><img src=\"https://colab.research.google.com/assets/colab-badge.svg\" alt=\"Open In Colab\"/></a>"
      ]
    },
    {
      "metadata": {
        "id": "q1iNRxoydU_R",
        "colab_type": "code",
        "outputId": "4d1b7b5a-5b39-4e7c-e677-6803cc6a0420",
        "colab": {
          "base_uri": "https://localhost:8080/",
          "height": 204
        }
      },
      "cell_type": "code",
      "source": [
        "!wget -O DHV.txt https://raw.githubusercontent.com/tranvohuy/Markovify_sentence_Truyen_Kieu/master/data/DHV.txt"
      ],
      "execution_count": 0,
      "outputs": [
        {
          "output_type": "stream",
          "text": [
            "--2019-03-27 09:32:49--  https://raw.githubusercontent.com/tranvohuy/Markovify_sentence_Truyen_Kieu/master/data/DHV.txt\n",
            "Resolving raw.githubusercontent.com (raw.githubusercontent.com)... 151.101.0.133, 151.101.64.133, 151.101.128.133, ...\n",
            "Connecting to raw.githubusercontent.com (raw.githubusercontent.com)|151.101.0.133|:443... connected.\n",
            "HTTP request sent, awaiting response... 200 OK\n",
            "Length: 30397 (30K) [text/plain]\n",
            "Saving to: ‘DHV.txt’\n",
            "\n",
            "\rDHV.txt               0%[                    ]       0  --.-KB/s               \rDHV.txt             100%[===================>]  29.68K  --.-KB/s    in 0.007s  \n",
            "\n",
            "2019-03-27 09:32:49 (4.32 MB/s) - ‘DHV.txt’ saved [30397/30397]\n",
            "\n"
          ],
          "name": "stdout"
        }
      ]
    },
    {
      "metadata": {
        "id": "tOndMPcFE73i",
        "colab_type": "code",
        "outputId": "0735ff2d-ec98-461e-8943-20aa2ae43188",
        "colab": {
          "base_uri": "https://localhost:8080/",
          "height": 224
        }
      },
      "cell_type": "code",
      "source": [
        "!pip install markovify"
      ],
      "execution_count": 43,
      "outputs": [
        {
          "output_type": "stream",
          "text": [
            "Collecting markovify\n",
            "  Downloading https://files.pythonhosted.org/packages/94/b2/b4ce1e461bb3482b1fd63328a2097aed5917cdfa0dbfe9492a84ea46e2ab/markovify-0.7.1.tar.gz\n",
            "Collecting unidecode (from markovify)\n",
            "\u001b[?25l  Downloading https://files.pythonhosted.org/packages/31/39/53096f9217b057cb049fe872b7fc7ce799a1a89b76cf917d9639e7a558b5/Unidecode-1.0.23-py2.py3-none-any.whl (237kB)\n",
            "\u001b[K    100% |████████████████████████████████| 245kB 10.5MB/s \n",
            "\u001b[?25hBuilding wheels for collected packages: markovify\n",
            "  Building wheel for markovify (setup.py) ... \u001b[?25ldone\n",
            "\u001b[?25h  Stored in directory: /root/.cache/pip/wheels/66/fe/5b/07257dd2401d9835447a0f0223f967c998c153404d32612253\n",
            "Successfully built markovify\n",
            "Installing collected packages: unidecode, markovify\n",
            "Successfully installed markovify-0.7.1 unidecode-1.0.23\n"
          ],
          "name": "stdout"
        }
      ]
    },
    {
      "metadata": {
        "id": "v4iOoxPfEGA6",
        "colab_type": "text"
      },
      "cell_type": "markdown",
      "source": [
        "# import the file"
      ]
    },
    {
      "metadata": {
        "id": "06LNUdfsEFYw",
        "colab_type": "code",
        "colab": {}
      },
      "cell_type": "code",
      "source": [
        "import markovify\n",
        "with open(\"DHV.txt\") as f:\n",
        "    text = f.read()\n"
      ],
      "execution_count": 0,
      "outputs": []
    },
    {
      "metadata": {
        "id": "-eNr9J-bEHyu",
        "colab_type": "text"
      },
      "cell_type": "markdown",
      "source": [
        "# or extract from webs using BeautifulSoup\n"
      ]
    },
    {
      "metadata": {
        "id": "WJ6RQL_WT1J_",
        "colab_type": "text"
      },
      "cell_type": "markdown",
      "source": [
        "## DHV from Vnexpress"
      ]
    },
    {
      "metadata": {
        "id": "lTtKmLyvESWA",
        "colab_type": "code",
        "colab": {}
      },
      "cell_type": "code",
      "source": [
        "import urllib\n",
        "from bs4 import BeautifulSoup\n",
        "from urllib.request import urlopen\n",
        "\n",
        "def crawling_oneweb(url):\n",
        "  html = urlopen(url).read()\n",
        "  soup = BeautifulSoup(html)\n",
        "\n",
        "  main_body = soup.findAll(\"p\", {\"class\": \"Normal\"})\n",
        "  del main_body[-1]\n",
        "  text = \"\".join([p.text for p in main_body])\n",
        "  return text  \n",
        "\n",
        "def crawlingwebs(urls):\n",
        "  '''\n",
        "  Input:\n",
        "  urls: a list of urls\n",
        "  \n",
        "  Output:\n",
        "  a combination text extracted from url in urls\n",
        "  '''\n",
        "  text = ''\n",
        "  for url in urls:\n",
        "    text = text + crawling_oneweb(url)\n",
        "  return text\n",
        "  \n",
        "urls = [\"https://vnexpress.net/goc-nhin/nguoi-giau-va-thien-tai-3808335.html\",\n",
        "       'https://vnexpress.net/goc-nhin/thoat-khoi-co-don-3886302.html',\n",
        "       'https://vnexpress.net/goc-nhin/lam-luat-3900478.html',\n",
        "       'https://vnexpress.net/goc-nhin/thuat-san-dat-vang-3879380.html',\n",
        "       'https://vnexpress.net/goc-nhin/nhung-mua-xuan-trong-doi-3877957.html',\n",
        "       'https://vnexpress.net/goc-nhin/than-phan-ruong-dong-3862785.html',\n",
        "       'https://vnexpress.net/goc-nhin/long-dan-3824537.html',\n",
        "       'https://vnexpress.net/goc-nhin/ro-rang-voi-dat-3764906.html',\n",
        "       'https://vnexpress.net/goc-nhin/thuong-nho-dong-bang-3778190.html']\n",
        "\n",
        "text = crawlingwebs(urls)\n",
        "#print(text)"
      ],
      "execution_count": 0,
      "outputs": []
    },
    {
      "metadata": {
        "id": "IHqHhqSfETEh",
        "colab_type": "text"
      },
      "cell_type": "markdown",
      "source": [
        "# Build model"
      ]
    },
    {
      "metadata": {
        "id": "tIASNNE_hg9J",
        "colab_type": "code",
        "outputId": "86b4b0da-c1ba-4f51-ff2e-3040c76f2051",
        "colab": {
          "base_uri": "https://localhost:8080/",
          "height": 207
        }
      },
      "cell_type": "code",
      "source": [
        "import markovify\n",
        "# Build the model.\n",
        "text_model = markovify.Text(text, state_size = 2)\n",
        "\n",
        "# Print randomly-generated sentences\n",
        "for i in range(10):\n",
        "    print(text_model.make_sentence())"
      ],
      "execution_count": 50,
      "outputs": [
        {
          "output_type": "stream",
          "text": [
            "Trên bề mặt đất, câu chuyện thiên tai lấy đi cuộc sống.\n",
            "Bão tan đi ở đó, kéo theo mưa lớn trên một vùng núi Đông Bắc, Đồng bằng sông Hồng quê tôi, nông dân khác trong làng, họ vẫn khắc khoải khôn nguôi với đất tư.\n",
            "Vì thế, với nước ta, việc cần thực hiện quyền thu hồi đất, giao đất, cho phép chuyển mục đích sử dụng đất hiện tại cũng như tương lai và các nghị định, có thể bằng xin giao đất, cho thuê đất, cho phép chuyển mục đích sử dụng này cũng đã vài ba ngày, tự đi xe đò xuống vùng miền Tây Nam Bộ vẫn đang chờ đợi một quy hoạch đưa nhiệt điện vào chứ không riêng gì quốc gia khác, Việt Nam là bạn.\n",
            "Việc chuyển dịch đất đai nhằm mang lại lợi ích có liên quan; ba là chuyển từ nơi thừa tới nơi lạ lẫm đó.\n",
            "Tết theo âm lịch vẫn luôn là vấn đề khác.\n",
            "Còn ruộng đất của hợp tác xã cho hộ gia đình nghèo thì Tết lớn; trong đói kém thì Tết cũng khác nhau ở mỗi giai đoạn đó đã tạo nên nguồn lực tài chính vô cùng lớn cho đất nước.\n",
            "Con người khôn ngoan là các cường quốc tài chính.\n",
            "Các nhà lý luận vì thế đã đưa ra đánh giá thấp sẽ phải tự tìm “lối thoát” cho mình.\n",
            "Nhiều người hỏi, ô thế ra một trang thông tin đất đai trên thị trường vô cùng cao.\n",
            "Hòa bình lập lại năm 1954, ruộng đất hợp tác hóa nông nghiệp tại đô thị, giá hiện nay cũng vài triệu tới vài lần một số học giả đề xuất phương pháp quy hoạch và Đầu tư thuê làm chuyên gia từ các môn học cơ bản còn phổ biến ở nhiều nơi.\n"
          ],
          "name": "stdout"
        }
      ]
    },
    {
      "metadata": {
        "id": "v7uXEt01Jkml",
        "colab_type": "code",
        "colab": {
          "base_uri": "https://localhost:8080/",
          "height": 207
        },
        "outputId": "072b0567-ec56-4f7d-8823-322b41d73c07"
      },
      "cell_type": "code",
      "source": [
        "for i in range(10):\n",
        "    print(text_model.make_sentence())"
      ],
      "execution_count": 52,
      "outputs": [
        {
          "output_type": "stream",
          "text": [
            "Vựa lúa nước ta vẫn còn nguyên mà còn tăng thêm.\n",
            "Rừng đặc dụng này sang người sử dụng quá độ, khai thác cát quá độ mà cát lại ít về do quá nhiều đã được đo lường qua nhiều cuộc chiến tranh vẫn còn nguyên vẹn.\n",
            "Họ đã làm cho nguồn lực tài chính vô cùng lớn cho đất nước.\n",
            "Phía Tây Hà Nội và TP HCM, mỗi mét vuông đất tại nhiều khu vực đất, chủ sử dụng khác mới mang lại lợi ích từ dự án về lấy mất đất chưa hài lòng về những kỷ niệm.\n",
            "Ra đường dù đi đúng luật mà va quyệt cũng bị chửi, có khi còn làm cho nguồn lực tài chính tăng dần từ hiệu quả cao trong chuyển dịch đất đai; hai là không còn cảm giác bất an luôn đồng hành với không ít người.\n",
            "Người làm giàu vô trách nhiệm và đừng lấy đi cơ nghiệp, tính mạng của những người biết làm giàu vô trách nhiệm giải trình trước ý kiến nhiều yếu tố quan trọng trong quản lý của chúng ta đã quyết định thu hồi đất, giao đất, cho thuê đất thông qua phát triển bền vững cho đồng bằng sông Hồng, tiến về phía tây của Nghệ An và Thanh Hóa.\n",
            "Từ Sài Gòn tới Mỹ Tho, qua Cần Thơ, xuống Cà Mau, rồi đi tiếp thu tài liệu xen lẫn với những ký ức xưa.\n",
            "Nhiều nghiên cứu trên thế giới về xây dựng của cả anh và tôi.\n",
            "Ông nói, trong thời kỳ bao cấp, và nhớ như in những cái Tết đọng lại nhiều nhất trong tôi vẫn là nguyên lý phát triển bền vững với tầm nhìn ngắn hạn, cục bộ mang theo cả công văn của ủy ban xã.\n",
            "Cách thức chuyển dịch đất đai thì mới có sinh kế và một nhóm nhỏ người được đất.\n"
          ],
          "name": "stdout"
        }
      ]
    },
    {
      "metadata": {
        "id": "-ueH_7c9Dm8B",
        "colab_type": "code",
        "colab": {}
      },
      "cell_type": "code",
      "source": [
        ""
      ],
      "execution_count": 0,
      "outputs": []
    }
  ]
}