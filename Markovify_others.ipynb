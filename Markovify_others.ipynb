{
  "nbformat": 4,
  "nbformat_minor": 0,
  "metadata": {
    "colab": {
      "name": "Markovify_others.ipynb",
      "version": "0.3.2",
      "provenance": [],
      "toc_visible": true,
      "include_colab_link": true
    },
    "kernelspec": {
      "name": "python3",
      "display_name": "Python 3"
    }
  },
  "cells": [
    {
      "cell_type": "markdown",
      "metadata": {
        "id": "view-in-github",
        "colab_type": "text"
      },
      "source": [
        "<a href=\"https://colab.research.google.com/github/tranvohuy/Markovify_sentence_Truyen_Kieu/blob/master/Markovify_others.ipynb\" target=\"_parent\"><img src=\"https://colab.research.google.com/assets/colab-badge.svg\" alt=\"Open In Colab\"/></a>"
      ]
    },
    {
      "metadata": {
        "id": "q1iNRxoydU_R",
        "colab_type": "code",
        "colab": {
          "base_uri": "https://localhost:8080/",
          "height": 204
        },
        "outputId": "4d1b7b5a-5b39-4e7c-e677-6803cc6a0420"
      },
      "cell_type": "code",
      "source": [
        "!wget -O DHV.txt https://raw.githubusercontent.com/tranvohuy/Markovify_sentence_Truyen_Kieu/master/data/DHV.txt"
      ],
      "execution_count": 9,
      "outputs": [
        {
          "output_type": "stream",
          "text": [
            "--2019-03-27 09:32:49--  https://raw.githubusercontent.com/tranvohuy/Markovify_sentence_Truyen_Kieu/master/data/DHV.txt\n",
            "Resolving raw.githubusercontent.com (raw.githubusercontent.com)... 151.101.0.133, 151.101.64.133, 151.101.128.133, ...\n",
            "Connecting to raw.githubusercontent.com (raw.githubusercontent.com)|151.101.0.133|:443... connected.\n",
            "HTTP request sent, awaiting response... 200 OK\n",
            "Length: 30397 (30K) [text/plain]\n",
            "Saving to: ‘DHV.txt’\n",
            "\n",
            "\rDHV.txt               0%[                    ]       0  --.-KB/s               \rDHV.txt             100%[===================>]  29.68K  --.-KB/s    in 0.007s  \n",
            "\n",
            "2019-03-27 09:32:49 (4.32 MB/s) - ‘DHV.txt’ saved [30397/30397]\n",
            "\n"
          ],
          "name": "stdout"
        }
      ]
    },
    {
      "metadata": {
        "id": "tOndMPcFE73i",
        "colab_type": "code",
        "outputId": "d465cda2-1123-433d-d912-d04925a87593",
        "colab": {
          "base_uri": "https://localhost:8080/",
          "height": 204
        }
      },
      "cell_type": "code",
      "source": [
        "!pip install markovify"
      ],
      "execution_count": 2,
      "outputs": [
        {
          "output_type": "stream",
          "text": [
            "Collecting markovify\n",
            "  Downloading https://files.pythonhosted.org/packages/94/b2/b4ce1e461bb3482b1fd63328a2097aed5917cdfa0dbfe9492a84ea46e2ab/markovify-0.7.1.tar.gz\n",
            "Collecting unidecode (from markovify)\n",
            "\u001b[?25l  Downloading https://files.pythonhosted.org/packages/31/39/53096f9217b057cb049fe872b7fc7ce799a1a89b76cf917d9639e7a558b5/Unidecode-1.0.23-py2.py3-none-any.whl (237kB)\n",
            "\u001b[K    100% |████████████████████████████████| 245kB 10.7MB/s \n",
            "\u001b[?25hBuilding wheels for collected packages: markovify\n",
            "  Building wheel for markovify (setup.py) ... \u001b[?25ldone\n",
            "\u001b[?25h  Stored in directory: /root/.cache/pip/wheels/66/fe/5b/07257dd2401d9835447a0f0223f967c998c153404d32612253\n",
            "Successfully built markovify\n",
            "Installing collected packages: unidecode, markovify\n",
            "Successfully installed markovify-0.7.1 unidecode-1.0.23\n"
          ],
          "name": "stdout"
        }
      ]
    },
    {
      "metadata": {
        "id": "tIASNNE_hg9J",
        "colab_type": "code",
        "outputId": "66904c25-8a3a-440d-a0c2-aca078be304d",
        "colab": {
          "base_uri": "https://localhost:8080/",
          "height": 187
        }
      },
      "cell_type": "code",
      "source": [
        "import markovify\n",
        "with open(\"DHV.txt\") as f:\n",
        "    text = f.read()\n",
        "\n",
        "# Build the model.\n",
        "text_model = markovify.Text(text, state_size = 2)\n",
        "\n",
        "# Print five randomly-generated sentences\n",
        "for i in range(10):\n",
        "    print(text_model.make_sentence())"
      ],
      "execution_count": 10,
      "outputs": [
        {
          "output_type": "stream",
          "text": [
            "Với câu hỏi đầu, em trẻ nhất cũng nói được rằng, đất nước ta đã tạo dựng được lòng tin thực sự.\n",
            "Luật Đất đai 2013 đã có tivi, đầu video, xe máy...\n",
            "May mà, ta đã đi qua nhiều cuộc chiến tranh vẫn còn nguyên mà còn tăng thêm.\n",
            "Nhiều ngành công nghiệp và dịch vụ.\n",
            "Vì vàng bán đi cũng chỉ được mươi mét vuông.\n",
            "Đây cũng chính là văn hóa.\n",
            "Nhiều người nước ngoài - có chút xa vắng, khác lạ nhưng anh em chúng tôi vẫn không thoát khỏi cô đơn.\n",
            "Nước mạnh hơn, dân giàu thì Tết vui, khi dân giàu thì Tết mọn.\n",
            "Ông nói, trong thời kỳ bao cấp, nước ta đã quên mất hoặc không chịu hiểu rằng: khái niệm pháp lý này, người thực thi pháp luật.\n",
            "Ngày Tết vẫn nhộn nhịp, rộn ràng, mọi người phải ăn hạt bo bo tồn kho lâu ngày.\n"
          ],
          "name": "stdout"
        }
      ]
    },
    {
      "metadata": {
        "id": "RoJZEUcweUOE",
        "colab_type": "code",
        "colab": {}
      },
      "cell_type": "code",
      "source": [
        ""
      ],
      "execution_count": 0,
      "outputs": []
    }
  ]
}