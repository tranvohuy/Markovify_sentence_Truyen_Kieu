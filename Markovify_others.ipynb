{
  "nbformat": 4,
  "nbformat_minor": 0,
  "metadata": {
    "colab": {
      "name": "Markovify_others.ipynb",
      "version": "0.3.2",
      "provenance": [],
      "toc_visible": true,
      "include_colab_link": true
    },
    "kernelspec": {
      "name": "python3",
      "display_name": "Python 3"
    }
  },
  "cells": [
    {
      "cell_type": "markdown",
      "metadata": {
        "id": "view-in-github",
        "colab_type": "text"
      },
      "source": [
        "<a href=\"https://colab.research.google.com/github/tranvohuy/Markovify_sentence_Truyen_Kieu/blob/master/Markovify_others.ipynb\" target=\"_parent\"><img src=\"https://colab.research.google.com/assets/colab-badge.svg\" alt=\"Open In Colab\"/></a>"
      ]
    },
    {
      "metadata": {
        "id": "q1iNRxoydU_R",
        "colab_type": "code",
        "colab": {
          "base_uri": "https://localhost:8080/",
          "height": 306
        },
        "outputId": "696faa1b-55e7-44f1-9ac6-970979ee6d72"
      },
      "cell_type": "code",
      "source": [
        "!wget dhv.txt https://raw.githubusercontent.com/tranvohuy/Markovify_sentence_Truyen_Kieu/master/data/DHV.txt"
      ],
      "execution_count": 7,
      "outputs": [
        {
          "output_type": "stream",
          "text": [
            "--2019-03-27 09:29:35--  http://dhv.txt/\n",
            "Resolving dhv.txt (dhv.txt)... failed: Name or service not known.\n",
            "wget: unable to resolve host address ‘dhv.txt’\n",
            "--2019-03-27 09:29:35--  https://raw.githubusercontent.com/tranvohuy/Markovify_sentence_Truyen_Kieu/master/data/DHV.txt\n",
            "Resolving raw.githubusercontent.com (raw.githubusercontent.com)... 151.101.0.133, 151.101.64.133, 151.101.128.133, ...\n",
            "Connecting to raw.githubusercontent.com (raw.githubusercontent.com)|151.101.0.133|:443... connected.\n",
            "HTTP request sent, awaiting response... 200 OK\n",
            "Length: 30397 (30K) [text/plain]\n",
            "Saving to: ‘DHV.txt’\n",
            "\n",
            "\rDHV.txt               0%[                    ]       0  --.-KB/s               \rDHV.txt             100%[===================>]  29.68K  --.-KB/s    in 0.007s  \n",
            "\n",
            "2019-03-27 09:29:35 (4.16 MB/s) - ‘DHV.txt’ saved [30397/30397]\n",
            "\n",
            "FINISHED --2019-03-27 09:29:35--\n",
            "Total wall clock time: 0.2s\n",
            "Downloaded: 1 files, 30K in 0.007s (4.16 MB/s)\n"
          ],
          "name": "stdout"
        }
      ]
    },
    {
      "metadata": {
        "id": "tOndMPcFE73i",
        "colab_type": "code",
        "outputId": "d465cda2-1123-433d-d912-d04925a87593",
        "colab": {
          "base_uri": "https://localhost:8080/",
          "height": 204
        }
      },
      "cell_type": "code",
      "source": [
        "!pip install markovify"
      ],
      "execution_count": 2,
      "outputs": [
        {
          "output_type": "stream",
          "text": [
            "Collecting markovify\n",
            "  Downloading https://files.pythonhosted.org/packages/94/b2/b4ce1e461bb3482b1fd63328a2097aed5917cdfa0dbfe9492a84ea46e2ab/markovify-0.7.1.tar.gz\n",
            "Collecting unidecode (from markovify)\n",
            "\u001b[?25l  Downloading https://files.pythonhosted.org/packages/31/39/53096f9217b057cb049fe872b7fc7ce799a1a89b76cf917d9639e7a558b5/Unidecode-1.0.23-py2.py3-none-any.whl (237kB)\n",
            "\u001b[K    100% |████████████████████████████████| 245kB 10.7MB/s \n",
            "\u001b[?25hBuilding wheels for collected packages: markovify\n",
            "  Building wheel for markovify (setup.py) ... \u001b[?25ldone\n",
            "\u001b[?25h  Stored in directory: /root/.cache/pip/wheels/66/fe/5b/07257dd2401d9835447a0f0223f967c998c153404d32612253\n",
            "Successfully built markovify\n",
            "Installing collected packages: unidecode, markovify\n",
            "Successfully installed markovify-0.7.1 unidecode-1.0.23\n"
          ],
          "name": "stdout"
        }
      ]
    },
    {
      "metadata": {
        "id": "tIASNNE_hg9J",
        "colab_type": "code",
        "outputId": "280e06d8-e2c5-43da-8e6d-c43ac1d230bd",
        "colab": {
          "base_uri": "https://localhost:8080/",
          "height": 187
        }
      },
      "cell_type": "code",
      "source": [
        "import markovify\n",
        "with open(\"DHV.txt\") as f:\n",
        "    text = f.read()\n",
        "\n",
        "# Build the model.\n",
        "text_model = markovify.Text(text, state_size = 2)\n",
        "\n",
        "# Print five randomly-generated sentences\n",
        "for i in range(10):\n",
        "    print(text_model.make_sentence())"
      ],
      "execution_count": 8,
      "outputs": [
        {
          "output_type": "stream",
          "text": [
            "Mẹ ở nhà làm lụng quanh năm, tích cóp lúc ban đầu cho đầu tư được tích sẵn ở góc sân để luộc bánh, làm bún, thổi xôi.\n",
            "Từ năm 1990 trở đi, lợn không được ăn cà rốt?\n",
            "Tết theo âm lịch vẫn luôn là vấn đề ở các vùng miền đã trở lại, tính gắn kết cộng đồng quốc tế.\n",
            "Nhiều ngành công nghiệp phát triển công nghiệp và dịch vụ.\n",
            "Năm 1994, quyết định khá khó khăn đã lần lượt được ban hành.\n",
            "Nói chung là vậy, nhưng mỗi trường hợp nhà nước đã trải qua để đi lên.\n",
            "Có chiều sâu nhất là ý kiến cho rằng, dân tộc thiểu số vùng núi phía Bắc khi đi sơ tán trong chiến tranh vẫn còn quá nhiều tiêu cực, tại sao không đổi mới văn hóa.\n",
            "Trong phần tiếp theo ngày hôm ấy, tôi vẫn không thoát khỏi tư duy kinh tế mới như Singapore, Hong Kong, Hàn Quốc, Đài Loan...\n",
            "Ở nơi làm việc, có thể buộc tội vẫn có thể buộc tội theo tư duy kinh tế tập thể.\n",
            "Họ đi theo lý thuyết của trường phái kinh tế bao cấp.\n"
          ],
          "name": "stdout"
        }
      ]
    },
    {
      "metadata": {
        "id": "RoJZEUcweUOE",
        "colab_type": "code",
        "colab": {}
      },
      "cell_type": "code",
      "source": [
        ""
      ],
      "execution_count": 0,
      "outputs": []
    }
  ]
}